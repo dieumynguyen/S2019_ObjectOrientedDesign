{
 "cells": [
  {
   "cell_type": "markdown",
   "metadata": {},
   "source": [
    "<b>Type of design pattern</b>: Structure <br>\n",
    "<b>Purpose</b>: Separate the abstraction from implementation. <br>\n",
    "- Encapsulate an implementation class incide of an interface class\n",
    "- Client code can access only the abstraction part without needing to care about the implementation part\n",
    "- The abstraction and implementor are both either an interface or an abstract class\n",
    "- The abstraction contains a reference to the implementor. \n",
    "    - Children of abstraction: Refined abstractions\n",
    "    - Children of implementor: Concrete implementors\n",
    "- We can change the abstraction's implementor at run-time, so changes in implementor do not affect client code\n",
    "- Creates loose coupling between class abstraction and its implementation\n",
    "\n",
    "<img src=\"https://cdncontribute.geeksforgeeks.org/wp-content/uploads/Bridge_Design.png\" width=\"550\" />"
   ]
  },
  {
   "cell_type": "markdown",
   "metadata": {},
   "source": [
    "<b>When to use:</b> When you must subclass different times in ways that are orthogonal with one another. <br>\n",
    "\n",
    "<b>OO principle:</b> Prefer composition (delegation) over inheritance <br>\n",
    "\n",
    "<b>Without Bridge:</b> Using inheritance for specialization is not scalable. \n",
    "<img src=\"https://www.geeksforgeeks.org/wp-content/uploads/im2.png\" width=\"500\" height=\"500\" />\n",
    "\n",
    "\n",
    "<b> With Bridge:</b> Decouple Vehicle and Workshop interfaces. \n",
    "<img src=\"https://cdncontribute.geeksforgeeks.org/wp-content/uploads/BridgeDesign3.png\" width=\"500\" height=\"500\" />\n",
    "\n",
    "<b>Advantages:</b>\n",
    "1. Decouple abstraction from implementation so they can vary independently\n",
    "2. Each interface has its own inheritance heirarchy"
   ]
  },
  {
   "cell_type": "markdown",
   "metadata": {},
   "source": [
    "### Abstraction"
   ]
  },
  {
   "cell_type": "code",
   "execution_count": 13,
   "metadata": {},
   "outputs": [],
   "source": [
    "// Abstraction in bridge pattern\n",
    "abstract class Vehicle {\n",
    "    // Fields\n",
    "    protected Workshop workShop1;\n",
    "    protected Workshop workShop2;\n",
    "    \n",
    "    // Constructor\n",
    "    protected Vehicle(Workshop workShop1, Workshop workShop2) {\n",
    "        this.workShop1 = workShop1;\n",
    "        this.workShop2 = workShop2;\n",
    "    }\n",
    "    \n",
    "    // Methods\n",
    "    abstract public void manufacture();\n",
    "}\n",
    "\n",
    "/*-------------------------------------------------*/\n",
    "\n",
    "// Refine abstraction 1: Car subclass\n",
    "class Car extends Vehicle {\n",
    "    // Constructor\n",
    "    public Car(Workshop workShop1, Workshop workShop2) {\n",
    "        super(workShop1, workShop2);\n",
    "    }\n",
    "     \n",
    "    // Methods\n",
    "    @Override\n",
    "    public void manufacture() {\n",
    "        System.out.print(\"Car \");\n",
    "        workShop1.work();\n",
    "        workShop2.work();\n",
    "    }\n",
    "}\n",
    "\n",
    "// Refine abstraction 2: Bike subclass\n",
    "class Bike extends Vehicle {\n",
    "    // Constructor\n",
    "    public Bike(Workshop workShop1, Workshop workShop2) {\n",
    "        super(workShop1, workShop2);\n",
    "    }\n",
    "    \n",
    "    // Methods\n",
    "    @Override\n",
    "    public void manufacture() {\n",
    "        System.out.print(\"Bike \");\n",
    "        workShop1.work();\n",
    "        workShop2.work();\n",
    "    }\n",
    "}"
   ]
  },
  {
   "cell_type": "markdown",
   "metadata": {},
   "source": [
    "### Implementor"
   ]
  },
  {
   "cell_type": "code",
   "execution_count": 14,
   "metadata": {},
   "outputs": [],
   "source": [
    "// Implementor in bridge pattern\n",
    "interface Workshop {\n",
    "    abstract public void work();\n",
    "}\n",
    "\n",
    "/*-------------------------------------------------*/\n",
    "\n",
    "// Concrete implementation 1: Produce\n",
    "class Produce implements Workshop {\n",
    "    @Override\n",
    "    public void work() {\n",
    "        System.out.print(\"Produced\");\n",
    "    }\n",
    "}\n",
    "\n",
    "// Concrete implementation 2: Assemble\n",
    "class Assemble implements Workshop {\n",
    "    @Override\n",
    "    public void work() {\n",
    "        System.out.print(\" and\");\n",
    "        System.out.println(\" Assembled.\");\n",
    "    }\n",
    "}"
   ]
  },
  {
   "cell_type": "markdown",
   "metadata": {},
   "source": [
    "### Demo"
   ]
  },
  {
   "cell_type": "code",
   "execution_count": 16,
   "metadata": {},
   "outputs": [
    {
     "name": "stdout",
     "output_type": "stream",
     "text": [
      "Car Produced and Assembled.\n",
      "Bike Produced and Assembled.\n"
     ]
    }
   ],
   "source": [
    "class BridgePatternDemo {\n",
    "    public static void main(String... args) {\n",
    "        Vehicle vehicle1 = new Car(new Produce(), new Assemble());\n",
    "        vehicle1.manufacture();\n",
    "        \n",
    "        Vehicle vehicle2 = new Bike(new Produce(), new Assemble());\n",
    "        vehicle2.manufacture();\n",
    "    }\n",
    "}\n",
    "\n",
    "BridgePatternDemo.main();"
   ]
  }
 ],
 "metadata": {
  "kernelspec": {
   "display_name": "Java",
   "language": "java",
   "name": "java"
  },
  "language_info": {
   "codemirror_mode": "java",
   "file_extension": ".java",
   "mimetype": "text/x-java-source",
   "name": "Java",
   "pygments_lexer": "java",
   "version": "11.0.2+9-LTS"
  },
  "toc": {
   "base_numbering": 1,
   "nav_menu": {},
   "number_sections": true,
   "sideBar": true,
   "skip_h1_title": false,
   "title_cell": "Table of Contents",
   "title_sidebar": "Contents",
   "toc_cell": false,
   "toc_position": {},
   "toc_section_display": true,
   "toc_window_display": false
  }
 },
 "nbformat": 4,
 "nbformat_minor": 2
}
