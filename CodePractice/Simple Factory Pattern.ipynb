{
 "cells": [
  {
   "cell_type": "markdown",
   "metadata": {},
   "source": [
    "<b>Purpose:</b> To generate an instance of an object for the client without exposing any implementation to the client. It is a factory object that creates other objects. <br>\n",
    "\n",
    "<b>When to use:</b> Usually, use when we create an object using some logic neyond initialization. Use to hide that logic from client."
   ]
  },
  {
   "cell_type": "markdown",
   "metadata": {},
   "source": [
    "<b>Example:</b> Assembling a custom racing car. It'd be laborious of each time we need a wheel we make it ourselves. Use factory! "
   ]
  },
  {
   "cell_type": "code",
   "execution_count": 6,
   "metadata": {},
   "outputs": [],
   "source": [
    "// Wheel interface\n",
    "interface Wheel {\n",
    "    public float getDiameter();\n",
    "    public float getWidth();\n",
    "}"
   ]
  },
  {
   "cell_type": "code",
   "execution_count": 7,
   "metadata": {},
   "outputs": [],
   "source": [
    "// CarWheel class implements Wheel interface\n",
    "class CarWheel implements Wheel {\n",
    "    protected float diameter;\n",
    "    protected float width;\n",
    "    \n",
    "    public CarWheel(float diameter, float width) {\n",
    "        this.diameter = diameter;\n",
    "        this.width = width;\n",
    "    }\n",
    "    \n",
    "    public float getDiameter() {\n",
    "        return diameter;\n",
    "    }\n",
    "    \n",
    "    public float getWidth() {\n",
    "        return width;\n",
    "    }\n",
    "}"
   ]
  },
  {
   "cell_type": "code",
   "execution_count": 8,
   "metadata": {},
   "outputs": [],
   "source": [
    "// WheelFactory! As a class\n",
    "class WheelFactory {\n",
    "    public static Wheel makeWheel (float diameter, float width) {\n",
    "        return new CarWheel(diameter, width);\n",
    "    }\n",
    "}"
   ]
  },
  {
   "cell_type": "code",
   "execution_count": 9,
   "metadata": {},
   "outputs": [
    {
     "name": "stdout",
     "output_type": "stream",
     "text": [
      "15.0\n",
      "215.0\n"
     ]
    }
   ],
   "source": [
    "class TestWheelFactory {\n",
    "    public static void main(String... args) {\n",
    "        \n",
    "        // The factory makes a CarWheel object with given args\n",
    "        Wheel carWheel = WheelFactory.makeWheel(15, 215);\n",
    "        \n",
    "        System.out.println(carWheel.getDiameter());\n",
    "        System.out.println(carWheel.getWidth());\n",
    "    }\n",
    "}\n",
    "\n",
    "TestWheelFactory.main();"
   ]
  }
 ],
 "metadata": {
  "kernelspec": {
   "display_name": "Python 3",
   "language": "python",
   "name": "python3"
  },
  "language_info": {
   "codemirror_mode": {
    "name": "ipython",
    "version": 3
   },
   "file_extension": ".py",
   "mimetype": "text/x-python",
   "name": "python",
   "nbconvert_exporter": "python",
   "pygments_lexer": "ipython3",
   "version": "3.7.2"
  },
  "toc": {
   "base_numbering": 1,
   "nav_menu": {},
   "number_sections": true,
   "sideBar": true,
   "skip_h1_title": false,
   "title_cell": "Table of Contents",
   "title_sidebar": "Contents",
   "toc_cell": false,
   "toc_position": {},
   "toc_section_display": true,
   "toc_window_display": false
  }
 },
 "nbformat": 4,
 "nbformat_minor": 2
}
