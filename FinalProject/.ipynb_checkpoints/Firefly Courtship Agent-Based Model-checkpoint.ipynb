{
 "cells": [
  {
   "cell_type": "code",
   "execution_count": 345,
   "metadata": {},
   "outputs": [],
   "source": [
    "import numpy as np\n",
    "import glob\n",
    "import cv2\n",
    "import sys\n",
    "import seaborn as sns\n",
    "from abc import ABC, abstractmethod, abstractproperty\n",
    "import matplotlib.pyplot as plt\n",
    "plt.rcParams[\"font.family\"] = \"Arial\""
   ]
  },
  {
   "cell_type": "markdown",
   "metadata": {},
   "source": [
    "## Firefly classes"
   ]
  },
  {
   "cell_type": "code",
   "execution_count": 2,
   "metadata": {},
   "outputs": [],
   "source": [
    "class Firefly(ABC):\n",
    "    \n",
    "    #-------- Abstract properties --------#\n",
    "    def __init__(self, sex, position_x, position_y):\n",
    "        self.sex = sex                 # String: f or m\n",
    "        self.position_x = position_x   \n",
    "        self.position_y = position_y\n",
    "    \n",
    "    #-------- Abstract methods --------#\n",
    "    def __repr__(self):\n",
    "        return (f\"sex: {self.sex} -- xy: {self.position_x, self.position_y}\")\n",
    "    "
   ]
  },
  {
   "cell_type": "code",
   "execution_count": 59,
   "metadata": {},
   "outputs": [],
   "source": [
    "# np.random.seed(42)\n",
    "\n",
    "class FemaleFirefly(Firefly):\n",
    "    def __init__(self, sex, position_x, position_y,\n",
    "                 chosen_male_id):\n",
    "        super().__init__(sex, position_x, position_y)\n",
    "        self.chosen_male_id = chosen_male_id\n",
    "        \n",
    "    ''' To be continued... '''\n",
    "    ''' Try to model her tracking as HMM? '''"
   ]
  },
  {
   "cell_type": "code",
   "execution_count": 140,
   "metadata": {},
   "outputs": [],
   "source": [
    "# np.random.seed(42)\n",
    "\n",
    "class MaleFirefly(Firefly):\n",
    "    def __init__(self, sex, position_x, position_y, \n",
    "                 id_number, num_total_steps, step_size, \n",
    "                 flash_interval, turning_angle_distribution):\n",
    "        super().__init__(sex, position_x, position_y)\n",
    "        self.id_number = id_number\n",
    "        self.num_total_steps = num_total_steps\n",
    "        self.step_size = step_size\n",
    "        self.flash_interval = flash_interval \n",
    "        self.turning_angle_distribution = turning_angle_distribution\n",
    "        \n",
    "        # Attributed initialized and used inside this class\n",
    "        self.turning_angle = np.pi * (np.random.rand()-0.5)              # Initial random turning angle in radians\n",
    "        self.turning_angle_history = [self.turning_angle]                # Keep track of its turning angles over time \n",
    "        \n",
    "        self.trajectory_history = [(self.position_x, self.position_y)]   # Keep track of its xy (tuple) position over time\n",
    "        \n",
    "        self.flash_counter = 1                      # Counts the time that has passed since last flash\n",
    "        self.flash = False                          # Flag for whether the firefly is flashing at a given time\n",
    "        self.flash_history = [0]                    # Keep track of its flashing history over time (list of booleans)\n",
    "     \n",
    "    def pick_turning_angle(self):\n",
    "        ''' For each step, a male firefly picks a random turning angle from\n",
    "        the range using the previous turning angle. '''\n",
    "        self.turning_angle += self.turning_angle_distribution * 2 * (np.random.rand()-0.5)\n",
    "        self.turning_angle_history.append(self.turning_angle)\n",
    "\n",
    "    def check_flash(self):\n",
    "        ''' Based on the flash interval, if self.flash_counter == self.flash_interval,\n",
    "        the firefly would flash again. '''\n",
    "        if self.flash_counter == self.flash_interval:\n",
    "            self.flash = True\n",
    "    \n",
    "    def take_step(self):\n",
    "        ''' After picking a random turning angle, the firefly takes a step,\n",
    "        updating its xy position and flash counter. This process represents\n",
    "        the correlated random walk model for male firefly motion. '''\n",
    "        \n",
    "        self.position_x += self.step_size * np.cos(self.turning_angle)\n",
    "        self.position_y += self.step_size * np.sin(self.turning_angle)\n",
    "        self.trajectory_history.append((self.position_x, self.position_y))\n",
    "                \n",
    "        if self.flash:\n",
    "            self.flash_history.append(1)\n",
    "            self.flash = False            # Reset flash\n",
    "            self.flash_counter = 1        # Reset flash counter\n",
    "        else: \n",
    "            self.flash_history.append(0)\n",
    "            self.flash_counter += 1       # Increment flash counter\n",
    "            \n",
    "    def record_history(self):\n",
    "        male_dict = {\n",
    "            \"id_number\"             : self.id_number,\n",
    "            \"turning_angle_history\" : np.array(self.turning_angle_history),\n",
    "            \"trajectory_history\"    : np.array(self.trajectory_history),\n",
    "            \"flash_history\"         : np.array(self.flash_history)\n",
    "        }\n",
    "        return male_dict        \n",
    "\n",
    "    def __repr__(self):\n",
    "        return (f\"sex: {self.sex} -- id: {self.id_number} -- xy: {self.position_x:0.2f}, {self.position_y:0.2f} -- angle: {self.turning_angle:0.2f} -- flash interval: {self.flash_interval}\")"
   ]
  },
  {
   "cell_type": "code",
   "execution_count": 141,
   "metadata": {},
   "outputs": [],
   "source": [
    "class FireflyFactory():\n",
    "    ''' Generate male firefly objects, each with a unique id number, random initial xy, and flash interval. '''\n",
    "    \n",
    "    def create_male_firefly(sex, position_x, position_y, \n",
    "                            id_number, num_total_steps, step_size, \n",
    "                            flash_interval, turning_angle_distribution):\n",
    "        \n",
    "        firefly = MaleFirefly(sex, position_x, position_y, id_number, num_total_steps, \n",
    "                              step_size, flash_interval, turning_angle_distribution)\n",
    "        return firefly"
   ]
  },
  {
   "cell_type": "code",
   "execution_count": 311,
   "metadata": {},
   "outputs": [],
   "source": [
    "class FireflyCollection():\n",
    "    ''' Collection contains all male fireflies created by the FireflyFactory, with default model parameters\n",
    "    as arguments. '''\n",
    "    \n",
    "    def __init__(self, num_males=20, step_size=1.0, num_total_steps=1000, \n",
    "                 flash_interval_min=20, flash_interval_max=50, turning_angle_distribution=np.pi/10,\n",
    "                 initial_arena_size=1000):\n",
    "        \n",
    "        self.num_males = num_males\n",
    "        self.step_size = step_size\n",
    "        self.num_total_steps = num_total_steps\n",
    "        self.flash_interval_min = flash_interval_min\n",
    "        self.flash_interval_max = flash_interval_max\n",
    "        self.turning_angle_distribution = turning_angle_distribution\n",
    "        self.initial_arena_size = initial_arena_size\n",
    "        \n",
    "        # List to contain all males firefly objects\n",
    "        self.male_fireflies = []\n",
    "        self.generate_fireflies(FireflyFactory)\n",
    "        \n",
    "    def generate_fireflies(self, FireflyFactory):\n",
    "        for firefly_i in range(self.num_males):\n",
    "            # Generate random parameter values to make varied male fireflies\n",
    "            sex = \"m\"\n",
    "            id_number = firefly_i\n",
    "            position_x = self.initial_arena_size*2 * (np.random.rand() - 0.5)\n",
    "            position_y = self.initial_arena_size*2 * (np.random.rand() - 0.5)\n",
    "            num_total_steps = self.num_total_steps\n",
    "            step_size = self.step_size\n",
    "            flash_interval = np.random.randint(flash_interval_min, flash_interval_max)\n",
    "            turning_angle_distribution = self.turning_angle_distribution\n",
    "            \n",
    "            firefly = FireflyFactory.create_male_firefly(sex, position_x, position_y, \n",
    "                                                         id_number, num_total_steps, step_size, \n",
    "                                                         flash_interval, turning_angle_distribution)\n",
    "            self.male_fireflies.append(firefly)\n",
    "            \n",
    "    def __iter__(self):\n",
    "        for ff in self.male_fireflies:\n",
    "            yield ff"
   ]
  },
  {
   "cell_type": "markdown",
   "metadata": {},
   "source": [
    "## Main"
   ]
  },
  {
   "cell_type": "code",
   "execution_count": 312,
   "metadata": {},
   "outputs": [],
   "source": [
    "# Model Parameters\n",
    "num_males = 30                        # Number of fireflies in arena \n",
    "step_size = 1.0                       # Velocity aka step size\n",
    "num_total_steps = 100                 # Number of steps per trajectory\n",
    "turning_angle_distribution = np.pi/10 # Width of random walk turning angle distribution. Lower: straighter.\n",
    "flash_interval_min = 20               # Number of steps bw flashes, random value bw min & max for each male\n",
    "flash_interval_max = 50\n",
    "initial_arena_size = num_total_steps  # Arena size to start with"
   ]
  },
  {
   "cell_type": "code",
   "execution_count": 313,
   "metadata": {},
   "outputs": [],
   "source": [
    "# Simulate a sky of flashing and moving fireflies\n",
    "firefly_collection = FireflyCollection(num_males, step_size, num_total_steps, \n",
    "                                     flash_interval_min, flash_interval_max, \n",
    "                                     turning_angle_distribution,\n",
    "                                     initial_arena_size)\n",
    "all_fireflies_history = {}\n",
    "for t_i in range(num_total_steps):\n",
    "    for ff_i, ff in enumerate(firefly_collection):\n",
    "        ff.pick_turning_angle()\n",
    "        ff.check_flash()\n",
    "        ff.take_step()\n",
    "        hist_dict = ff.record_history() \n",
    "        \n",
    "        all_fireflies_history[f\"firefly_{ff_i}\"] = hist_dict"
   ]
  },
  {
   "cell_type": "code",
   "execution_count": 314,
   "metadata": {},
   "outputs": [
    {
     "data": {
      "text/plain": [
       "(-122.23249423447409,\n",
       " 178.15841180666146,\n",
       " -113.84139508352126,\n",
       " 130.01107570676646)"
      ]
     },
     "execution_count": 314,
     "metadata": {},
     "output_type": "execute_result"
    }
   ],
   "source": [
    "# Get min, max x, y across all fireflies to set arena \n",
    "x_min = num_total_steps * 2\n",
    "x_max = - num_total_steps * 2\n",
    "y_min = num_total_steps * 2\n",
    "y_max = - num_total_steps * 2\n",
    "\n",
    "for d in all_fireflies_history.values():\n",
    "    x_min_d = min(d['trajectory_history'][:,0])\n",
    "    x_max_d = max(d['trajectory_history'][:,0])\n",
    "    y_min_d = min(d['trajectory_history'][:,1])\n",
    "    y_max_d = max(d['trajectory_history'][:,1])\n",
    "    \n",
    "    if x_min_d < x_min:\n",
    "        x_min = x_min_d\n",
    "    if x_max_d > x_max:\n",
    "        x_max = x_max_d\n",
    "    if y_min_d < y_min:\n",
    "        y_min = y_min_d\n",
    "    if y_max_d > y_max:\n",
    "        y_max = y_max_d\n",
    "    \n",
    "x_min, x_max, y_min, y_max"
   ]
  },
  {
   "cell_type": "markdown",
   "metadata": {},
   "source": [
    "## Generate movie"
   ]
  },
  {
   "cell_type": "code",
   "execution_count": 346,
   "metadata": {},
   "outputs": [
    {
     "name": "stdout",
     "output_type": "stream",
     "text": [
      "Frame 21/100"
     ]
    },
    {
     "ename": "ValueError",
     "evalue": "If using all scalar values, you must pass an index",
     "output_type": "error",
     "traceback": [
      "\u001b[0;31m---------------------------------------------------------------------------\u001b[0m",
      "\u001b[0;31mValueError\u001b[0m                                Traceback (most recent call last)",
      "\u001b[0;32m<ipython-input-346-8dec8df1f9de>\u001b[0m in \u001b[0;36m<module>\u001b[0;34m\u001b[0m\n\u001b[1;32m     27\u001b[0m             \u001b[0;32mif\u001b[0m \u001b[0mframe_i\u001b[0m \u001b[0;34m==\u001b[0m \u001b[0mf_i\u001b[0m\u001b[0;34m:\u001b[0m\u001b[0;34m\u001b[0m\u001b[0;34m\u001b[0m\u001b[0m\n\u001b[1;32m     28\u001b[0m \u001b[0;31m#                 plt.scatter(x_flashes[global_i], y_flashes[global_i], c='orange', s=40)\u001b[0m\u001b[0;34m\u001b[0m\u001b[0;34m\u001b[0m\u001b[0;34m\u001b[0m\u001b[0m\n\u001b[0;32m---> 29\u001b[0;31m                 \u001b[0msns\u001b[0m\u001b[0;34m.\u001b[0m\u001b[0mscatterplot\u001b[0m\u001b[0;34m(\u001b[0m\u001b[0mx_flashes\u001b[0m\u001b[0;34m[\u001b[0m\u001b[0mglobal_i\u001b[0m\u001b[0;34m]\u001b[0m\u001b[0;34m,\u001b[0m \u001b[0my_flashes\u001b[0m\u001b[0;34m[\u001b[0m\u001b[0mglobal_i\u001b[0m\u001b[0;34m]\u001b[0m\u001b[0;34m,\u001b[0m \u001b[0mc\u001b[0m\u001b[0;34m=\u001b[0m\u001b[0;34m'orange'\u001b[0m\u001b[0;34m,\u001b[0m \u001b[0ms\u001b[0m\u001b[0;34m=\u001b[0m\u001b[0;36m40\u001b[0m\u001b[0;34m)\u001b[0m\u001b[0;34m\u001b[0m\u001b[0;34m\u001b[0m\u001b[0m\n\u001b[0m\u001b[1;32m     30\u001b[0m \u001b[0;34m\u001b[0m\u001b[0m\n\u001b[1;32m     31\u001b[0m         \u001b[0;31m# Set black background\u001b[0m\u001b[0;34m\u001b[0m\u001b[0;34m\u001b[0m\u001b[0;34m\u001b[0m\u001b[0m\n",
      "\u001b[0;32m/anaconda3/envs/dm/lib/python3.7/site-packages/seaborn/relational.py\u001b[0m in \u001b[0;36mscatterplot\u001b[0;34m(x, y, hue, style, size, data, palette, hue_order, hue_norm, sizes, size_order, size_norm, markers, style_order, x_bins, y_bins, units, estimator, ci, n_boot, alpha, x_jitter, y_jitter, legend, ax, **kwargs)\u001b[0m\n\u001b[1;32m   1333\u001b[0m         \u001b[0mx_bins\u001b[0m\u001b[0;34m=\u001b[0m\u001b[0mx_bins\u001b[0m\u001b[0;34m,\u001b[0m \u001b[0my_bins\u001b[0m\u001b[0;34m=\u001b[0m\u001b[0my_bins\u001b[0m\u001b[0;34m,\u001b[0m\u001b[0;34m\u001b[0m\u001b[0;34m\u001b[0m\u001b[0m\n\u001b[1;32m   1334\u001b[0m         \u001b[0mestimator\u001b[0m\u001b[0;34m=\u001b[0m\u001b[0mestimator\u001b[0m\u001b[0;34m,\u001b[0m \u001b[0mci\u001b[0m\u001b[0;34m=\u001b[0m\u001b[0mci\u001b[0m\u001b[0;34m,\u001b[0m \u001b[0mn_boot\u001b[0m\u001b[0;34m=\u001b[0m\u001b[0mn_boot\u001b[0m\u001b[0;34m,\u001b[0m\u001b[0;34m\u001b[0m\u001b[0;34m\u001b[0m\u001b[0m\n\u001b[0;32m-> 1335\u001b[0;31m         \u001b[0malpha\u001b[0m\u001b[0;34m=\u001b[0m\u001b[0malpha\u001b[0m\u001b[0;34m,\u001b[0m \u001b[0mx_jitter\u001b[0m\u001b[0;34m=\u001b[0m\u001b[0mx_jitter\u001b[0m\u001b[0;34m,\u001b[0m \u001b[0my_jitter\u001b[0m\u001b[0;34m=\u001b[0m\u001b[0my_jitter\u001b[0m\u001b[0;34m,\u001b[0m \u001b[0mlegend\u001b[0m\u001b[0;34m=\u001b[0m\u001b[0mlegend\u001b[0m\u001b[0;34m,\u001b[0m\u001b[0;34m\u001b[0m\u001b[0;34m\u001b[0m\u001b[0m\n\u001b[0m\u001b[1;32m   1336\u001b[0m     )\n\u001b[1;32m   1337\u001b[0m \u001b[0;34m\u001b[0m\u001b[0m\n",
      "\u001b[0;32m/anaconda3/envs/dm/lib/python3.7/site-packages/seaborn/relational.py\u001b[0m in \u001b[0;36m__init__\u001b[0;34m(self, x, y, hue, size, style, data, palette, hue_order, hue_norm, sizes, size_order, size_norm, dashes, markers, style_order, x_bins, y_bins, units, estimator, ci, n_boot, alpha, x_jitter, y_jitter, legend)\u001b[0m\n\u001b[1;32m    850\u001b[0m \u001b[0;34m\u001b[0m\u001b[0m\n\u001b[1;32m    851\u001b[0m         plot_data = self.establish_variables(\n\u001b[0;32m--> 852\u001b[0;31m             \u001b[0mx\u001b[0m\u001b[0;34m,\u001b[0m \u001b[0my\u001b[0m\u001b[0;34m,\u001b[0m \u001b[0mhue\u001b[0m\u001b[0;34m,\u001b[0m \u001b[0msize\u001b[0m\u001b[0;34m,\u001b[0m \u001b[0mstyle\u001b[0m\u001b[0;34m,\u001b[0m \u001b[0munits\u001b[0m\u001b[0;34m,\u001b[0m \u001b[0mdata\u001b[0m\u001b[0;34m\u001b[0m\u001b[0;34m\u001b[0m\u001b[0m\n\u001b[0m\u001b[1;32m    853\u001b[0m         )\n\u001b[1;32m    854\u001b[0m \u001b[0;34m\u001b[0m\u001b[0m\n",
      "\u001b[0;32m/anaconda3/envs/dm/lib/python3.7/site-packages/seaborn/relational.py\u001b[0m in \u001b[0;36mestablish_variables\u001b[0;34m(self, x, y, hue, size, style, units, data)\u001b[0m\n\u001b[1;32m    155\u001b[0m                 \u001b[0munits\u001b[0m\u001b[0;34m=\u001b[0m\u001b[0munits\u001b[0m\u001b[0;34m\u001b[0m\u001b[0;34m\u001b[0m\u001b[0m\n\u001b[1;32m    156\u001b[0m             )\n\u001b[0;32m--> 157\u001b[0;31m             \u001b[0mplot_data\u001b[0m \u001b[0;34m=\u001b[0m \u001b[0mpd\u001b[0m\u001b[0;34m.\u001b[0m\u001b[0mDataFrame\u001b[0m\u001b[0;34m(\u001b[0m\u001b[0mplot_data\u001b[0m\u001b[0;34m)\u001b[0m\u001b[0;34m\u001b[0m\u001b[0;34m\u001b[0m\u001b[0m\n\u001b[0m\u001b[1;32m    158\u001b[0m \u001b[0;34m\u001b[0m\u001b[0m\n\u001b[1;32m    159\u001b[0m         \u001b[0;31m# Option 3:\u001b[0m\u001b[0;34m\u001b[0m\u001b[0;34m\u001b[0m\u001b[0;34m\u001b[0m\u001b[0m\n",
      "\u001b[0;32m/anaconda3/envs/dm/lib/python3.7/site-packages/pandas/core/frame.py\u001b[0m in \u001b[0;36m__init__\u001b[0;34m(self, data, index, columns, dtype, copy)\u001b[0m\n\u001b[1;32m    390\u001b[0m                                  dtype=dtype, copy=copy)\n\u001b[1;32m    391\u001b[0m         \u001b[0;32melif\u001b[0m \u001b[0misinstance\u001b[0m\u001b[0;34m(\u001b[0m\u001b[0mdata\u001b[0m\u001b[0;34m,\u001b[0m \u001b[0mdict\u001b[0m\u001b[0;34m)\u001b[0m\u001b[0;34m:\u001b[0m\u001b[0;34m\u001b[0m\u001b[0;34m\u001b[0m\u001b[0m\n\u001b[0;32m--> 392\u001b[0;31m             \u001b[0mmgr\u001b[0m \u001b[0;34m=\u001b[0m \u001b[0minit_dict\u001b[0m\u001b[0;34m(\u001b[0m\u001b[0mdata\u001b[0m\u001b[0;34m,\u001b[0m \u001b[0mindex\u001b[0m\u001b[0;34m,\u001b[0m \u001b[0mcolumns\u001b[0m\u001b[0;34m,\u001b[0m \u001b[0mdtype\u001b[0m\u001b[0;34m=\u001b[0m\u001b[0mdtype\u001b[0m\u001b[0;34m)\u001b[0m\u001b[0;34m\u001b[0m\u001b[0;34m\u001b[0m\u001b[0m\n\u001b[0m\u001b[1;32m    393\u001b[0m         \u001b[0;32melif\u001b[0m \u001b[0misinstance\u001b[0m\u001b[0;34m(\u001b[0m\u001b[0mdata\u001b[0m\u001b[0;34m,\u001b[0m \u001b[0mma\u001b[0m\u001b[0;34m.\u001b[0m\u001b[0mMaskedArray\u001b[0m\u001b[0;34m)\u001b[0m\u001b[0;34m:\u001b[0m\u001b[0;34m\u001b[0m\u001b[0;34m\u001b[0m\u001b[0m\n\u001b[1;32m    394\u001b[0m             \u001b[0;32mimport\u001b[0m \u001b[0mnumpy\u001b[0m\u001b[0;34m.\u001b[0m\u001b[0mma\u001b[0m\u001b[0;34m.\u001b[0m\u001b[0mmrecords\u001b[0m \u001b[0;32mas\u001b[0m \u001b[0mmrecords\u001b[0m\u001b[0;34m\u001b[0m\u001b[0;34m\u001b[0m\u001b[0m\n",
      "\u001b[0;32m/anaconda3/envs/dm/lib/python3.7/site-packages/pandas/core/internals/construction.py\u001b[0m in \u001b[0;36minit_dict\u001b[0;34m(data, index, columns, dtype)\u001b[0m\n\u001b[1;32m    210\u001b[0m         \u001b[0marrays\u001b[0m \u001b[0;34m=\u001b[0m \u001b[0;34m[\u001b[0m\u001b[0mdata\u001b[0m\u001b[0;34m[\u001b[0m\u001b[0mk\u001b[0m\u001b[0;34m]\u001b[0m \u001b[0;32mfor\u001b[0m \u001b[0mk\u001b[0m \u001b[0;32min\u001b[0m \u001b[0mkeys\u001b[0m\u001b[0;34m]\u001b[0m\u001b[0;34m\u001b[0m\u001b[0;34m\u001b[0m\u001b[0m\n\u001b[1;32m    211\u001b[0m \u001b[0;34m\u001b[0m\u001b[0m\n\u001b[0;32m--> 212\u001b[0;31m     \u001b[0;32mreturn\u001b[0m \u001b[0marrays_to_mgr\u001b[0m\u001b[0;34m(\u001b[0m\u001b[0marrays\u001b[0m\u001b[0;34m,\u001b[0m \u001b[0mdata_names\u001b[0m\u001b[0;34m,\u001b[0m \u001b[0mindex\u001b[0m\u001b[0;34m,\u001b[0m \u001b[0mcolumns\u001b[0m\u001b[0;34m,\u001b[0m \u001b[0mdtype\u001b[0m\u001b[0;34m=\u001b[0m\u001b[0mdtype\u001b[0m\u001b[0;34m)\u001b[0m\u001b[0;34m\u001b[0m\u001b[0;34m\u001b[0m\u001b[0m\n\u001b[0m\u001b[1;32m    213\u001b[0m \u001b[0;34m\u001b[0m\u001b[0m\n\u001b[1;32m    214\u001b[0m \u001b[0;34m\u001b[0m\u001b[0m\n",
      "\u001b[0;32m/anaconda3/envs/dm/lib/python3.7/site-packages/pandas/core/internals/construction.py\u001b[0m in \u001b[0;36marrays_to_mgr\u001b[0;34m(arrays, arr_names, index, columns, dtype)\u001b[0m\n\u001b[1;32m     49\u001b[0m     \u001b[0;31m# figure out the index, if necessary\u001b[0m\u001b[0;34m\u001b[0m\u001b[0;34m\u001b[0m\u001b[0;34m\u001b[0m\u001b[0m\n\u001b[1;32m     50\u001b[0m     \u001b[0;32mif\u001b[0m \u001b[0mindex\u001b[0m \u001b[0;32mis\u001b[0m \u001b[0;32mNone\u001b[0m\u001b[0;34m:\u001b[0m\u001b[0;34m\u001b[0m\u001b[0;34m\u001b[0m\u001b[0m\n\u001b[0;32m---> 51\u001b[0;31m         \u001b[0mindex\u001b[0m \u001b[0;34m=\u001b[0m \u001b[0mextract_index\u001b[0m\u001b[0;34m(\u001b[0m\u001b[0marrays\u001b[0m\u001b[0;34m)\u001b[0m\u001b[0;34m\u001b[0m\u001b[0;34m\u001b[0m\u001b[0m\n\u001b[0m\u001b[1;32m     52\u001b[0m     \u001b[0;32melse\u001b[0m\u001b[0;34m:\u001b[0m\u001b[0;34m\u001b[0m\u001b[0;34m\u001b[0m\u001b[0m\n\u001b[1;32m     53\u001b[0m         \u001b[0mindex\u001b[0m \u001b[0;34m=\u001b[0m \u001b[0mensure_index\u001b[0m\u001b[0;34m(\u001b[0m\u001b[0mindex\u001b[0m\u001b[0;34m)\u001b[0m\u001b[0;34m\u001b[0m\u001b[0;34m\u001b[0m\u001b[0m\n",
      "\u001b[0;32m/anaconda3/envs/dm/lib/python3.7/site-packages/pandas/core/internals/construction.py\u001b[0m in \u001b[0;36mextract_index\u001b[0;34m(data)\u001b[0m\n\u001b[1;32m    306\u001b[0m \u001b[0;34m\u001b[0m\u001b[0m\n\u001b[1;32m    307\u001b[0m         \u001b[0;32mif\u001b[0m \u001b[0;32mnot\u001b[0m \u001b[0mindexes\u001b[0m \u001b[0;32mand\u001b[0m \u001b[0;32mnot\u001b[0m \u001b[0mraw_lengths\u001b[0m\u001b[0;34m:\u001b[0m\u001b[0;34m\u001b[0m\u001b[0;34m\u001b[0m\u001b[0m\n\u001b[0;32m--> 308\u001b[0;31m             raise ValueError('If using all scalar values, you must pass'\n\u001b[0m\u001b[1;32m    309\u001b[0m                              ' an index')\n\u001b[1;32m    310\u001b[0m \u001b[0;34m\u001b[0m\u001b[0m\n",
      "\u001b[0;31mValueError\u001b[0m: If using all scalar values, you must pass an index"
     ]
    },
    {
     "data": {
      "image/png": "[encoded data removed]",
      "text/plain": [
       "<Figure size 576x504 with 1 Axes>"
      ]
     },
     "metadata": {
      "needs_background": "light"
     },
     "output_type": "display_data"
    }
   ],
   "source": [
    "!rm MovieFrames/*.png\n",
    "\n",
    "color = plt.cm.rainbow(np.linspace(0, 1, num_males))\n",
    "\n",
    "for frame_i in range(25):\n",
    "    sys.stdout.write(f\"\\rFrame {frame_i+1}/{num_total_steps}\")\n",
    "    sys.stdout.flush()\n",
    "    \n",
    "    fig = plt.figure(figsize=(8,7))\n",
    "    ax = fig.add_subplot(1, 1, 1)\n",
    "\n",
    "    for ff_i, (key, val) in enumerate(all_fireflies_history.items()):\n",
    "        ''' For a single firefly, extract its info and plot its trajectory. '''\n",
    "        firefly_data = all_fireflies_history[key]\n",
    "\n",
    "        x = firefly_data['trajectory_history'][:,0]\n",
    "        y = firefly_data['trajectory_history'][:,1]\n",
    "        flashes = np.where(firefly_data['flash_history'] == 1)\n",
    "        x_flashes = x[flashes]\n",
    "        y_flashes = y[flashes]\n",
    "        \n",
    "        # Plot position trajectory\n",
    "        plt.plot(x[0:frame_i], y[0:frame_i], lw=1, zorder=0, label=f\"{ff_i+1}\", c=color[ff_i])\n",
    "\n",
    "        # Plot flashing patterns\n",
    "        for global_i, f_i in enumerate(flashes[0]):\n",
    "            if frame_i == f_i:\n",
    "                plt.scatter(x_flashes[global_i], y_flashes[global_i], c='orange', s=40)\n",
    "\n",
    "        # Set black background\n",
    "        ax = plt.gca()\n",
    "        ax.set_facecolor('xkcd:black')\n",
    "\n",
    "        plt.xlim(x_min-10, x_max+10)\n",
    "        plt.ylim(y_min-10, y_max+10)\n",
    "        plt.xlabel('X')\n",
    "        plt.ylabel('Y')\n",
    "        plt.title(f'Firefly sky - time step: {frame_i+1}')\n",
    "        \n",
    "        plt.legend(loc=(1.01, 0.2), ncol=2, title=\"Male firefly\", columnspacing=0.5)\n",
    "        \n",
    "    plt.savefig(f'MovieFrames/t_{frame_i:03d}', bbox_inches='tight', dpi=200)\n",
    "    plt.close()\n",
    "        \n"
   ]
  },
  {
   "cell_type": "code",
   "execution_count": null,
   "metadata": {},
   "outputs": [],
   "source": [
    "all_img_paths = np.sort(glob.glob(\"MovieFrames/*.png\"))\n",
    "all_imgs = np.array([cv2.imread(img) for img in all_img_paths])\n",
    "\n",
    "def imgs2vid(imgs, outpath, fps=20):\n",
    "    height, width, layers = imgs[0].shape\n",
    "    fourcc = cv2.VideoWriter_fourcc(\"m\", \"p\", \"4\", \"v\")\n",
    "    video = cv2.VideoWriter(outpath, fourcc, fps, (width, height), True)\n",
    "    \n",
    "    for img in imgs:\n",
    "        video.write(img)\n",
    "        \n",
    "    cv2.destroyAllWindows()\n",
    "    video.release()\n",
    "    \n",
    "imgs2vid(all_imgs, 'MovieFrames/FireflySky.mp4')"
   ]
  },
  {
   "cell_type": "code",
   "execution_count": null,
   "metadata": {},
   "outputs": [],
   "source": []
  },
  {
   "cell_type": "code",
   "execution_count": null,
   "metadata": {},
   "outputs": [],
   "source": []
  },
  {
   "cell_type": "code",
   "execution_count": 32,
   "metadata": {},
   "outputs": [],
   "source": []
  },
  {
   "cell_type": "code",
   "execution_count": null,
   "metadata": {},
   "outputs": [],
   "source": []
  },
  {
   "cell_type": "code",
   "execution_count": null,
   "metadata": {},
   "outputs": [],
   "source": []
  },
  {
   "cell_type": "code",
   "execution_count": null,
   "metadata": {},
   "outputs": [],
   "source": []
  },
  {
   "cell_type": "code",
   "execution_count": null,
   "metadata": {},
   "outputs": [],
   "source": []
  },
  {
   "cell_type": "code",
   "execution_count": null,
   "metadata": {},
   "outputs": [],
   "source": []
  },
  {
   "cell_type": "code",
   "execution_count": null,
   "metadata": {},
   "outputs": [],
   "source": []
  },
  {
   "cell_type": "code",
   "execution_count": null,
   "metadata": {},
   "outputs": [],
   "source": []
  },
  {
   "cell_type": "markdown",
   "metadata": {},
   "source": [
    "## Converting original MATLAB/R code with functional programming to Python"
   ]
  },
  {
   "cell_type": "markdown",
   "metadata": {
    "heading_collapsed": true
   },
   "source": [
    "### 1. Male firefly correlated random walk"
   ]
  },
  {
   "cell_type": "code",
   "execution_count": null,
   "metadata": {
    "hidden": true
   },
   "outputs": [],
   "source": [
    "# Parameters\n",
    "# Based on these params, a firefly takes 1000 steps and flash every 100 steps (10x)\n",
    "N = 1000           # Number of steps per trajectory\n",
    "REALIZATIONS = 20  # Number of fireflies in arena \n",
    "v = 1.0            # Velocity aka step size\n",
    "NreS = 100         # Number of steps bw flashes\n",
    "sigma02 = np.pi/10 # Width of random walk turning angle distribution. Lower: straighter.\n",
    "\n",
    "initial_arena_size = N"
   ]
  },
  {
   "cell_type": "code",
   "execution_count": null,
   "metadata": {
    "hidden": true
   },
   "outputs": [],
   "source": [
    "# Correlated random walks\n",
    "np.random.seed(42)\n",
    "\n",
    "x = np.zeros((REALIZATIONS, N))\n",
    "y = np.zeros((REALIZATIONS, N))\n",
    "theta = np.zeros((REALIZATIONS, N))\n",
    "\n",
    "# Pick random initial positions for all male FF (convert to - to + coordinates)\n",
    "x[:,0] = initial_arena_size * (np.random.rand(x.shape[0]) - 0.5)\n",
    "y[:,0] = initial_arena_size * (np.random.rand(y.shape[0]) - 0.5)\n",
    "theta[:,0] = np.pi * (np.random.rand(theta.shape[0]) - 0.5)\n",
    "\n",
    "# Loop over each male firefly\n",
    "for realization_i in range(REALIZATIONS):\n",
    "    \n",
    "    # Each FF takes N steps total\n",
    "    for step_i in range(1, N):\n",
    "        \n",
    "        # At each step, it chooses a random turning angle (radians)\n",
    "        theta[realization_i, step_i] = theta[realization_i, step_i-1] + sigma02 * 2 * (np.random.rand()-0.5)\n",
    "        \n",
    "        # Update x and y position according to theta\n",
    "        x[realization_i, step_i] = x[realization_i, step_i-1] + v * np.cos(theta[realization_i, step_i])\n",
    "        y[realization_i, step_i] = y[realization_i, step_i-1] + v * np.sin(theta[realization_i, step_i])\n"
   ]
  },
  {
   "cell_type": "code",
   "execution_count": null,
   "metadata": {
    "hidden": true
   },
   "outputs": [],
   "source": [
    "fig = plt.figure(figsize=(8,7))\n",
    "ax = fig.add_subplot(1, 1, 1)\n",
    "\n",
    "# Plot line tracks\n",
    "plt.plot(x.T, y.T, lw=1, zorder=0, label=\"-\")\n",
    "\n",
    "# Plot flashing patterns\n",
    "xx = x.T.copy()\n",
    "yy = y.T.copy()\n",
    "plt.scatter(xx[::NreS], yy[::NreS], c='orange', s=20)\n",
    "\n",
    "plt.xlabel('X')\n",
    "plt.ylabel('Y')\n",
    "\n",
    "ax = plt.gca()\n",
    "ax.set_facecolor('xkcd:black')\n",
    "\n",
    "# plt.legend(loc=(1.01,.1), title=(\"Male firefly\"))\n",
    "plt.title('Firefly sky')\n",
    "plt.show()"
   ]
  },
  {
   "cell_type": "markdown",
   "metadata": {
    "hidden": true
   },
   "source": [
    "At first flashes, (assume synchronized flashing?) female picks a single male and attempts to track him until the end of simulation? At each time, firefly makes a guess on most likely male based on flash location, and build a history of that track"
   ]
  },
  {
   "cell_type": "code",
   "execution_count": null,
   "metadata": {
    "hidden": true
   },
   "outputs": [],
   "source": []
  }
 ],
 "metadata": {
  "kernelspec": {
   "display_name": "Python 3",
   "language": "python",
   "name": "python3"
  },
  "language_info": {
   "codemirror_mode": {
    "name": "ipython",
    "version": 3
   },
   "file_extension": ".py",
   "mimetype": "text/x-python",
   "name": "python",
   "nbconvert_exporter": "python",
   "pygments_lexer": "ipython3",
   "version": "3.7.2"
  },
  "toc": {
   "base_numbering": 1,
   "nav_menu": {},
   "number_sections": true,
   "sideBar": true,
   "skip_h1_title": false,
   "title_cell": "Table of Contents",
   "title_sidebar": "Contents",
   "toc_cell": false,
   "toc_position": {},
   "toc_section_display": true,
   "toc_window_display": false
  }
 },
 "nbformat": 4,
 "nbformat_minor": 2
}
