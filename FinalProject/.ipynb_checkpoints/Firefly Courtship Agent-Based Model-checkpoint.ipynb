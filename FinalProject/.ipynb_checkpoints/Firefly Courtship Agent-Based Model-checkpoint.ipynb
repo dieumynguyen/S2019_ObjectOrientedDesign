{
 "cells": [
  {
   "cell_type": "markdown",
   "metadata": {},
   "source": []
  },
  {
   "cell_type": "markdown",
   "metadata": {},
   "source": [
    "## Imports"
   ]
  },
  {
   "cell_type": "code",
   "execution_count": 2,
   "metadata": {},
   "outputs": [],
   "source": [
    "%%capture\n",
    "\n",
    "# Packages for importing from other ipynbs that encapsulate classes with low-level design\n",
    "import ipynb\n",
    "import importlib\n",
    "\n",
    "# These notebooks should be in the same directory as this one\n",
    "import ipynb.fs.full.Firefly as Firefly\n",
    "import ipynb.fs.full.World as World\n",
    "import ipynb.fs.full.GUI as GUI\n",
    "\n",
    "# Each time the low-level code is changed, just run this to reload\n",
    "importlib.reload(Firefly)\n",
    "importlib.reload(World)\n",
    "importlib.reload(GUI)"
   ]
  },
  {
   "cell_type": "code",
   "execution_count": 3,
   "metadata": {},
   "outputs": [],
   "source": [
    "firefly_world = World.World()"
   ]
  },
  {
   "cell_type": "code",
   "execution_count": 4,
   "metadata": {
    "scrolled": false
   },
   "outputs": [
    {
     "data": {
      "application/vnd.jupyter.widget-view+json": {
       "model_id": "ca881be2ceea48dfac410122de4038b7",
       "version_major": 2,
       "version_minor": 0
      },
      "text/plain": [
       "HBox(children=(VBox(children=(HBox(children=(Button(description='setup/reset', style=ButtonStyle(button_color=…"
      ]
     },
     "metadata": {},
     "output_type": "display_data"
    }
   ],
   "source": [
    "widgets_collection = GUI.WidgetCollection(firefly_world)\n",
    "simulation = GUI.SimulationGUI(widgets_collection, firefly_world)\n",
    "simulation.gui()"
   ]
  }
 ],
 "metadata": {
  "kernelspec": {
   "display_name": "Python 3",
   "language": "python",
   "name": "python3"
  },
  "language_info": {
   "codemirror_mode": {
    "name": "ipython",
    "version": 3
   },
   "file_extension": ".py",
   "mimetype": "text/x-python",
   "name": "python",
   "nbconvert_exporter": "python",
   "pygments_lexer": "ipython3",
   "version": "3.7.2"
  },
  "toc": {
   "base_numbering": 1,
   "nav_menu": {},
   "number_sections": true,
   "sideBar": true,
   "skip_h1_title": false,
   "title_cell": "Table of Contents",
   "title_sidebar": "Contents",
   "toc_cell": false,
   "toc_position": {},
   "toc_section_display": true,
   "toc_window_display": false
  }
 },
 "nbformat": 4,
 "nbformat_minor": 2
}
