{
 "cells": [
  {
   "cell_type": "markdown",
   "metadata": {},
   "source": [
    "# 1. Lab 9: Ecological Models"
   ]
  },
  {
   "cell_type": "markdown",
   "metadata": {},
   "source": [
    "*[In the cell below, put your name; then you can delete this cell]*"
   ]
  },
  {
   "cell_type": "markdown",
   "metadata": {
    "deletable": false,
    "nbgrader": {
     "checksum": "c3a78a17e38006b5095ace46d88155f1",
     "grade": true,
     "grade_id": "by-line",
     "locked": false,
     "points": 10,
     "solution": true
    }
   },
   "source": [
    "YOUR ANSWER HERE"
   ]
  },
  {
   "cell_type": "markdown",
   "metadata": {},
   "source": [
    "**Goals**:\n",
    "\n",
    "* Explore ecological models through \"individual/instance simulation\"\n",
    "* Observe complex interactions between agents\n",
    "* Compare and contrast with mathematical models\n",
    "* Practice using OOP\n",
    "* Use widgets to run experiments"
   ]
  },
  {
   "cell_type": "markdown",
   "metadata": {},
   "source": [
    "We now turn our attention to a different kind of biological modeling: ecological models. These models often involve spatial territory, and a possibly large number of individual agents woondering the landscape. This makes it perfect for using our new Object-Oriented Programming skills.\n",
    "\n",
    "The model that we will develop today is designed to explore the *stability* of predator-prey ecosystems. Such a system is called *unstable* if it tends to result in extinction for one or more species involved.  In contrast, a system is *stable* if it tends to maintain itself over time, despite fluctuations in population sizes.\n",
    "\n",
    "This Python code and Jupyter notebook are based on a NetLogo model: http://netlogoweb.org/launch#http://netlogoweb.org/assets/modelslib/Sample%20Models/Biology/Wolf%20Sheep%20Predation.nlogo\n",
    "\n",
    "<img src=\"netlogo-predator-prey.png\"/>"
   ]
  },
  {
   "cell_type": "markdown",
   "metadata": {},
   "source": [
    "## 1.1 Predator-Prey Model"
   ]
  },
  {
   "cell_type": "markdown",
   "metadata": {},
   "source": [
    "There are two main experiments of exploration to this model.\n",
    "\n",
    "In the first experiment, wolves and sheep wander randomly around the landscape, while the wolves look for sheep to prey on. Each step costs the wolves energy, and they must eat sheep in order to replenish their energy - when they run out of energy they die. To allow the population to continue, each wolf or sheep has a fixed probability of reproducing at each time step. This variation produces interesting population dynamics, but is ultimately unstable.\n",
    "\n",
    "The second experiment includes grass (green) in addition to wolves and sheep. The behavior of the wolves is identical to the first point, however this time the sheep must eat grass in order to maintain their energy - when they run out of energy they die. Once grass is eaten it will only regrow after a fixed amount of time. This version is more complex than the first, but it is generally stable.\n",
    "\n",
    "To put it another way: **when the sheep have unlimited amount of grass, this leads to an unstable system. But putting some limits on the amount of grass generally produces a stable environment.**\n",
    "\n",
    "The construction of this model is described in two papers by Wilensky & Reisman referenced below."
   ]
  },
  {
   "cell_type": "markdown",
   "metadata": {},
   "source": [
    "## 1.2 How to use it"
   ]
  },
  {
   "cell_type": "markdown",
   "metadata": {},
   "source": [
    "1. Set the `grass` parameter to `True` to include grass in the model, or to `False` to only include wolves (black) and sheep (white/yellow).\n",
    "2. Adjust the parameters (see below), or use the default settings.\n",
    "3. Instantiate the World class.\n",
    "4. Call update to step the simulation.\n",
    "5. Look at the history to see how the population sizes change over time.\n",
    "\n",
    "Parameters:\n",
    "\n",
    "* World.sheep: The initial size of sheep population\n",
    "* World.wolves: The initial size of wolf population\n",
    "* World.grass: Whether or not to include grass in the model\n",
    "* World.grass_regrowth_time: How long it takes for grass to regrow once it is eaten\n",
    "* Sheep.GAIN_FROM_FOOD: The amount of energy sheep get for every grass patch eaten\n",
    "* Sheep.REPRODUCE: The probability of a sheep reproducing at each time step\n",
    "* Wolf.GAIN_FROM_FOOD: The amount of energy wolves get for every sheep eaten\n",
    "* Wolf.REPRODUCE: The probability of a wolf reproducing at each time step\n",
    "\n",
    "Notes:\n",
    "\n",
    "* one unit of energy is deducted for every step a wolf takes\n",
    "* when grass is included, one unit of energy is deducted for every step a sheep takes"
   ]
  },
  {
   "cell_type": "markdown",
   "metadata": {},
   "source": [
    "# 2. Wolves, Sheep, and Grass"
   ]
  },
  {
   "cell_type": "markdown",
   "metadata": {},
   "source": [
    "There are an infinite number of ways to break the wolf, sheep, and grass model into Python objects. The following code explores just a single way."
   ]
  },
  {
   "cell_type": "markdown",
   "metadata": {},
   "source": [
    "## 2.1 World"
   ]
  },
  {
   "cell_type": "markdown",
   "metadata": {},
   "source": [
    "The world is the class that contains all of the elements of the model. It contains a list of animals (animals that are either Wolf or Sheep) and also a discrete grid of Patches that contain the grass level for each fixed area. By default, the grid of grass is composed of 50 x 50 cells, but connected as a **torus** (wraps around).\n",
    "\n",
    "<img src=\"http://http.developer.nvidia.com/CgTutorial/elementLinks/fig8_7.jpg\" />\n",
    "\n",
    "**Methods:**\n",
    "\n",
    "* World() - construct a new model\n",
    "* World.setup() - call the setup methods, if parameters change\n",
    "* World.get_stats() - get the populations of (sheep, wolves, grass/4)\n",
    "* World.update() - update the world by one time tick\n",
    "* World.draw() - create a nice graphical picture of the world"
   ]
  },
  {
   "cell_type": "markdown",
   "metadata": {},
   "source": [
    "## 2.2 Patches"
   ]
  },
  {
   "cell_type": "markdown",
   "metadata": {},
   "source": [
    "The world is made up of 50 x 50 patches. A Patch contains a level of grass. If World(grass=True), then Sheep can eat the grass, and it will eventually grow back.\n",
    "\n",
    "**Properties**:\n",
    "\n",
    "* Patch.level - grass level (states; -1, 0, 1, or infinity)\n",
    "* Patch.time - counting time until regrowth\n",
    "\n",
    "**Methods**:\n",
    "\n",
    "* Patch.update() - update the grass (head toward regrowth, if grass enabled)"
   ]
  },
  {
   "cell_type": "markdown",
   "metadata": {},
   "source": [
    "## 2.3 Animals"
   ]
  },
  {
   "cell_type": "markdown",
   "metadata": {},
   "source": [
    "Wolf and Sheep are both Animals. Animals has all of the properties and methods that they both share.\n",
    "\n",
    "**Properties**:\n",
    "\n",
    "* Animal.x, Animal.y - the location of the animal (floats, between 0 - 50)\n",
    "* Animal.energy - the amount of energy this animal has \n",
    "\n",
    "**Methods**:\n",
    "\n",
    "* Animal.update() - calls: move(), eat(), hatch(), or dies\n",
    "* Animal.move() - move in your random way\n",
    "* Animal.eat() - try to eat\n",
    "* Animal.hatch() - splits yourself\n",
    "* Animal.forward(distance) - go forward (used in move)\n",
    "* Animal.turnLeft(direction) - turn left in degrees (used in move)\n",
    "* Animal.turnRight(direction) - turn right in degrees (used in move)\n",
    "* Animal.eats(other_type) - can I eat this type?\n",
    "* Animal.distance(a, b) - compute distance on torus"
   ]
  },
  {
   "cell_type": "markdown",
   "metadata": {},
   "source": [
    "Now, we import all of the libraries that we will need:"
   ]
  },
  {
   "cell_type": "code",
   "execution_count": 18,
   "metadata": {},
   "outputs": [],
   "source": [
    "import random\n",
    "import math\n",
    "from IPython.display import clear_output, display\n",
    "from IPython.display import HTML as html\n",
    "import time\n",
    "import io\n",
    "import matplotlib.pyplot as plt\n",
    "import matplotlib.patches\n",
    "from calysto.graphics import *\n",
    "import threading\n",
    "\n",
    "%matplotlib inline"
   ]
  },
  {
   "cell_type": "markdown",
   "metadata": {},
   "source": [
    "And define the World class that will represent the entire model:"
   ]
  },
  {
   "cell_type": "code",
   "execution_count": 19,
   "metadata": {},
   "outputs": [],
   "source": [
    "class World:\n",
    "    def __init__(self, pwidth=50, pheight=50, grass=True, \n",
    "                sheep=100, wolves=50, grass_regrowth_time=30):\n",
    "        # Width and Height (in patches):\n",
    "        self.pwidth = pwidth\n",
    "        self.pheight = pheight\n",
    "        # -----------------------------------\n",
    "        # Parameters:\n",
    "        # -----------------------------------\n",
    "        # grass:\n",
    "        self.use_grass = grass\n",
    "        self.grass_regrowth_time = grass_regrowth_time # 0 to 100\n",
    "        # sheep:\n",
    "        self.initial_number_sheep = sheep # 0 to 250\n",
    "        # wolves:\n",
    "        self.initial_number_wolves = wolves # 0 to 250\n",
    "        self.state = \"stopped\"\n",
    "        self.setup()\n",
    "        \n",
    "    def setup(self):\n",
    "        self.history = []\n",
    "        self.ticks = 0\n",
    "        if self.use_grass:\n",
    "            self.patches = [[Patch(self, random.choice([-1, 1])) \n",
    "                             for w in range(self.pheight)] for h in range(self.pwidth)]\n",
    "        else:\n",
    "            self.patches = [[Patch(self, math.inf) \n",
    "                             for w in range(self.pheight)] for h in range(self.pwidth)]\n",
    "        self.animals = []\n",
    "        for i in range(self.initial_number_sheep):\n",
    "            self.animals.append(Sheep(self))\n",
    "        for i in range(self.initial_number_wolves):\n",
    "            self.animals.append(Wolf(self))\n",
    "        \n",
    "    def draw(self, pixels=10):\n",
    "        canvas = Canvas(size=(self.pwidth * pixels, self.pheight * pixels))\n",
    "        if self.use_grass:\n",
    "            grass = 0\n",
    "            non_grass = 0\n",
    "            if self.use_grass:\n",
    "                for h in range(self.pheight):\n",
    "                    for w in range(self.pwidth):\n",
    "                        if self.patches[w][h].level > 0:\n",
    "                            grass += 1\n",
    "                        else:\n",
    "                            non_grass += 1\n",
    "            if non_grass > grass:\n",
    "                rectangle = Rectangle((0,0), (self.pwidth * pixels - 1, self.pheight * pixels - 1))\n",
    "                rectangle.draw(canvas)\n",
    "                rectangle.fill(\"brown\")\n",
    "                for h in range(self.pheight):\n",
    "                    for w in range(self.pwidth):\n",
    "                        if self.patches[w][h].level > 0:\n",
    "                            rect = Rectangle((w * pixels, h * pixels), \n",
    "                                             (pixels, pixels))\n",
    "                            rect.fill(\"green\")\n",
    "                            rect.stroke(\"green\")\n",
    "                            rect.draw(canvas)\n",
    "            else:\n",
    "                rectangle = Rectangle((0,0), (self.pwidth * pixels - 1, self.pheight * pixels - 1))\n",
    "                rectangle.draw(canvas)\n",
    "                rectangle.fill(\"green\")\n",
    "                for h in range(self.pheight):\n",
    "                    for w in range(self.pwidth):\n",
    "                        if self.patches[w][h].level <= 0:\n",
    "                            rect = Rectangle((w * pixels, h * pixels), \n",
    "                                             (pixels, pixels))\n",
    "                            rect.fill(\"brown\")\n",
    "                            rect.stroke(\"brown\")\n",
    "                            rect.draw(canvas)\n",
    "        else:\n",
    "            rectangle = Rectangle((0,0), (self.pwidth * pixels - 1, self.pheight * pixels - 1))\n",
    "            rectangle.draw(canvas)\n",
    "            rectangle.fill(\"green\")\n",
    "        for animal in self.animals:\n",
    "            animal.draw(canvas, pixels)\n",
    "        rectangle = Rectangle((0,0), (self.pwidth * pixels - 1, self.pheight * pixels - 1))\n",
    "        rectangle.draw(canvas)\n",
    "        rectangle.fill(None)\n",
    "        return canvas\n",
    "        \n",
    "    def get_stats(self):\n",
    "        sheep = 0;\n",
    "        wolves = 0\n",
    "        for animal in self.animals:\n",
    "            if isinstance(animal, Sheep):\n",
    "                sheep += 1\n",
    "            elif isinstance(animal, Wolf):\n",
    "                wolves += 1\n",
    "        grass = 0\n",
    "        if self.use_grass:\n",
    "            for h in range(self.pheight):\n",
    "                for w in range(self.pwidth):\n",
    "                    if self.patches[w][h].level > 0:\n",
    "                        grass += 1\n",
    "        return (sheep, wolves, grass/4)\n",
    "        \n",
    "    def update(self):\n",
    "        for animal in list(self.animals): ## copy of list in case changes\n",
    "            animal.update()\n",
    "        for h in range(self.pheight):\n",
    "            for w in range(self.pwidth):\n",
    "                self.patches[w][h].update()\n",
    "                \n",
    "    def stop(self):\n",
    "        self.state = \"stopped\"\n",
    "                \n",
    "    def run(self, widgets, width=4.0, height=3.0, pixels=10):\n",
    "        self.state = \"running\"\n",
    "        while 0 < len(world.animals) and self.state == \"running\":\n",
    "            self.ticks += 1\n",
    "            self.update()\n",
    "            stats = self.get_stats()\n",
    "            self.history.append(stats)\n",
    "            widgets[\"plot\"].value = self.plot(width, height)\n",
    "            widgets[\"canvas\"].value = str(world.draw(pixels))\n",
    "            widgets[\"sheep\"].value = str(stats[0])\n",
    "            widgets[\"wolves\"].value = str(stats[1])\n",
    "            widgets[\"grass\"].value = str(stats[2])\n",
    "            widgets[\"ticks\"].value = str(self.ticks)\n",
    "        self.state = \"stopped\"\n",
    "            \n",
    "    def plot(self, width=4.0, height=3.0):\n",
    "        plt.rcParams['figure.figsize'] = (width, height)\n",
    "        fig = plt.figure()\n",
    "        plt.plot([h[0] for h in self.history], \"y\", label=\"Sheep\")\n",
    "        plt.plot([h[1] for h in self.history], \"k\", label=\"Wolves\")\n",
    "        plt.plot([h[2] for h in self.history], \"g\", label=\"Grass\")\n",
    "        plt.legend()\n",
    "        plt.xlabel('time')\n",
    "        plt.ylabel('count')\n",
    "        bytes = io.BytesIO()\n",
    "        plt.savefig(bytes, format='svg')\n",
    "        svg = bytes.getvalue()\n",
    "        plt.close(fig)\n",
    "        return svg.decode()\n",
    "            \n",
    "    def __repr__(self):\n",
    "        matrix = [[\" \" for w in range(self.pheight)] for h in range(self.pwidth)]\n",
    "        for h in range(self.pheight):\n",
    "            for w in range(self.pwidth):\n",
    "                matrix[w][h] = repr(self.patches[w][h])\n",
    "        for animal in self.animals:\n",
    "            matrix[int(animal.x)][int(animal.y)] = animal.SYMBOL\n",
    "        string = \"\"\n",
    "        for h in range(self.pheight):\n",
    "            for w in range(self.pwidth):\n",
    "                string += matrix[w][h]\n",
    "            string += \"\\n\"\n",
    "        return string\n",
    "        "
   ]
  },
  {
   "cell_type": "markdown",
   "metadata": {},
   "source": [
    "The Patch class represents a single cell on the 50 x 50 matrix for keeping track of grass:"
   ]
  },
  {
   "cell_type": "code",
   "execution_count": 20,
   "metadata": {},
   "outputs": [],
   "source": [
    "class Patch:\n",
    "    def __init__(self, world, level):\n",
    "        self.world = world\n",
    "        self.level = level\n",
    "        if level == -1:\n",
    "            self.time = random.randint(0, self.world.grass_regrowth_time)\n",
    "        else:\n",
    "            self.time = 0            \n",
    "        \n",
    "    def update(self):\n",
    "        if self.level == math.inf:\n",
    "            pass\n",
    "        elif self.level == 0:\n",
    "            self.time = 0\n",
    "            self.level = -1\n",
    "        elif self.time == self.world.grass_regrowth_time:\n",
    "            self.level = 1\n",
    "        else:\n",
    "            self.time += 1\n",
    "            \n",
    "    def __repr__(self):\n",
    "        if self.level > 0:\n",
    "            return \".\"\n",
    "        return \" \""
   ]
  },
  {
   "cell_type": "markdown",
   "metadata": {},
   "source": [
    "The \"base class\" for our Sheep and Wolf classes:"
   ]
  },
  {
   "cell_type": "code",
   "execution_count": 21,
   "metadata": {},
   "outputs": [],
   "source": [
    "class Animal:\n",
    "    GAIN_FROM_FOOD = 1\n",
    "    REPRODUCE = 0 ## percentage\n",
    "    SYMBOL = \"a\"\n",
    "    \n",
    "    def __init__(self, world):\n",
    "        self.world = world\n",
    "        self.x = random.random() * self.world.pwidth\n",
    "        self.y = random.random() * self.world.pheight\n",
    "        self.direction = random.random() * 360\n",
    "        \n",
    "    def turnLeft(self, degrees):\n",
    "        self.direction -= degrees\n",
    "        self.direction = self.direction % 360\n",
    "    \n",
    "    def turnRight(self, degrees):\n",
    "        self.direction += degrees\n",
    "        self.direction = self.direction % 360\n",
    "\n",
    "    def forward(self, distance):\n",
    "        radians = self.direction * (math.pi/180.0)\n",
    "        x = math.cos(radians) * distance\n",
    "        y = math.sin(radians) * distance\n",
    "        self.x = (self.x + x) % self.world.pwidth\n",
    "        self.y = (self.y + y) % self.world.pheight\n",
    "    \n",
    "    def update(self):\n",
    "        self.move()\n",
    "        self.eat()\n",
    "        if self.energy > 0:\n",
    "            if random.random() < self.REPRODUCE:\n",
    "                self.hatch()\n",
    "        else: # die\n",
    "            self.world.animals.remove(self)\n",
    "    \n",
    "    def move(self):\n",
    "        self.turnRight(random.random() * 50)\n",
    "        self.turnLeft(random.random() * 50)\n",
    "        self.forward(1)\n",
    "        if isinstance(self, Wolf) or (isinstance(self, Sheep) and self.world.use_grass):\n",
    "            self.energy -= 1.0\n",
    "        \n",
    "    def hatch(self):\n",
    "        child = self.__class__(self.world) ## hatch an offspring \n",
    "        child.x = self.x\n",
    "        child.y = self.y\n",
    "        self.energy /= 2                   ## divide energy between parent and offspring\n",
    "        child.energy = self.energy\n",
    "        child.forward(1)                   ## move offspring forward 1 step\n",
    "        self.world.animals.append(child)   ## add offspring to list of animals\n",
    "\n",
    "    def eats(self, other):\n",
    "        return False\n",
    "    \n",
    "    def eat(self):\n",
    "        pass\n",
    "        \n",
    "    def distance(self, a, b):\n",
    "        # minimal distance on torus\n",
    "        dx = abs(a.x - b.x)\n",
    "        dy = abs(a.y - b.y)\n",
    "        return math.sqrt(min(dx, self.world.pwidth - dx) ** 2 + \n",
    "                         min(dy, self.world.pheight - dy) ** 2)\n",
    "            \n",
    "    def __repr__(self):\n",
    "        return self.SYMBOL\n",
    "        "
   ]
  },
  {
   "cell_type": "markdown",
   "metadata": {},
   "source": [
    "And now our extended classes:"
   ]
  },
  {
   "cell_type": "code",
   "execution_count": 22,
   "metadata": {},
   "outputs": [],
   "source": [
    "class Wolf(Animal):\n",
    "    GAIN_FROM_FOOD = 20 # 0 to 50\n",
    "    REPRODUCE = 0.05 ## percentage\n",
    "    SYMBOL = \"w\"\n",
    "    \n",
    "    def eats(self, other):\n",
    "        return isinstance(other, (Sheep))\n",
    "\n",
    "    def eat(self):\n",
    "        if self.energy >= 0: # if I am alive:\n",
    "            for animal in list(self.world.animals):\n",
    "                if (self.eats(animal) and \n",
    "                    self.distance(self, animal) < 1.0 and\n",
    "                    animal.energy >= 0):\n",
    "                    self.energy += self.GAIN_FROM_FOOD\n",
    "                    animal.energy = -1 ## mark dead\n",
    "                    break # don't eat any more!\n",
    "    \n",
    "    \n",
    "    def __init__(self, world):\n",
    "        super().__init__(world)\n",
    "        self.energy = random.randint(5, 40)\n",
    "\n",
    "    def draw(self, canvas, pixels):\n",
    "        wolf = Ellipse((self.x * pixels, self.y * pixels), (pixels/2, pixels/3))\n",
    "        wolf.fill(\"black\")\n",
    "        wolf.stroke(\"black\")\n",
    "        wolf.draw(canvas)"
   ]
  },
  {
   "cell_type": "code",
   "execution_count": 23,
   "metadata": {},
   "outputs": [],
   "source": [
    "class Sheep(Animal):\n",
    "    GAIN_FROM_FOOD = 4 # 0 to 50\n",
    "    REPRODUCE = 0.04 ## percentage\n",
    "    SYMBOL = \"s\"\n",
    "    \n",
    "    def __init__(self, world):\n",
    "        super().__init__(world)\n",
    "        self.energy = random.randint(1, 7)\n",
    "\n",
    "    def eat(self):\n",
    "        patch = self.world.patches[int(self.x)][int(self.y)]\n",
    "        if patch.level >= 0 and patch.level < math.inf:\n",
    "            self.energy += self.GAIN_FROM_FOOD\n",
    "            patch.level -= 1\n",
    "\n",
    "    def draw(self, canvas, pixels):\n",
    "        sheep = Ellipse((self.x * pixels, self.y * pixels), (pixels/2, pixels/2))\n",
    "        sheep.fill(\"white\")\n",
    "        sheep.stroke(\"white\")\n",
    "        sheep.draw(canvas)"
   ]
  },
  {
   "cell_type": "markdown",
   "metadata": {},
   "source": [
    "# 3. Experiments"
   ]
  },
  {
   "cell_type": "markdown",
   "metadata": {},
   "source": [
    "In this section we describe a method for running experiments, and then we will do some analysis and reflection."
   ]
  },
  {
   "cell_type": "markdown",
   "metadata": {},
   "source": [
    "## 3.1 Widgets"
   ]
  },
  {
   "cell_type": "markdown",
   "metadata": {},
   "source": [
    "To run our experiments, we will use IPython widgets for setting parameters. Generally, you will:\n",
    "\n",
    "1. Create a global variable `world`\n",
    "2. Create the widgets\n",
    "3. Change their values as appropriate\n",
    "4. Click on \"setup\"\n",
    "5. Click on \"go\"\n",
    "   * Perhaps clicking on \"pause\" occasionally\n",
    "   * Examine status\n",
    "   * Display plot or world\n",
    "   * Make notes\n",
    "   * Continue by clicking \"go\" again\n",
    "   \n",
    "Make sure that your program is stopped when you stop."
   ]
  },
  {
   "cell_type": "markdown",
   "metadata": {},
   "source": [
    "First, we make a world. We keep the size small to make it run faster. Remember that the code is running on the server, but the displays (plot and world) must be computed and sent to your browser."
   ]
  },
  {
   "cell_type": "code",
   "execution_count": 24,
   "metadata": {},
   "outputs": [],
   "source": [
    "world = World(25, 25, grass=True, sheep=50, wolves=25)"
   ]
  },
  {
   "cell_type": "markdown",
   "metadata": {},
   "source": [
    "To make our Graphical User Interface (or GUI, pronounced \"gooey\") we will import the IPython widget module:"
   ]
  },
  {
   "cell_type": "code",
   "execution_count": 25,
   "metadata": {},
   "outputs": [],
   "source": [
    "from ipywidgets import *"
   ]
  },
  {
   "cell_type": "code",
   "execution_count": 41,
   "metadata": {},
   "outputs": [
    {
     "data": {
      "application/vnd.jupyter.widget-view+json": {
       "model_id": "12916560715d4fd5bc0f9f03e0907bd8",
       "version_major": 2,
       "version_minor": 0
      },
      "text/plain": [
       "HTML(value='<style>\\n    .widget-label { min-width: 20ex !important; }\\n</style>')"
      ]
     },
     "metadata": {},
     "output_type": "display_data"
    }
   ],
   "source": [
    "display(HTML('''<style>\n",
    "    .widget-label { min-width: 20ex !important; }\n",
    "</style>'''))"
   ]
  },
  {
   "cell_type": "markdown",
   "metadata": {},
   "source": [
    "We will use the following widgets: Text, HTML, Button, Checkbox, IntSlider, and FloatSlider. In addition, we will use HBox (horizontal box) and VBox (vertical box) for layout design.\n",
    "\n",
    "Widgets are useful because they allow the controls in the browser to send commands to Python code, and vice versa.\n",
    "\n",
    "Let's take a quick look at an example. First, we make a variable (called variable) and set it to an IntSlider (a slider control that sets integers). We can create it in the GUI:"
   ]
  },
  {
   "cell_type": "code",
   "execution_count": 42,
   "metadata": {},
   "outputs": [
    {
     "data": {
      "application/vnd.jupyter.widget-view+json": {
       "model_id": "86d0a13b831548f89d650b239d1f5b77",
       "version_major": 2,
       "version_minor": 0
      },
      "text/plain": [
       "IntSlider(value=0, description='Setting Name:')"
      ]
     },
     "metadata": {},
     "output_type": "display_data"
    }
   ],
   "source": [
    "variable = IntSlider(description=\"Setting Name:\")\n",
    "variable"
   ]
  },
  {
   "cell_type": "markdown",
   "metadata": {},
   "source": [
    "And see its value, initially 0:"
   ]
  },
  {
   "cell_type": "code",
   "execution_count": 43,
   "metadata": {},
   "outputs": [
    {
     "data": {
      "text/plain": [
       "0"
      ]
     },
     "execution_count": 43,
     "metadata": {},
     "output_type": "execute_result"
    }
   ],
   "source": [
    "variable.value"
   ]
  },
  {
   "cell_type": "markdown",
   "metadata": {},
   "source": [
    "If we change it in code, it changes in the GUI:"
   ]
  },
  {
   "cell_type": "code",
   "execution_count": 44,
   "metadata": {},
   "outputs": [],
   "source": [
    "variable.value = 10"
   ]
  },
  {
   "cell_type": "markdown",
   "metadata": {},
   "source": [
    "And if we change it in the GUI (slide slider to 31) then we see it in code:"
   ]
  },
  {
   "cell_type": "code",
   "execution_count": 45,
   "metadata": {},
   "outputs": [
    {
     "data": {
      "text/plain": [
       "10"
      ]
     },
     "execution_count": 45,
     "metadata": {},
     "output_type": "execute_result"
    }
   ],
   "source": [
    "variable.value"
   ]
  },
  {
   "cell_type": "markdown",
   "metadata": {},
   "source": [
    "In the following code, note that:\n",
    "\n",
    "* \"px\" stands for pixels in HTML (HyperText Markup Language)\n",
    "* Our code will run in a \"thread\" which means it runs in the background. That makes it so that we can click a button while the program is running"
   ]
  },
  {
   "cell_type": "code",
   "execution_count": 46,
   "metadata": {
    "scrolled": false
   },
   "outputs": [
    {
     "data": {
      "application/vnd.jupyter.widget-view+json": {
       "model_id": "44d28821464f4ecc925a226b1c7567d5",
       "version_major": 2,
       "version_minor": 0
      },
      "text/plain": [
       "HBox(children=(VBox(children=(HBox(children=(Button(description='setup', style=ButtonStyle()), Button(descript…"
      ]
     },
     "metadata": {},
     "output_type": "display_data"
    }
   ],
   "source": [
    "# widgets:\n",
    "ticks = Text(description=\"Ticks:\")\n",
    "sheep = Text(description=\"sheep:\", margin=5, width=\"60px\")\n",
    "wolves = Text(description=\"wolves:\", margin=5, width=\"60px\")\n",
    "grass = Text(description=\"grass/4:\", margin=5, width=\"60px\")\n",
    "canvas = HTML(margin=10)\n",
    "plot = HTML()\n",
    "setup_button = Button(description=\"setup\", width=\"47%\", margin=5)\n",
    "go_button = Button(description=\"go\", width=\"47%\", margin=5)\n",
    "grass_checkbox = Checkbox(description=\"grass?\", margin=5)\n",
    "grass_regrowth_time = IntSlider(description=\"grass_regrowth_time:\",\n",
    "                               min=0, max=100, margin=5, width=\"300px\")\n",
    "sheep_slider = IntSlider(description=\"initial_number_sheep:\", min=0, max=250, margin=5, width=\"100px\")\n",
    "wolves_slider = IntSlider(description=\"initial_number_wolves:\", min=0, max=250, margin=5, width=\"100px\")\n",
    "sheep_gain_from_food_slider = IntSlider(description=\"sheep_gain_from_food:\", min=0, max=50, margin=5, width=\"100px\")\n",
    "wolf_gain_from_food_slider = IntSlider(description=\"wolf_gain_from_food:\", min=0, max=100, margin=5, width=\"100px\")\n",
    "sheep_reproduce_slider = FloatSlider(description=\"sheep_reproduce:\", min=0, max=20, margin=5, width=\"100px\")\n",
    "wolf_reproduce_slider = FloatSlider(description=\"wolf_reproduce:\", min=0, max=20, margin=5, width=\"100px\")\n",
    "\n",
    "# layout:\n",
    "row1 = HBox([setup_button, go_button], background_color=\"lightblue\", width=\"100%\")\n",
    "row2 = HBox([grass_checkbox, grass_regrowth_time], background_color=\"lightgreen\", width=\"100%\")\n",
    "row3 = HBox([sheep_slider, wolves_slider], background_color=\"lightgreen\", width=\"100%\")\n",
    "row4 = HBox([sheep_gain_from_food_slider, wolf_gain_from_food_slider, ], background_color=\"lightgreen\", width=\"100%\")\n",
    "row5 = HBox([sheep_reproduce_slider, wolf_reproduce_slider], background_color=\"lightgreen\", width=\"100%\")\n",
    "row61 = HBox([sheep], background_color=\"Khaki\", width=\"100%\")\n",
    "row62 = HBox([wolves], background_color=\"Khaki\", width=\"100%\")\n",
    "row63 = HBox([grass], background_color=\"Khaki\", width=\"100%\")\n",
    "row7 = HBox([plot], width=\"100%\")\n",
    "widgets = HBox([VBox([row1, row2, row3, row4, row5, \n",
    "                      row61, row62, row63, row7], width=\"60%\"), \n",
    "                VBox([ticks, canvas], background_color=\"Khaki\")], width=\"100%\")\n",
    "\n",
    "# update:\n",
    "ticks.value = str(world.ticks)\n",
    "canvas.value = str(world.draw(15))\n",
    "plot.value = world.plot(6.0, 3.0)\n",
    "grass_checkbox.value = world.use_grass\n",
    "grass_regrowth_time.value = world.grass_regrowth_time\n",
    "sheep_slider.value = world.initial_number_sheep\n",
    "wolves_slider.value = world.initial_number_wolves\n",
    "sheep_gain_from_food_slider.value = Sheep.GAIN_FROM_FOOD\n",
    "wolf_gain_from_food_slider.value = Wolf.GAIN_FROM_FOOD\n",
    "sheep_reproduce_slider.value = Sheep.REPRODUCE\n",
    "wolf_reproduce_slider.value = Wolf.REPRODUCE\n",
    "stats = world.get_stats()\n",
    "sheep.value = str(stats[0])\n",
    "wolves.value = str(stats[1])\n",
    "grass.value = str(stats[2])\n",
    "ticks.value = str(world.ticks)\n",
    "\n",
    "def update(args):\n",
    "    if args[\"name\"] != \"value\":\n",
    "        return\n",
    "    owner = args[\"owner\"]\n",
    "    name = args[\"name\"]\n",
    "    value = args[\"new\"]\n",
    "    if owner == grass_checkbox:\n",
    "        world.use_grass = value\n",
    "    elif owner == grass_regrowth_time:\n",
    "        world.grass_regrowth_time = value\n",
    "    elif owner == sheep_slider:\n",
    "        world.initial_number_sheep = value\n",
    "    elif owner == wolves_slider:\n",
    "        world.initial_number_wolves = value\n",
    "    elif owner == sheep_gain_from_food_slider:\n",
    "        Sheep.GAIN_FROM_FOOD = value\n",
    "    elif owner == wolf_gain_from_food_slider:\n",
    "        Wolf.GAIN_FROM_FOOD = value\n",
    "    elif owner == sheep_reproduce_slider:\n",
    "        Sheep.REPRODUCE = value\n",
    "    elif owner == wolf_reproduce_slider:\n",
    "        Wolf.REPRODUCE = value\n",
    "\n",
    "def setup(widgets):\n",
    "    world.setup()\n",
    "    canvas.value = str(world.draw(15))\n",
    "    plot.value = world.plot(6.0, 3.0)\n",
    "    stats = world.get_stats()\n",
    "    sheep.value = str(stats[0])\n",
    "    wolves.value = str(stats[1])\n",
    "    grass.value = str(stats[2])\n",
    "    ticks.value = str(world.ticks)\n",
    "\n",
    "def run(widgets):\n",
    "    global thread\n",
    "    if world.state == \"stopped\":\n",
    "        go_button.description = \"pause\"\n",
    "        w = {\"canvas\": canvas, \"plot\": plot, \"ticks\": ticks, \n",
    "             \"sheep\": sheep, \"wolves\": wolves, \"grass\": grass}\n",
    "        thread = threading.Thread(target=lambda: world.run(w, 6.0, 3.0, 15))\n",
    "        thread.start()\n",
    "    else:\n",
    "        go_button.description = \"go\"\n",
    "        world.state = \"stopped\"\n",
    "        thread.join()\n",
    "        clear_output()\n",
    "    \n",
    "grass_checkbox.observe(update)\n",
    "# FIX:\n",
    "grass_regrowth_time.observe(update)\n",
    "sheep_slider.observe(update)\n",
    "wolves_slider.observe(update)\n",
    "sheep_gain_from_food_slider.observe(update)\n",
    "wolf_gain_from_food_slider.observe(update)\n",
    "sheep_reproduce_slider.observe(update)\n",
    "wolf_reproduce_slider.observe(update)\n",
    "# END OF FIX\n",
    "\n",
    "setup_button.on_click(setup)\n",
    "go_button.on_click(run)\n",
    "\n",
    "widgets"
   ]
  },
  {
   "cell_type": "markdown",
   "metadata": {},
   "source": [
    "The above will look something like this when executed:\n",
    "\n",
    "<img src=\"widgets.png\"/>"
   ]
  },
  {
   "cell_type": "markdown",
   "metadata": {},
   "source": [
    "## 3.2 Things to Notice"
   ]
  },
  {
   "cell_type": "markdown",
   "metadata": {},
   "source": [
    "When grass is not included, watch as the sheep and wolf populations fluctuate. Notice that increases and decreases in the sizes of each population are related. In what way are they related? What eventually happens?\n",
    "\n",
    "Once grass is added, notice the green line added to the population plot representing fluctuations in the amount of grass. How do the sizes of the three populations appear to relate now? What is the explanation for this?\n",
    "\n",
    "Why do you suppose that some variations of the model might be stable while others are not?"
   ]
  },
  {
   "cell_type": "markdown",
   "metadata": {},
   "source": [
    "## 3.3 Things to Try"
   ]
  },
  {
   "cell_type": "markdown",
   "metadata": {},
   "source": [
    "Try adjusting the parameters under various settings. How sensitive is the stability of the model to the particular parameters?\n",
    "\n",
    "Can you find any parameters that generate a stable ecosystem that includes only wolves and sheep?\n",
    "\n",
    "Try setting World.grass to True, but setting World.wolves to 0. This gives a stable ecosystem with only sheep and grass. Why might this be stable while the variation with only sheep and wolves is not?\n",
    "\n",
    "Notice that under stable settings, the populations tend to fluctuate at a predictable pace. Can you find any parameters that will speed this up or slow it down?\n",
    "\n",
    "Try changing the reproduction rules -- for example, what would happen if reproduction depended on energy rather than being determined by a fixed probability?"
   ]
  },
  {
   "cell_type": "markdown",
   "metadata": {},
   "source": [
    "## 3.4 Analysis"
   ]
  },
  {
   "cell_type": "markdown",
   "metadata": {},
   "source": [
    "At any point, you may want to pause and take some snapshots and make some notes:"
   ]
  },
  {
   "cell_type": "code",
   "execution_count": null,
   "metadata": {},
   "outputs": [],
   "source": [
    "display(html(world.plot(12.0, 6.0)))"
   ]
  },
  {
   "cell_type": "code",
   "execution_count": null,
   "metadata": {},
   "outputs": [],
   "source": [
    "display(html(str(world.draw(20))))"
   ]
  },
  {
   "cell_type": "markdown",
   "metadata": {},
   "source": [
    "*[In the cell below, enter your reflections on analysis]*\n",
    "\n",
    "In your reflections:\n",
    "\n",
    "* Note items from the \"things to notice\" section\n",
    "* Comment on analysis, variations\n",
    "* Are there things that this model can capture that the mathematical model does not? Explain."
   ]
  },
  {
   "cell_type": "markdown",
   "metadata": {
    "deletable": false,
    "nbgrader": {
     "checksum": "b53937bee1b28535c4f950042ba3d50c",
     "grade": true,
     "grade_id": "analysis",
     "locked": false,
     "points": 100,
     "solution": true
    }
   },
   "source": [
    "YOUR ANSWER HERE"
   ]
  },
  {
   "cell_type": "markdown",
   "metadata": {},
   "source": [
    "## 3.5 Bonus Projects"
   ]
  },
  {
   "cell_type": "markdown",
   "metadata": {},
   "source": [
    "### 3.5.1 Extend the Model"
   ]
  },
  {
   "cell_type": "markdown",
   "metadata": {},
   "source": [
    "There are a number ways to alter the model so that it will be stable with only wolves and sheep (no grass). Some will require new elements to be coded in or existing behaviors to be changed. Can you develop such a version?\n",
    "\n",
    "Can you modify the model so the sheep will flock?\n",
    "\n",
    "Can you modify the model so that wolf actively chase sheep?\n",
    "\n",
    "You can add cells here."
   ]
  },
  {
   "cell_type": "markdown",
   "metadata": {},
   "source": [
    "### 3.5.2 Further Reading"
   ]
  },
  {
   "cell_type": "markdown",
   "metadata": {},
   "source": [
    "Read the paper below titled \"Thinking like a Wolf, a Sheep or a Firefly: Learning Biology through Constructing and Testing Computational Theories\" and provide insightful commentary. You can add cells here."
   ]
  },
  {
   "cell_type": "markdown",
   "metadata": {},
   "source": [
    "# 4. Reflections"
   ]
  },
  {
   "cell_type": "markdown",
   "metadata": {},
   "source": [
    "*[Enter your reflections in the following cell.]*"
   ]
  },
  {
   "cell_type": "markdown",
   "metadata": {
    "deletable": false,
    "nbgrader": {
     "checksum": "fd25da50d920439579ae721eee54c9f7",
     "grade": true,
     "grade_id": "reflections",
     "locked": false,
     "points": 50,
     "solution": true
    }
   },
   "source": [
    "YOUR ANSWER HERE"
   ]
  },
  {
   "cell_type": "markdown",
   "metadata": {},
   "source": [
    "# 5. References"
   ]
  },
  {
   "cell_type": "markdown",
   "metadata": {},
   "source": [
    "1. Wilensky, U. & Reisman, K. (1999). Connected Science: Learning Biology through Constructing and Testing Computational Theories -- an Embodied Modeling Approach. International Journal of Complex Systems, M. 234, pp. 1 - 12. (This model is a slightly extended version of the model described in the paper.)\n",
    "2. Wilensky, U. & Reisman, K. (2006). Thinking like a Wolf, a Sheep or a Firefly: Learning Biology through Constructing and Testing Computational Theories -- an Embodied Modeling Approach. Cognition & Instruction, 24(2), pp. 171-209. http://ccl.northwestern.edu/papers/wolfsheep.pdf"
   ]
  },
  {
   "cell_type": "markdown",
   "metadata": {},
   "source": [
    "## 5.1 COPYRIGHT AND LICENSE"
   ]
  },
  {
   "cell_type": "markdown",
   "metadata": {},
   "source": [
    "* Copyright 1997 Uri Wilensky.\n",
    "* Copyright 2016 Douglas Blank.\n",
    "\n",
    "![CC BY-NC-SA 3.0](http://ccl.northwestern.edu/images/creativecommons/byncsa.png)\n",
    "\n",
    "This work is licensed under the Creative Commons Attribution-NonCommercial-ShareAlike 3.0 License.  To view a copy of this license, visit https://creativecommons.org/licenses/by-nc-sa/3.0/ or send a letter to Creative Commons, 559 Nathan Abbott Way, Stanford, California 94305, USA."
   ]
  }
 ],
 "metadata": {
  "kernelspec": {
   "display_name": "Python 3",
   "language": "python",
   "name": "python3"
  },
  "language_info": {
   "codemirror_mode": {
    "name": "ipython",
    "version": 3
   },
   "file_extension": ".py",
   "mimetype": "text/x-python",
   "name": "python",
   "nbconvert_exporter": "python",
   "pygments_lexer": "ipython3",
   "version": "3.7.2"
  },
  "toc": {
   "base_numbering": 1,
   "nav_menu": {},
   "number_sections": true,
   "sideBar": true,
   "skip_h1_title": false,
   "title_cell": "Table of Contents",
   "title_sidebar": "Contents",
   "toc_cell": false,
   "toc_position": {},
   "toc_section_display": true,
   "toc_window_display": false
  }
 },
 "nbformat": 4,
 "nbformat_minor": 1
}
