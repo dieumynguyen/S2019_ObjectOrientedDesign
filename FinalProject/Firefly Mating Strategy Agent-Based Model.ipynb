{
 "cells": [
  {
   "cell_type": "markdown",
   "metadata": {},
   "source": [
    "## Spring 2019 Semester Project \n",
    "<b>Object-Oriented Analysis & Design </b> <br>\n",
    "<b>Individual:</b> Dieu My Nguyen <br>\n",
    "<b>Project title:</b> Agent-based model of firefly mating strategy\n",
    "\n",
    "<img src=\"HW6 - Final Report/fireflies_banner.jpg\" alt=\"ff\" width=\"100%\"/>\n",
    "<center>Fireflies backyard. Credit: David Wolf.</center>\n",
    "\n",
    "### Background & theoretical basis:\n",
    "\n",
    "In the dark, during the process of firefly courtship and reproduction, males use flash signals as part of their courting ritual. A stationary female will need to perform some sort of tracking of different male flashes and select a mate, then respond to the chosen male's flash to signal her location. The environment contains dense number of male fireflies who are mating competitors. Further, to converse energy, males likely do not send continuously signals and instead send a limited number of flashes to convey their location and trajectory [1]. \n",
    "\n",
    "Imagine that you are a female firefly, looking at a dark sky of male fireflies who fly and flash intermittently. If you're able to look at all of their trajectories over time like below, it wouldn't be a terribly difficult task to distinguish individuals.\n",
    "\n",
    "<img src=\"HW6 - Final Report/track_on.png\" alt=\"track_on\" width=\"450\"/>\n",
    "\n",
    "However, in nature, the intermitten flashes are all you've given:\n",
    "\n",
    "<img src=\"HW6 - Final Report/track_off.png\" alt=\"track_off\" width=\"450\"/>\n",
    "\n",
    "Then, how does a female firefly maintain contact with a male she is signaling in this noisy environment? What can male fireflies do to optimize their chances at being recognized and successfully tracked? These questions are the driving force behind my exploration of this problem via computational modeling (and later in my research, experimental observations). The equivalent phenomenon in humans is the cocktail party problem, which describes how people can distinguish and identify one conversation when surrounded by many people. However, in the firefly context, it'd be a party in which an individual is having a conversation with another who constantly moves around the room rather than standing next to each other. This might indicate that something more complex is going on in the firefly world. \n",
    "\n",
    "### Firefly Mating Strategy Object-oriented Model:\n",
    "\n",
    "In this project, I've created the first prototype of this model to look at the second question, as the first question will require more extensive theoretical work. The 2-D flying motion of male fireflies is modeled as a correlated random walk in which they randomly choose a turning angle within a range for their next step of movement [2][3]. I've made the current agent-based model into a full OOAD framework using core OOAD concepts. This particular notebook uses 3 other notebooks (Firefly, World, GUI) that contain all the low-level implementation details and further documentation of this model. Inside this notebook, a user can instantiate objects of classes from those other notebooks and can simply interact with a GUI to select parameters, run the model, and view the data and simulation in real time as the model runs. From this, we can see what emergent patterns come out of tweaking various model parameters. \n",
    "\n",
    "The GUI layout made of ```ipywidgets``` widgets is inspired by the canonical language to create agent-based models, NetLogo [4], and by another Jupyter notebook converting NetLogo to Python [5].\n",
    "\n",
    "A demo of how to instantiate classes to display the GUI is below. We'd see something like this:\n",
    "\n",
    "<img src=\"HW6 - Final Report/model.png\" alt=\"model\" width=\"850\"/>\n",
    "\n",
    "### Necessary Python packages:\n",
    "- ```abc```\n",
    "- ```importlib```\n",
    "- ```io```\n",
    "- ```ipywidgets```\n",
    "- ```ipynb```\n",
    "- ```IPython```\n",
    "- ```matplotlib```\n",
    "- ```numpy```\n",
    "- ```random```\n",
    "- ```scipy```\n",
    "- ```seaborn```\n",
    "- ```sys```\n",
    "\n",
    "### Future modeling steps:\n",
    "The exciting part of this project is that this is a research project I am starting. I will continue to develop it in the OOAD framework as I make progress with the theoretical side of it, particularly thinking about strategies female use in this mating context to track males. Then, the abstract class ```Firefly``` will have another derived class ```FemaleFirefly```. There will be another simple factory to create female firefly objects. And it will be exciting to incorporate her parameters and flashing responses to a male in the simulation GUI plots. "
   ]
  },
  {
   "cell_type": "markdown",
   "metadata": {},
   "source": [
    "### Firefly mating agent-based model demo\n",
    "\n",
    "Now, let's see the model at work! \n",
    "\n",
    "#### Import necessary packages"
   ]
  },
  {
   "cell_type": "code",
   "execution_count": 1,
   "metadata": {},
   "outputs": [
    {
     "data": {
      "application/vnd.jupyter.widget-view+json": {
       "model_id": "64e7be5c5b6249a0904b9d43a79e5350",
       "version_major": 2,
       "version_minor": 0
      },
      "text/plain": [
       "HTML(value='<style>\\n            .widget-label { min-width: 20ex !important; }\\n            </style>')"
      ]
     },
     "metadata": {},
     "output_type": "display_data"
    }
   ],
   "source": [
    "# For widgets and styling\n",
    "from ipywidgets import *\n",
    "from IPython.display import clear_output, display\n",
    "from IPython.display import HTML as html\n",
    "display(HTML('''<style>\n",
    "            .widget-label { min-width: 20ex !important; }\n",
    "            </style>'''))"
   ]
  },
  {
   "cell_type": "code",
   "execution_count": 2,
   "metadata": {},
   "outputs": [],
   "source": [
    "# Packages for importing from other ipynbs that encapsulate classes with low-level design\n",
    "import ipynb\n",
    "import importlib\n",
    "\n",
    "# These notebooks should be in the same directory as this one\n",
    "import ipynb.fs.full.World as World\n",
    "import ipynb.fs.full.GUI as GUI\n",
    "\n",
    "# Each time the low-level code is changed, just run this to reload\n",
    "importlib.reload(World)\n",
    "importlib.reload(GUI);"
   ]
  },
  {
   "cell_type": "markdown",
   "metadata": {},
   "source": [
    "#### Set up and run the simulation GUI"
   ]
  },
  {
   "cell_type": "markdown",
   "metadata": {},
   "source": [
    "Instantiate a ```World``` object from the ```World``` Jupyter notebook."
   ]
  },
  {
   "cell_type": "code",
   "execution_count": 7,
   "metadata": {},
   "outputs": [],
   "source": [
    "firefly_world = World.World()"
   ]
  },
  {
   "cell_type": "markdown",
   "metadata": {},
   "source": [
    "Instantiate a ```WidgetCollection``` object from the ```GUI``` notebook, passing to it the ```firefly_world``` object."
   ]
  },
  {
   "cell_type": "code",
   "execution_count": 8,
   "metadata": {},
   "outputs": [],
   "source": [
    "widgets_collection = GUI.WidgetCollection(firefly_world)"
   ]
  },
  {
   "cell_type": "markdown",
   "metadata": {},
   "source": [
    "Instantiate a ```SimulationGUI``` from the ```GUI``` notebook, passing to it the ```widgets_collection``` and ```firefly_world``` objects."
   ]
  },
  {
   "cell_type": "code",
   "execution_count": 9,
   "metadata": {},
   "outputs": [],
   "source": [
    "simulation = GUI.SimulationGUI(widgets_collection, firefly_world)"
   ]
  },
  {
   "cell_type": "markdown",
   "metadata": {},
   "source": [
    "Call the ```gui``` object (of ```ipywidgets.widgets.widget_box.HBox``` class) from the ```simulation``` object to display the GUI, which the user can select parameters for the model, set up or reset the simulation, run it, while observing the simulation plots over time.\n",
    "\n",
    "Description of model parameters:\n",
    "- ```Show track```: Whether to display trajectories of individual fireflies in the simulation. If not checked, only flashes will show. \n",
    "- ```Numnber of fireflies```: The total number of male fireflies in a given simulation\n",
    "- ```Step size```: The step size of all male fireflies\n",
    "- ```Number of ticks```: The total simulation time, updated and shown above the simulation plot over time\n",
    "- ```Turning angle width```: The width of the random walk turning angle distribution. Lower = straighter trajectories\n",
    "- ```Flashing interval min```: The minimum mumber of steps between flashes \n",
    "- ```Flashing interval max```: The maximum mumber of steps between flashes \n",
    "\n",
    "Note: Each time a parameter(s) is changed or when a simulation finishes running, press ```setup/reset``` to reset the output for the plots. Also, allow sufficiently wide window of the browser that's running this notebook so the GUI sliders don't look wonky. "
   ]
  },
  {
   "cell_type": "code",
   "execution_count": 10,
   "metadata": {},
   "outputs": [
    {
     "data": {
      "application/vnd.jupyter.widget-view+json": {
       "model_id": "82ca744d73d3457fa3946a2b6d98e06f",
       "version_major": 2,
       "version_minor": 0
      },
      "text/plain": [
       "HBox(children=(VBox(children=(HBox(children=(Button(description='setup/reset', style=ButtonStyle(button_color=…"
      ]
     },
     "metadata": {},
     "output_type": "display_data"
    }
   ],
   "source": [
    "simulation.gui()"
   ]
  },
  {
   "cell_type": "markdown",
   "metadata": {},
   "source": [
    "### References\n",
    "\n",
    "[1] L. Buschman (2016). Field Guide to Western North American Fireflies. \n",
    "\n",
    "[2] A. Cheung et al. (2007). Animal navigation: the difficulty of moving in a straight line. Biological Cybernetics.\n",
    "\n",
    "[3] P.M. Kareiva and N. Shigesada (1983). Analyzing Insect Movement as a Correlated Random Walk. International Association for Ecology. \n",
    "\n",
    "[4] U. Wilensky (1999). NetLogo (and NetLogo User Manual), Center for Connected Learning and Computer-Based Modeling, Northwestern University.\n",
    "\n",
    "[5] D. Blank (2016). Lab 9: Ecological Models of 2016 Spring course BioCS115 Computing through Biology at Bryn Mawr College. \n",
    "[Link](https://jupyter.brynmawr.edu/services/public/dblank/BioCS115%20Computing%20through%20Biology/2016-Spring/Notebooks/16_Ecological_Models.ipynb)"
   ]
  }
 ],
 "metadata": {
  "kernelspec": {
   "display_name": "Python 3",
   "language": "python",
   "name": "python3"
  },
  "language_info": {
   "codemirror_mode": {
    "name": "ipython",
    "version": 3
   },
   "file_extension": ".py",
   "mimetype": "text/x-python",
   "name": "python",
   "nbconvert_exporter": "python",
   "pygments_lexer": "ipython3",
   "version": "3.7.2"
  },
  "toc": {
   "base_numbering": 1,
   "nav_menu": {},
   "number_sections": false,
   "sideBar": true,
   "skip_h1_title": false,
   "title_cell": "Table of Contents",
   "title_sidebar": "Contents",
   "toc_cell": false,
   "toc_position": {
    "height": "calc(100% - 180px)",
    "left": "10px",
    "top": "150px",
    "width": "257.986px"
   },
   "toc_section_display": true,
   "toc_window_display": false
  }
 },
 "nbformat": 4,
 "nbformat_minor": 2
}
