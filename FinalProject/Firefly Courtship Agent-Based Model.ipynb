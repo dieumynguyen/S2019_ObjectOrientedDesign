{
 "cells": [
  {
   "cell_type": "markdown",
   "metadata": {},
   "source": [
    "## Imports"
   ]
  },
  {
   "cell_type": "code",
   "execution_count": 2,
   "metadata": {},
   "outputs": [
    {
     "data": {
      "application/vnd.jupyter.widget-view+json": {
       "model_id": "981f79542ef643b1954253bb9c19599e",
       "version_major": 2,
       "version_minor": 0
      },
      "text/plain": [
       "HTML(value='<style>\\n            .widget-label {min-width: 20ex !important;}\\n            .widget-text {width:…"
      ]
     },
     "metadata": {},
     "output_type": "display_data"
    }
   ],
   "source": [
    "# Object-oriented\n",
    "from abc import ABC, abstractmethod, abstractproperty\n",
    "\n",
    "# Math \n",
    "import random\n",
    "import numpy as np\n",
    "from scipy.spatial import distance\n",
    "\n",
    "# System\n",
    "import sys\n",
    "import io\n",
    "\n",
    "# Plotting, widgets\n",
    "import seaborn as sns\n",
    "from ipywidgets import *\n",
    "import matplotlib.patches\n",
    "import matplotlib.pyplot as plt\n",
    "from IPython.display import clear_output, display\n",
    "from IPython.display import HTML as html\n",
    "%matplotlib inline\n",
    "sns.set(style=\"ticks\")\n",
    "plt.rcParams[\"font.family\"] = \"Arial\"\n",
    "display(HTML('''<style>\n",
    "            .widget-label {min-width: 20ex !important;}\n",
    "            .widget-text {width: 30ex;}\n",
    "            </style>'''))\n",
    "\n",
    "# Set random seed\n",
    "RANDOM_SEED = 0"
   ]
  },
  {
   "cell_type": "code",
   "execution_count": 3,
   "metadata": {},
   "outputs": [],
   "source": [
    "%%capture\n",
    "\n",
    "# Importing from other ipynbs that encapsulate classes with low-level design\n",
    "import ipynb\n",
    "import importlib\n",
    "\n",
    "import ipynb.fs.full.Firefly as Firefly\n",
    "import ipynb.fs.full.World as World\n",
    "\n",
    "# Each time the low-level code is changed, just run this to reload\n",
    "importlib.reload(Firefly)\n",
    "importlib.reload(World)"
   ]
  },
  {
   "cell_type": "code",
   "execution_count": 4,
   "metadata": {},
   "outputs": [],
   "source": [
    "firefly_world = World.World()"
   ]
  },
  {
   "cell_type": "markdown",
   "metadata": {},
   "source": [
    "## Widget time"
   ]
  },
  {
   "cell_type": "code",
   "execution_count": 5,
   "metadata": {},
   "outputs": [],
   "source": [
    "class WidgetCollection:\n",
    "    def __init__(self, firefly_world):\n",
    "        self.firefly_world = firefly_world\n",
    "        \n",
    "        # Layout style for many widgets\n",
    "        self.layout = Layout(border='0px solid red', width='350px', height='30px')\n",
    "        \n",
    "        # Generates all widgets\n",
    "        self.generate_collection()\n",
    "        \n",
    "    def generate_textbox(self):\n",
    "        self.ticks = Text(description=\"Ticks:\", layout=Layout(width='200px', height='30px', margin='0px 0px 0px 60px'))\n",
    "        \n",
    "    def generate_buttons(self):\n",
    "        self.setup_button = Button(description=\"setup/reset\")\n",
    "        self.setup_button.style.button_color = 'lightgreen'\n",
    "        \n",
    "        self.go_button = Button(description=\"go\")\n",
    "        self.go_button.style.button_color = 'lightgreen'\n",
    "        \n",
    "    def generate_plots(self):\n",
    "        self.plot_data = HTML()\n",
    "        self.plot_simulation = HTML()\n",
    "\n",
    "    def generate_sliders(self):\n",
    "        self.num_males_slider = IntSlider(description=\"Number of fireflies:\", value=30, min=1, max=100, layout=self.layout)\n",
    "        self.num_males_slider.style.handle_color = 'lightgreen'\n",
    "        \n",
    "        self.step_size_slider = IntSlider(description=\"Step size:\", value=1, min=1, max=5, layout=self.layout)\n",
    "        self.step_size_slider.style.handle_color = 'lightgreen'\n",
    "\n",
    "        self.num_steps_slider = IntSlider(description=\"Number of ticks:\", value=50, min=10, max=300, layout=self.layout)\n",
    "        self.num_steps_slider.style.handle_color = 'lightgreen'\n",
    "        \n",
    "        self.turning_angle_slider = FloatSlider(description=\"Turning angle width:\", value=np.pi/8, min=np.pi/15, max=np.pi/5, layout=self.layout)\n",
    "        self.turning_angle_slider.style.handle_color = 'lightgreen'\n",
    "        \n",
    "        self.flash_min_slider = IntSlider(description=\"Flashing interval min:\", value=5, min=1, max=15, layout=self.layout)\n",
    "        self.flash_min_slider.style.handle_color = 'lightgreen'\n",
    "        \n",
    "        self.flash_max_slider = IntSlider(description=\"Flashing interval max:\", value=30, min=10, max=100, layout=self.layout)\n",
    "        self.flash_max_slider.style.handle_color = 'lightgreen'\n",
    "        \n",
    "    def generate_checkbox(self):\n",
    "        self.trackon_checkbox = Checkbox(description=\"Show track\", layout=Layout(width='500px', margin='0px 0 -35px 0px'))\n",
    "    \n",
    "    def update_widgets(self):\n",
    "        self.ticks.value = str(self.firefly_world.ticks)\n",
    "        self.plot_data.value = str(self.firefly_world.plot_data())\n",
    "        self.plot_simulation.value = str(self.firefly_world.plot_simulation(int(self.ticks.value)))\n",
    "        self.num_males_slider.value = self.firefly_world.num_males\n",
    "        self.step_size_slider.value = self.firefly_world.firefly_collection.step_size\n",
    "        self.num_steps_slider.value = self.firefly_world.num_total_steps\n",
    "        self.turning_angle_slider.value = self.firefly_world.firefly_collection.turning_angle_distribution\n",
    "        self.flash_min_slider.value = self.firefly_world.firefly_collection.flash_interval_min\n",
    "        self.flash_max_slider.value = self.firefly_world.firefly_collection.flash_interval_max\n",
    "        self.trackon_checkbox.value = self.firefly_world.track_on\n",
    "        \n",
    "    def generate_collection(self):\n",
    "        \n",
    "        ''' All the above widgets into one with arrangement in boxes. '''\n",
    "        \n",
    "        self.generate_textbox()\n",
    "        self.generate_buttons()\n",
    "        self.generate_plots()\n",
    "        self.generate_sliders()\n",
    "        self.generate_checkbox()\n",
    "        \n",
    "        row1 = HBox([self.setup_button, self.go_button, self.trackon_checkbox])\n",
    "        row2 = HBox([self.num_males_slider, self.step_size_slider])\n",
    "        row3 = HBox([self.num_steps_slider, self.turning_angle_slider])\n",
    "        row4 = HBox([self.flash_min_slider, self.flash_max_slider])\n",
    "        row5 = HBox([self.plot_data], layout=Layout(height=\"350px\", width=\"500px\"))\n",
    "        self.widgets = HBox([VBox([row1, row2, row3, row4, row5], layout=Layout(width=\"600px\")), \n",
    "                        VBox([self.ticks, self.plot_simulation], layout=Layout(width=\"500px\"))])\n",
    "       \n",
    "        self.update_widgets()\n",
    "        \n",
    "    def __call__(self):\n",
    "        return self.widgets"
   ]
  },
  {
   "cell_type": "code",
   "execution_count": 6,
   "metadata": {},
   "outputs": [],
   "source": [
    "widgets_collection = WidgetCollection(firefly_world)\n",
    "# widgets = widgets_collection()"
   ]
  },
  {
   "cell_type": "code",
   "execution_count": 7,
   "metadata": {},
   "outputs": [],
   "source": [
    "class SimulationGUI:\n",
    "    \n",
    "    def __init__(self, widgets_collection, firefly_world):\n",
    "        self.widgets_collection = widgets_collection\n",
    "        self.firefly_world = firefly_world\n",
    "        \n",
    "        self.gui = self.run_simulation()\n",
    "    \n",
    "    def update(self, args):\n",
    "        if args[\"name\"] != \"value\":\n",
    "            return\n",
    "        owner = args[\"owner\"]\n",
    "        name = args[\"name\"]\n",
    "        value = args[\"new\"]\n",
    "\n",
    "        if owner == self.widgets_collection.num_males_slider:\n",
    "            self.firefly_world.num_males = value\n",
    "        elif owner == self.widgets_collection.step_size_slider:\n",
    "            self.firefly_world.step_size = value\n",
    "        elif owner == self.widgets_collection.num_steps_slider:\n",
    "            self.firefly_world.num_total_steps = value\n",
    "        elif owner == self.widgets_collection.turning_angle_slider:\n",
    "            self.firefly_world.turning_angle_distribution = value\n",
    "        elif owner == self.widgets_collection.flash_min_slider:\n",
    "            self.firefly_world.flash_interval_min = value\n",
    "        elif owner == self.widgets_collection.flash_max_slider:\n",
    "            self.firefly_world.flash_interval_max = value\n",
    "        elif owner == self.widgets_collection.trackon_checkbox:\n",
    "            self.firefly_world.track_on = value\n",
    "        \n",
    "    def setup(self, widgets):\n",
    "        self.firefly_world.setup()\n",
    "        self.widgets_collection.plot_data.value = self.firefly_world.plot_data()\n",
    "        self.widgets_collection.plot_simulation.value = self.firefly_world.plot_simulation(int(self.widgets_collection.ticks.value))\n",
    "        self.widgets_collection.ticks.value = str(self.firefly_world.ticks)\n",
    "        \n",
    "    def run(self, widgets):\n",
    "        if self.firefly_world.state == \"stopped\":\n",
    "            w = {\"plot_data\": self.widgets_collection.plot_data, \n",
    "                 \"ticks\": self.widgets_collection.ticks, \n",
    "                 \"plot_simulation\": self.widgets_collection.plot_simulation} \n",
    "            self.firefly_world.run(w)\n",
    "            \n",
    "    def run_simulation(self):\n",
    "        self.widgets_collection.num_males_slider.observe(self.update)         \n",
    "        self.widgets_collection.step_size_slider.observe(self.update)\n",
    "        self.widgets_collection.num_steps_slider.observe(self.update)\n",
    "        self.widgets_collection.turning_angle_slider.observe(self.update)\n",
    "        self.widgets_collection.flash_min_slider.observe(self.update)\n",
    "        self.widgets_collection.flash_max_slider.observe(self.update)\n",
    "        self.widgets_collection.trackon_checkbox.observe(self.update)\n",
    "\n",
    "        self.widgets_collection.setup_button.on_click(self.setup)\n",
    "        self.widgets_collection.go_button.on_click(self.run)\n",
    "    \n",
    "        return self.widgets_collection\n"
   ]
  },
  {
   "cell_type": "code",
   "execution_count": 8,
   "metadata": {
    "scrolled": false
   },
   "outputs": [
    {
     "data": {
      "application/vnd.jupyter.widget-view+json": {
       "model_id": "06b224c38b9e409a998492d6f9964cb5",
       "version_major": 2,
       "version_minor": 0
      },
      "text/plain": [
       "HBox(children=(VBox(children=(HBox(children=(Button(description='setup/reset', style=ButtonStyle(button_color=…"
      ]
     },
     "metadata": {},
     "output_type": "display_data"
    }
   ],
   "source": [
    "GUI = SimulationGUI(widgets_collection, firefly_world)\n",
    "GUI.gui()"
   ]
  },
  {
   "cell_type": "markdown",
   "metadata": {
    "heading_collapsed": true
   },
   "source": [
    "## functionalized"
   ]
  },
  {
   "cell_type": "code",
   "execution_count": null,
   "metadata": {
    "code_folding": [
     0
    ],
    "hidden": true,
    "scrolled": false
   },
   "outputs": [],
   "source": [
    "def update(args):\n",
    "    if args[\"name\"] != \"value\":\n",
    "        return\n",
    "    owner = args[\"owner\"]\n",
    "    name = args[\"name\"]\n",
    "    value = args[\"new\"]\n",
    "    \n",
    "    if owner == widgets_collection.num_males_slider:\n",
    "        firefly_world.num_males = value\n",
    "    elif owner == widgets_collection.step_size_slider:\n",
    "        firefly_world.step_size = value\n",
    "    elif owner == widgets_collection.num_steps_slider:\n",
    "        firefly_world.num_total_steps = value\n",
    "    elif owner == widgets_collectionturning_angle_slider:\n",
    "        firefly_world.turning_angle_distribution = value\n",
    "    elif owner == widgets_collection.flash_min_slider:\n",
    "        firefly_world.flash_interval_min = value\n",
    "    elif owner == widgets_collection.flash_max_slider:\n",
    "        firefly_world.flash_interval_max = value\n",
    "    elif owner == widgets_collection.trackon_checkbox:\n",
    "        firefly_world.track_on = value\n",
    "        \n",
    "def setup(widgets):\n",
    "    firefly_world.setup()\n",
    "    widgets_collection.plot_data.value = firefly_world.plot_data()\n",
    "    widgets_collection.plot_simulation.value = firefly_world.plot_simulation(int(widgets_collection.ticks.value))\n",
    "    widgets_collection.ticks.value = str(firefly_world.ticks)\n",
    "        \n",
    "def run(widgets):\n",
    "    if firefly_world.state == \"stopped\":\n",
    "        w = {\"plot_data\": widgets_collection.plot_data, \n",
    "             \"ticks\": widgets_collection.ticks, \n",
    "             \"plot_simulation\": widgets_collection.plot_simulation} \n",
    "        firefly_world.run(w)  \n",
    "\n",
    "def run_simulation():\n",
    "    widgets_collection.num_males_slider.observe(update)         \n",
    "    widgets_collection.step_size_slider.observe(update)\n",
    "    widgets_collection.num_steps_slider.observe(update)\n",
    "    widgets_collection.turning_angle_slider.observe(update)\n",
    "    widgets_collection.flash_min_slider.observe(update)\n",
    "    widgets_collection.flash_max_slider.observe(update)\n",
    "    widgets_collection.trackon_checkbox.observe(update)\n",
    "\n",
    "    widgets_collection.setup_button.on_click(setup)\n",
    "    widgets_collection.go_button.on_click(run)\n",
    "    \n",
    "run_simulation()\n",
    "widgets_collection()"
   ]
  },
  {
   "cell_type": "code",
   "execution_count": null,
   "metadata": {
    "hidden": true
   },
   "outputs": [],
   "source": []
  },
  {
   "cell_type": "code",
   "execution_count": null,
   "metadata": {
    "hidden": true
   },
   "outputs": [],
   "source": []
  },
  {
   "cell_type": "code",
   "execution_count": null,
   "metadata": {
    "hidden": true
   },
   "outputs": [],
   "source": []
  },
  {
   "cell_type": "code",
   "execution_count": null,
   "metadata": {
    "hidden": true
   },
   "outputs": [],
   "source": []
  },
  {
   "cell_type": "code",
   "execution_count": null,
   "metadata": {
    "hidden": true
   },
   "outputs": [],
   "source": []
  },
  {
   "cell_type": "code",
   "execution_count": null,
   "metadata": {
    "hidden": true
   },
   "outputs": [],
   "source": [
    "class SimulationGUI:\n",
    "    def __init__(self, firefly_world, widgets_collection):\n",
    "        self.firefly_world = firefly_world\n",
    "        self.widgets_collection = widgets_collection\n",
    "        \n",
    "        self.run_simulation()\n",
    "        \n",
    "    def update(self, args):\n",
    "        if args[\"name\"] != \"value\":\n",
    "            return\n",
    "\n",
    "        owner = args[\"owner\"]\n",
    "        name = args[\"name\"]\n",
    "        value = args[\"new\"]\n",
    "\n",
    "        if owner == self.widgets_collection.num_males_slider:\n",
    "            self.firefly_world.num_males = value\n",
    "        elif owner == self.widgets_collection.step_size_slider:\n",
    "            self.firefly_world.step_size = value\n",
    "        elif owner == self.widgets_collection.num_steps_slider:\n",
    "            self.firefly_world.num_total_steps = value\n",
    "        elif owner == self.widgets_collection.turning_angle_slider:\n",
    "            self.firefly_world.turning_angle_distribution = value\n",
    "        elif owner == self.widgets_collection.flash_min_slider:\n",
    "            self.firefly_world.flash_interval_min = value\n",
    "        elif owner == self.widgets_collection.flash_max_slider:\n",
    "            self.firefly_world.flash_interval_max = value\n",
    "        elif owner == self.widgets_collection.trackon_checkbox:\n",
    "            self.firefly_world.track_on = value\n",
    "        \n",
    "    def setup(self, widgets):\n",
    "        self.firefly_world.setup()\n",
    "        self.widgets_collection.plot_data.value = self.firefly_world.plot_data()\n",
    "        self.widgets_collection.plot_simulation.value = self.firefly_world.plot_simulation(int(self.widgets_collection.ticks.value))\n",
    "        self.widgets_collection.ticks.value = str(self.widgets_collection.firefly_world.ticks)\n",
    "\n",
    "    def run(self, widgets):\n",
    "        if self.firefly_world.state == \"stopped\":\n",
    "            w = {\"plot_data\": self.widgets_collection.plot_data, \n",
    "                 \"ticks\": self.widgets_collection.ticks, \n",
    "                 \"plot_simulation\": self.widgets_collection.plot_simulation} \n",
    "            self.firefly_world.run(self.widgets_collection)  \n",
    "\n",
    "    def run_simulation(self):\n",
    "        self.widgets_collection.num_males_slider.observe(self.update)         \n",
    "        self.widgets_collection.step_size_slider.observe(self.update)\n",
    "        self.widgets_collection.num_steps_slider.observe(self.update)\n",
    "        self.widgets_collection.turning_angle_slider.observe(self.update)\n",
    "        self.widgets_collection.flash_min_slider.observe(self.update)\n",
    "        self.widgets_collection.flash_max_slider.observe(self.update)\n",
    "        self.widgets_collection.trackon_checkbox.observe(self.update)\n",
    "\n",
    "        self.widgets_collection.setup_button.on_click(self.setup)\n",
    "        self.widgets_collection.go_button.on_click(self.run)"
   ]
  },
  {
   "cell_type": "code",
   "execution_count": null,
   "metadata": {
    "hidden": true,
    "scrolled": false
   },
   "outputs": [],
   "source": [
    "simulation = SimulationGUI(firefly_world, widgets_collection)\n",
    "widgets = simulation.widgets_collection()\n",
    "\n",
    "widgets"
   ]
  },
  {
   "cell_type": "markdown",
   "metadata": {
    "heading_collapsed": true
   },
   "source": [
    "## Old version of GUI"
   ]
  },
  {
   "cell_type": "code",
   "execution_count": null,
   "metadata": {
    "code_folding": [],
    "hidden": true,
    "scrolled": false
   },
   "outputs": [],
   "source": [
    "np.random.seed(RANDOM_SEED)\n",
    "random.seed(RANDOM_SEED)\n",
    "\n",
    "layout = Layout(border='0px solid red', width='350px', height='30px',\n",
    "               margin='0px 0px 0px 0px')\n",
    "\n",
    "# Text\n",
    "ticks = Text(description=\"Ticks:\", layout=Layout(border='0px solid red', width='200px', height='30px', margin='0px 0px 0px 60px'))\n",
    "\n",
    "# Buttons\n",
    "setup_button = Button(description=\"setup/reset\")\n",
    "go_button = Button(description=\"go\")\n",
    "\n",
    "# Plots\n",
    "plot_data = HTML()\n",
    "plot_simulation = HTML(layout=Layout(border='0px solid red', margin='0px 0px 0px 0px'))\n",
    "\n",
    "# Sliders\n",
    "num_males_slider = IntSlider(description=\"Number of fireflies:\", value=30, min=1, max=100, layout=layout)\n",
    "step_size_slider = IntSlider(description=\"Step size:\", value=1, min=1, max=5, layout=layout)\n",
    "num_steps_slider = IntSlider(description=\"Number of ticks:\", value=50, min=10, max=300, layout=layout)\n",
    "turning_angle_slider = FloatSlider(description=\"Turning angle width:\", value=np.pi/8, min=np.pi/15, max=np.pi/5, layout=layout)\n",
    "flash_min_slider = IntSlider(description=\"Flashing interval min:\", value=5, min=1, max=15, layout=layout)\n",
    "flash_max_slider = IntSlider(description=\"Flashing interval max:\", value=30, min=10, max=100, layout=layout)\n",
    "\n",
    "# Checkbox\n",
    "trackon_checkbox = Checkbox(description=\"Show track\", layout=Layout(border='0px solid red', width='500px', margin='0px 0 -35px 0px'))\n",
    "\n",
    "##################################################################\n",
    "\n",
    "# Color settings\n",
    "setup_button.style.button_color = 'lightgreen'\n",
    "go_button.style.button_color = 'lightgreen'\n",
    "num_males_slider.style.handle_color = 'lightgreen'\n",
    "step_size_slider.style.handle_color = 'lightgreen'\n",
    "num_steps_slider.style.handle_color = 'lightgreen'\n",
    "turning_angle_slider.style.handle_color = 'lightgreen'\n",
    "flash_min_slider.style.handle_color = 'lightgreen'\n",
    "flash_max_slider.style.handle_color = 'lightgreen'\n",
    "\n",
    "##################################################################\n",
    "# Layout\n",
    "row1 = HBox([setup_button, go_button, trackon_checkbox])\n",
    "row2 = HBox([num_males_slider, step_size_slider])\n",
    "row3 = HBox([num_steps_slider, turning_angle_slider])\n",
    "row4 = HBox([flash_min_slider, flash_max_slider])\n",
    "row5 = HBox([plot_data], layout=Layout(border='solid 0px lightgreen', height=\"350px\", width=\"500px\"))\n",
    "widgets = HBox([VBox([row1, row2, row3, row4, row5], layout=Layout(border='solid 0px black', width=\"600px\")), \n",
    "                VBox([ticks, plot_simulation], layout=Layout(border='solid 0px black', width=\"500px\"))])\n",
    "\n",
    "#################################################################\n",
    "# Update\n",
    "ticks.value = str(firefly_world.ticks)\n",
    "plot_data.value = str(firefly_world.plot_data())\n",
    "plot_simulation.value = str(firefly_world.plot_simulation(int(ticks.value)))\n",
    "num_males_slider.value = firefly_world.num_males\n",
    "step_size_slider.value = firefly_world.firefly_collection.step_size\n",
    "num_steps_slider.value = firefly_world.num_total_steps\n",
    "turning_angle_slider.value = firefly_world.firefly_collection.turning_angle_distribution\n",
    "flash_min_slider.value = firefly_world.firefly_collection.flash_interval_min\n",
    "flash_max_slider.value = firefly_world.firefly_collection.flash_interval_max\n",
    "trackon_checkbox.value = firefly_world.track_on\n",
    "\n",
    "# def update(args):\n",
    "#     if args[\"name\"] != \"value\":\n",
    "#         return\n",
    "#     owner = args[\"owner\"]\n",
    "#     name = args[\"name\"]\n",
    "#     value = args[\"new\"]\n",
    "    \n",
    "#     if owner == num_males_slider:\n",
    "#         firefly_world.num_males = value\n",
    "#     elif owner == step_size_slider:\n",
    "#         firefly_world.step_size = value\n",
    "#     elif owner == num_steps_slider:\n",
    "#         firefly_world.num_total_steps = value\n",
    "#     elif owner == turning_angle_slider:\n",
    "#         firefly_world.turning_angle_distribution = value\n",
    "#     elif owner == flash_min_slider:\n",
    "#         firefly_world.flash_interval_min = value\n",
    "#     elif owner == flash_max_slider:\n",
    "#         firefly_world.flash_interval_max = value\n",
    "#     elif owner == trackon_checkbox:\n",
    "#         firefly_world.track_on = value\n",
    "        \n",
    "# def setup(widgets):\n",
    "#     firefly_world.setup()\n",
    "#     plot_data.value = firefly_world.plot_data()\n",
    "#     plot_simulation.value = firefly_world.plot_simulation(int(ticks.value))\n",
    "#     ticks.value = str(firefly_world.ticks)\n",
    "        \n",
    "# def run(widgets):\n",
    "#     if firefly_world.state == \"stopped\":\n",
    "#         w = {\"plot_data\": plot_data, \"ticks\": ticks, \"plot_simulation\": plot_simulation} \n",
    "#         firefly_world.run(w)  \n",
    "\n",
    "# num_males_slider.observe(update)         \n",
    "# step_size_slider.observe(update)\n",
    "# num_steps_slider.observe(update)\n",
    "# turning_angle_slider.observe(update)\n",
    "# flash_min_slider.observe(update)\n",
    "# flash_max_slider.observe(update)\n",
    "# trackon_checkbox.observe(update)\n",
    "\n",
    "# setup_button.on_click(setup)\n",
    "# go_button.on_click(run)\n",
    "\n",
    "type(widgets)"
   ]
  },
  {
   "cell_type": "markdown",
   "metadata": {
    "heading_collapsed": true
   },
   "source": [
    "## Main"
   ]
  },
  {
   "cell_type": "code",
   "execution_count": null,
   "metadata": {
    "code_folding": [
     7
    ],
    "hidden": true
   },
   "outputs": [],
   "source": [
    "# Simulate a sky of flashing and moving fireflies\n",
    "firefly_collection = FireflyCollection(num_males, step_size, num_total_steps, \n",
    "                                     flash_interval_min, flash_interval_max, \n",
    "                                     turning_angle_distribution,\n",
    "                                     initial_arena_size)\n",
    "all_fireflies_history = {}\n",
    "for t_i in range(num_total_steps):\n",
    "    for ff_i, ff in enumerate(firefly_collection):\n",
    "        ff.pick_turning_angle()\n",
    "        ff.check_flash()\n",
    "        ff.take_step()\n",
    "        hist_dict = ff.record_history() \n",
    "        \n",
    "        all_fireflies_history[f\"firefly_{ff_i}\"] = hist_dict"
   ]
  },
  {
   "cell_type": "code",
   "execution_count": null,
   "metadata": {
    "hidden": true
   },
   "outputs": [],
   "source": [
    "# Get min, max x, y across all fireflies to set arena \n",
    "x_min = num_total_steps * 2\n",
    "x_max = - num_total_steps * 2\n",
    "y_min = num_total_steps * 2\n",
    "y_max = - num_total_steps * 2\n",
    "\n",
    "for d in all_fireflies_history.values():\n",
    "    x_min_d = min(d['trajectory_history'][:,0])\n",
    "    x_max_d = max(d['trajectory_history'][:,0])\n",
    "    y_min_d = min(d['trajectory_history'][:,1])\n",
    "    y_max_d = max(d['trajectory_history'][:,1])\n",
    "    \n",
    "    if x_min_d < x_min:\n",
    "        x_min = x_min_d\n",
    "    if x_max_d > x_max:\n",
    "        x_max = x_max_d\n",
    "    if y_min_d < y_min:\n",
    "        y_min = y_min_d\n",
    "    if y_max_d > y_max:\n",
    "        y_max = y_max_d\n",
    "    \n",
    "x_min, x_max, y_min, y_max"
   ]
  },
  {
   "cell_type": "markdown",
   "metadata": {
    "heading_collapsed": true
   },
   "source": [
    "## Generate movie"
   ]
  },
  {
   "cell_type": "code",
   "execution_count": null,
   "metadata": {
    "hidden": true,
    "scrolled": true
   },
   "outputs": [],
   "source": [
    "!rm MovieFrames/*.png\n",
    "\n",
    "color = plt.cm.rainbow(np.linspace(0, 1, num_males))\n",
    "\n",
    "track_on = True\n",
    "\n",
    "for frame_i in range(num_total_steps):\n",
    "    sys.stdout.write(f\"\\rFrame {frame_i+1}/{num_total_steps}\")\n",
    "    sys.stdout.flush()\n",
    "    \n",
    "    fig = plt.figure(figsize=(8,7))\n",
    "    ax = fig.add_subplot(1, 1, 1)\n",
    "\n",
    "    for ff_i, (key, val) in enumerate(all_fireflies_history.items()):\n",
    "        ''' For a single firefly, extract its info and plot its trajectory. '''\n",
    "        firefly_data = all_fireflies_history[key]\n",
    "\n",
    "        x = firefly_data['trajectory_history'][:,0]\n",
    "        y = firefly_data['trajectory_history'][:,1]\n",
    "        flashes = np.where(firefly_data['flash_history'] == 1)\n",
    "        x_flashes = x[flashes]\n",
    "        y_flashes = y[flashes]\n",
    "        \n",
    "        # Plot position trajectory\n",
    "        if track_on:\n",
    "            plt.plot(x[0:frame_i], y[0:frame_i], lw=1, zorder=0, label=f\"{ff_i+1}\", c=color[ff_i])\n",
    "\n",
    "        # Plot flashing patterns\n",
    "        for global_i, f_i in enumerate(flashes[0]):\n",
    "            if frame_i == f_i:\n",
    "                plt.scatter(x_flashes[global_i], y_flashes[global_i], c='orange', s=40)\n",
    "                \n",
    "#             else:\n",
    "#                 plt.scatter(0, 0, c=\"gray\", s=40)\n",
    "\n",
    "        # Set black background\n",
    "        ax = plt.gca()\n",
    "        ax.set_facecolor('xkcd:black')\n",
    "\n",
    "        plt.xlim(x_min-10, x_max+10)\n",
    "        plt.ylim(y_min-10, y_max+10)\n",
    "        plt.xlabel('X')\n",
    "        plt.ylabel('Y')\n",
    "        plt.title(f'Firefly sky - time step: {frame_i+1}')\n",
    "        \n",
    "        if track_on:\n",
    "            plt.legend(loc=(1.01, 0.2), ncol=2, title=\"Male firefly\", columnspacing=0.5)\n",
    "        \n",
    "    plt.savefig(f'MovieFrames/t_{frame_i:03d}', bbox_inches='tight', dpi=200)\n",
    "    plt.close()\n",
    "        "
   ]
  },
  {
   "cell_type": "code",
   "execution_count": null,
   "metadata": {
    "hidden": true
   },
   "outputs": [],
   "source": [
    "x_flashes[global_i]"
   ]
  },
  {
   "cell_type": "code",
   "execution_count": null,
   "metadata": {
    "hidden": true
   },
   "outputs": [],
   "source": [
    "all_img_paths = np.sort(glob.glob(\"MovieFrames/*.png\"))\n",
    "all_imgs = np.array([cv2.imread(img) for img in all_img_paths])\n",
    "\n",
    "def imgs2vid(imgs, outpath, fps=20):\n",
    "    height, width, layers = imgs[0].shape\n",
    "    fourcc = cv2.VideoWriter_fourcc(\"m\", \"p\", \"4\", \"v\")\n",
    "    video = cv2.VideoWriter(outpath, fourcc, fps, (width, height), True)\n",
    "    \n",
    "    for img in imgs:\n",
    "        video.write(img)\n",
    "        \n",
    "    cv2.destroyAllWindows()\n",
    "    video.release()\n",
    "    \n",
    "if track_on:\n",
    "    imgs2vid(all_imgs, 'MovieFrames/FireflySky.mp4')\n",
    "else:\n",
    "    imgs2vid(all_imgs, 'MovieFrames/FireflySky_OnlyFlash.mp4')"
   ]
  },
  {
   "cell_type": "markdown",
   "metadata": {
    "hidden": true
   },
   "source": [
    "Ideas for interface:\n",
    "- Make it a story: Read in videos of track+flashing and only flashing\n",
    "- Ask user to provide parameters from sliders\n",
    "- Generate simulation\n",
    "- Display results"
   ]
  },
  {
   "cell_type": "code",
   "execution_count": null,
   "metadata": {
    "hidden": true
   },
   "outputs": [],
   "source": []
  },
  {
   "cell_type": "code",
   "execution_count": null,
   "metadata": {
    "hidden": true
   },
   "outputs": [],
   "source": []
  },
  {
   "cell_type": "code",
   "execution_count": null,
   "metadata": {
    "hidden": true
   },
   "outputs": [],
   "source": []
  },
  {
   "cell_type": "code",
   "execution_count": null,
   "metadata": {
    "hidden": true
   },
   "outputs": [],
   "source": []
  },
  {
   "cell_type": "code",
   "execution_count": null,
   "metadata": {
    "hidden": true
   },
   "outputs": [],
   "source": [
    "# widgets:\n",
    "ticks = Text(description=\"Ticks:\")\n",
    "# sheep = Text(description=\"sheep:\", margin=5, width=\"60px\")\n",
    "# wolves = Text(description=\"wolves:\", margin=5, width=\"60px\")\n",
    "# grass = Text(description=\"grass/4:\", margin=5, width=\"60px\")\n",
    "canvas = HTML(margin=10)\n",
    "plot = HTML()\n",
    "setup_button = Button(description=\"setup\", width=\"47%\", margin=5)\n",
    "go_button = Button(description=\"go\", width=\"47%\", margin=5)\n",
    "\n",
    "# Model parameters\n",
    "num_males_slider = IntSlider(description=\"Number of male fireflies:\", min=1, max=100, margin=5, width=\"100px\")\n",
    "step_size_slider = IntSlider(description=\"Step size:\", min=1, max=5, margin=5, width=\"100px\")\n",
    "num_total_steps_slider = IntSlider(description=\"Number of total steps:\", min=1, max=1000, margin=5, width=\"100px\")\n",
    "turning_angle_slider = IntSlider(description=\"Width of turning angle:\", min=np.pi/10, max=np.pi/2, margin=5, width=\"100px\")\n",
    "flash_min_slider = IntSlider(description=\"Min flashing period:\", min=1, max=100, margin=5, width=\"100px\")\n",
    "flash_max_slider = IntSlider(description=\"Max flashing period:\", min=1, max=100, margin=5, width=\"100px\")\n",
    "\n",
    "# grass_checkbox = Checkbox(description=\"grass?\", margin=5)\n",
    "# grass_regrowth_time = IntSlider(description=\"grass_regrowth_time:\",\n",
    "#                                min=0, max=100, margin=5, width=\"300px\")\n",
    "# sheep_slider = IntSlider(description=\"initial_number_sheep:\", min=0, max=250, margin=5, width=\"100px\")\n",
    "# wolves_slider = IntSlider(description=\"initial_number_wolves:\", min=0, max=250, margin=5, width=\"100px\")\n",
    "# sheep_gain_from_food_slider = IntSlider(description=\"sheep_gain_from_food:\", min=0, max=50, margin=5, width=\"100px\")\n",
    "# wolf_gain_from_food_slider = IntSlider(description=\"wolf_gain_from_food:\", min=0, max=100, margin=5, width=\"100px\")\n",
    "# sheep_reproduce_slider = FloatSlider(description=\"sheep_reproduce:\", min=0, max=20, margin=5, width=\"100px\")\n",
    "# wolf_reproduce_slider = FloatSlider(description=\"wolf_reproduce:\", min=0, max=20, margin=5, width=\"100px\")\n",
    "\n",
    "# layout:\n",
    "row1 = HBox([setup_button, go_button], background_color=\"lightblue\", width=\"100%\")\n",
    "row2 = HBox([num_males_slider, step_size_slider], background_color=\"lightgreen\", width=\"100%\")\n",
    "row3 = HBox([num_total_steps_slider, turning_angle_slider], background_color=\"lightgreen\", width=\"100%\")\n",
    "row4 = HBox([flash_min_slider, flash_max_slider, background_color=\"lightgreen\", width=\"100%\")\n",
    "row5 = HBox([plot], width=\"100%\")\n",
    "widgets = HBox([VBox([row1, row2, row3, row4, row5], width=\"60%\"), \n",
    "                VBox([ticks, canvas], background_color=\"Khaki\")], width=\"100%\")\n",
    "\n",
    "# row5 = HBox([sheep_reproduce_slider, wolf_reproduce_slider], background_color=\"lightgreen\", width=\"100%\")\n",
    "# row61 = HBox([sheep], background_color=\"Khaki\", width=\"100%\")\n",
    "# row62 = HBox([wolves], background_color=\"Khaki\", width=\"100%\")\n",
    "# row63 = HBox([grass], background_color=\"Khaki\", width=\"100%\")\n",
    "\n",
    "########################################\n",
    "             \n",
    "# update:\n",
    "ticks.value = str(world.ticks)\n",
    "canvas.value = str(world.draw(15))\n",
    "plot.value = world.plot(6.0, 3.0)\n",
    "grass_checkbox.value = world.use_grass\n",
    "grass_regrowth_time.value = world.grass_regrowth_time\n",
    "sheep_slider.value = world.initial_number_sheep\n",
    "wolves_slider.value = world.initial_number_wolves\n",
    "sheep_gain_from_food_slider.value = Sheep.GAIN_FROM_FOOD\n",
    "wolf_gain_from_food_slider.value = Wolf.GAIN_FROM_FOOD\n",
    "sheep_reproduce_slider.value = Sheep.REPRODUCE\n",
    "wolf_reproduce_slider.value = Wolf.REPRODUCE\n",
    "stats = world.get_stats()\n",
    "sheep.value = str(stats[0])\n",
    "wolves.value = str(stats[1])\n",
    "grass.value = str(stats[2])\n",
    "ticks.value = str(world.ticks)\n",
    "\n",
    "def update(args):\n",
    "    if args[\"name\"] != \"value\":\n",
    "        return\n",
    "    owner = args[\"owner\"]\n",
    "    name = args[\"name\"]\n",
    "    value = args[\"new\"]\n",
    "    if owner == grass_checkbox:\n",
    "        world.use_grass = value\n",
    "    elif owner == grass_regrowth_time:\n",
    "        world.grass_regrowth_time = value\n",
    "    elif owner == sheep_slider:\n",
    "        world.initial_number_sheep = value\n",
    "    elif owner == wolves_slider:\n",
    "        world.initial_number_wolves = value\n",
    "    elif owner == sheep_gain_from_food_slider:\n",
    "        Sheep.GAIN_FROM_FOOD = value\n",
    "    elif owner == wolf_gain_from_food_slider:\n",
    "        Wolf.GAIN_FROM_FOOD = value\n",
    "    elif owner == sheep_reproduce_slider:\n",
    "        Sheep.REPRODUCE = value\n",
    "    elif owner == wolf_reproduce_slider:\n",
    "        Wolf.REPRODUCE = value\n",
    "\n",
    "def setup(widgets):\n",
    "    world.setup()\n",
    "    canvas.value = str(world.draw(15))\n",
    "    plot.value = world.plot(6.0, 3.0)\n",
    "    stats = world.get_stats()\n",
    "    sheep.value = str(stats[0])\n",
    "    wolves.value = str(stats[1])\n",
    "    grass.value = str(stats[2])\n",
    "    ticks.value = str(world.ticks)\n",
    "\n",
    "def run(widgets):\n",
    "    global thread\n",
    "    if world.state == \"stopped\":\n",
    "        go_button.description = \"pause\"\n",
    "        w = {\"canvas\": canvas, \"plot\": plot, \"ticks\": ticks, \n",
    "             \"sheep\": sheep, \"wolves\": wolves, \"grass\": grass}\n",
    "        thread = threading.Thread(target=lambda: world.run(w, 6.0, 3.0, 15))\n",
    "        thread.start()\n",
    "    else:\n",
    "        go_button.description = \"go\"\n",
    "        world.state = \"stopped\"\n",
    "        thread.join()\n",
    "        clear_output()\n",
    "    \n",
    "grass_checkbox.observe(update)\n",
    "# FIX:\n",
    "grass_regrowth_time.observe(update)\n",
    "sheep_slider.observe(update)\n",
    "wolves_slider.observe(update)\n",
    "sheep_gain_from_food_slider.observe(update)\n",
    "wolf_gain_from_food_slider.observe(update)\n",
    "sheep_reproduce_slider.observe(update)\n",
    "wolf_reproduce_slider.observe(update)\n",
    "# END OF FIX\n",
    "\n",
    "setup_button.on_click(setup)\n",
    "go_button.on_click(run)\n",
    "\n",
    "widgets"
   ]
  },
  {
   "cell_type": "code",
   "execution_count": null,
   "metadata": {
    "hidden": true
   },
   "outputs": [],
   "source": []
  },
  {
   "cell_type": "code",
   "execution_count": null,
   "metadata": {
    "hidden": true
   },
   "outputs": [],
   "source": []
  },
  {
   "cell_type": "markdown",
   "metadata": {
    "heading_collapsed": true
   },
   "source": [
    "## Converting original MATLAB/R code with functional programming to Python"
   ]
  },
  {
   "cell_type": "markdown",
   "metadata": {
    "hidden": true
   },
   "source": [
    "### 1. Male firefly correlated random walk"
   ]
  },
  {
   "cell_type": "code",
   "execution_count": null,
   "metadata": {
    "hidden": true
   },
   "outputs": [],
   "source": [
    "# Parameters\n",
    "# Based on these params, a firefly takes 1000 steps and flash every 100 steps (10x)\n",
    "N = 1000           # Number of steps per trajectory\n",
    "REALIZATIONS = 20  # Number of fireflies in arena \n",
    "v = 1.0            # Velocity aka step size\n",
    "NreS = 100         # Number of steps bw flashes\n",
    "sigma02 = np.pi/10 # Width of random walk turning angle distribution. Lower: straighter.\n",
    "\n",
    "initial_arena_size = N"
   ]
  },
  {
   "cell_type": "code",
   "execution_count": null,
   "metadata": {
    "hidden": true
   },
   "outputs": [],
   "source": [
    "# Correlated random walks\n",
    "np.random.seed(42)\n",
    "\n",
    "x = np.zeros((REALIZATIONS, N))\n",
    "y = np.zeros((REALIZATIONS, N))\n",
    "theta = np.zeros((REALIZATIONS, N))\n",
    "\n",
    "# Pick random initial positions for all male FF (convert to - to + coordinates)\n",
    "x[:,0] = initial_arena_size * (np.random.rand(x.shape[0]) - 0.5)\n",
    "y[:,0] = initial_arena_size * (np.random.rand(y.shape[0]) - 0.5)\n",
    "theta[:,0] = np.pi * (np.random.rand(theta.shape[0]) - 0.5)\n",
    "\n",
    "# Loop over each male firefly\n",
    "for realization_i in range(REALIZATIONS):\n",
    "    \n",
    "    # Each FF takes N steps total\n",
    "    for step_i in range(1, N):\n",
    "        \n",
    "        # At each step, it chooses a random turning angle (radians)\n",
    "        theta[realization_i, step_i] = theta[realization_i, step_i-1] + sigma02 * 2 * (np.random.rand()-0.5)\n",
    "        \n",
    "        # Update x and y position according to theta\n",
    "        x[realization_i, step_i] = x[realization_i, step_i-1] + v * np.cos(theta[realization_i, step_i])\n",
    "        y[realization_i, step_i] = y[realization_i, step_i-1] + v * np.sin(theta[realization_i, step_i])\n"
   ]
  },
  {
   "cell_type": "code",
   "execution_count": null,
   "metadata": {
    "hidden": true
   },
   "outputs": [],
   "source": [
    "fig = plt.figure(figsize=(8,7))\n",
    "ax = fig.add_subplot(1, 1, 1)\n",
    "\n",
    "# Plot line tracks\n",
    "plt.plot(x.T, y.T, lw=1, zorder=0, label=\"-\")\n",
    "\n",
    "# Plot flashing patterns\n",
    "xx = x.T.copy()\n",
    "yy = y.T.copy()\n",
    "plt.scatter(xx[::NreS], yy[::NreS], c='orange', s=20)\n",
    "\n",
    "plt.xlabel('X')\n",
    "plt.ylabel('Y')\n",
    "\n",
    "ax = plt.gca()\n",
    "ax.set_facecolor('xkcd:black')\n",
    "\n",
    "# plt.legend(loc=(1.01,.1), title=(\"Male firefly\"))\n",
    "plt.title('Firefly sky')\n",
    "plt.show()"
   ]
  },
  {
   "cell_type": "markdown",
   "metadata": {
    "hidden": true
   },
   "source": [
    "At first flashes, (assume synchronized flashing?) female picks a single male and attempts to track him until the end of simulation? At each time, firefly makes a guess on most likely male based on flash location, and build a history of that track"
   ]
  },
  {
   "cell_type": "markdown",
   "metadata": {
    "heading_collapsed": true
   },
   "source": [
    "## Try to learn widgets"
   ]
  },
  {
   "cell_type": "code",
   "execution_count": null,
   "metadata": {
    "hidden": true
   },
   "outputs": [],
   "source": [
    "import ipywidgets as widgets\n",
    "from IPython.display import display\n",
    "import matplotlib.pyplot as plt\n",
    "import numpy as np\n",
    "\n",
    "%matplotlib nbagg"
   ]
  },
  {
   "cell_type": "markdown",
   "metadata": {
    "hidden": true
   },
   "source": [
    "Define the function that's changed each time a slider is changes"
   ]
  },
  {
   "cell_type": "code",
   "execution_count": null,
   "metadata": {
    "hidden": true
   },
   "outputs": [],
   "source": [
    "def update_plot(amp, phase, freq):\n",
    "    ax.clear()\n",
    "    \n",
    "    units = f\"amp={amp} $(psi)$ \\nphase={phase} $(secs)$ \\nfreq={freq} $(Hz)$\"\n",
    "    y = amp * np.sin(2 * np.pi * (freq * x * phase))\n",
    "    ax.plot(x, y, label=units)\n",
    "    ax.legend(loc=1)\n",
    "    ax.set_xlabel(\"$sec$\")\n",
    "    ax.set_ylabel(\"$psi$\")\n",
    "    ax.set_xlim()\n",
    "    ax.set_ylim()\n",
    "    plt.show()"
   ]
  },
  {
   "cell_type": "code",
   "execution_count": null,
   "metadata": {
    "hidden": true
   },
   "outputs": [],
   "source": [
    "x = np.linspace(0, 2, 1000)\n",
    "fig, ax = plt.subplots(1, figsize=(10, 4))\n",
    "plt.suptitle('Sine wave')\n",
    "\n",
    "# Create sliders\n",
    "amp = widgets.FloatSlider(min=1, max=10, value=1, description=\"Amp: \")\n",
    "phase = widgets.FloatSlider(min=0, max=5, value=0, description=\"Phase: \")\n",
    "freq = widgets.FloatSlider(min=1, max=10, value=1, description=\"Freq: \")\n",
    "\n",
    "# Link values of widgets to agruments for function\n",
    "widgets.interactive(update_plot, amp=amp, phase=phase, freq=freq)\n",
    "\n",
    "display(amp, phase, freq)"
   ]
  },
  {
   "cell_type": "code",
   "execution_count": null,
   "metadata": {
    "hidden": true
   },
   "outputs": [],
   "source": []
  }
 ],
 "metadata": {
  "kernelspec": {
   "display_name": "Python 3",
   "language": "python",
   "name": "python3"
  },
  "toc": {
   "base_numbering": 1,
   "nav_menu": {},
   "number_sections": true,
   "sideBar": true,
   "skip_h1_title": false,
   "title_cell": "Table of Contents",
   "title_sidebar": "Contents",
   "toc_cell": false,
   "toc_position": {},
   "toc_section_display": true,
   "toc_window_display": false
  }
 },
 "nbformat": 4,
 "nbformat_minor": 2
}
