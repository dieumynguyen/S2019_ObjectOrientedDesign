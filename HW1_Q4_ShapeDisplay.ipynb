{
 "cells": [
  {
   "cell_type": "markdown",
   "metadata": {},
   "source": [
    "### Homework 1 Question 4: <br>\n",
    "\n",
    "Write a simple OO program that implements the Shape example discussed in Lecture 2 on slide 6 but using an OO design rather than the presented functional decomposition solution. \n",
    "\n",
    "Your program should simply print out (to the console) the number of shapes in the “database” and then ask each shape to “display itself” which will also cause a line of output to be generated to the console, one for each shape. \n",
    "\n",
    "The word “database” is in quotes in the previous sentence because you should not actually use a database to write this program. It is perfectly acceptable for your main program to create a collection of shapes before moving on to sorting that collection and displaying the shapes. \n",
    "\n",
    "Your program should support circles, triangles, and squares but should use polymorphism so that the main program doesn't know the type of shape it is dealing with, but instead treats shapes uniformly (similar to the example program in Lecture 2 that involved different types of students). "
   ]
  },
  {
   "cell_type": "markdown",
   "metadata": {},
   "source": [
    "<b> Functional decomposition approach for displaying shapes: </b>\n",
    "- Connect to database\n",
    "- Locate and retrieve shapes\n",
    "- Sort shapes \n",
    "- Loop through list and display each shape\n",
    "    - Identify shape (circle, triangle, square)\n",
    "    - Get location of shape\n",
    "    - Call function to display shape at given location"
   ]
  },
  {
   "cell_type": "markdown",
   "metadata": {},
   "source": [
    "#### Imports"
   ]
  },
  {
   "cell_type": "code",
   "execution_count": 101,
   "metadata": {},
   "outputs": [],
   "source": [
    "import matplotlib.pyplot as plt\n",
    "from abc import ABC, abstractmethod"
   ]
  },
  {
   "cell_type": "markdown",
   "metadata": {},
   "source": [
    "#### Generate database of dimensions of shapes: circles, triangles, and squares"
   ]
  },
  {
   "cell_type": "code",
   "execution_count": 73,
   "metadata": {},
   "outputs": [
    {
     "data": {
      "image/png": "[encoded data removed]",
      "text/plain": [
       "<matplotlib.figure.Figure at 0x1137e25c0>"
      ]
     },
     "metadata": {},
     "output_type": "display_data"
    }
   ],
   "source": [
    "plt.axes()\n",
    "circle = plt.Circle((0,0), radius=50, fc='#EBDEF0')\n",
    "square = plt.Rectangle((0,0), 100, 100, fc='#FAD7A0')\n",
    "triangle_points = [[50, 50], [175, 50], [175, 150]]\n",
    "triangle = plt.Polygon(triangle_points, fc='#A3E4D7')\n",
    "plt.gca().add_patch(circle)\n",
    "plt.gca().add_patch(square)\n",
    "plt.gca().add_patch(triangle)\n",
    "plt.axis('scaled')\n",
    "plt.show()"
   ]
  },
  {
   "cell_type": "code",
   "execution_count": 203,
   "metadata": {},
   "outputs": [],
   "source": [
    "shape_database = {'circle': {'xy': (0,0), 'radius': 50},\n",
    "                  'triangle': {'points': [[50, 25], [200, 25], [200, 100]]},\n",
    "                  'square': {'xy': (0,0), 'width': 100, 'height': 100},\n",
    "                 }"
   ]
  },
  {
   "cell_type": "markdown",
   "metadata": {},
   "source": [
    "#### OO approach:\n",
    "Your program should simply print out (to the console) the number of shapes in the “database” and then ask each shape to “display itself” which will also cause a line of output to be generated to the console, one for each shape."
   ]
  },
  {
   "cell_type": "code",
   "execution_count": 214,
   "metadata": {},
   "outputs": [
    {
     "name": "stdout",
     "output_type": "stream",
     "text": [
      "Displaying a circle...\n"
     ]
    },
    {
     "data": {
      "image/png": "[encoded data removed]",
      "text/plain": [
       "<matplotlib.figure.Figure at 0x108fef710>"
      ]
     },
     "metadata": {},
     "output_type": "display_data"
    },
    {
     "name": "stdout",
     "output_type": "stream",
     "text": [
      "Displaying a square...\n"
     ]
    },
    {
     "data": {
      "image/png": "[encoded data removed]",
      "text/plain": [
       "<matplotlib.figure.Figure at 0x1135d7eb8>"
      ]
     },
     "metadata": {},
     "output_type": "display_data"
    },
    {
     "name": "stdout",
     "output_type": "stream",
     "text": [
      "Displaying a triangle...\n"
     ]
    },
    {
     "data": {
      "image/png": "[encoded data removed]",
      "text/plain": [
       "<matplotlib.figure.Figure at 0x113732358>"
      ]
     },
     "metadata": {},
     "output_type": "display_data"
    }
   ],
   "source": [
    "class Collection():\n",
    "    def __init__(self):\n",
    "        self.sorted_shapenames = []\n",
    "        self.shape_objects = []\n",
    "        \n",
    "    def sort(self, shape_database):\n",
    "        # Sort by alphabetical to define z-order (last on top)\n",
    "        self.sorted_shapenames = sorted(shape_database)\n",
    "    \n",
    "    def display(self, shape_database):\n",
    "        # Instantiate shape objects and put in list\n",
    "        classes_mapping = {\"circle\": Circle,\n",
    "                           \"square\": Square,\n",
    "                           \"triangle\": Triangle\n",
    "                           }\n",
    "        for shape in self.sorted_shapenames:\n",
    "            shape_obj = classes_mapping[shape](shape_database[shape])\n",
    "            self.shape_objects.append(shape_obj)\n",
    "        \n",
    "        # Tell contained shapes to display themselves in order\n",
    "        for shape_obj in self.shape_objects: \n",
    "            shape_obj.display()\n",
    "    \n",
    "collection = Collection()  \n",
    "collection.sort(shape_database)\n",
    "collection.display(shape_database)\n",
    "# collection.shape_objects[0].display()"
   ]
  },
  {
   "cell_type": "code",
   "execution_count": null,
   "metadata": {},
   "outputs": [],
   "source": [
    "class Display():\n",
    "    def display(self):\n",
    "        plt.axes()\n",
    "#         circle = plt.Circle((0,0), radius=50, fc='#EBDEF0')\n",
    "#         square = plt.Rectangle((0,0), 100, 100, fc='#FAD7A0')\n",
    "#         triangle_points = [[50, 50], [175, 50], [175, 150]]\n",
    "#         triangle = plt.Polygon(triangle_points, fc='#A3E4D7')\n",
    "        for shape in shapes... # shape is an object of Shape\n",
    "#             plt.gca().add_patch(circle)\n",
    "#             plt.gca().add_patch(square)\n",
    "#             plt.gca().add_patch(triangle)\n",
    "            shape.display()\n",
    "            plt.axis('scaled')\n",
    "            plt.show()"
   ]
  },
  {
   "cell_type": "code",
   "execution_count": 184,
   "metadata": {},
   "outputs": [],
   "source": [
    "class Shape(ABC):\n",
    "    @abstractmethod\n",
    "    def display(self):\n",
    "        pass"
   ]
  },
  {
   "cell_type": "code",
   "execution_count": 211,
   "metadata": {
    "scrolled": true
   },
   "outputs": [
    {
     "name": "stdout",
     "output_type": "stream",
     "text": [
      "{'xy': (0, 0), 'radius': 50}\n",
      "Displaying a circle...\n"
     ]
    },
    {
     "data": {
      "image/png": "[encoded data removed]",
      "text/plain": [
       "<matplotlib.figure.Figure at 0x1132a79e8>"
      ]
     },
     "metadata": {},
     "output_type": "display_data"
    }
   ],
   "source": [
    "class Circle(Shape):\n",
    "    def __init__(self, shape_info):\n",
    "        self.xy = shape_info['xy']\n",
    "        self.radius = shape_info['radius']\n",
    "    def display(self):\n",
    "        print('Displaying a circle...')\n",
    "        plt.axes()   #\n",
    "        circle = plt.Circle(self.xy, radius=self.radius, fc='#EBDEF0')\n",
    "        plt.gca().add_patch(circle)\n",
    "        plt.axis('scaled')   #\n",
    "        plt.show()           #\n",
    "\n",
    "circle_info = shape_database['circle']\n",
    "print(circle_info)\n",
    "circle = Circle(circle_info)\n",
    "circle.display()"
   ]
  },
  {
   "cell_type": "code",
   "execution_count": 187,
   "metadata": {},
   "outputs": [
    {
     "name": "stdout",
     "output_type": "stream",
     "text": [
      "Displaying a square...\n"
     ]
    },
    {
     "data": {
      "image/png": "[encoded data removed]",
      "text/plain": [
       "<matplotlib.figure.Figure at 0x1138362b0>"
      ]
     },
     "metadata": {},
     "output_type": "display_data"
    }
   ],
   "source": [
    "class Square(Shape):\n",
    "    def __init__(self, shape_info):\n",
    "        self.xy = shape_info['xy']\n",
    "        self.width = shape_info['width']\n",
    "        self.height = shape_info['height']\n",
    "    def display(self):\n",
    "        print('Displaying a square...')\n",
    "        plt.axes()\n",
    "        square = plt.Rectangle(self.xy, self.width, self.height, fc='#FAD7A0')\n",
    "        plt.gca().add_patch(square)\n",
    "        plt.axis('scaled')\n",
    "        plt.show()\n",
    "\n",
    "square_info = shape_database['square']\n",
    "square = Square(square_info)\n",
    "square.display()"
   ]
  },
  {
   "cell_type": "code",
   "execution_count": 188,
   "metadata": {},
   "outputs": [
    {
     "name": "stdout",
     "output_type": "stream",
     "text": [
      "Displaying a triangle...\n"
     ]
    },
    {
     "data": {
      "image/png": "[encoded data removed]",
      "text/plain": [
       "<matplotlib.figure.Figure at 0x11380ff28>"
      ]
     },
     "metadata": {},
     "output_type": "display_data"
    }
   ],
   "source": [
    "class Triangle(Shape):\n",
    "    def __init__(self, shape_info):\n",
    "        self.points = shape_info['points']\n",
    "    def display(self):\n",
    "        print('Displaying a triangle...')\n",
    "        plt.axes()\n",
    "        triangle = plt.Polygon(self.points, fc='#A3E4D7')        \n",
    "        plt.gca().add_patch(triangle)\n",
    "        plt.axis('scaled')\n",
    "        plt.show()\n",
    "\n",
    "triangle_info = shape_database['triangle']\n",
    "triangle = Triangle(triangle_info)\n",
    "triangle.display()"
   ]
  },
  {
   "cell_type": "code",
   "execution_count": 215,
   "metadata": {},
   "outputs": [],
   "source": [
    "def main():\n",
    "    # Create an instance of database object\n",
    "    \n",
    "    # Ask database object to find set of shapes of interest\n",
    "    # and to instantiate a collection object to contain all shapes\n",
    "    \n",
    "    # Ask collection to sort the shapes\n",
    "    \n",
    "    # Ask collection to display the shapes\n",
    "    \n",
    "    # The collection asks each shape to display itself\n",
    "    \n",
    "    # Each shape display itself (using Display object) according \n",
    "    # to type\n",
    "    \n",
    "    if __name__ == \"__main__\":\n",
    "        main()"
   ]
  },
  {
   "cell_type": "code",
   "execution_count": null,
   "metadata": {},
   "outputs": [],
   "source": []
  }
 ],
 "metadata": {
  "kernelspec": {
   "display_name": "Python 3",
   "language": "python",
   "name": "python3"
  },
  "language_info": {
   "codemirror_mode": {
    "name": "ipython",
    "version": 3
   },
   "file_extension": ".py",
   "mimetype": "text/x-python",
   "name": "python",
   "nbconvert_exporter": "python",
   "pygments_lexer": "ipython3",
   "version": "3.6.4"
  }
 },
 "nbformat": 4,
 "nbformat_minor": 2
}
