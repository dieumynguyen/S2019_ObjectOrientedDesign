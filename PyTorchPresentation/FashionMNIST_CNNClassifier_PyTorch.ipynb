{
 "cells": [
  {
   "cell_type": "code",
   "execution_count": 115,
   "metadata": {},
   "outputs": [],
   "source": [
    "import os\n",
    "import torch\n",
    "import torch.nn as nn\n",
    "import torchvision.datasets as datasets\n",
    "from skimage import transform\n",
    "import torchvision.transforms as transforms\n",
    "from torch.autograd import Variable\n",
    "from torch.utils.data import Dataset, DataLoader\n",
    "# from vis_utils import *\n",
    "import matplotlib.pyplot as plt\n",
    "\n",
    "import pandas as pd\n",
    "import numpy as np\n",
    "import random \n",
    "import math"
   ]
  },
  {
   "cell_type": "code",
   "execution_count": 116,
   "metadata": {},
   "outputs": [],
   "source": [
    "data_train_src = datasets.FashionMNIST(root=dataset_dir, train=True, download=True, transform=trans)\n",
    "data_test_src = datasets.FashionMNIST(root=dataset_dir, train=False, download=True, transform=trans)"
   ]
  },
  {
   "cell_type": "code",
   "execution_count": 117,
   "metadata": {},
   "outputs": [],
   "source": [
    "data_train_loader = DataLoader(data_train_src, batch_size=4)"
   ]
  },
  {
   "cell_type": "code",
   "execution_count": 118,
   "metadata": {},
   "outputs": [
    {
     "ename": "TypeError",
     "evalue": "pic should be Tensor or ndarray. Got <class 'PIL.Image.Image'>.",
     "output_type": "error",
     "traceback": [
      "\u001b[0;31m---------------------------------------------------------------------------\u001b[0m",
      "\u001b[0;31mTypeError\u001b[0m                                 Traceback (most recent call last)",
      "\u001b[0;32m<ipython-input-118-39c4b88108c5>\u001b[0m in \u001b[0;36m<module>\u001b[0;34m\u001b[0m\n\u001b[0;32m----> 1\u001b[0;31m \u001b[0;32mfor\u001b[0m \u001b[0mX\u001b[0m\u001b[0;34m,\u001b[0m\u001b[0my\u001b[0m \u001b[0;32min\u001b[0m \u001b[0mdata_train_loader\u001b[0m\u001b[0;34m:\u001b[0m\u001b[0;34m\u001b[0m\u001b[0;34m\u001b[0m\u001b[0m\n\u001b[0m\u001b[1;32m      2\u001b[0m     \u001b[0;32mbreak\u001b[0m\u001b[0;34m\u001b[0m\u001b[0;34m\u001b[0m\u001b[0m\n",
      "\u001b[0;32m/anaconda3/envs/dm/lib/python3.7/site-packages/torch/utils/data/dataloader.py\u001b[0m in \u001b[0;36m__next__\u001b[0;34m(self)\u001b[0m\n\u001b[1;32m    613\u001b[0m         \u001b[0;32mif\u001b[0m \u001b[0mself\u001b[0m\u001b[0;34m.\u001b[0m\u001b[0mnum_workers\u001b[0m \u001b[0;34m==\u001b[0m \u001b[0;36m0\u001b[0m\u001b[0;34m:\u001b[0m  \u001b[0;31m# same-process loading\u001b[0m\u001b[0;34m\u001b[0m\u001b[0;34m\u001b[0m\u001b[0m\n\u001b[1;32m    614\u001b[0m             \u001b[0mindices\u001b[0m \u001b[0;34m=\u001b[0m \u001b[0mnext\u001b[0m\u001b[0;34m(\u001b[0m\u001b[0mself\u001b[0m\u001b[0;34m.\u001b[0m\u001b[0msample_iter\u001b[0m\u001b[0;34m)\u001b[0m  \u001b[0;31m# may raise StopIteration\u001b[0m\u001b[0;34m\u001b[0m\u001b[0;34m\u001b[0m\u001b[0m\n\u001b[0;32m--> 615\u001b[0;31m             \u001b[0mbatch\u001b[0m \u001b[0;34m=\u001b[0m \u001b[0mself\u001b[0m\u001b[0;34m.\u001b[0m\u001b[0mcollate_fn\u001b[0m\u001b[0;34m(\u001b[0m\u001b[0;34m[\u001b[0m\u001b[0mself\u001b[0m\u001b[0;34m.\u001b[0m\u001b[0mdataset\u001b[0m\u001b[0;34m[\u001b[0m\u001b[0mi\u001b[0m\u001b[0;34m]\u001b[0m \u001b[0;32mfor\u001b[0m \u001b[0mi\u001b[0m \u001b[0;32min\u001b[0m \u001b[0mindices\u001b[0m\u001b[0;34m]\u001b[0m\u001b[0;34m)\u001b[0m\u001b[0;34m\u001b[0m\u001b[0;34m\u001b[0m\u001b[0m\n\u001b[0m\u001b[1;32m    616\u001b[0m             \u001b[0;32mif\u001b[0m \u001b[0mself\u001b[0m\u001b[0;34m.\u001b[0m\u001b[0mpin_memory\u001b[0m\u001b[0;34m:\u001b[0m\u001b[0;34m\u001b[0m\u001b[0;34m\u001b[0m\u001b[0m\n\u001b[1;32m    617\u001b[0m                 \u001b[0mbatch\u001b[0m \u001b[0;34m=\u001b[0m \u001b[0mpin_memory_batch\u001b[0m\u001b[0;34m(\u001b[0m\u001b[0mbatch\u001b[0m\u001b[0;34m)\u001b[0m\u001b[0;34m\u001b[0m\u001b[0;34m\u001b[0m\u001b[0m\n",
      "\u001b[0;32m/anaconda3/envs/dm/lib/python3.7/site-packages/torch/utils/data/dataloader.py\u001b[0m in \u001b[0;36m<listcomp>\u001b[0;34m(.0)\u001b[0m\n\u001b[1;32m    613\u001b[0m         \u001b[0;32mif\u001b[0m \u001b[0mself\u001b[0m\u001b[0;34m.\u001b[0m\u001b[0mnum_workers\u001b[0m \u001b[0;34m==\u001b[0m \u001b[0;36m0\u001b[0m\u001b[0;34m:\u001b[0m  \u001b[0;31m# same-process loading\u001b[0m\u001b[0;34m\u001b[0m\u001b[0;34m\u001b[0m\u001b[0m\n\u001b[1;32m    614\u001b[0m             \u001b[0mindices\u001b[0m \u001b[0;34m=\u001b[0m \u001b[0mnext\u001b[0m\u001b[0;34m(\u001b[0m\u001b[0mself\u001b[0m\u001b[0;34m.\u001b[0m\u001b[0msample_iter\u001b[0m\u001b[0;34m)\u001b[0m  \u001b[0;31m# may raise StopIteration\u001b[0m\u001b[0;34m\u001b[0m\u001b[0;34m\u001b[0m\u001b[0m\n\u001b[0;32m--> 615\u001b[0;31m             \u001b[0mbatch\u001b[0m \u001b[0;34m=\u001b[0m \u001b[0mself\u001b[0m\u001b[0;34m.\u001b[0m\u001b[0mcollate_fn\u001b[0m\u001b[0;34m(\u001b[0m\u001b[0;34m[\u001b[0m\u001b[0mself\u001b[0m\u001b[0;34m.\u001b[0m\u001b[0mdataset\u001b[0m\u001b[0;34m[\u001b[0m\u001b[0mi\u001b[0m\u001b[0;34m]\u001b[0m \u001b[0;32mfor\u001b[0m \u001b[0mi\u001b[0m \u001b[0;32min\u001b[0m \u001b[0mindices\u001b[0m\u001b[0;34m]\u001b[0m\u001b[0;34m)\u001b[0m\u001b[0;34m\u001b[0m\u001b[0;34m\u001b[0m\u001b[0m\n\u001b[0m\u001b[1;32m    616\u001b[0m             \u001b[0;32mif\u001b[0m \u001b[0mself\u001b[0m\u001b[0;34m.\u001b[0m\u001b[0mpin_memory\u001b[0m\u001b[0;34m:\u001b[0m\u001b[0;34m\u001b[0m\u001b[0;34m\u001b[0m\u001b[0m\n\u001b[1;32m    617\u001b[0m                 \u001b[0mbatch\u001b[0m \u001b[0;34m=\u001b[0m \u001b[0mpin_memory_batch\u001b[0m\u001b[0;34m(\u001b[0m\u001b[0mbatch\u001b[0m\u001b[0;34m)\u001b[0m\u001b[0;34m\u001b[0m\u001b[0;34m\u001b[0m\u001b[0m\n",
      "\u001b[0;32m/anaconda3/envs/dm/lib/python3.7/site-packages/torchvision/datasets/mnist.py\u001b[0m in \u001b[0;36m__getitem__\u001b[0;34m(self, index)\u001b[0m\n\u001b[1;32m     93\u001b[0m \u001b[0;34m\u001b[0m\u001b[0m\n\u001b[1;32m     94\u001b[0m         \u001b[0;32mif\u001b[0m \u001b[0mself\u001b[0m\u001b[0;34m.\u001b[0m\u001b[0mtransform\u001b[0m \u001b[0;32mis\u001b[0m \u001b[0;32mnot\u001b[0m \u001b[0;32mNone\u001b[0m\u001b[0;34m:\u001b[0m\u001b[0;34m\u001b[0m\u001b[0;34m\u001b[0m\u001b[0m\n\u001b[0;32m---> 95\u001b[0;31m             \u001b[0mimg\u001b[0m \u001b[0;34m=\u001b[0m \u001b[0mself\u001b[0m\u001b[0;34m.\u001b[0m\u001b[0mtransform\u001b[0m\u001b[0;34m(\u001b[0m\u001b[0mimg\u001b[0m\u001b[0;34m)\u001b[0m\u001b[0;34m\u001b[0m\u001b[0;34m\u001b[0m\u001b[0m\n\u001b[0m\u001b[1;32m     96\u001b[0m \u001b[0;34m\u001b[0m\u001b[0m\n\u001b[1;32m     97\u001b[0m         \u001b[0;32mif\u001b[0m \u001b[0mself\u001b[0m\u001b[0;34m.\u001b[0m\u001b[0mtarget_transform\u001b[0m \u001b[0;32mis\u001b[0m \u001b[0;32mnot\u001b[0m \u001b[0;32mNone\u001b[0m\u001b[0;34m:\u001b[0m\u001b[0;34m\u001b[0m\u001b[0;34m\u001b[0m\u001b[0m\n",
      "\u001b[0;32m/anaconda3/envs/dm/lib/python3.7/site-packages/torchvision/transforms/transforms.py\u001b[0m in \u001b[0;36m__call__\u001b[0;34m(self, img)\u001b[0m\n\u001b[1;32m     58\u001b[0m     \u001b[0;32mdef\u001b[0m \u001b[0m__call__\u001b[0m\u001b[0;34m(\u001b[0m\u001b[0mself\u001b[0m\u001b[0;34m,\u001b[0m \u001b[0mimg\u001b[0m\u001b[0;34m)\u001b[0m\u001b[0;34m:\u001b[0m\u001b[0;34m\u001b[0m\u001b[0;34m\u001b[0m\u001b[0m\n\u001b[1;32m     59\u001b[0m         \u001b[0;32mfor\u001b[0m \u001b[0mt\u001b[0m \u001b[0;32min\u001b[0m \u001b[0mself\u001b[0m\u001b[0;34m.\u001b[0m\u001b[0mtransforms\u001b[0m\u001b[0;34m:\u001b[0m\u001b[0;34m\u001b[0m\u001b[0;34m\u001b[0m\u001b[0m\n\u001b[0;32m---> 60\u001b[0;31m             \u001b[0mimg\u001b[0m \u001b[0;34m=\u001b[0m \u001b[0mt\u001b[0m\u001b[0;34m(\u001b[0m\u001b[0mimg\u001b[0m\u001b[0;34m)\u001b[0m\u001b[0;34m\u001b[0m\u001b[0;34m\u001b[0m\u001b[0m\n\u001b[0m\u001b[1;32m     61\u001b[0m         \u001b[0;32mreturn\u001b[0m \u001b[0mimg\u001b[0m\u001b[0;34m\u001b[0m\u001b[0;34m\u001b[0m\u001b[0m\n\u001b[1;32m     62\u001b[0m \u001b[0;34m\u001b[0m\u001b[0m\n",
      "\u001b[0;32m/anaconda3/envs/dm/lib/python3.7/site-packages/torchvision/transforms/transforms.py\u001b[0m in \u001b[0;36m__call__\u001b[0;34m(self, pic)\u001b[0m\n\u001b[1;32m    124\u001b[0m \u001b[0;34m\u001b[0m\u001b[0m\n\u001b[1;32m    125\u001b[0m         \"\"\"\n\u001b[0;32m--> 126\u001b[0;31m         \u001b[0;32mreturn\u001b[0m \u001b[0mF\u001b[0m\u001b[0;34m.\u001b[0m\u001b[0mto_pil_image\u001b[0m\u001b[0;34m(\u001b[0m\u001b[0mpic\u001b[0m\u001b[0;34m,\u001b[0m \u001b[0mself\u001b[0m\u001b[0;34m.\u001b[0m\u001b[0mmode\u001b[0m\u001b[0;34m)\u001b[0m\u001b[0;34m\u001b[0m\u001b[0;34m\u001b[0m\u001b[0m\n\u001b[0m\u001b[1;32m    127\u001b[0m \u001b[0;34m\u001b[0m\u001b[0m\n\u001b[1;32m    128\u001b[0m     \u001b[0;32mdef\u001b[0m \u001b[0m__repr__\u001b[0m\u001b[0;34m(\u001b[0m\u001b[0mself\u001b[0m\u001b[0;34m)\u001b[0m\u001b[0;34m:\u001b[0m\u001b[0;34m\u001b[0m\u001b[0;34m\u001b[0m\u001b[0m\n",
      "\u001b[0;32m/anaconda3/envs/dm/lib/python3.7/site-packages/torchvision/transforms/functional.py\u001b[0m in \u001b[0;36mto_pil_image\u001b[0;34m(pic, mode)\u001b[0m\n\u001b[1;32m    110\u001b[0m     \"\"\"\n\u001b[1;32m    111\u001b[0m     \u001b[0;32mif\u001b[0m \u001b[0;32mnot\u001b[0m\u001b[0;34m(\u001b[0m\u001b[0misinstance\u001b[0m\u001b[0;34m(\u001b[0m\u001b[0mpic\u001b[0m\u001b[0;34m,\u001b[0m \u001b[0mtorch\u001b[0m\u001b[0;34m.\u001b[0m\u001b[0mTensor\u001b[0m\u001b[0;34m)\u001b[0m \u001b[0;32mor\u001b[0m \u001b[0misinstance\u001b[0m\u001b[0;34m(\u001b[0m\u001b[0mpic\u001b[0m\u001b[0;34m,\u001b[0m \u001b[0mnp\u001b[0m\u001b[0;34m.\u001b[0m\u001b[0mndarray\u001b[0m\u001b[0;34m)\u001b[0m\u001b[0;34m)\u001b[0m\u001b[0;34m:\u001b[0m\u001b[0;34m\u001b[0m\u001b[0;34m\u001b[0m\u001b[0m\n\u001b[0;32m--> 112\u001b[0;31m         \u001b[0;32mraise\u001b[0m \u001b[0mTypeError\u001b[0m\u001b[0;34m(\u001b[0m\u001b[0;34m'pic should be Tensor or ndarray. Got {}.'\u001b[0m\u001b[0;34m.\u001b[0m\u001b[0mformat\u001b[0m\u001b[0;34m(\u001b[0m\u001b[0mtype\u001b[0m\u001b[0;34m(\u001b[0m\u001b[0mpic\u001b[0m\u001b[0;34m)\u001b[0m\u001b[0;34m)\u001b[0m\u001b[0;34m)\u001b[0m\u001b[0;34m\u001b[0m\u001b[0;34m\u001b[0m\u001b[0m\n\u001b[0m\u001b[1;32m    113\u001b[0m \u001b[0;34m\u001b[0m\u001b[0m\n\u001b[1;32m    114\u001b[0m     \u001b[0;32melif\u001b[0m \u001b[0misinstance\u001b[0m\u001b[0;34m(\u001b[0m\u001b[0mpic\u001b[0m\u001b[0;34m,\u001b[0m \u001b[0mtorch\u001b[0m\u001b[0;34m.\u001b[0m\u001b[0mTensor\u001b[0m\u001b[0;34m)\u001b[0m\u001b[0;34m:\u001b[0m\u001b[0;34m\u001b[0m\u001b[0;34m\u001b[0m\u001b[0m\n",
      "\u001b[0;31mTypeError\u001b[0m: pic should be Tensor or ndarray. Got <class 'PIL.Image.Image'>."
     ]
    }
   ],
   "source": [
    "for X,y in data_train_loader:\n",
    "    break"
   ]
  },
  {
   "cell_type": "code",
   "execution_count": 119,
   "metadata": {},
   "outputs": [
    {
     "data": {
      "text/plain": [
       "torch.Size([60000, 28, 28])"
      ]
     },
     "execution_count": 119,
     "metadata": {},
     "output_type": "execute_result"
    }
   ],
   "source": [
    "data_train.data.shape"
   ]
  },
  {
   "cell_type": "code",
   "execution_count": 120,
   "metadata": {},
   "outputs": [
    {
     "data": {
      "text/plain": [
       "<matplotlib.image.AxesImage at 0x1c2afefa90>"
      ]
     },
     "execution_count": 120,
     "metadata": {},
     "output_type": "execute_result"
    },
    {
     "data": {
      "image/png": "[encoded data removed]",
      "text/plain": [
       "<Figure size 432x288 with 1 Axes>"
      ]
     },
     "metadata": {
      "needs_background": "light"
     },
     "output_type": "display_data"
    }
   ],
   "source": [
    "plt.imshow(data_train.data[0], cmap=plt.cm.gray)"
   ]
  },
  {
   "cell_type": "markdown",
   "metadata": {},
   "source": [
    "### Hyperparameters"
   ]
  },
  {
   "cell_type": "code",
   "execution_count": 138,
   "metadata": {},
   "outputs": [],
   "source": [
    "num_epochs = 25\n",
    "batch_size = 100\n",
    "learning_rate = 0.001"
   ]
  },
  {
   "cell_type": "markdown",
   "metadata": {},
   "source": [
    "### Data loading"
   ]
  },
  {
   "cell_type": "code",
   "execution_count": 122,
   "metadata": {},
   "outputs": [],
   "source": [
    "class FashionMNISTDataset(Dataset):\n",
    "    def __init__(self, csv_file, transform=None):\n",
    "        '''\n",
    "        csv_file (string): Path to csv file\n",
    "        transform (callable): Optional transform to apply to sample\n",
    "        '''\n",
    "        \n",
    "        # Load data into dataframe and convert to numpy for indexing\n",
    "        data = pd.read_csv(csv_file)\n",
    "        self.X = np.array(data.iloc[:, 1:]).reshape(-1, 1, 28, 28) \n",
    "        self.Y = np.array(data.iloc[:, 0])\n",
    "        \n",
    "        del data\n",
    "        self.transform = transform\n",
    "        \n",
    "    def __len__(self):\n",
    "        return len(self.X)\n",
    "    \n",
    "    # Return a single img and its label from loader\n",
    "    def __getitem__(self, idx):\n",
    "        item = self.X[idx]\n",
    "        label = self.Y[idx]\n",
    "        \n",
    "        # Transform inputs before returning\n",
    "        if self.transform:\n",
    "            item = self.transform(item)\n",
    "            \n",
    "        return item, label"
   ]
  },
  {
   "cell_type": "markdown",
   "metadata": {},
   "source": [
    "#### Get data readers"
   ]
  },
  {
   "cell_type": "code",
   "execution_count": 123,
   "metadata": {},
   "outputs": [],
   "source": [
    "train_dataset = FashionMNISTDataset(csv_file='fashionmnist/fashion-mnist_train.csv')\n",
    "test_dataset = FashionMNISTDataset(csv_file='fashionmnist/fashion-mnist_test.csv')"
   ]
  },
  {
   "cell_type": "markdown",
   "metadata": {},
   "source": [
    "#### Define data loaders"
   ]
  },
  {
   "cell_type": "code",
   "execution_count": 124,
   "metadata": {},
   "outputs": [],
   "source": [
    "train_loader = torch.utils.data.DataLoader(dataset=train_dataset, \n",
    "                                     batch_size=batch_size,\n",
    "                                     shuffle=True)\n",
    "\n",
    "test_loader = torch.utils.data.DataLoader(dataset=test_dataset,\n",
    "                                    batch_size=batch_size,\n",
    "                                    shuffle=True)"
   ]
  },
  {
   "cell_type": "markdown",
   "metadata": {},
   "source": [
    "#### Iterate over loader the loader, get items in batch to process on\n",
    "\n",
    "Also use data reader to visualize some images and see the dataset."
   ]
  },
  {
   "cell_type": "code",
   "execution_count": 125,
   "metadata": {},
   "outputs": [],
   "source": [
    "labels_map = {\n",
    "    0: 'T-shirt',\n",
    "    1: 'Trouser',\n",
    "    2: 'Pullover',\n",
    "    3: 'Dress',\n",
    "    4: 'Coat',\n",
    "    5: 'Sandal',\n",
    "    6: 'Shirt', \n",
    "    7: 'Sneaker',\n",
    "    8: 'Bag',\n",
    "    9: 'Ankle Boot'\n",
    "}"
   ]
  },
  {
   "cell_type": "code",
   "execution_count": 126,
   "metadata": {},
   "outputs": [
    {
     "data": {
      "image/png": "[encoded data removed]",
      "text/plain": [
       "<Figure size 576x576 with 20 Axes>"
      ]
     },
     "metadata": {
      "needs_background": "light"
     },
     "output_type": "display_data"
    }
   ],
   "source": [
    "fig = plt.figure(figsize=(8,8))\n",
    "fig.subplots_adjust(wspace=None, hspace=0.3)\n",
    "columns = 4\n",
    "rows = 5\n",
    "\n",
    "for i in range(1, columns*rows + 1):\n",
    "    img_xy = np.random.randint(len(train_dataset))\n",
    "    img = train_dataset[img_xy][0][0,:,:]\n",
    "    fig.add_subplot(rows, columns, i)\n",
    "    plt.title(labels_map[train_dataset[img_xy][1]])\n",
    "    plt.axis('off')\n",
    "    plt.imshow(img, cmap='gray')"
   ]
  },
  {
   "cell_type": "markdown",
   "metadata": {},
   "source": [
    "### The neural network"
   ]
  },
  {
   "cell_type": "markdown",
   "metadata": {},
   "source": [
    "Implement the neural network graph, which is easier and more intuitive in PyTorch than Keras and TensorFlow.\n",
    "\n",
    "In PyTorch, the neural networks are inherited from the ```nn.Module``` class and define the graph in the constructor. "
   ]
  },
  {
   "cell_type": "code",
   "execution_count": 127,
   "metadata": {},
   "outputs": [],
   "source": [
    "class CNN(nn.Module):\n",
    "    def __init__(self):\n",
    "        '''\n",
    "        In this constructor, define layers using provided modiles from nn package.\n",
    "        A Sequential is defined by a sequence of a layer, normalization, activation, pooling.\n",
    "        '''\n",
    "        super(CNN, self).__init__()\n",
    "        \n",
    "        self.layer1 = nn.Sequential(\n",
    "            # Conv layer: nn.Conv2d(in_channels, out_channels, kernel_size, padding, stride)\n",
    "            nn.Conv2d(1, 16, kernel_size=5, padding=2),  \n",
    "            nn.BatchNorm2d(16),\n",
    "            nn.ReLU(),\n",
    "            nn.MaxPool2d(2))\n",
    "        \n",
    "        self.layer2 = nn.Sequential(\n",
    "            nn.Conv2d(16, 32, kernel_size=5, padding=2),\n",
    "            nn.BatchNorm2d(32),\n",
    "            nn.ReLU(),\n",
    "            nn.MaxPool2d(2))\n",
    "        \n",
    "        # After 2 conv layers & activations, end network with Fully Connected layer \n",
    "        # that outputs to 10 classes\n",
    "        self.fc = nn.Linear(7*7*32, 10)\n",
    "        \n",
    "    def forward(self, x):\n",
    "        ''' \n",
    "        This function is called on the net for a set of inputs,\n",
    "        and it passes that input through different layers defined above.\n",
    "        \n",
    "        For ex, we pass x through first layer, pass its output through\n",
    "        second layer, and pass that through the final FC layer to get \n",
    "        final output. \n",
    "        '''\n",
    "        out = self.layer1(x)\n",
    "        out = self.layer2(out)\n",
    "        \n",
    "        # Reshape output to match dims required for final layer\n",
    "        out = out.view(out.size(0), -1) \n",
    "        out = self.fc(out)\n",
    "        \n",
    "        return out\n",
    "        "
   ]
  },
  {
   "cell_type": "markdown",
   "metadata": {},
   "source": [
    "### Training the model\n",
    "\n",
    "After defining the neural network graph, declare the loss function to optimize, and start training model."
   ]
  },
  {
   "cell_type": "code",
   "execution_count": 128,
   "metadata": {},
   "outputs": [],
   "source": [
    "# Instantiate an instance of the conv net\n",
    "cnn = CNN()\n",
    "\n",
    "# Loss function and optimizer\n",
    "criterion = nn.CrossEntropyLoss()\n",
    "optimizer = torch.optim.Adam(cnn.parameters(), lr=learning_rate)"
   ]
  },
  {
   "cell_type": "markdown",
   "metadata": {},
   "source": [
    "#### Train!\n",
    "\n",
    "Iterate over a batch of images in ```train_loader```. For each batch: <br>\n",
    "- Zero out gradients in the optimizer. Bc ```backward()``` acccumulates gradients, we should not mix values bw mini batches.\n",
    "- Feed data through cnn. This calls ```forward()``` and gets its output.\n",
    "- Calculate the loss based on outputs and actual labels.\n",
    "- Backprop the gradients. \n",
    "- Update parameters based on the back propagated values"
   ]
  },
  {
   "cell_type": "code",
   "execution_count": null,
   "metadata": {
    "scrolled": true
   },
   "outputs": [
    {
     "name": "stdout",
     "output_type": "stream",
     "text": [
      "Epoch: 1/25, Iter: 100/600, Loss: 0.111\n",
      "Epoch: 1/25, Iter: 200/600, Loss: 0.308\n",
      "Epoch: 1/25, Iter: 300/600, Loss: 0.161\n",
      "Epoch: 1/25, Iter: 400/600, Loss: 0.256\n",
      "Epoch: 1/25, Iter: 500/600, Loss: 0.278\n",
      "Epoch: 1/25, Iter: 600/600, Loss: 0.282\n",
      "Epoch: 2/25, Iter: 100/600, Loss: 0.162\n",
      "Epoch: 2/25, Iter: 200/600, Loss: 0.163\n",
      "Epoch: 2/25, Iter: 300/600, Loss: 0.138\n",
      "Epoch: 2/25, Iter: 400/600, Loss: 0.149\n",
      "Epoch: 2/25, Iter: 500/600, Loss: 0.145\n",
      "Epoch: 2/25, Iter: 600/600, Loss: 0.130\n",
      "Epoch: 3/25, Iter: 100/600, Loss: 0.204\n",
      "Epoch: 3/25, Iter: 200/600, Loss: 0.176\n",
      "Epoch: 3/25, Iter: 300/600, Loss: 0.139\n",
      "Epoch: 3/25, Iter: 400/600, Loss: 0.215\n",
      "Epoch: 3/25, Iter: 500/600, Loss: 0.109\n",
      "Epoch: 3/25, Iter: 600/600, Loss: 0.231\n",
      "Epoch: 4/25, Iter: 100/600, Loss: 0.095\n",
      "Epoch: 4/25, Iter: 200/600, Loss: 0.135\n",
      "Epoch: 4/25, Iter: 300/600, Loss: 0.151\n",
      "Epoch: 4/25, Iter: 400/600, Loss: 0.160\n",
      "Epoch: 4/25, Iter: 500/600, Loss: 0.117\n",
      "Epoch: 4/25, Iter: 600/600, Loss: 0.193\n",
      "Epoch: 5/25, Iter: 100/600, Loss: 0.107\n",
      "Epoch: 5/25, Iter: 200/600, Loss: 0.220\n",
      "Epoch: 5/25, Iter: 300/600, Loss: 0.141\n",
      "Epoch: 5/25, Iter: 400/600, Loss: 0.144\n",
      "Epoch: 5/25, Iter: 500/600, Loss: 0.142\n",
      "Epoch: 5/25, Iter: 600/600, Loss: 0.130\n",
      "Epoch: 6/25, Iter: 100/600, Loss: 0.217\n",
      "Epoch: 6/25, Iter: 200/600, Loss: 0.155\n",
      "Epoch: 6/25, Iter: 300/600, Loss: 0.208\n",
      "Epoch: 6/25, Iter: 400/600, Loss: 0.142\n",
      "Epoch: 6/25, Iter: 500/600, Loss: 0.101\n",
      "Epoch: 6/25, Iter: 600/600, Loss: 0.239\n",
      "Epoch: 7/25, Iter: 100/600, Loss: 0.274\n",
      "Epoch: 7/25, Iter: 200/600, Loss: 0.127\n",
      "Epoch: 7/25, Iter: 300/600, Loss: 0.168\n",
      "Epoch: 7/25, Iter: 400/600, Loss: 0.163\n",
      "Epoch: 7/25, Iter: 500/600, Loss: 0.185\n",
      "Epoch: 7/25, Iter: 600/600, Loss: 0.220\n",
      "Epoch: 8/25, Iter: 100/600, Loss: 0.104\n",
      "Epoch: 8/25, Iter: 200/600, Loss: 0.117\n",
      "Epoch: 8/25, Iter: 300/600, Loss: 0.171\n",
      "Epoch: 8/25, Iter: 400/600, Loss: 0.177\n",
      "Epoch: 8/25, Iter: 500/600, Loss: 0.097\n",
      "Epoch: 8/25, Iter: 600/600, Loss: 0.238\n",
      "Epoch: 9/25, Iter: 100/600, Loss: 0.104\n",
      "Epoch: 9/25, Iter: 200/600, Loss: 0.160\n",
      "Epoch: 9/25, Iter: 300/600, Loss: 0.106\n",
      "Epoch: 9/25, Iter: 400/600, Loss: 0.061\n",
      "Epoch: 9/25, Iter: 500/600, Loss: 0.172\n",
      "Epoch: 9/25, Iter: 600/600, Loss: 0.140\n",
      "Epoch: 10/25, Iter: 100/600, Loss: 0.080\n",
      "Epoch: 10/25, Iter: 200/600, Loss: 0.085\n",
      "Epoch: 10/25, Iter: 300/600, Loss: 0.073\n",
      "Epoch: 10/25, Iter: 400/600, Loss: 0.182\n",
      "Epoch: 10/25, Iter: 500/600, Loss: 0.186\n",
      "Epoch: 10/25, Iter: 600/600, Loss: 0.136\n",
      "Epoch: 11/25, Iter: 100/600, Loss: 0.151\n",
      "Epoch: 11/25, Iter: 200/600, Loss: 0.055\n",
      "Epoch: 11/25, Iter: 300/600, Loss: 0.052\n",
      "Epoch: 11/25, Iter: 400/600, Loss: 0.096\n",
      "Epoch: 11/25, Iter: 500/600, Loss: 0.057\n",
      "Epoch: 11/25, Iter: 600/600, Loss: 0.135\n",
      "Epoch: 12/25, Iter: 100/600, Loss: 0.071\n",
      "Epoch: 12/25, Iter: 200/600, Loss: 0.077\n",
      "Epoch: 12/25, Iter: 300/600, Loss: 0.057\n",
      "Epoch: 12/25, Iter: 400/600, Loss: 0.181\n",
      "Epoch: 12/25, Iter: 500/600, Loss: 0.070\n",
      "Epoch: 12/25, Iter: 600/600, Loss: 0.075\n",
      "Epoch: 13/25, Iter: 100/600, Loss: 0.036\n",
      "Epoch: 13/25, Iter: 200/600, Loss: 0.094\n",
      "Epoch: 13/25, Iter: 300/600, Loss: 0.120\n",
      "Epoch: 13/25, Iter: 400/600, Loss: 0.068\n",
      "Epoch: 13/25, Iter: 500/600, Loss: 0.151\n",
      "Epoch: 13/25, Iter: 600/600, Loss: 0.123\n",
      "Epoch: 14/25, Iter: 100/600, Loss: 0.089\n",
      "Epoch: 14/25, Iter: 200/600, Loss: 0.197\n",
      "Epoch: 14/25, Iter: 300/600, Loss: 0.056\n",
      "Epoch: 14/25, Iter: 400/600, Loss: 0.187\n",
      "Epoch: 14/25, Iter: 500/600, Loss: 0.101\n",
      "Epoch: 14/25, Iter: 600/600, Loss: 0.129\n",
      "Epoch: 15/25, Iter: 100/600, Loss: 0.086\n",
      "Epoch: 15/25, Iter: 200/600, Loss: 0.110\n",
      "Epoch: 15/25, Iter: 300/600, Loss: 0.073\n",
      "Epoch: 15/25, Iter: 400/600, Loss: 0.072\n",
      "Epoch: 15/25, Iter: 500/600, Loss: 0.120\n",
      "Epoch: 15/25, Iter: 600/600, Loss: 0.089\n",
      "Epoch: 16/25, Iter: 100/600, Loss: 0.094\n",
      "Epoch: 16/25, Iter: 200/600, Loss: 0.069\n",
      "Epoch: 16/25, Iter: 300/600, Loss: 0.215\n",
      "Epoch: 16/25, Iter: 400/600, Loss: 0.033\n",
      "Epoch: 16/25, Iter: 500/600, Loss: 0.059\n",
      "Epoch: 16/25, Iter: 600/600, Loss: 0.084\n",
      "Epoch: 17/25, Iter: 100/600, Loss: 0.091\n",
      "Epoch: 17/25, Iter: 200/600, Loss: 0.052\n",
      "Epoch: 17/25, Iter: 300/600, Loss: 0.112\n",
      "Epoch: 17/25, Iter: 400/600, Loss: 0.090\n",
      "Epoch: 17/25, Iter: 500/600, Loss: 0.066\n",
      "Epoch: 17/25, Iter: 600/600, Loss: 0.120\n",
      "Epoch: 18/25, Iter: 100/600, Loss: 0.079\n",
      "Epoch: 18/25, Iter: 200/600, Loss: 0.066\n",
      "Epoch: 18/25, Iter: 300/600, Loss: 0.060\n",
      "Epoch: 18/25, Iter: 400/600, Loss: 0.120\n",
      "Epoch: 18/25, Iter: 500/600, Loss: 0.069\n",
      "Epoch: 18/25, Iter: 600/600, Loss: 0.077\n",
      "Epoch: 19/25, Iter: 100/600, Loss: 0.031\n",
      "Epoch: 19/25, Iter: 200/600, Loss: 0.062\n",
      "Epoch: 19/25, Iter: 300/600, Loss: 0.055\n",
      "Epoch: 19/25, Iter: 400/600, Loss: 0.034\n",
      "Epoch: 19/25, Iter: 500/600, Loss: 0.061\n",
      "Epoch: 19/25, Iter: 600/600, Loss: 0.099\n",
      "Epoch: 20/25, Iter: 100/600, Loss: 0.047\n",
      "Epoch: 20/25, Iter: 200/600, Loss: 0.058\n",
      "Epoch: 20/25, Iter: 300/600, Loss: 0.236\n",
      "Epoch: 20/25, Iter: 400/600, Loss: 0.097\n",
      "Epoch: 20/25, Iter: 500/600, Loss: 0.109\n",
      "Epoch: 20/25, Iter: 600/600, Loss: 0.106\n",
      "Epoch: 21/25, Iter: 100/600, Loss: 0.036\n",
      "Epoch: 21/25, Iter: 200/600, Loss: 0.081\n",
      "Epoch: 21/25, Iter: 300/600, Loss: 0.039\n",
      "Epoch: 21/25, Iter: 400/600, Loss: 0.061\n",
      "Epoch: 21/25, Iter: 500/600, Loss: 0.035\n",
      "Epoch: 21/25, Iter: 600/600, Loss: 0.058\n",
      "Epoch: 22/25, Iter: 100/600, Loss: 0.062\n",
      "Epoch: 22/25, Iter: 200/600, Loss: 0.051\n",
      "Epoch: 22/25, Iter: 300/600, Loss: 0.059\n",
      "Epoch: 22/25, Iter: 400/600, Loss: 0.031\n",
      "Epoch: 22/25, Iter: 500/600, Loss: 0.072\n",
      "Epoch: 22/25, Iter: 600/600, Loss: 0.084\n",
      "Epoch: 23/25, Iter: 100/600, Loss: 0.064\n",
      "Epoch: 23/25, Iter: 200/600, Loss: 0.055\n"
     ]
    }
   ],
   "source": [
    "losses = []\n",
    "for epoch in range(num_epochs):\n",
    "    for i, (images, labels) in enumerate(train_loader):\n",
    "        images = Variable(images.float())\n",
    "        labels = Variable(labels)\n",
    "        \n",
    "        # Forward + Backward + Optimize\n",
    "        optimizer.zero_grad()\n",
    "        outputs = cnn(images)\n",
    "        loss = criterion(outputs, labels)\n",
    "        loss.backward()\n",
    "        optimizer.step()\n",
    "        \n",
    "        # Add loss values to array to print out progress of training\n",
    "        losses.append(loss.data) \n",
    "        \n",
    "        if (i+1) % 100 == 0:\n",
    "            batch = len(train_dataset)//batch_size\n",
    "            print(f'Epoch: {epoch+1}/{num_epochs}, Iter: {i+1}/{batch}, Loss: {loss.data:.3f}')\n",
    "            \n",
    "            "
   ]
  },
  {
   "cell_type": "markdown",
   "metadata": {},
   "source": [
    "### Evaluate the model on test set"
   ]
  },
  {
   "cell_type": "code",
   "execution_count": null,
   "metadata": {},
   "outputs": [],
   "source": [
    "cnn.eval()\n",
    "correct = 0\n",
    "total = 0\n",
    "for images, labels in test_loader:\n",
    "    images = Variable(images.float())\n",
    "    outputs = cnn(images)\n",
    "    _, predicted = torch.max()"
   ]
  }
 ],
 "metadata": {
  "kernelspec": {
   "display_name": "Python 3",
   "language": "python",
   "name": "python3"
  },
  "language_info": {
   "codemirror_mode": {
    "name": "ipython",
    "version": 3
   },
   "file_extension": ".py",
   "mimetype": "text/x-python",
   "name": "python",
   "nbconvert_exporter": "python",
   "pygments_lexer": "ipython3",
   "version": "3.7.2"
  },
  "toc": {
   "base_numbering": 1,
   "nav_menu": {},
   "number_sections": true,
   "sideBar": true,
   "skip_h1_title": false,
   "title_cell": "Table of Contents",
   "title_sidebar": "Contents",
   "toc_cell": false,
   "toc_position": {},
   "toc_section_display": true,
   "toc_window_display": false
  }
 },
 "nbformat": 4,
 "nbformat_minor": 2
}
