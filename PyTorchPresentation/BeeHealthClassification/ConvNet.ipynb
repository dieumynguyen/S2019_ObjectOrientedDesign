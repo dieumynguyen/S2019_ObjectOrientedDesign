{
 "cells": [
  {
   "cell_type": "code",
   "execution_count": 217,
   "metadata": {},
   "outputs": [],
   "source": [
    "import glob\n",
    "import numpy as np\n",
    "import pandas as pd\n",
    "import cv2\n",
    "import random \n",
    "import math\n",
    "import os\n",
    "import ipynb\n",
    "import importlib\n",
    "import seaborn as sns\n",
    "\n",
    "import torch\n",
    "import torch.nn as nn\n",
    "from torch.utils.data import Dataset, DataLoader\n",
    "import torch.nn.functional as F\n",
    "from torchvision import transforms, utils\n",
    "import matplotlib.pyplot as plt\n",
    "from torch.utils.data.sampler import SubsetRandomSampler\n",
    "import torchvision.datasets as datasets\n",
    "from skimage import transform\n",
    "from torch.autograd import Variable"
   ]
  },
  {
   "cell_type": "code",
   "execution_count": 27,
   "metadata": {},
   "outputs": [],
   "source": [
    "import ipynb.fs.full.BeeDataHandler as BeeDataHandler"
   ]
  },
  {
   "cell_type": "code",
   "execution_count": 28,
   "metadata": {},
   "outputs": [
    {
     "data": {
      "text/plain": [
       "<module 'ipynb.fs.full.BeeDataHandler' (/Users/dieumynguyen/Documents/S2019_ObjectOrientedDesign/PyTorchPresentation/Bee Health CNNs/BeeDataHandler.ipynb)>"
      ]
     },
     "execution_count": 28,
     "metadata": {},
     "output_type": "execute_result"
    }
   ],
   "source": [
    "importlib.reload(BeeDataHandler)"
   ]
  },
  {
   "cell_type": "markdown",
   "metadata": {},
   "source": [
    "### Parameters"
   ]
  },
  {
   "cell_type": "code",
   "execution_count": 61,
   "metadata": {},
   "outputs": [],
   "source": [
    "BATCH_SIZE = 4\n",
    "BW = True\n",
    "num_epochs = 100\n",
    "learning_rate = 0.001\n",
    "\n",
    "bee_dir = '/Users/dieumynguyen/Datasets/HoneyBees'"
   ]
  },
  {
   "cell_type": "markdown",
   "metadata": {},
   "source": [
    "### Define transformations for data augmentation"
   ]
  },
  {
   "cell_type": "code",
   "execution_count": 55,
   "metadata": {},
   "outputs": [],
   "source": [
    "transform_list = transforms.Compose([\n",
    "    transforms.ToPILImage(),\n",
    "    transforms.Resize((100, 100)),\n",
    "    transforms.RandomRotation(degrees=180),\n",
    "    transforms.RandomAffine(degrees=180, translate=(0, 0.2)),\n",
    "    transforms.RandomHorizontalFlip(p=1),\n",
    "    transforms.RandomVerticalFlip(p=1),\n",
    "    transforms.ToTensor(),  # Always need, div by 255 \n",
    "    BeeDataHandler.CustomNormalize()\n",
    "])"
   ]
  },
  {
   "cell_type": "markdown",
   "metadata": {},
   "source": [
    "### Load data"
   ]
  },
  {
   "cell_type": "code",
   "execution_count": 56,
   "metadata": {},
   "outputs": [],
   "source": [
    "# Wrapper around the data\n",
    "# Could load data into np or a pointer/filepath\n",
    "bee_data_src = BeeDataHandler.DataHandler(bee_dir, transforms=transform_list, bw=BW, test_split=0.2)"
   ]
  },
  {
   "cell_type": "code",
   "execution_count": 57,
   "metadata": {},
   "outputs": [],
   "source": [
    "train_dataloader = DataLoader(bee_data_src, batch_size=BATCH_SIZE, sampler=bee_data_src.train_sampler)\n",
    "test_dataloader = DataLoader(bee_data_src, batch_size=BATCH_SIZE, sampler=bee_data_src.test_sampler)"
   ]
  },
  {
   "cell_type": "code",
   "execution_count": 58,
   "metadata": {},
   "outputs": [],
   "source": [
    "def sample_imgs():\n",
    "    xxx = (X + 1) / 2.0\n",
    "    grid_img = utils.make_grid(xxx)\n",
    "\n",
    "    fig, ax = plt.subplots(figsize=(12,12))\n",
    "    ax.imshow(grid_img.permute(1,2,0))\n",
    "    recovered_labels = [bee_data_src.idx_to_key[ele.item()] for ele in y]\n",
    "    title_str = \"\"\n",
    "    for recovered_label in recovered_labels:\n",
    "        title_str += f\"{recovered_label}                     \"\n",
    "    title_str = title_str[:-3]\n",
    "    plt.title(title_str)"
   ]
  },
  {
   "cell_type": "code",
   "execution_count": 59,
   "metadata": {},
   "outputs": [
    {
     "data": {
      "image/png": "[encoded data removed]",
      "text/plain": [
       "<Figure size 864x864 with 1 Axes>"
      ]
     },
     "metadata": {
      "needs_background": "light"
     },
     "output_type": "display_data"
    }
   ],
   "source": [
    "sample_imgs()"
   ]
  },
  {
   "cell_type": "markdown",
   "metadata": {},
   "source": [
    "### CNN"
   ]
  },
  {
   "cell_type": "markdown",
   "metadata": {},
   "source": [
    "$$ out = \\frac{in - k + 2*P}{stride} + 1$$"
   ]
  },
  {
   "cell_type": "markdown",
   "metadata": {},
   "source": [
    "$$ in = [(in - k + 2P) / S] + 1$$ \n",
    "$$ P = (S(in - 1) - in + k ) / 2$$ \n",
    "$$ P = (S*in - S - in + k ) / 2$$ \n",
    "$$ P = (in(S - 1) - S + k ) / 2$$ \n",
    "\n",
    "if S == 1:\n",
    "$$ P = (k-S) / 2$$ "
   ]
  },
  {
   "cell_type": "code",
   "execution_count": 136,
   "metadata": {},
   "outputs": [],
   "source": [
    "def calculate_padding_for_SAME(in_size, k_size, stride=1):\n",
    "    padding = (in_size * ( stride - 1) - stride + k_size) / 2 \n",
    "    return int(padding)"
   ]
  },
  {
   "cell_type": "code",
   "execution_count": 137,
   "metadata": {},
   "outputs": [],
   "source": [
    "def calculate_output_dimension(in_size, k_size, padding, stride=1):\n",
    "    out_size = int(np.floor((in_size - k_size + 2*padding)/stride)) + 1\n",
    "    return out_size"
   ]
  },
  {
   "cell_type": "code",
   "execution_count": 142,
   "metadata": {},
   "outputs": [],
   "source": [
    "class CNN(nn.Module):\n",
    "    \n",
    "    def __init__(self, num_classes, num_in_channels, input_dim=100):\n",
    "        '''\n",
    "        In this constructor, define layers using provided modiles from nn package.\n",
    "        A Sequential is defined by a sequence of a layer, normalization, activation, pooling.\n",
    "        '''\n",
    "        super(CNN, self).__init__()\n",
    "        \n",
    "        num_kernels = [5, 10, 50]\n",
    "        k_sizes = [3, 3, 3]\n",
    "        \n",
    "        \n",
    "        \"\"\" CONV LAYER 1 \"\"\"\n",
    "        \"\"\" ---------------------------------------- \"\"\"\n",
    "        padding_1 = calculate_padding_for_SAME(input_dim, k_size=k_sizes[0])     \n",
    "        print(\"padding_1: \", padding_1)\n",
    "        self.layer1 = nn.Sequential(\n",
    "            nn.Conv2d(num_in_channels, num_kernels[0], kernel_size=k_sizes[0], padding=padding_1),\n",
    "            nn.BatchNorm2d(num_kernels[0]),\n",
    "            nn.ReLU(),\n",
    "            nn.MaxPool2d(2))\n",
    "        \n",
    "        output_dim_layer_1 = calculate_output_dimension(input_dim, k_sizes[0], padding=padding_1)\n",
    "        output_dim_layer_1 = output_dim_layer_1 // 2\n",
    "        print(\"output_dim_layer_1: \", output_dim_layer_1)\n",
    "        \"\"\" ---------------------------------------- \"\"\"\n",
    "        \n",
    "        \n",
    "        \n",
    "        \"\"\" CONV LAYER 2 \"\"\"\n",
    "        \"\"\" ---------------------------------------- \"\"\"\n",
    "        padding_2 = calculate_padding_for_SAME(output_dim_layer_1, k_size=k_sizes[1])\n",
    "        self.layer2 = nn.Sequential(\n",
    "            nn.Conv2d(num_kernels[0], num_kernels[1], kernel_size=k_sizes[1], padding=padding_2),  \n",
    "            nn.BatchNorm2d(num_kernels[1]),\n",
    "            nn.ReLU(),\n",
    "            nn.MaxPool2d(2))\n",
    "        output_dim_layer_2 = calculate_output_dimension(output_dim_layer_1, k_sizes[1], padding=padding_2)\n",
    "        output_dim_layer_2 = output_dim_layer_2 // 2\n",
    "        print(\"output_dim_layer_2: \", output_dim_layer_2)\n",
    "        \"\"\" ---------------------------------------- \"\"\"\n",
    "        \n",
    "        \n",
    "        \n",
    "        \n",
    "        \"\"\" CONV LAYER 3 \"\"\"\n",
    "        \"\"\" ---------------------------------------- \"\"\"\n",
    "        padding_3 = calculate_padding_for_SAME(output_dim_layer_2, k_size=k_sizes[2])        \n",
    "        self.layer3 = nn.Sequential(\n",
    "            nn.Conv2d(num_kernels[1], num_kernels[2], kernel_size=k_sizes[2], padding=padding_3),  \n",
    "            nn.BatchNorm2d(num_kernels[2]),\n",
    "            nn.ReLU(),\n",
    "            nn.MaxPool2d(2))\n",
    "        \n",
    "        output_dim_layer_3 = calculate_output_dimension(output_dim_layer_2, k_sizes[2], padding=padding_3)\n",
    "        output_dim_layer_3 = output_dim_layer_3 // 2\n",
    "        print(\"output_dim_layer_3: \", output_dim_layer_3)\n",
    "        \"\"\" ---------------------------------------- \"\"\"\n",
    "        \n",
    "        \n",
    "        \"\"\" FULLY CONNECTED \"\"\"\n",
    "        \"\"\" ---------------------------------------- \"\"\"\n",
    "        flat_shape = num_kernels[2] * output_dim_layer_3 * output_dim_layer_3 \n",
    "        \n",
    "        self.fc = nn.Sequential(\n",
    "            nn.Linear(flat_shape, 100),\n",
    "            nn.ReLU(),\n",
    "            nn.Dropout(p=0.1),\n",
    "            nn.Linear(100, 100),\n",
    "            nn.ReLU(),\n",
    "            nn.Dropout(p=0.1),\n",
    "            nn.Linear(100, 100),\n",
    "            nn.ReLU(),\n",
    "            nn.Dropout(p=0.3),\n",
    "            nn.Linear(100, num_classes)\n",
    "        )\n",
    "        \"\"\" ---------------------------------------- \"\"\"\n",
    "        \n",
    "    def forward(self, x):\n",
    "        ''' \n",
    "        This function is called on the net for a set of inputs,\n",
    "        and it passes that input through different layers defined above.\n",
    "        \n",
    "        For ex, we pass x through first layer, pass its output through\n",
    "        second layer, and pass that through the final FC layer to get \n",
    "        final output. \n",
    "        '''\n",
    "        # Convolutions\n",
    "        out = self.layer1(x)\n",
    "        out = self.layer2(out)\n",
    "        out = self.layer3(out)\n",
    "        \n",
    "        # Flatten\n",
    "        out = out.view(out.size(0), -1) \n",
    "        \n",
    "        # Fully Connected\n",
    "        out = self.fc(out)\n",
    "        out = F.softmax(out, dim=0)\n",
    "        \n",
    "        return out\n",
    "        "
   ]
  },
  {
   "cell_type": "code",
   "execution_count": 143,
   "metadata": {},
   "outputs": [
    {
     "name": "stdout",
     "output_type": "stream",
     "text": [
      "padding_1:  1\n",
      "output_dim_layer_1:  50\n",
      "output_dim_layer_2:  25\n",
      "output_dim_layer_3:  12\n"
     ]
    }
   ],
   "source": [
    "# Instantiate an instance of the conv net\n",
    "num_classes = bee_data_src.num_classes\n",
    "num_in_channels = 1 if BW else 3\n",
    "cnn = CNN(num_classes=num_classes, num_in_channels=num_in_channels)\n",
    "\n",
    "# Loss function and optimizer\n",
    "optimizer = torch.optim.Adam(cnn.parameters(), lr=learning_rate)\n",
    "criterion = nn.CrossEntropyLoss()"
   ]
  },
  {
   "cell_type": "markdown",
   "metadata": {},
   "source": [
    "### Train"
   ]
  },
  {
   "cell_type": "code",
   "execution_count": 183,
   "metadata": {
    "scrolled": true
   },
   "outputs": [
    {
     "name": "stdout",
     "output_type": "stream",
     "text": [
      "Epoch: 1/100, Batch: 100/1035, Loss: 1.598523\n",
      "Epoch: 1/100, Batch: 200/1035, Loss: 1.844299\n",
      "Epoch: 1/100, Batch: 300/1035, Loss: 1.260532\n",
      "Epoch: 1/100, Batch: 400/1035, Loss: 1.838621\n",
      "Epoch: 1/100, Batch: 500/1035, Loss: 1.616327\n",
      "Epoch: 1/100, Batch: 600/1035, Loss: 1.833809\n",
      "Epoch: 1/100, Batch: 700/1035, Loss: 1.625839\n",
      "Epoch: 1/100, Batch: 800/1035, Loss: 1.630243\n",
      "Epoch: 1/100, Batch: 900/1035, Loss: 1.860430\n",
      "Epoch: 1/100, Batch: 1000/1035, Loss: 1.854648\n",
      "Test accuracy: 36%\n",
      "Epoch: 2/100, Batch: 100/1035, Loss: 1.712543\n",
      "Epoch: 2/100, Batch: 200/1035, Loss: 1.383202\n",
      "Epoch: 2/100, Batch: 300/1035, Loss: 1.777331\n",
      "Epoch: 2/100, Batch: 400/1035, Loss: 1.760819\n",
      "Epoch: 2/100, Batch: 500/1035, Loss: 1.621491\n",
      "Epoch: 2/100, Batch: 600/1035, Loss: 1.806363\n",
      "Epoch: 2/100, Batch: 700/1035, Loss: 2.041094\n",
      "Epoch: 2/100, Batch: 800/1035, Loss: 1.672061\n",
      "Epoch: 2/100, Batch: 900/1035, Loss: 1.491941\n",
      "Epoch: 2/100, Batch: 1000/1035, Loss: 1.587839\n",
      "Test accuracy: 37%\n",
      "Epoch: 3/100, Batch: 100/1035, Loss: 1.825628\n",
      "Epoch: 3/100, Batch: 200/1035, Loss: 1.604262\n",
      "Epoch: 3/100, Batch: 300/1035, Loss: 1.662328\n",
      "Epoch: 3/100, Batch: 400/1035, Loss: 1.602103\n",
      "Epoch: 3/100, Batch: 500/1035, Loss: 1.608232\n",
      "Epoch: 3/100, Batch: 600/1035, Loss: 1.602015\n",
      "Epoch: 3/100, Batch: 700/1035, Loss: 1.354275\n",
      "Epoch: 3/100, Batch: 800/1035, Loss: 1.853919\n",
      "Epoch: 3/100, Batch: 900/1035, Loss: 1.579464\n",
      "Epoch: 3/100, Batch: 1000/1035, Loss: 1.809796\n",
      "Test accuracy: 39%\n",
      "Epoch: 4/100, Batch: 100/1035, Loss: 1.619781\n",
      "Epoch: 4/100, Batch: 200/1035, Loss: 1.457657\n",
      "Epoch: 4/100, Batch: 300/1035, Loss: 1.785544\n",
      "Epoch: 4/100, Batch: 400/1035, Loss: 1.579668\n",
      "Epoch: 4/100, Batch: 500/1035, Loss: 1.670888\n",
      "Epoch: 4/100, Batch: 600/1035, Loss: 1.591339\n",
      "Epoch: 4/100, Batch: 700/1035, Loss: 1.604446\n",
      "Epoch: 4/100, Batch: 800/1035, Loss: 1.741040\n",
      "Epoch: 4/100, Batch: 900/1035, Loss: 1.832730\n",
      "Epoch: 4/100, Batch: 1000/1035, Loss: 1.604261\n",
      "Test accuracy: 40%\n",
      "Epoch: 5/100, Batch: 100/1035, Loss: 1.950432\n",
      "Epoch: 5/100, Batch: 200/1035, Loss: 1.612971\n",
      "Epoch: 5/100, Batch: 300/1035, Loss: 1.839414\n",
      "Epoch: 5/100, Batch: 400/1035, Loss: 1.961102\n",
      "Epoch: 5/100, Batch: 500/1035, Loss: 1.573580\n",
      "Epoch: 5/100, Batch: 600/1035, Loss: 1.837771\n",
      "Epoch: 5/100, Batch: 700/1035, Loss: 1.603688\n",
      "Epoch: 5/100, Batch: 800/1035, Loss: 1.859344\n",
      "Epoch: 5/100, Batch: 900/1035, Loss: 1.843257\n",
      "Epoch: 5/100, Batch: 1000/1035, Loss: 1.825590\n",
      "Test accuracy: 38%\n",
      "Epoch: 6/100, Batch: 100/1035, Loss: 1.613085\n",
      "Epoch: 6/100, Batch: 200/1035, Loss: 1.913965\n",
      "Epoch: 6/100, Batch: 300/1035, Loss: 1.596817\n",
      "Epoch: 6/100, Batch: 400/1035, Loss: 1.639752\n",
      "Epoch: 6/100, Batch: 500/1035, Loss: 1.834595\n",
      "Epoch: 6/100, Batch: 600/1035, Loss: 1.841734\n",
      "Epoch: 6/100, Batch: 700/1035, Loss: 1.644131\n",
      "Epoch: 6/100, Batch: 800/1035, Loss: 1.683087\n",
      "Epoch: 6/100, Batch: 900/1035, Loss: 1.610627\n",
      "Epoch: 6/100, Batch: 1000/1035, Loss: 1.378166\n",
      "Test accuracy: 38%\n",
      "Epoch: 7/100, Batch: 100/1035, Loss: 1.648928\n",
      "Epoch: 7/100, Batch: 200/1035, Loss: 1.860446\n",
      "Epoch: 7/100, Batch: 300/1035, Loss: 1.538706\n",
      "Epoch: 7/100, Batch: 400/1035, Loss: 1.583196\n",
      "Epoch: 7/100, Batch: 500/1035, Loss: 1.673180\n",
      "Epoch: 7/100, Batch: 600/1035, Loss: 1.805422\n",
      "Epoch: 7/100, Batch: 700/1035, Loss: 1.821921\n",
      "Epoch: 7/100, Batch: 800/1035, Loss: 1.612161\n",
      "Epoch: 7/100, Batch: 900/1035, Loss: 1.836513\n",
      "Epoch: 7/100, Batch: 1000/1035, Loss: 1.825527\n",
      "Test accuracy: 40%\n",
      "Epoch: 8/100, Batch: 100/1035, Loss: 1.679526\n",
      "Epoch: 8/100, Batch: 200/1035, Loss: 1.360171\n",
      "Epoch: 8/100, Batch: 300/1035, Loss: 1.872098\n",
      "Epoch: 8/100, Batch: 400/1035, Loss: 1.504393\n",
      "Epoch: 8/100, Batch: 500/1035, Loss: 1.647406\n",
      "Epoch: 8/100, Batch: 600/1035, Loss: 1.859692\n",
      "Epoch: 8/100, Batch: 700/1035, Loss: 1.601248\n",
      "Epoch: 8/100, Batch: 800/1035, Loss: 1.822922\n",
      "Epoch: 8/100, Batch: 900/1035, Loss: 1.869548\n",
      "Epoch: 8/100, Batch: 1000/1035, Loss: 1.590496\n",
      "Test accuracy: 38%\n",
      "Epoch: 9/100, Batch: 100/1035, Loss: 1.617032\n",
      "Epoch: 9/100, Batch: 200/1035, Loss: 1.832003\n",
      "Epoch: 9/100, Batch: 300/1035, Loss: 1.585690\n",
      "Epoch: 9/100, Batch: 400/1035, Loss: 1.659112\n",
      "Epoch: 9/100, Batch: 500/1035, Loss: 1.613386\n",
      "Epoch: 9/100, Batch: 600/1035, Loss: 1.735855\n",
      "Epoch: 9/100, Batch: 700/1035, Loss: 1.926972\n",
      "Epoch: 9/100, Batch: 800/1035, Loss: 1.844084\n",
      "Epoch: 9/100, Batch: 900/1035, Loss: 1.590226\n",
      "Epoch: 9/100, Batch: 1000/1035, Loss: 1.898921\n",
      "Test accuracy: 38%\n",
      "Epoch: 10/100, Batch: 100/1035, Loss: 1.859659\n",
      "Epoch: 10/100, Batch: 200/1035, Loss: 1.842197\n",
      "Epoch: 10/100, Batch: 300/1035, Loss: 1.609151\n",
      "Epoch: 10/100, Batch: 400/1035, Loss: 1.846964\n",
      "Epoch: 10/100, Batch: 500/1035, Loss: 1.603560\n",
      "Epoch: 10/100, Batch: 600/1035, Loss: 1.708020\n",
      "Epoch: 10/100, Batch: 700/1035, Loss: 1.576633\n",
      "Epoch: 10/100, Batch: 800/1035, Loss: 1.606470\n",
      "Epoch: 10/100, Batch: 900/1035, Loss: 1.676515\n",
      "Epoch: 10/100, Batch: 1000/1035, Loss: 1.677062\n",
      "Test accuracy: 41%\n",
      "Epoch: 11/100, Batch: 100/1035, Loss: 1.569326\n",
      "Epoch: 11/100, Batch: 200/1035, Loss: 1.840731\n",
      "Epoch: 11/100, Batch: 300/1035, Loss: 1.360597\n",
      "Epoch: 11/100, Batch: 400/1035, Loss: 1.793500\n",
      "Epoch: 11/100, Batch: 500/1035, Loss: 1.887354\n",
      "Epoch: 11/100, Batch: 600/1035, Loss: 1.603170\n",
      "Epoch: 11/100, Batch: 700/1035, Loss: 1.613378\n",
      "Epoch: 11/100, Batch: 800/1035, Loss: 1.364981\n",
      "Epoch: 11/100, Batch: 900/1035, Loss: 1.615473\n",
      "Epoch: 11/100, Batch: 1000/1035, Loss: 1.574144\n",
      "Test accuracy: 41%\n",
      "Epoch: 12/100, Batch: 100/1035, Loss: 1.360954\n",
      "Epoch: 12/100, Batch: 200/1035, Loss: 1.754504\n",
      "Epoch: 12/100, Batch: 300/1035, Loss: 1.882243\n",
      "Epoch: 12/100, Batch: 400/1035, Loss: 1.620385\n",
      "Epoch: 12/100, Batch: 500/1035, Loss: 1.636110\n",
      "Epoch: 12/100, Batch: 600/1035, Loss: 1.603265\n",
      "Epoch: 12/100, Batch: 700/1035, Loss: 1.829789\n",
      "Epoch: 12/100, Batch: 800/1035, Loss: 1.742608\n",
      "Epoch: 12/100, Batch: 900/1035, Loss: 1.625125\n",
      "Epoch: 12/100, Batch: 1000/1035, Loss: 1.608289\n",
      "Test accuracy: 41%\n",
      "Epoch: 13/100, Batch: 100/1035, Loss: 1.401257\n",
      "Epoch: 13/100, Batch: 200/1035, Loss: 1.385069\n",
      "Epoch: 13/100, Batch: 300/1035, Loss: 2.003847\n",
      "Epoch: 13/100, Batch: 400/1035, Loss: 1.811073\n",
      "Epoch: 13/100, Batch: 500/1035, Loss: 1.718470\n",
      "Epoch: 13/100, Batch: 600/1035, Loss: 1.832162\n",
      "Epoch: 13/100, Batch: 700/1035, Loss: 1.613706\n",
      "Epoch: 13/100, Batch: 800/1035, Loss: 1.827566\n",
      "Epoch: 13/100, Batch: 900/1035, Loss: 1.581307\n",
      "Epoch: 13/100, Batch: 1000/1035, Loss: 1.835176\n",
      "Test accuracy: 42%\n",
      "Epoch: 14/100, Batch: 100/1035, Loss: 1.598720\n",
      "Epoch: 14/100, Batch: 200/1035, Loss: 1.659761\n",
      "Epoch: 14/100, Batch: 300/1035, Loss: 1.846800\n",
      "Epoch: 14/100, Batch: 400/1035, Loss: 1.838571\n",
      "Epoch: 14/100, Batch: 500/1035, Loss: 1.573587\n",
      "Epoch: 14/100, Batch: 600/1035, Loss: 1.865336\n",
      "Epoch: 14/100, Batch: 700/1035, Loss: 1.577950\n",
      "Epoch: 14/100, Batch: 800/1035, Loss: 1.872388\n",
      "Epoch: 14/100, Batch: 900/1035, Loss: 1.858376\n",
      "Epoch: 14/100, Batch: 1000/1035, Loss: 1.593911\n",
      "Test accuracy: 41%\n",
      "Epoch: 15/100, Batch: 100/1035, Loss: 1.760323\n",
      "Epoch: 15/100, Batch: 200/1035, Loss: 1.665171\n",
      "Epoch: 15/100, Batch: 300/1035, Loss: 1.743391\n",
      "Epoch: 15/100, Batch: 400/1035, Loss: 1.494613\n",
      "Epoch: 15/100, Batch: 500/1035, Loss: 1.574183\n",
      "Epoch: 15/100, Batch: 600/1035, Loss: 1.603529\n",
      "Epoch: 15/100, Batch: 700/1035, Loss: 1.858701\n",
      "Epoch: 15/100, Batch: 800/1035, Loss: 1.661102\n",
      "Epoch: 15/100, Batch: 900/1035, Loss: 1.807276\n",
      "Epoch: 15/100, Batch: 1000/1035, Loss: 1.741236\n",
      "Test accuracy: 40%\n",
      "Epoch: 16/100, Batch: 100/1035, Loss: 1.788398\n",
      "Epoch: 16/100, Batch: 200/1035, Loss: 1.584930\n",
      "Epoch: 16/100, Batch: 300/1035, Loss: 1.602032\n",
      "Epoch: 16/100, Batch: 400/1035, Loss: 1.568143\n",
      "Epoch: 16/100, Batch: 500/1035, Loss: 1.591920\n",
      "Epoch: 16/100, Batch: 600/1035, Loss: 1.815087\n",
      "Epoch: 16/100, Batch: 700/1035, Loss: 1.585329\n",
      "Epoch: 16/100, Batch: 800/1035, Loss: 1.825558\n",
      "Epoch: 16/100, Batch: 900/1035, Loss: 1.587594\n",
      "Epoch: 16/100, Batch: 1000/1035, Loss: 1.352994\n",
      "Test accuracy: 41%\n",
      "Epoch: 17/100, Batch: 100/1035, Loss: 1.648943\n",
      "Epoch: 17/100, Batch: 200/1035, Loss: 1.531563\n",
      "Epoch: 17/100, Batch: 300/1035, Loss: 1.575805\n",
      "Epoch: 17/100, Batch: 400/1035, Loss: 1.823456\n",
      "Epoch: 17/100, Batch: 500/1035, Loss: 1.711490\n",
      "Epoch: 17/100, Batch: 600/1035, Loss: 1.603930\n",
      "Epoch: 17/100, Batch: 700/1035, Loss: 1.825026\n",
      "Epoch: 17/100, Batch: 800/1035, Loss: 1.444297\n",
      "Epoch: 17/100, Batch: 900/1035, Loss: 1.458607\n",
      "Epoch: 17/100, Batch: 1000/1035, Loss: 1.590863\n"
     ]
    },
    {
     "name": "stdout",
     "output_type": "stream",
     "text": [
      "Test accuracy: 41%\n",
      "Epoch: 18/100, Batch: 100/1035, Loss: 1.805541\n",
      "Epoch: 18/100, Batch: 200/1035, Loss: 1.896751\n",
      "Epoch: 18/100, Batch: 300/1035, Loss: 1.611619\n",
      "Epoch: 18/100, Batch: 400/1035, Loss: 1.549169\n",
      "Epoch: 18/100, Batch: 500/1035, Loss: 1.612209\n",
      "Epoch: 18/100, Batch: 600/1035, Loss: 1.686531\n",
      "Epoch: 18/100, Batch: 700/1035, Loss: 1.705513\n",
      "Epoch: 18/100, Batch: 800/1035, Loss: 1.850407\n",
      "Epoch: 18/100, Batch: 900/1035, Loss: 1.582327\n",
      "Epoch: 18/100, Batch: 1000/1035, Loss: 1.340343\n",
      "Test accuracy: 43%\n",
      "Epoch: 19/100, Batch: 100/1035, Loss: 1.758229\n",
      "Epoch: 19/100, Batch: 200/1035, Loss: 1.362287\n",
      "Epoch: 19/100, Batch: 300/1035, Loss: 1.586481\n",
      "Epoch: 19/100, Batch: 400/1035, Loss: 1.828114\n",
      "Epoch: 19/100, Batch: 500/1035, Loss: 1.419087\n",
      "Epoch: 19/100, Batch: 600/1035, Loss: 1.771473\n",
      "Epoch: 19/100, Batch: 700/1035, Loss: 1.359043\n",
      "Epoch: 19/100, Batch: 800/1035, Loss: 1.700709\n",
      "Epoch: 19/100, Batch: 900/1035, Loss: 1.649176\n",
      "Epoch: 19/100, Batch: 1000/1035, Loss: 1.605592\n",
      "Test accuracy: 43%\n",
      "Epoch: 20/100, Batch: 100/1035, Loss: 1.613320\n",
      "Epoch: 20/100, Batch: 200/1035, Loss: 1.826849\n",
      "Epoch: 20/100, Batch: 300/1035, Loss: 1.612886\n",
      "Epoch: 20/100, Batch: 400/1035, Loss: 1.643761\n",
      "Epoch: 20/100, Batch: 500/1035, Loss: 1.508814\n",
      "Epoch: 20/100, Batch: 600/1035, Loss: 1.575847\n",
      "Epoch: 20/100, Batch: 700/1035, Loss: 1.555785\n",
      "Epoch: 20/100, Batch: 800/1035, Loss: 1.820225\n",
      "Epoch: 20/100, Batch: 900/1035, Loss: 1.455222\n",
      "Epoch: 20/100, Batch: 1000/1035, Loss: 1.566578\n",
      "Test accuracy: 44%\n",
      "Epoch: 21/100, Batch: 100/1035, Loss: 1.609089\n",
      "Epoch: 21/100, Batch: 200/1035, Loss: 1.848719\n",
      "Epoch: 21/100, Batch: 300/1035, Loss: 1.675892\n",
      "Epoch: 21/100, Batch: 400/1035, Loss: 1.508673\n",
      "Epoch: 21/100, Batch: 500/1035, Loss: 1.857745\n",
      "Epoch: 21/100, Batch: 600/1035, Loss: 1.826707\n",
      "Epoch: 21/100, Batch: 700/1035, Loss: 1.575739\n",
      "Epoch: 21/100, Batch: 800/1035, Loss: 1.611173\n",
      "Epoch: 21/100, Batch: 900/1035, Loss: 1.607606\n",
      "Epoch: 21/100, Batch: 1000/1035, Loss: 1.608781\n",
      "Test accuracy: 44%\n",
      "Epoch: 22/100, Batch: 100/1035, Loss: 1.714638\n",
      "Epoch: 22/100, Batch: 200/1035, Loss: 1.886303\n",
      "Epoch: 22/100, Batch: 300/1035, Loss: 1.579293\n",
      "Epoch: 22/100, Batch: 400/1035, Loss: 1.840164\n",
      "Epoch: 22/100, Batch: 500/1035, Loss: 1.738529\n",
      "Epoch: 22/100, Batch: 600/1035, Loss: 1.816016\n",
      "Epoch: 22/100, Batch: 700/1035, Loss: 1.834129\n",
      "Epoch: 22/100, Batch: 800/1035, Loss: 1.470162\n",
      "Epoch: 22/100, Batch: 900/1035, Loss: 1.839253\n",
      "Epoch: 22/100, Batch: 1000/1035, Loss: 1.668671\n",
      "Test accuracy: 42%\n",
      "Epoch: 23/100, Batch: 100/1035, Loss: 1.829618\n",
      "Epoch: 23/100, Batch: 200/1035, Loss: 1.848825\n",
      "Epoch: 23/100, Batch: 300/1035, Loss: 1.632941\n",
      "Epoch: 23/100, Batch: 400/1035, Loss: 1.615080\n",
      "Epoch: 23/100, Batch: 500/1035, Loss: 1.597322\n",
      "Epoch: 23/100, Batch: 600/1035, Loss: 1.668547\n",
      "Epoch: 23/100, Batch: 700/1035, Loss: 1.832505\n",
      "Epoch: 23/100, Batch: 800/1035, Loss: 1.595797\n",
      "Epoch: 23/100, Batch: 900/1035, Loss: 1.735147\n",
      "Epoch: 23/100, Batch: 1000/1035, Loss: 1.366993\n",
      "Test accuracy: 42%\n",
      "Epoch: 24/100, Batch: 100/1035, Loss: 1.606982\n",
      "Epoch: 24/100, Batch: 200/1035, Loss: 1.739886\n",
      "Epoch: 24/100, Batch: 300/1035, Loss: 1.564095\n",
      "Epoch: 24/100, Batch: 400/1035, Loss: 1.613014\n",
      "Epoch: 24/100, Batch: 500/1035, Loss: 1.948992\n",
      "Epoch: 24/100, Batch: 600/1035, Loss: 1.359617\n",
      "Epoch: 24/100, Batch: 700/1035, Loss: 1.836113\n",
      "Epoch: 24/100, Batch: 800/1035, Loss: 1.853091\n",
      "Epoch: 24/100, Batch: 900/1035, Loss: 1.649850\n",
      "Epoch: 24/100, Batch: 1000/1035, Loss: 1.631442\n",
      "Test accuracy: 44%\n",
      "Epoch: 25/100, Batch: 100/1035, Loss: 1.631083\n",
      "Epoch: 25/100, Batch: 200/1035, Loss: 1.607062\n",
      "Epoch: 25/100, Batch: 300/1035, Loss: 1.831481\n",
      "Epoch: 25/100, Batch: 400/1035, Loss: 1.581546\n",
      "Epoch: 25/100, Batch: 500/1035, Loss: 1.533728\n",
      "Epoch: 25/100, Batch: 600/1035, Loss: 1.605644\n",
      "Epoch: 25/100, Batch: 700/1035, Loss: 1.825973\n",
      "Epoch: 25/100, Batch: 800/1035, Loss: 1.355941\n",
      "Epoch: 25/100, Batch: 900/1035, Loss: 1.354045\n",
      "Epoch: 25/100, Batch: 1000/1035, Loss: 1.361657\n",
      "Test accuracy: 44%\n",
      "Epoch: 26/100, Batch: 100/1035, Loss: 1.589385\n",
      "Epoch: 26/100, Batch: 200/1035, Loss: 1.602218\n",
      "Epoch: 26/100, Batch: 300/1035, Loss: 1.590393\n",
      "Epoch: 26/100, Batch: 400/1035, Loss: 1.360582\n",
      "Epoch: 26/100, Batch: 500/1035, Loss: 2.073227\n",
      "Epoch: 26/100, Batch: 600/1035, Loss: 1.575960\n",
      "Epoch: 26/100, Batch: 700/1035, Loss: 1.579151\n",
      "Epoch: 26/100, Batch: 800/1035, Loss: 1.643939\n",
      "Epoch: 26/100, Batch: 900/1035, Loss: 1.575392\n",
      "Epoch: 26/100, Batch: 1000/1035, Loss: 1.859183\n",
      "Test accuracy: 44%\n",
      "Epoch: 27/100, Batch: 100/1035, Loss: 1.572704\n",
      "Epoch: 27/100, Batch: 200/1035, Loss: 1.557433\n",
      "Epoch: 27/100, Batch: 300/1035, Loss: 1.623416\n",
      "Epoch: 27/100, Batch: 400/1035, Loss: 1.638162\n",
      "Epoch: 27/100, Batch: 500/1035, Loss: 1.622227\n",
      "Epoch: 27/100, Batch: 600/1035, Loss: 1.856001\n",
      "Epoch: 27/100, Batch: 700/1035, Loss: 1.376976\n",
      "Epoch: 27/100, Batch: 800/1035, Loss: 1.603005\n",
      "Epoch: 27/100, Batch: 900/1035, Loss: 1.355393\n",
      "Epoch: 27/100, Batch: 1000/1035, Loss: 1.826836\n",
      "Test accuracy: 43%\n",
      "Epoch: 28/100, Batch: 100/1035, Loss: 1.822031\n",
      "Epoch: 28/100, Batch: 200/1035, Loss: 1.579462\n",
      "Epoch: 28/100, Batch: 300/1035, Loss: 1.840554\n",
      "Epoch: 28/100, Batch: 400/1035, Loss: 1.484799\n",
      "Epoch: 28/100, Batch: 500/1035, Loss: 1.847534\n",
      "Epoch: 28/100, Batch: 600/1035, Loss: 1.542108\n",
      "Epoch: 28/100, Batch: 700/1035, Loss: 1.394287\n",
      "Epoch: 28/100, Batch: 800/1035, Loss: 1.794157\n",
      "Epoch: 28/100, Batch: 900/1035, Loss: 1.814273\n",
      "Epoch: 28/100, Batch: 1000/1035, Loss: 1.841380\n",
      "Test accuracy: 45%\n",
      "Epoch: 29/100, Batch: 100/1035, Loss: 1.576949\n",
      "Epoch: 29/100, Batch: 200/1035, Loss: 1.841075\n",
      "Epoch: 29/100, Batch: 300/1035, Loss: 1.825875\n",
      "Epoch: 29/100, Batch: 400/1035, Loss: 1.856767\n",
      "Epoch: 29/100, Batch: 500/1035, Loss: 1.612473\n",
      "Epoch: 29/100, Batch: 600/1035, Loss: 1.865449\n",
      "Epoch: 29/100, Batch: 700/1035, Loss: 1.384069\n",
      "Epoch: 29/100, Batch: 800/1035, Loss: 1.820557\n",
      "Epoch: 29/100, Batch: 900/1035, Loss: 1.847196\n",
      "Epoch: 29/100, Batch: 1000/1035, Loss: 1.788376\n",
      "Test accuracy: 44%\n",
      "Epoch: 30/100, Batch: 100/1035, Loss: 1.825969\n",
      "Epoch: 30/100, Batch: 200/1035, Loss: 1.601192\n",
      "Epoch: 30/100, Batch: 300/1035, Loss: 1.482025\n",
      "Epoch: 30/100, Batch: 400/1035, Loss: 1.579650\n",
      "Epoch: 30/100, Batch: 500/1035, Loss: 1.406024\n",
      "Epoch: 30/100, Batch: 600/1035, Loss: 1.837579\n",
      "Epoch: 30/100, Batch: 700/1035, Loss: 1.381211\n",
      "Epoch: 30/100, Batch: 800/1035, Loss: 1.835916\n",
      "Epoch: 30/100, Batch: 900/1035, Loss: 1.830561\n",
      "Epoch: 30/100, Batch: 1000/1035, Loss: 1.815568\n",
      "Test accuracy: 44%\n",
      "Epoch: 31/100, Batch: 100/1035, Loss: 1.576451\n",
      "Epoch: 31/100, Batch: 200/1035, Loss: 1.576213\n",
      "Epoch: 31/100, Batch: 300/1035, Loss: 1.491583\n",
      "Epoch: 31/100, Batch: 400/1035, Loss: 1.824404\n",
      "Epoch: 31/100, Batch: 500/1035, Loss: 1.829177\n",
      "Epoch: 31/100, Batch: 600/1035, Loss: 1.557607\n",
      "Epoch: 31/100, Batch: 700/1035, Loss: 1.813975\n",
      "Epoch: 31/100, Batch: 800/1035, Loss: 1.605591\n",
      "Epoch: 31/100, Batch: 900/1035, Loss: 1.486501\n",
      "Epoch: 31/100, Batch: 1000/1035, Loss: 1.586857\n",
      "Test accuracy: 43%\n",
      "Epoch: 32/100, Batch: 100/1035, Loss: 1.586169\n",
      "Epoch: 32/100, Batch: 200/1035, Loss: 1.581085\n",
      "Epoch: 32/100, Batch: 300/1035, Loss: 1.494782\n",
      "Epoch: 32/100, Batch: 400/1035, Loss: 1.850052\n",
      "Epoch: 32/100, Batch: 500/1035, Loss: 1.597754\n",
      "Epoch: 32/100, Batch: 600/1035, Loss: 1.634060\n",
      "Epoch: 32/100, Batch: 700/1035, Loss: 1.582464\n",
      "Epoch: 32/100, Batch: 800/1035, Loss: 1.617594\n",
      "Epoch: 32/100, Batch: 900/1035, Loss: 1.578188\n",
      "Epoch: 32/100, Batch: 1000/1035, Loss: 1.811103\n",
      "Test accuracy: 47%\n",
      "Epoch: 33/100, Batch: 100/1035, Loss: 1.808028\n",
      "Epoch: 33/100, Batch: 200/1035, Loss: 1.568899\n",
      "Epoch: 33/100, Batch: 300/1035, Loss: 1.820880\n",
      "Epoch: 33/100, Batch: 400/1035, Loss: 1.823462\n",
      "Epoch: 33/100, Batch: 500/1035, Loss: 1.604577\n",
      "Epoch: 33/100, Batch: 600/1035, Loss: 1.621109\n",
      "Epoch: 33/100, Batch: 700/1035, Loss: 1.856678\n",
      "Epoch: 33/100, Batch: 800/1035, Loss: 1.613441\n",
      "Epoch: 33/100, Batch: 900/1035, Loss: 1.893377\n",
      "Epoch: 33/100, Batch: 1000/1035, Loss: 1.214849\n",
      "Test accuracy: 49%\n",
      "Epoch: 34/100, Batch: 100/1035, Loss: 1.603910\n",
      "Epoch: 34/100, Batch: 200/1035, Loss: 1.601764\n",
      "Epoch: 34/100, Batch: 300/1035, Loss: 1.581223\n",
      "Epoch: 34/100, Batch: 400/1035, Loss: 1.355498\n",
      "Epoch: 34/100, Batch: 500/1035, Loss: 1.764664\n",
      "Epoch: 34/100, Batch: 600/1035, Loss: 1.576633\n",
      "Epoch: 34/100, Batch: 700/1035, Loss: 1.573412\n",
      "Epoch: 34/100, Batch: 800/1035, Loss: 1.585912\n"
     ]
    },
    {
     "name": "stdout",
     "output_type": "stream",
     "text": [
      "Epoch: 34/100, Batch: 900/1035, Loss: 1.571317\n",
      "Epoch: 34/100, Batch: 1000/1035, Loss: 1.567446\n",
      "Test accuracy: 49%\n",
      "Epoch: 35/100, Batch: 100/1035, Loss: 1.823861\n",
      "Epoch: 35/100, Batch: 200/1035, Loss: 1.577128\n",
      "Epoch: 35/100, Batch: 300/1035, Loss: 1.594523\n",
      "Epoch: 35/100, Batch: 400/1035, Loss: 1.824629\n",
      "Epoch: 35/100, Batch: 500/1035, Loss: 1.609308\n",
      "Epoch: 35/100, Batch: 600/1035, Loss: 1.824676\n",
      "Epoch: 35/100, Batch: 700/1035, Loss: 1.599805\n",
      "Epoch: 35/100, Batch: 800/1035, Loss: 1.565974\n",
      "Epoch: 35/100, Batch: 900/1035, Loss: 1.575119\n",
      "Epoch: 35/100, Batch: 1000/1035, Loss: 1.516113\n",
      "Test accuracy: 46%\n",
      "Epoch: 36/100, Batch: 100/1035, Loss: 1.604047\n",
      "Epoch: 36/100, Batch: 200/1035, Loss: 1.809898\n",
      "Epoch: 36/100, Batch: 300/1035, Loss: 1.878870\n",
      "Epoch: 36/100, Batch: 400/1035, Loss: 1.813692\n",
      "Epoch: 36/100, Batch: 500/1035, Loss: 1.832779\n",
      "Epoch: 36/100, Batch: 600/1035, Loss: 1.572382\n",
      "Epoch: 36/100, Batch: 700/1035, Loss: 1.424138\n",
      "Epoch: 36/100, Batch: 800/1035, Loss: 1.826053\n",
      "Epoch: 36/100, Batch: 900/1035, Loss: 1.854478\n",
      "Epoch: 36/100, Batch: 1000/1035, Loss: 1.575160\n",
      "Test accuracy: 55%\n",
      "Epoch: 37/100, Batch: 100/1035, Loss: 1.825983\n",
      "Epoch: 37/100, Batch: 200/1035, Loss: 1.608080\n",
      "Epoch: 37/100, Batch: 300/1035, Loss: 1.571361\n",
      "Epoch: 37/100, Batch: 400/1035, Loss: 1.585369\n",
      "Epoch: 37/100, Batch: 500/1035, Loss: 1.578355\n",
      "Epoch: 37/100, Batch: 600/1035, Loss: 1.576144\n",
      "Epoch: 37/100, Batch: 700/1035, Loss: 1.610078\n",
      "Epoch: 37/100, Batch: 800/1035, Loss: 1.565339\n",
      "Epoch: 37/100, Batch: 900/1035, Loss: 1.585092\n",
      "Epoch: 37/100, Batch: 1000/1035, Loss: 1.627432\n",
      "Test accuracy: 49%\n",
      "Epoch: 38/100, Batch: 100/1035, Loss: 1.609492\n",
      "Epoch: 38/100, Batch: 200/1035, Loss: 1.812067\n",
      "Epoch: 38/100, Batch: 300/1035, Loss: 1.465754\n",
      "Epoch: 38/100, Batch: 400/1035, Loss: 1.823838\n",
      "Epoch: 38/100, Batch: 500/1035, Loss: 1.820258\n",
      "Epoch: 38/100, Batch: 600/1035, Loss: 1.455729\n",
      "Epoch: 38/100, Batch: 700/1035, Loss: 1.573650\n",
      "Epoch: 38/100, Batch: 800/1035, Loss: 1.604624\n",
      "Epoch: 38/100, Batch: 900/1035, Loss: 1.783264\n",
      "Epoch: 38/100, Batch: 1000/1035, Loss: 1.721827\n",
      "Test accuracy: 50%\n",
      "Epoch: 39/100, Batch: 100/1035, Loss: 1.631840\n",
      "Epoch: 39/100, Batch: 200/1035, Loss: 1.579340\n",
      "Epoch: 39/100, Batch: 300/1035, Loss: 1.812938\n",
      "Epoch: 39/100, Batch: 400/1035, Loss: 1.816345\n",
      "Epoch: 39/100, Batch: 500/1035, Loss: 1.724800\n",
      "Epoch: 39/100, Batch: 600/1035, Loss: 1.578343\n",
      "Epoch: 39/100, Batch: 700/1035, Loss: 1.811237\n",
      "Epoch: 39/100, Batch: 800/1035, Loss: 1.821398\n",
      "Epoch: 39/100, Batch: 900/1035, Loss: 1.602314\n",
      "Epoch: 39/100, Batch: 1000/1035, Loss: 1.781040\n",
      "Test accuracy: 53%\n",
      "Epoch: 40/100, Batch: 100/1035, Loss: 1.569114\n",
      "Epoch: 40/100, Batch: 200/1035, Loss: 1.870694\n",
      "Epoch: 40/100, Batch: 300/1035, Loss: 1.653623\n",
      "Epoch: 40/100, Batch: 400/1035, Loss: 1.781705\n",
      "Epoch: 40/100, Batch: 500/1035, Loss: 1.582051\n",
      "Epoch: 40/100, Batch: 600/1035, Loss: 1.462529\n",
      "Epoch: 40/100, Batch: 700/1035, Loss: 1.827965\n",
      "Epoch: 40/100, Batch: 800/1035, Loss: 1.412827\n",
      "Epoch: 40/100, Batch: 900/1035, Loss: 1.607030\n",
      "Epoch: 40/100, Batch: 1000/1035, Loss: 1.599148\n",
      "\n",
      "Ending Early.\n"
     ]
    }
   ],
   "source": [
    "losses = []\n",
    "test_accuracies = []\n",
    "\n",
    "try:\n",
    "    for epoch_i in range(num_epochs):\n",
    "        cnn.train()\n",
    "        batch_losses = []\n",
    "        for batch_i, (images, labels) in enumerate(train_dataloader):\n",
    "\n",
    "            # Forward + Backward + Optimize\n",
    "            optimizer.zero_grad()\n",
    "            outputs = cnn(images)\n",
    "            loss = criterion(outputs, labels)\n",
    "            loss.backward()\n",
    "            optimizer.step()\n",
    "\n",
    "            # Add loss values to array to print out progress of training\n",
    "            batch_losses.append(loss.data) \n",
    "\n",
    "            if (batch_i+1) % 100 == 0:\n",
    "                num_batches = len(train_dataloader)\n",
    "                print(f'Epoch: {epoch_i+1}/{num_epochs}, Batch: {batch_i+1}/{num_batches}, Loss: {loss.data:.6f}')\n",
    "\n",
    "        if epoch_i % 1 == 0:\n",
    "            test_acc = evaluate_cnn()\n",
    "            test_accuracies.append((epoch_i, test_acc))\n",
    "            \n",
    "        losses.append(np.mean(batch_losses))\n",
    "except KeyboardInterrupt:\n",
    "    print(\"\\nEnding Early.\")"
   ]
  },
  {
   "cell_type": "code",
   "execution_count": 168,
   "metadata": {},
   "outputs": [
    {
     "data": {
      "text/plain": [
       "torch.Size([10, 5, 3, 3])"
      ]
     },
     "execution_count": 168,
     "metadata": {},
     "output_type": "execute_result"
    }
   ],
   "source": [
    "cnn.layer2[0].weight.shape"
   ]
  },
  {
   "cell_type": "code",
   "execution_count": 169,
   "metadata": {},
   "outputs": [],
   "source": [
    "import torchvision.utils"
   ]
  },
  {
   "cell_type": "code",
   "execution_count": 176,
   "metadata": {},
   "outputs": [
    {
     "data": {
      "text/plain": [
       "torch.Size([5, 1, 3, 3])"
      ]
     },
     "execution_count": 176,
     "metadata": {},
     "output_type": "execute_result"
    }
   ],
   "source": [
    "W = cnn.layer1[0].weight\n",
    "W.shape"
   ]
  },
  {
   "cell_type": "code",
   "execution_count": 177,
   "metadata": {},
   "outputs": [
    {
     "data": {
      "text/plain": [
       "torch.Size([5, 1, 3, 3])"
      ]
     },
     "execution_count": 177,
     "metadata": {},
     "output_type": "execute_result"
    }
   ],
   "source": [
    "W = (W - W.min()) / (W.max() - W.min())\n",
    "W.shape"
   ]
  },
  {
   "cell_type": "code",
   "execution_count": 178,
   "metadata": {},
   "outputs": [
    {
     "data": {
      "text/plain": [
       "torch.Size([3, 7, 27])"
      ]
     },
     "execution_count": 178,
     "metadata": {},
     "output_type": "execute_result"
    }
   ],
   "source": [
    "grid_img = utils.make_grid(W)\n",
    "grid_img.shape"
   ]
  },
  {
   "cell_type": "code",
   "execution_count": 179,
   "metadata": {},
   "outputs": [
    {
     "data": {
      "text/plain": [
       "<matplotlib.image.AxesImage at 0x1c2afebf28>"
      ]
     },
     "execution_count": 179,
     "metadata": {},
     "output_type": "execute_result"
    },
    {
     "data": {
      "image/png": "[encoded data removed]",
      "text/plain": [
       "<Figure size 432x288 with 1 Axes>"
      ]
     },
     "metadata": {
      "needs_background": "light"
     },
     "output_type": "display_data"
    }
   ],
   "source": [
    "plt.imshow(grid_img.permute(1,2,0).detach())"
   ]
  },
  {
   "cell_type": "code",
   "execution_count": 180,
   "metadata": {},
   "outputs": [],
   "source": [
    "def evaluate_cnn():\n",
    "    cnn.eval()\n",
    "    correct = 0\n",
    "    total = 0\n",
    "    for images, labels in test_dataloader:\n",
    "        outputs = cnn(images)\n",
    "        _, predicted = torch.max(outputs.data, 1)\n",
    "        total += labels.size(0)\n",
    "        correct += (predicted == labels).sum()\n",
    "\n",
    "    accuracy = 100*correct/total\n",
    "    print(f\"Test accuracy: {accuracy}%\")\n",
    "    return accuracy"
   ]
  },
  {
   "cell_type": "code",
   "execution_count": 220,
   "metadata": {},
   "outputs": [
    {
     "data": {
      "text/plain": [
       "torch.Size([2, 6])"
      ]
     },
     "execution_count": 220,
     "metadata": {},
     "output_type": "execute_result"
    }
   ],
   "source": [
    "cnn.eval()\n",
    "confusion_matrix = torch.zeros((num_classes, num_classes))\n",
    "for X, y in train_dataloader:\n",
    "    outputs = cnn(X)\n",
    "    y_preds = outputs.max(dim=1)[1]\n",
    "    for y_true, y_pred in zip(y, y_preds):\n",
    "        confusion_matrix[y_true, y_pred] += 1\n",
    "    \n",
    "    \n",
    "outputs.shape\n",
    "\n"
   ]
  },
  {
   "cell_type": "code",
   "execution_count": 225,
   "metadata": {},
   "outputs": [
    {
     "data": {
      "text/plain": [
       "[Text(33.0, 0.5, 'Actual'), Text(0.5, 15.0, 'Predicted')]"
      ]
     },
     "execution_count": 225,
     "metadata": {},
     "output_type": "execute_result"
    },
    {
     "data": {
      "image/png": "[encoded data removed]",
      "text/plain": [
       "<Figure size 432x288 with 2 Axes>"
      ]
     },
     "metadata": {
      "needs_background": "light"
     },
     "output_type": "display_data"
    }
   ],
   "source": [
    "ax = sns.heatmap(confusion_matrix.int(), annot=True, fmt=\"d\")\n",
    "ax.set(xlabel=\"Predicted\", ylabel=\"Actual\")"
   ]
  },
  {
   "cell_type": "code",
   "execution_count": 227,
   "metadata": {},
   "outputs": [
    {
     "data": {
      "text/plain": [
       "'healthy'"
      ]
     },
     "execution_count": 227,
     "metadata": {},
     "output_type": "execute_result"
    }
   ],
   "source": [
    "bee_data_src.idx_to_key[3]"
   ]
  },
  {
   "cell_type": "code",
   "execution_count": null,
   "metadata": {},
   "outputs": [],
   "source": []
  }
 ],
 "metadata": {
  "kernelspec": {
   "display_name": "Python 3",
   "language": "python",
   "name": "python3"
  },
  "language_info": {
   "codemirror_mode": {
    "name": "ipython",
    "version": 3
   },
   "file_extension": ".py",
   "mimetype": "text/x-python",
   "name": "python",
   "nbconvert_exporter": "python",
   "pygments_lexer": "ipython3",
   "version": "3.7.2"
  },
  "toc": {
   "base_numbering": 1,
   "nav_menu": {},
   "number_sections": true,
   "sideBar": true,
   "skip_h1_title": false,
   "title_cell": "Table of Contents",
   "title_sidebar": "Contents",
   "toc_cell": false,
   "toc_position": {},
   "toc_section_display": true,
   "toc_window_display": false
  }
 },
 "nbformat": 4,
 "nbformat_minor": 2
}
