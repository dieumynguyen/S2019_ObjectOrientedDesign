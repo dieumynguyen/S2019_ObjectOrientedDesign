{
 "cells": [
  {
   "cell_type": "code",
   "execution_count": 108,
   "metadata": {},
   "outputs": [],
   "source": [
    "import glob\n",
    "import numpy as np\n",
    "import pandas as pd\n",
    "import cv2\n",
    "import random \n",
    "import math\n",
    "import os\n",
    "import sys\n",
    "import ipynb\n",
    "import importlib\n",
    "import seaborn as sns\n",
    "\n",
    "import torch\n",
    "import torch.nn as nn\n",
    "from torch.utils.data import Dataset, DataLoader\n",
    "import torch.nn.functional as F\n",
    "from torchvision import transforms, utils\n",
    "import matplotlib.pyplot as plt\n",
    "from torch.utils.data.sampler import SubsetRandomSampler\n",
    "import torchvision.datasets as datasets\n",
    "from skimage import transform\n",
    "from torch.autograd import Variable"
   ]
  },
  {
   "cell_type": "code",
   "execution_count": 60,
   "metadata": {},
   "outputs": [],
   "source": [
    "import ipynb.fs.full.BeeDataHandler as BeeDataHandler"
   ]
  },
  {
   "cell_type": "code",
   "execution_count": 61,
   "metadata": {},
   "outputs": [
    {
     "data": {
      "text/plain": [
       "<module 'ipynb.fs.full.BeeDataHandler' (/Users/dieumynguyen/Documents/S2019_ObjectOrientedDesign/PyTorchPresentation/BeeHealthClassification_orig/BeeDataHandler.ipynb)>"
      ]
     },
     "execution_count": 61,
     "metadata": {},
     "output_type": "execute_result"
    }
   ],
   "source": [
    "importlib.reload(BeeDataHandler)"
   ]
  },
  {
   "cell_type": "markdown",
   "metadata": {},
   "source": [
    "### Parameters"
   ]
  },
  {
   "cell_type": "code",
   "execution_count": 135,
   "metadata": {},
   "outputs": [],
   "source": [
    "IMG_SIZE = 16\n",
    "BATCH_SIZE = 4\n",
    "BW = True\n",
    "\n",
    "bee_dir = '/Users/dieumynguyen/Datasets/HoneyBees'"
   ]
  },
  {
   "cell_type": "markdown",
   "metadata": {},
   "source": [
    "### Define transformations for data augmentation"
   ]
  },
  {
   "cell_type": "code",
   "execution_count": 136,
   "metadata": {},
   "outputs": [],
   "source": [
    "transforms_np = [\n",
    "    transforms.ToPILImage(),\n",
    "    transforms.Resize((IMG_SIZE, IMG_SIZE)),\n",
    "#     transforms.RandomRotation(degrees=180),\n",
    "#     transforms.RandomAffine(degrees=180, translate=(0, 0.2)),\n",
    "#     transforms.RandomHorizontalFlip(p=1),\n",
    "#     transforms.RandomVerticalFlip(p=1),\n",
    "    transforms.ToTensor(),  # Always need, div by 255 \n",
    "    BeeDataHandler.CustomNormalize()\n",
    "]\n",
    "\n",
    "if BW:\n",
    "    transforms_np.append(BeeDataHandler.Flatten())\n",
    "\n",
    "transform_list = transforms.Compose(transforms_np)"
   ]
  },
  {
   "cell_type": "markdown",
   "metadata": {},
   "source": [
    "### Load data"
   ]
  },
  {
   "cell_type": "code",
   "execution_count": 137,
   "metadata": {},
   "outputs": [],
   "source": [
    "# Wrapper around the data\n",
    "# Could load data into np or a pointer/filepath\n",
    "bee_data_src = BeeDataHandler.DataHandler(bee_dir, transforms=transform_list, bw=BW, test_split=0.2)"
   ]
  },
  {
   "cell_type": "code",
   "execution_count": 138,
   "metadata": {},
   "outputs": [],
   "source": [
    "train_dataloader = DataLoader(bee_data_src, batch_size=BATCH_SIZE, sampler=bee_data_src.train_sampler)\n",
    "test_dataloader = DataLoader(bee_data_src, batch_size=BATCH_SIZE, sampler=bee_data_src.test_sampler)"
   ]
  },
  {
   "cell_type": "code",
   "execution_count": 139,
   "metadata": {},
   "outputs": [],
   "source": [
    "def sample_imgs():\n",
    "    for X, y in train_dataloader:\n",
    "        break\n",
    "    \n",
    "    X = X.view(-1, IMG_SIZE)\n",
    "    \n",
    "    xxx = (X + 1) / 2.0\n",
    "    grid_img = utils.make_grid(xxx)\n",
    "\n",
    "    fig, ax = plt.subplots(figsize=(12,12))\n",
    "    ax.imshow(grid_img.permute(1,2,0))\n",
    "    recovered_labels = [bee_data_src.idx_to_key[ele.item()] for ele in y]\n",
    "    title_str = \"\"\n",
    "    for recovered_label in recovered_labels:\n",
    "        title_str += f\"{recovered_label}                     \"\n",
    "    title_str = title_str[:-3]\n",
    "    plt.title(title_str)"
   ]
  },
  {
   "cell_type": "code",
   "execution_count": 140,
   "metadata": {},
   "outputs": [
    {
     "data": {
      "image/png": "[encoded data removed]",
      "text/plain": [
       "<Figure size 864x864 with 1 Axes>"
      ]
     },
     "metadata": {
      "needs_background": "light"
     },
     "output_type": "display_data"
    }
   ],
   "source": [
    "sample_imgs()"
   ]
  },
  {
   "cell_type": "markdown",
   "metadata": {},
   "source": [
    "### CNN"
   ]
  },
  {
   "cell_type": "markdown",
   "metadata": {},
   "source": [
    "$$ out = \\frac{in - k + 2*P}{stride} + 1$$"
   ]
  },
  {
   "cell_type": "markdown",
   "metadata": {},
   "source": [
    "$$ in = [(in - k + 2P) / S] + 1$$ \n",
    "$$ P = (S(in - 1) - in + k ) / 2$$ \n",
    "$$ P = (S*in - S - in + k ) / 2$$ \n",
    "$$ P = (in(S - 1) - S + k ) / 2$$ \n",
    "\n",
    "if S == 1:\n",
    "$$ P = (k-S) / 2$$ "
   ]
  },
  {
   "cell_type": "code",
   "execution_count": 141,
   "metadata": {},
   "outputs": [
    {
     "data": {
      "text/plain": [
       "Parameter containing:\n",
       "tensor([[-0.0482,  0.4368,  0.1657, -0.2929, -0.3883]], requires_grad=True)"
      ]
     },
     "execution_count": 141,
     "metadata": {},
     "output_type": "execute_result"
    }
   ],
   "source": [
    "xx = nn.Linear(5, 1)\n",
    "xx.weight"
   ]
  },
  {
   "cell_type": "code",
   "execution_count": 142,
   "metadata": {},
   "outputs": [],
   "source": [
    "class MLP(nn.Module):\n",
    "    \n",
    "    def __init__(self, num_classes, num_in_channels, input_dim, keep_prob=1.0):\n",
    "        '''\n",
    "        In this constructor, define layers using provided modiles from nn package.\n",
    "        A Sequential is defined by a sequence of a layer, normalization, activation, pooling.\n",
    "        '''\n",
    "        super().__init__()\n",
    "        \n",
    "        self.fc1 = nn.Linear(input_dim, 512)\n",
    "        nn.init.xavier_uniform_(self.fc1.weight)\n",
    "        \n",
    "        self.fc2 = nn.Linear(512, 512)\n",
    "        nn.init.xavier_uniform_(self.fc2.weight)\n",
    "        \n",
    "        self.fc3 = nn.Linear(512, num_classes)\n",
    "        nn.init.xavier_uniform_(self.fc3.weight)\n",
    "        \n",
    "        self.dropout = nn.Dropout(p=1-keep_prob)\n",
    "        self.activation = nn.ReLU()\n",
    "\n",
    "        \"\"\" ---------------------------------------- \"\"\"\n",
    "        \n",
    "    def forward(self, x):\n",
    "        ''' \n",
    "        This function is called on the net for a set of inputs,\n",
    "        and it passes that input through different layers defined above.\n",
    "        \n",
    "        For ex, we pass x through first layer, pass its output through\n",
    "        second layer, and pass that through the final FC layer to get \n",
    "        final output. \n",
    "        '''\n",
    "    \n",
    "        # Fully Connected\n",
    "        out = self.activation(self.fc1(x))\n",
    "        out = self.dropout(out)\n",
    "        \n",
    "        out = self.activation(self.fc2(out))\n",
    "        out = self.dropout(out)\n",
    "        \n",
    "        out = self.activation(self.fc3(out))\n",
    "        \n",
    "        return out\n",
    "        "
   ]
  },
  {
   "cell_type": "code",
   "execution_count": 143,
   "metadata": {},
   "outputs": [],
   "source": [
    "num_epochs = 1000\n",
    "learning_rate = 0.0005\n",
    "\n",
    "# Instantiate an instance of the conv net\n",
    "num_classes = bee_data_src.num_classes\n",
    "num_in_channels = 1 if BW else 3\n",
    "flat_shape = IMG_SIZE * IMG_SIZE\n",
    "net = MLP(input_dim=flat_shape, num_classes=num_classes, num_in_channels=num_in_channels)\n",
    "\n",
    "# Loss function and optimizer\n",
    "optimizer = torch.optim.Adam(net.parameters(), lr=learning_rate)\n",
    "criterion = nn.CrossEntropyLoss()\n",
    "\n",
    "losses = []\n",
    "test_accuracies = []\n",
    "train_accuracies = []"
   ]
  },
  {
   "cell_type": "markdown",
   "metadata": {},
   "source": [
    "### Train"
   ]
  },
  {
   "cell_type": "code",
   "execution_count": 144,
   "metadata": {},
   "outputs": [],
   "source": [
    "def evaluate_model(dataset_key):\n",
    "    net.eval()\n",
    "    correct = 0\n",
    "    total = 0\n",
    "    data_loader = train_dataloader if dataset_key == 'train' else test_dataloader\n",
    "    for images, labels in data_loader:\n",
    "        outputs = net(images)\n",
    "        predicted_vals, predicted_idxs = torch.max(outputs, 1)\n",
    "        total += labels.size(0)\n",
    "        correct += (predicted_idxs == labels).sum()\n",
    "\n",
    "    accuracy = 100 * correct / float(total)\n",
    "    print(f\"\\n{dataset_key.capitalize()} accuracy: {accuracy:0.2f}%\")\n",
    "    return accuracy"
   ]
  },
  {
   "cell_type": "code",
   "execution_count": null,
   "metadata": {
    "scrolled": false
   },
   "outputs": [
    {
     "name": "stdout",
     "output_type": "stream",
     "text": [
      "Epoch: 17/1000 -- Epoch Loss: 0.4335 -- Batch: 1000/1035 -- Batch Loss: 0.3819\n",
      "Train accuracy: 86.00%\n",
      "\n",
      "Test accuracy: 78.00%\n",
      "Epoch: 18/1000 -- Epoch Loss: 0.3875 -- Batch: 1000/1035 -- Batch Loss: 0.3621\n",
      "Train accuracy: 87.00%\n",
      "\n",
      "Test accuracy: 77.00%\n",
      "Epoch: 19/1000 -- Epoch Loss: 0.3634 -- Batch: 200/1035 -- Batch Loss: 0.3105"
     ]
    }
   ],
   "source": [
    "try:\n",
    "    for epoch_i in range(len(losses), num_epochs):\n",
    "        net.train()\n",
    "        batch_losses = []\n",
    "        for batch_i, (images, labels) in enumerate(train_dataloader):\n",
    "\n",
    "            # Forward + Backward + Optimize\n",
    "            optimizer.zero_grad()\n",
    "            outputs = net(images)\n",
    "            loss = criterion(outputs, labels)\n",
    "            loss.backward()\n",
    "            optimizer.step()\n",
    "\n",
    "            # Add loss values to array to print out progress of training\n",
    "            batch_losses.append(loss.item()) \n",
    "\n",
    "            if (batch_i+1) % 50 == 0:\n",
    "                num_batches = len(train_dataloader)\n",
    "                loss_val = np.mean(batch_losses)\n",
    "                \n",
    "                if losses == []:\n",
    "                    epoch_loss_val = 9999\n",
    "                else:\n",
    "                    epoch_loss_val = losses[-1]\n",
    "                batch_loss_val = np.mean(batch_losses)\n",
    "                print_str = f'\\rEpoch: {epoch_i+1}/{num_epochs} -- '\n",
    "                print_str += f'Epoch Loss: {epoch_loss_val:0.4f} -- '\n",
    "                print_str += f'Batch: {batch_i+1}/{num_batches} -- '\n",
    "                print_str += f'Batch Loss: {batch_loss_val:0.4f}'\n",
    "                \n",
    "                sys.stdout.write(print_str)\n",
    "                sys.stdout.flush()\n",
    "\n",
    "        if epoch_i % 1 == 0:\n",
    "            train_acc = evaluate_model('train')\n",
    "            train_accuracies.append((epoch_i, train_acc))\n",
    "            \n",
    "            test_acc = evaluate_model('test')\n",
    "            test_accuracies.append((epoch_i, test_acc))\n",
    "            \n",
    "        losses.append(np.mean(batch_losses))\n",
    "except KeyboardInterrupt:\n",
    "    print(\"\\nEnding Early.\")"
   ]
  },
  {
   "cell_type": "code",
   "execution_count": 153,
   "metadata": {},
   "outputs": [
    {
     "data": {
      "text/plain": [
       "<matplotlib.legend.Legend at 0x1c29561be0>"
      ]
     },
     "execution_count": 153,
     "metadata": {},
     "output_type": "execute_result"
    },
    {
     "data": {
      "image/png": "[encoded data removed]",
      "text/plain": [
       "<Figure size 864x864 with 2 Axes>"
      ]
     },
     "metadata": {
      "needs_background": "light"
     },
     "output_type": "display_data"
    }
   ],
   "source": [
    "train_accs = np.array(train_accuracies)\n",
    "test_accs = np.array(test_accuracies)\n",
    "\n",
    "fig, ax = plt.subplots(2, 1, figsize=(12,12))\n",
    "ax[0].plot(losses)\n",
    "ax[0].set(xlabel=\"epochs\", ylabel='Loss')\n",
    "# ax[1].plot(train_accs[:,0], train_accs[:,1], label='Train')\n",
    "# ax[1].plot(test_accs[:,0], test_accs[:,1], label='Test')\n",
    "ax[1].plot(train_accs[:,1], label='Train')\n",
    "ax[1].plot(test_accs[:,1], label='Test')\n",
    "ax[1].set(xlabel=\"epochs\", ylabel='Accuracy')\n",
    "ax[1].legend()"
   ]
  },
  {
   "cell_type": "code",
   "execution_count": 15,
   "metadata": {},
   "outputs": [
    {
     "data": {
      "text/plain": [
       "torch.Size([2, 6])"
      ]
     },
     "execution_count": 15,
     "metadata": {},
     "output_type": "execute_result"
    }
   ],
   "source": [
    "net.eval()\n",
    "confusion_matrix = torch.zeros((num_classes, num_classes))\n",
    "for X, y in train_dataloader:\n",
    "    outputs = net(X)\n",
    "    y_preds = outputs.max(dim=1)[1]\n",
    "    for y_true, y_pred in zip(y, y_preds):\n",
    "        confusion_matrix[y_true, y_pred] += 1\n",
    "    \n",
    "    \n",
    "outputs.shape"
   ]
  },
  {
   "cell_type": "code",
   "execution_count": 16,
   "metadata": {},
   "outputs": [
    {
     "data": {
      "text/plain": [
       "[Text(33.0, 0.5, 'Actual'), Text(0.5, 15.0, 'Predicted')]"
      ]
     },
     "execution_count": 16,
     "metadata": {},
     "output_type": "execute_result"
    },
    {
     "data": {
      "image/png": "[encoded data removed]",
      "text/plain": [
       "<Figure size 432x288 with 2 Axes>"
      ]
     },
     "metadata": {
      "needs_background": "light"
     },
     "output_type": "display_data"
    }
   ],
   "source": [
    "ax = sns.heatmap(confusion_matrix.int(), annot=True, fmt=\"d\")\n",
    "ax.set(xlabel=\"Predicted\", ylabel=\"Actual\")"
   ]
  },
  {
   "cell_type": "code",
   "execution_count": 227,
   "metadata": {},
   "outputs": [
    {
     "data": {
      "text/plain": [
       "'healthy'"
      ]
     },
     "execution_count": 227,
     "metadata": {},
     "output_type": "execute_result"
    }
   ],
   "source": [
    "bee_data_src.idx_to_key[3]"
   ]
  },
  {
   "cell_type": "code",
   "execution_count": null,
   "metadata": {},
   "outputs": [],
   "source": []
  }
 ],
 "metadata": {
  "kernelspec": {
   "display_name": "Python 3",
   "language": "python",
   "name": "python3"
  },
  "language_info": {
   "codemirror_mode": {
    "name": "ipython",
    "version": 3
   },
   "file_extension": ".py",
   "mimetype": "text/x-python",
   "name": "python",
   "nbconvert_exporter": "python",
   "pygments_lexer": "ipython3",
   "version": "3.7.2"
  },
  "toc": {
   "base_numbering": 1,
   "nav_menu": {},
   "number_sections": true,
   "sideBar": true,
   "skip_h1_title": false,
   "title_cell": "Table of Contents",
   "title_sidebar": "Contents",
   "toc_cell": false,
   "toc_position": {},
   "toc_section_display": true,
   "toc_window_display": false
  }
 },
 "nbformat": 4,
 "nbformat_minor": 2
}
