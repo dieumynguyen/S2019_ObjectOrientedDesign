{
 "cells": [
  {
   "cell_type": "markdown",
   "metadata": {},
   "source": [
    "# PyTorch Presentation Code Examples\n",
    "\n",
    "CSCI 5448 <br>\n",
    "Graduate Presentation <br>\n",
    "15 April 2019 <br>\n",
    "By: Dieu My Nguyen"
   ]
  },
  {
   "cell_type": "code",
   "execution_count": 280,
   "metadata": {},
   "outputs": [],
   "source": [
    "# Of course, we always import numpy, pandas, & matplotlib\n",
    "import sys\n",
    "import numpy as np\n",
    "import pandas as pd\n",
    "import matplotlib.pyplot as plt\n",
    "\n",
    "# Some other useful imports\n",
    "from sklearn.metrics import confusion_matrix\n",
    "\n",
    "# PyTorch imports\n",
    "import torch\n",
    "import torch.nn as nn\n",
    "import torch.optim as optim\n",
    "import torch.nn.functional as F\n",
    "\n",
    "import torchvision\n",
    "import torchvision.transforms as transforms\n",
    "torch.set_printoptions(linewidth=120)"
   ]
  },
  {
   "cell_type": "markdown",
   "metadata": {
    "heading_collapsed": true
   },
   "source": [
    "## Tensor and basic operations"
   ]
  },
  {
   "cell_type": "markdown",
   "metadata": {
    "hidden": true
   },
   "source": [
    "#### Construct a tensor from a list or sequence using the ```torch.tensor()``` constructor."
   ]
  },
  {
   "cell_type": "code",
   "execution_count": 281,
   "metadata": {
    "hidden": true
   },
   "outputs": [
    {
     "data": {
      "text/plain": [
       "tensor([[0, 1],\n",
       "        [2, 3]])"
      ]
     },
     "execution_count": 281,
     "metadata": {},
     "output_type": "execute_result"
    }
   ],
   "source": [
    "torch.tensor([[0, 1], [2, 3]])"
   ]
  },
  {
   "cell_type": "code",
   "execution_count": 282,
   "metadata": {
    "hidden": true
   },
   "outputs": [
    {
     "data": {
      "text/plain": [
       "tensor([[1, 2, 3],\n",
       "        [4, 5, 6]])"
      ]
     },
     "execution_count": 282,
     "metadata": {},
     "output_type": "execute_result"
    }
   ],
   "source": [
    "torch.tensor(np.array([[1, 2, 3], [4, 5, 6]]))"
   ]
  },
  {
   "cell_type": "markdown",
   "metadata": {
    "hidden": true
   },
   "source": [
    "#### Make a tensor of a specific data type by passing a ```torch.dtype``` to a constructor or tensor creation op."
   ]
  },
  {
   "cell_type": "code",
   "execution_count": 283,
   "metadata": {
    "hidden": true
   },
   "outputs": [
    {
     "data": {
      "text/plain": [
       "tensor([[0, 0, 0, 0],\n",
       "        [0, 0, 0, 0]], dtype=torch.int32)"
      ]
     },
     "execution_count": 283,
     "metadata": {},
     "output_type": "execute_result"
    }
   ],
   "source": [
    "torch.zeros([2, 4], dtype=torch.int32)"
   ]
  },
  {
   "cell_type": "markdown",
   "metadata": {
    "hidden": true
   },
   "source": [
    "#### Access and modify contents of a tensor by using Python's normal indexing and slicing notation."
   ]
  },
  {
   "cell_type": "code",
   "execution_count": 284,
   "metadata": {
    "hidden": true
   },
   "outputs": [
    {
     "name": "stdout",
     "output_type": "stream",
     "text": [
      "tensor(6)\n"
     ]
    }
   ],
   "source": [
    "x = torch.tensor([[1, 2, 3], [4, 5, 6]])\n",
    "print(x[1][2])"
   ]
  },
  {
   "cell_type": "code",
   "execution_count": 285,
   "metadata": {
    "hidden": true
   },
   "outputs": [
    {
     "name": "stdout",
     "output_type": "stream",
     "text": [
      "tensor([[1, 8, 3],\n",
      "        [4, 5, 6]])\n"
     ]
    }
   ],
   "source": [
    "x[0][1] = 8\n",
    "print(x)"
   ]
  },
  {
   "cell_type": "markdown",
   "metadata": {
    "hidden": true
   },
   "source": [
    "#### Shape, reshape, squeeze, flatten, concatenate."
   ]
  },
  {
   "cell_type": "code",
   "execution_count": 14,
   "metadata": {
    "hidden": true
   },
   "outputs": [],
   "source": [
    "t = torch.tensor([\n",
    "    [1, 1, 1, 1],\n",
    "    [2, 2, 2, 2],\n",
    "    [3, 3, 3, 3]\n",
    "], dtype=torch.float32)"
   ]
  },
  {
   "cell_type": "code",
   "execution_count": 15,
   "metadata": {
    "hidden": true
   },
   "outputs": [
    {
     "data": {
      "text/plain": [
       "(torch.Size([3, 4]), torch.Size([3, 4]))"
      ]
     },
     "execution_count": 15,
     "metadata": {},
     "output_type": "execute_result"
    }
   ],
   "source": [
    "# Get shape either way\n",
    "t.size(), t.shape"
   ]
  },
  {
   "cell_type": "code",
   "execution_count": 16,
   "metadata": {
    "hidden": true
   },
   "outputs": [
    {
     "data": {
      "text/plain": [
       "12"
      ]
     },
     "execution_count": 16,
     "metadata": {},
     "output_type": "execute_result"
    }
   ],
   "source": [
    "# Get number of elements in tensor\n",
    "t.numel()"
   ]
  },
  {
   "cell_type": "code",
   "execution_count": 17,
   "metadata": {
    "hidden": true
   },
   "outputs": [
    {
     "data": {
      "text/plain": [
       "tensor([[1., 1., 1., 1., 2., 2., 2., 2., 3., 3., 3., 3.]])"
      ]
     },
     "execution_count": 17,
     "metadata": {},
     "output_type": "execute_result"
    }
   ],
   "source": [
    "# Reshape a tensor\n",
    "t.reshape([1, 12])"
   ]
  },
  {
   "cell_type": "code",
   "execution_count": 26,
   "metadata": {
    "hidden": true
   },
   "outputs": [
    {
     "name": "stdout",
     "output_type": "stream",
     "text": [
      "Original reshape:\n",
      "tensor([[1., 1., 1., 1., 2., 2., 2., 2., 3., 3., 3., 3.]])\n",
      "torch.Size([1, 12])\n",
      "\n",
      "Squeeze:\n",
      "tensor([1., 1., 1., 1., 2., 2., 2., 2., 3., 3., 3., 3.])\n",
      "torch.Size([12])\n",
      "\n",
      "Unsqueeze:\n",
      "tensor([[1., 1., 1., 1., 2., 2., 2., 2., 3., 3., 3., 3.]])\n",
      "torch.Size([1, 12])\n"
     ]
    }
   ],
   "source": [
    "# Squeeze, unsqueeze a tensor. Notice the shape changes.\n",
    "\n",
    "print(\"Original reshape:\")\n",
    "print(t.reshape([1, 12]))\n",
    "print(t.reshape([1, 12]).shape)\n",
    "\n",
    "print(\"\\nSqueeze:\")\n",
    "print(t.reshape([1,12]).squeeze())\n",
    "print(t.reshape([1,12]).squeeze().shape)\n",
    "\n",
    "print(\"\\nUnsqueeze:\")\n",
    "print(t.reshape([1,12]).squeeze().unsqueeze(dim=0))\n",
    "print(t.reshape([1,12]).squeeze().unsqueeze(dim=0).shape)"
   ]
  },
  {
   "cell_type": "code",
   "execution_count": 29,
   "metadata": {
    "hidden": true
   },
   "outputs": [
    {
     "name": "stdout",
     "output_type": "stream",
     "text": [
      "tensor([1., 1., 1., 1., 2., 2., 2., 2., 3., 3., 3., 3.])\n",
      "torch.Size([12])\n"
     ]
    }
   ],
   "source": [
    "# Flatten a tensor\n",
    "t = t.reshape(1, -1)\n",
    "t = t.squeeze()\n",
    "print(t)\n",
    "print(t.shape)"
   ]
  },
  {
   "cell_type": "code",
   "execution_count": 37,
   "metadata": {
    "hidden": true
   },
   "outputs": [
    {
     "name": "stdout",
     "output_type": "stream",
     "text": [
      "Row wise concat: \n",
      "tensor([[1, 2],\n",
      "        [3, 4],\n",
      "        [5, 6],\n",
      "        [7, 7]])\n",
      "\n",
      "Column wise concat: \n",
      "tensor([[1, 2, 5, 6],\n",
      "        [3, 4, 7, 7]])\n"
     ]
    }
   ],
   "source": [
    "# Concentenate tensors\n",
    "t1 = torch.tensor([\n",
    "    [1, 2],\n",
    "    [3, 4]\n",
    "])\n",
    "\n",
    "t2 = torch.tensor([\n",
    "    [5, 6],\n",
    "    [7, 7]\n",
    "])\n",
    "\n",
    "# Concat row wise\n",
    "print(f\"Row wise concat: \\n{torch.cat((t1, t2), dim=0)}\")\n",
    "\n",
    "# Concat column wise\n",
    "print(f\"\\nColumn wise concat: \\n{torch.cat((t1, t2), dim=1)}\")"
   ]
  },
  {
   "cell_type": "markdown",
   "metadata": {},
   "source": [
    "## Fashion-MNIST CNN Example\n",
    "\n",
    "Four primary steps:\n",
    "1. Prepare the data\n",
    "2. Build the CNN model\n",
    "3. Train the model\n",
    "4. Analyze the model’s results"
   ]
  },
  {
   "cell_type": "markdown",
   "metadata": {},
   "source": [
    "### 1. Prepare data using PyTorch\n",
    "\n",
    "Steps:\n",
    "1. Extract: Get image data from source\n",
    "2. Transform: Put data into tensor form\n",
    "3. Load: Put data into object to make it easily accessible\n",
    "\n",
    "For these steps, PyTorch gives us 2 classes: \n",
    "- ```torch.utils.data.Dataset```: An abstract class to represent a dataset. We extend ```Dataset``` to create a concerete subclass.\n",
    "- ```torch.utils.data.DataLoader```: Wraps a dataset and provide access to the underlying data\n",
    "\n",
    "Since Fashion-MNIST comes with ```torchvision```, we just need to know that under the hood: All subclasses of the ```Dataset``` class must override ```__len__```, which provides the size of the dataset, and ```__getitem__```, supporting integer indexing in range from 0 to ```len(self)``` exclusive."
   ]
  },
  {
   "cell_type": "markdown",
   "metadata": {},
   "source": [
    "Let's get an instance of the dataset using ```torchvision``` by specifying the following arguments:\n",
    "\n",
    "- ```root```: The location on disk where the data is located.\n",
    "- ```train```: If the dataset is the training set.\n",
    "- ```download```: If the data should be downloaded.\n",
    "- ```transform```: A composition of transformations that should be performed on the dataset elements.\n",
    "\n",
    "We use the built-in ```transforms.ToTensor()``` transformation to transform our images into tensors. "
   ]
  },
  {
   "cell_type": "code",
   "execution_count": 288,
   "metadata": {},
   "outputs": [],
   "source": [
    "train_set = torchvision.datasets.FashionMNIST(\n",
    "            root='./data/FashionMNIST',\n",
    "            train=True,\n",
    "            download=True,\n",
    "            transform=transforms.Compose([transforms.ToTensor()]))\n",
    "\n",
    "test_set = torchvision.datasets.FashionMNIST(\n",
    "            root='./data/FashionMNIST',\n",
    "            train=False,\n",
    "            download=True,\n",
    "            transform=transforms.Compose([transforms.ToTensor()]))"
   ]
  },
  {
   "cell_type": "markdown",
   "metadata": {},
   "source": [
    "Next, let's create a ```DataLoader``` wrapper for the training and testing sets. "
   ]
  },
  {
   "cell_type": "code",
   "execution_count": 289,
   "metadata": {},
   "outputs": [],
   "source": [
    "train_loader = torch.utils.data.DataLoader(train_set,\n",
    "                                           batch_size=batch_size,\n",
    "                                           shuffle=True)\n",
    "\n",
    "test_loader = torch.utils.data.DataLoader(test_set,\n",
    "                                           batch_size=batch_size,\n",
    "                                           shuffle=True)"
   ]
  },
  {
   "cell_type": "markdown",
   "metadata": {},
   "source": [
    "Explore the dataset with simple Python and PyTorch functions:"
   ]
  },
  {
   "cell_type": "code",
   "execution_count": 290,
   "metadata": {},
   "outputs": [
    {
     "data": {
      "text/plain": [
       "(60000, 10000)"
      ]
     },
     "execution_count": 290,
     "metadata": {},
     "output_type": "execute_result"
    }
   ],
   "source": [
    "# See how images in train/test sets\n",
    "len(train_set), len(test_set)"
   ]
  },
  {
   "cell_type": "code",
   "execution_count": 291,
   "metadata": {},
   "outputs": [
    {
     "data": {
      "text/plain": [
       "tensor([9, 0, 0,  ..., 3, 0, 5])"
      ]
     },
     "execution_count": 291,
     "metadata": {},
     "output_type": "execute_result"
    }
   ],
   "source": [
    "# See labels for images\n",
    "train_set.targets"
   ]
  },
  {
   "cell_type": "code",
   "execution_count": 292,
   "metadata": {},
   "outputs": [
    {
     "data": {
      "text/plain": [
       "tensor([6000, 6000, 6000, 6000, 6000, 6000, 6000, 6000, 6000, 6000])"
      ]
     },
     "execution_count": 292,
     "metadata": {},
     "output_type": "execute_result"
    }
   ],
   "source": [
    "# See distribution of labels: Balanced dataset so let's no worry about \n",
    "# the common problem of class imabalance\n",
    "train_set.targets.bincount()"
   ]
  },
  {
   "cell_type": "markdown",
   "metadata": {},
   "source": [
    "Access data in the train set:"
   ]
  },
  {
   "cell_type": "code",
   "execution_count": 293,
   "metadata": {},
   "outputs": [
    {
     "data": {
      "text/plain": [
       "2"
      ]
     },
     "execution_count": 293,
     "metadata": {},
     "output_type": "execute_result"
    }
   ],
   "source": [
    "# Pass train_set object to Python built-in iter() function\n",
    "# Returns an object representing a stream of data\n",
    "# Built-in next() gets us the next data element in the stream\n",
    "sample = next(iter(train_set))\n",
    "len(sample)  # 2 items represent image-label pair for each sample"
   ]
  },
  {
   "cell_type": "code",
   "execution_count": 294,
   "metadata": {},
   "outputs": [],
   "source": [
    "# Index sample to get image and label\n",
    "image = sample[0]\n",
    "label = sample[1]"
   ]
  },
  {
   "cell_type": "code",
   "execution_count": 295,
   "metadata": {
    "scrolled": true
   },
   "outputs": [
    {
     "data": {
      "image/png": "[encoded data removed]",
      "text/plain": [
       "<Figure size 432x288 with 1 Axes>"
      ]
     },
     "metadata": {},
     "output_type": "display_data"
    }
   ],
   "source": [
    "# Plot the image \n",
    "plt.imshow(image.squeeze(), cmap=\"gray\")\n",
    "plt.title(f\"Numeric label: {label}\")\n",
    "plt.show()"
   ]
  },
  {
   "cell_type": "markdown",
   "metadata": {},
   "source": [
    "Working with batches of data: "
   ]
  },
  {
   "cell_type": "code",
   "execution_count": 303,
   "metadata": {},
   "outputs": [],
   "source": [
    "display_loader = torch.utils.data.DataLoader(train_set, batch_size=10)"
   ]
  },
  {
   "cell_type": "code",
   "execution_count": 304,
   "metadata": {},
   "outputs": [],
   "source": [
    "# Use iter() and next() again to grab this batch from the data\n",
    "batch = next(iter(display_loader))\n",
    "images, labels = batch"
   ]
  },
  {
   "cell_type": "code",
   "execution_count": 305,
   "metadata": {},
   "outputs": [
    {
     "name": "stdout",
     "output_type": "stream",
     "text": [
      "Shapes: torch.Size([10, 1, 28, 28]) torch.Size([10])\n"
     ]
    }
   ],
   "source": [
    "# Look at tensor shape: \n",
    "# We have 10 images, each has 1 color channel of size 28x28\n",
    "print('Shapes:', images.shape, labels.shape)"
   ]
  },
  {
   "cell_type": "code",
   "execution_count": 306,
   "metadata": {},
   "outputs": [
    {
     "name": "stdout",
     "output_type": "stream",
     "text": [
      "Labels: tensor([9, 0, 0, 3, 0, 2, 7, 2, 5, 5])\n"
     ]
    },
    {
     "data": {
      "image/png": "[encoded data removed]",
      "text/plain": [
       "<Figure size 1080x1080 with 1 Axes>"
      ]
     },
     "metadata": {},
     "output_type": "display_data"
    }
   ],
   "source": [
    "# Plot a batch of images, use torchvision.utils.make_grid()\n",
    "grid_img = torchvision.utils.make_grid(images, nrow=10, pad_value=0, padding=2)\n",
    "plt.figure(figsize=(15,15))\n",
    "plt.imshow(grid_img.permute(1,2,0))\n",
    "print('Labels:', labels)"
   ]
  },
  {
   "cell_type": "markdown",
   "metadata": {},
   "source": [
    "### 2. Build the CNN model\n",
    "\n",
    "CNNs are the go-to networks for image recognition/classification tasks because they're well suited for detecting spacial patterns. \n",
    "\n",
    "#### Shape of a CNN input:\n",
    "\n",
    "Typically, the shape of the input is 4 (axes). Let's go backward to explore each axis.\n",
    "\n",
    "<i> Image height and width: </i> These are represented on the last 2 axes. For Fashion-MNIST, we'd have 28x28. \n",
    "\n",
    "<i> Image color channels: </i> For RGB, we have 3, or 1 for grayscale, in the next axis. This color channel interpretation only applies to the input tensor. The interpretation of this axis changes after the tensor passes through a convolutional layer. \n",
    "\n",
    "<i> Image batches: </i> The first axis. In neural networks, we usually work with batches of samples opposed to single samples, so the length of this axis tells us how many samples are in our batch.\n",
    "\n",
    "This allows us to see that an entire batch of images is represented using a single rank-4 tensor.\n",
    "\n",
    "For example, we have a tensor of the shape ```[3, 1, 28, 28]```. We have a batch of 3 images, each image has a single color channel and are of height and width 28x28. The tensor is [Batch, Channels, Height, Width]. To navigate to a specific pixel in a specific color channel, we'd use 4 indexes.\n",
    "\n",
    "#### Output channels and feature maps:\n",
    "\n",
    "After the tensor is transformed by a convolutional layer, the shape of the image tensor will change. The convolution changes the height and width dimensions as well as the number of channels. The number of output channels changes based on the number of filters being used in the convolutional layer.\n",
    "\n",
    "Suppose we have three convolutional filters, and lets just see what happens to the channel axis.\n",
    "\n",
    "Since we have three convolutional filters, we will have three channel outputs from the convolutional layer. These channels are outputs from the convolutional layer, hence the name output channels opposed to color channels.\n",
    "\n",
    "Each of the three filters convolves the original single input channel producing three output channels. The output channels are still comprised of pixels, but the pixels have been modified by the convolution operation. Depending on the size of the filter, the height and width dimensions of the output will change also.\n",
    "\n",
    "<i> Feature maps:</i> With the output channels, we no longer have color channels, but modified channels that we call feature maps. These so-called feature maps are the outputs of the convolutions that take place using the input color channels and the convolutional filters.\n",
    "\n",
    "The word “feature” is used because the outputs represent particular features from the image, like edges for example, and these mappings emerge as the network learns during the training process and become more complex as we move deeper into the network.\n",
    "\n"
   ]
  },
  {
   "cell_type": "markdown",
   "metadata": {},
   "source": [
    "#### Object-oriented neural networks\n",
    "\n",
    "To build NNs in PyTorch, we extend the ```torch.nn.Module``` class from PyTorch.\n",
    "\n",
    "Each layer is a great candidate to be represented as objects using OOP, as each had 2 primary components: A transformation (code) and a collection of weights (data). Within PyTorch ``nn`` package, there is a class called ```Module``` and it is the base class for all NN modules iuncluding layers.\n",
    "\n",
    "All layers (aka a neural network) extend/inherit from ```nn.Module```.\n",
    "\n",
    "```nn.Module``` has a ```forward()``` method. When we pass a tensor to our network as input, the tensor flows forward though each layer transformation until the tensor reaches the output layer. \n",
    "\n",
    "The goal of the overall transformation is to transform or map the input to the correct prediction output class, and during the training process, the layer weights (data) are updated in such a way that cause the mapping to adjust to make the output closer to the correct prediction.\n",
    "\n",
    "When we implement the ```forward()``` method of our ```nn.Module``` subclass, we will typically use functions from the ```nn.functional``` package. This package provides us with many neural network operations that we can use for building layers. In fact, many of the ```nn.Module``` layer classes use ```nn.functional``` functions to perform their operations.\n",
    "\n",
    "The ```nn.functional``` package contains methods that subclasses of ```nn.Module``` use for implementing their ```forward()``` functions. Later, we see an example of this by looking at the PyTorch source code of the ```nn.Conv2d``` convolutional layer class."
   ]
  },
  {
   "cell_type": "markdown",
   "metadata": {},
   "source": [
    "#### Now we can build a neural net!\n",
    "\n",
    "1. Create a neural network class that extends the ```nn.Module``` base class.\n",
    "2. In the class constructor, define the network’s layers as class attributes using pre-built layers from ```torch.nn```.\n",
    "3. Use the network’s layer attributes as well as operations from the ```nn.functional``` API to define the network’s forward pass.\n"
   ]
  },
  {
   "cell_type": "code",
   "execution_count": 254,
   "metadata": {},
   "outputs": [],
   "source": [
    "class ConvNet(nn.Module):\n",
    "    def __init__(self):\n",
    "        super(ConvNet, self).__init__() # Call the super class constructor\n",
    "        \n",
    "        # Two types of CNN layers: linear and convolutional\n",
    "        # Total, we have 5 layers as attributes of this class\n",
    "        \n",
    "        # nn.Sequential is a container\n",
    "        \n",
    "        # kernel_size: filter size, a hyperparameter\n",
    "        # in_channels: number of filters, based on # channels of img\n",
    "        # out_features: size of output tensor, a hyperparameter\n",
    "        self.layer1 = nn.Sequential(\n",
    "            nn.Conv2d(1, 32, kernel_size=5, stride=1, padding=2),\n",
    "            nn.ReLU(),\n",
    "            nn.MaxPool2d(kernel_size=2, stride=2))\n",
    "        \n",
    "        self.layer2 = nn.Sequential(\n",
    "            nn.Conv2d(32, 64, kernel_size=5, stride=1, padding=2),\n",
    "            nn.ReLU(),\n",
    "            nn.MaxPool2d(kernel_size=2, stride=2))\n",
    "        \n",
    "        # Drop out for regularization and prevent overfitting\n",
    "        self.drop_out = nn.Dropout()\n",
    "        \n",
    "        # Two fully connected layers aka dense/linear\n",
    "        # When we switch from conv to linear, we have to flatten tensor with 12*4*4\n",
    "        # in_features: length of the flattened output from previous layer\n",
    "        # out_features: a hyperparameter\n",
    "        self.fc1 = nn.Linear(7 * 7 * 64, 1000)\n",
    "        self.fc2 = nn.Linear(1000, 10)\n",
    "        \n",
    "    def forward(self, x):\n",
    "        ''' Takes a tensor, x, and transform it using the layers. '''\n",
    "        out = self.layer1(x)\n",
    "        out = self.layer2(out)\n",
    "        out = out.reshape(out.size(0), -1)\n",
    "        out = self.drop_out(out)\n",
    "        out = self.fc1(out)\n",
    "        out = self.fc2(out)\n",
    "        return out"
   ]
  },
  {
   "cell_type": "markdown",
   "metadata": {},
   "source": [
    "### 3. Train the model\n",
    "\n",
    "Train the model and let it learn layer weights, backprop the errors, and make a prediction "
   ]
  },
  {
   "cell_type": "markdown",
   "metadata": {},
   "source": [
    "#### Define model hyperparameters and select loss and optimizer functions"
   ]
  },
  {
   "cell_type": "code",
   "execution_count": 308,
   "metadata": {},
   "outputs": [],
   "source": [
    "# Hyperparameters\n",
    "num_epochs = 20    # Crappy CPU, let's just do a few epochs\n",
    "num_classes = 10\n",
    "batch_size = 100\n",
    "learning_rate = 0.001\n",
    "\n",
    "# Loss and optimizer\n",
    "criterion = nn.CrossEntropyLoss()\n",
    "optimizer = torch.optim.Adam(model.parameters(), lr=learning_rate)"
   ]
  },
  {
   "cell_type": "code",
   "execution_count": 309,
   "metadata": {},
   "outputs": [],
   "source": [
    "# List to accumulate losses and test accuracies\n",
    "loss_list = []\n",
    "acc_list = []"
   ]
  },
  {
   "cell_type": "code",
   "execution_count": null,
   "metadata": {
    "scrolled": true
   },
   "outputs": [
    {
     "name": "stdout",
     "output_type": "stream",
     "text": [
      "Batch 600/600\n",
      "Epoch 1/20 -- Loss 1383.5690 -- Test accuracy 10.000\n",
      "Batch 600/600\n",
      "Epoch 2/20 -- Loss 1383.7223 -- Test accuracy 10.000\n",
      "Batch 600/600\n",
      "Epoch 3/20 -- Loss 1383.7402 -- Test accuracy 10.000\n",
      "Batch 600/600\n",
      "Epoch 4/20 -- Loss 1383.5333 -- Test accuracy 10.000\n",
      "Batch 600/600\n",
      "Epoch 5/20 -- Loss 1383.7394 -- Test accuracy 10.000\n",
      "Batch 588/600"
     ]
    }
   ],
   "source": [
    "# Instantiate an instance of the CNN\n",
    "model = ConvNet()\n",
    "\n",
    "# Train! \n",
    "try:\n",
    "    # Loop over the epochs\n",
    "    for epoch_i in range(num_epochs):  \n",
    "        model.train()    # This is all we need to call to train\n",
    "        batch_loss = 0\n",
    "        # Loop over the batches per epoch\n",
    "        for batch_i, (images, labels) in enumerate(train_loader):\n",
    "            sys.stdout.write(f\"\\rBatch {batch_i+1}/{len(train_loader)}\")\n",
    "            sys.stdout.flush()\n",
    "            \n",
    "            # Zero out the gradients\n",
    "            optimizer.zero_grad()\n",
    "            \n",
    "            # Make predictions\n",
    "            predictions = model(images)\n",
    "            \n",
    "            # Compute the loss and backprop is with backward(), then call Adam optimizer\n",
    "            loss = criterion(predictions, labels)\n",
    "            loss.backward()\n",
    "            batch_loss += loss.item()\n",
    "            optimizer.step()\n",
    "            \n",
    "        loss_list.append(batch_loss)\n",
    "        loss_val = loss_list[-1]\n",
    "        \n",
    "        accuracy = evaluate_cnn()\n",
    "        acc_list.append(accuracy)\n",
    "        print(f\"\\nEpoch {epoch_i+1}/{num_epochs} -- Loss {loss_val:0.4f} -- Test accuracy {accuracy:0.3f}\")        \n",
    "except KeyboardInterrupt:\n",
    "    print(\"\\nEnding early\")"
   ]
  },
  {
   "cell_type": "markdown",
   "metadata": {},
   "source": [
    "### 4. Evaluate the model's results\n",
    "Let's evaluate the model and plot the loss and accuracies over time..."
   ]
  },
  {
   "cell_type": "code",
   "execution_count": null,
   "metadata": {},
   "outputs": [],
   "source": [
    "def evaluate_cnn():\n",
    "    model.eval()   \n",
    "    correct = 0\n",
    "    total = 0\n",
    "    for images, labels in test_loader:\n",
    "        outputs = model(images)\n",
    "        _, predicted = torch.max(outputs.data, 1)\n",
    "        total += labels.size(0)\n",
    "        correct += (predicted == labels).sum()\n",
    "    accuracy = 100*correct/total\n",
    "    return accuracy"
   ]
  },
  {
   "cell_type": "code",
   "execution_count": 310,
   "metadata": {},
   "outputs": [
    {
     "data": {
      "image/png": "[encoded data removed]",
      "text/plain": [
       "<Figure size 576x216 with 2 Axes>"
      ]
     },
     "metadata": {},
     "output_type": "display_data"
    }
   ],
   "source": [
    "fig, axes = plt.subplots(1,2, sharex=True, figsize=(8,3))\n",
    "plt.xkcd()\n",
    "axes[0].plot(loss_list, c='r')\n",
    "axes[0].set_title('Loss from training')\n",
    "axes[0].set_ylabel('Loss')\n",
    "axes[0].set_xlabel('Epoch')\n",
    "axes[1].plot(acc_list, c='r')\n",
    "axes[1].set_title('Test accuracy')\n",
    "axes[1].set_ylabel('Accuracy (%)')\n",
    "axes[1].set_xlabel('Epoch')\n",
    "fig.tight_layout()"
   ]
  }
 ],
 "metadata": {
  "kernelspec": {
   "display_name": "Python 3",
   "language": "python",
   "name": "python3"
  },
  "language_info": {
   "codemirror_mode": {
    "name": "ipython",
    "version": 3
   },
   "file_extension": ".py",
   "mimetype": "text/x-python",
   "name": "python",
   "nbconvert_exporter": "python",
   "pygments_lexer": "ipython3",
   "version": "3.7.2"
  },
  "toc": {
   "base_numbering": "0",
   "nav_menu": {},
   "number_sections": false,
   "sideBar": true,
   "skip_h1_title": false,
   "title_cell": "Table of Contents",
   "title_sidebar": "Contents",
   "toc_cell": false,
   "toc_position": {},
   "toc_section_display": true,
   "toc_window_display": false
  }
 },
 "nbformat": 4,
 "nbformat_minor": 2
}
