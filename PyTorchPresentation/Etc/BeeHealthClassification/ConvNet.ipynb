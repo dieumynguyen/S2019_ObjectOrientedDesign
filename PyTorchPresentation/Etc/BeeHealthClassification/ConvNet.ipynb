{
 "cells": [
  {
   "cell_type": "code",
   "execution_count": 18,
   "metadata": {},
   "outputs": [],
   "source": [
    "import glob\n",
    "import numpy as np\n",
    "import pandas as pd\n",
    "import cv2\n",
    "import random \n",
    "import math\n",
    "import os\n",
    "import ipynb\n",
    "import importlib\n",
    "import seaborn as sns\n",
    "\n",
    "import torch\n",
    "import torch.nn as nn\n",
    "from torch.utils.data import Dataset, DataLoader\n",
    "import torch.nn.functional as F\n",
    "from torchvision import transforms, utils\n",
    "import matplotlib.pyplot as plt\n",
    "from torch.utils.data.sampler import SubsetRandomSampler\n",
    "import torchvision.datasets as datasets\n",
    "from skimage import transform\n",
    "from torch.autograd import Variable"
   ]
  },
  {
   "cell_type": "code",
   "execution_count": 19,
   "metadata": {},
   "outputs": [],
   "source": [
    "import ipynb.fs.full.BeeDataHandler as BeeDataHandler"
   ]
  },
  {
   "cell_type": "code",
   "execution_count": 20,
   "metadata": {},
   "outputs": [
    {
     "data": {
      "text/plain": [
       "<module 'ipynb.fs.full.BeeDataHandler' (/Users/dieumynguyen/Documents/S2019_ObjectOrientedDesign/PyTorchPresentation/BeeHealthClassification/BeeDataHandler.ipynb)>"
      ]
     },
     "execution_count": 20,
     "metadata": {},
     "output_type": "execute_result"
    }
   ],
   "source": [
    "importlib.reload(BeeDataHandler)"
   ]
  },
  {
   "cell_type": "markdown",
   "metadata": {},
   "source": [
    "### Parameters"
   ]
  },
  {
   "cell_type": "code",
   "execution_count": 21,
   "metadata": {},
   "outputs": [],
   "source": [
    "BATCH_SIZE = 60\n",
    "BW = True\n",
    "num_epochs = 1000\n",
    "learning_rate = 0.001\n",
    "\n",
    "bee_dir = '/Users/dieumynguyen/Datasets/HoneyBees'"
   ]
  },
  {
   "cell_type": "markdown",
   "metadata": {},
   "source": [
    "### Define transformations for data augmentation"
   ]
  },
  {
   "cell_type": "code",
   "execution_count": 22,
   "metadata": {},
   "outputs": [],
   "source": [
    "train_transform = transforms.Compose([\n",
    "    transforms.ToPILImage(),\n",
    "    transforms.Resize((100, 100)),\n",
    "    transforms.RandomRotation(degrees=180),\n",
    "    transforms.RandomAffine(degrees=180, translate=(0, 0.2)),\n",
    "    transforms.RandomHorizontalFlip(p=1),\n",
    "    transforms.RandomVerticalFlip(p=1),\n",
    "    transforms.ToTensor(),  # Always need, div by 255 \n",
    "    BeeDataHandler.CustomNormalize()\n",
    "])\n",
    "\n",
    "test_transform = transforms.Compose([\n",
    "        transforms.ToPILImage(),\n",
    "        transforms.ToTensor()\n",
    "])"
   ]
  },
  {
   "cell_type": "markdown",
   "metadata": {},
   "source": [
    "### Load data"
   ]
  },
  {
   "cell_type": "code",
   "execution_count": 23,
   "metadata": {},
   "outputs": [],
   "source": [
    "# Wrapper around the data\n",
    "# Could load data into np or a pointer/filepath\n",
    "bee_data_src = BeeDataHandler.DataHandler(bee_dir, transforms=train_transform, bw=BW)\n",
    "# test_data = BeeDataHandler.DataHandler(bee_dir, transforms=test_transform, bw=BW)"
   ]
  },
  {
   "cell_type": "code",
   "execution_count": 24,
   "metadata": {},
   "outputs": [],
   "source": [
    "train_dataloader = DataLoader(bee_data_src, batch_size=BATCH_SIZE, sampler=bee_data_src.train_sampler)\n",
    "test_dataloader = DataLoader(bee_data_src, batch_size=BATCH_SIZE, sampler=bee_data_src.test_sampler)"
   ]
  },
  {
   "cell_type": "code",
   "execution_count": 25,
   "metadata": {},
   "outputs": [],
   "source": [
    "def sample_imgs():\n",
    "    xxx = (X + 1) / 2.0\n",
    "    grid_img = utils.make_grid(xxx)\n",
    "\n",
    "    fig, ax = plt.subplots(figsize=(12,12))\n",
    "    ax.imshow(grid_img.permute(1,2,0))\n",
    "    recovered_labels = [bee_data_src.idx_to_key[ele.item()] for ele in y]\n",
    "    title_str = \"\"\n",
    "    for recovered_label in recovered_labels:\n",
    "        title_str += f\"{recovered_label}                     \"\n",
    "    title_str = title_str[:-3]\n",
    "    plt.title(title_str)"
   ]
  },
  {
   "cell_type": "markdown",
   "metadata": {},
   "source": [
    "### CNN"
   ]
  },
  {
   "cell_type": "markdown",
   "metadata": {},
   "source": [
    "$$ out = \\frac{in - k + 2*P}{stride} + 1$$"
   ]
  },
  {
   "cell_type": "markdown",
   "metadata": {},
   "source": [
    "$$ in = [(in - k + 2P) / S] + 1$$ \n",
    "$$ P = (S(in - 1) - in + k ) / 2$$ \n",
    "$$ P = (S*in - S - in + k ) / 2$$ \n",
    "$$ P = (in(S - 1) - S + k ) / 2$$ \n",
    "\n",
    "if S == 1:\n",
    "$$ P = (k-S) / 2$$ "
   ]
  },
  {
   "cell_type": "code",
   "execution_count": 26,
   "metadata": {},
   "outputs": [],
   "source": [
    "def calculate_padding_for_SAME(in_size, k_size, stride=1):\n",
    "    padding = (in_size * ( stride - 1) - stride + k_size) / 2 \n",
    "    return int(padding)"
   ]
  },
  {
   "cell_type": "code",
   "execution_count": 27,
   "metadata": {},
   "outputs": [],
   "source": [
    "def calculate_output_dimension(in_size, k_size, padding, stride=1):\n",
    "    out_size = int(np.floor((in_size - k_size + 2*padding)/stride)) + 1\n",
    "    return out_size"
   ]
  },
  {
   "cell_type": "code",
   "execution_count": 28,
   "metadata": {},
   "outputs": [],
   "source": [
    "class CNN(nn.Module):\n",
    "    \n",
    "    def __init__(self, num_classes, num_in_channels, input_dim=100):\n",
    "        '''\n",
    "        In this constructor, define layers using provided modiles from nn package.\n",
    "        A Sequential is defined by a sequence of a layer, normalization, activation, pooling.\n",
    "        '''\n",
    "        super(CNN, self).__init__()\n",
    "        \n",
    "        num_kernels = [5, 10, 50]\n",
    "        k_sizes = [3, 3, 3]\n",
    "        \n",
    "        \n",
    "        \"\"\" CONV LAYER 1 \"\"\"\n",
    "        \"\"\" ---------------------------------------- \"\"\"\n",
    "        padding_1 = calculate_padding_for_SAME(input_dim, k_size=k_sizes[0])     \n",
    "        print(\"padding_1: \", padding_1)\n",
    "        self.layer1 = nn.Sequential(\n",
    "            nn.Conv2d(num_in_channels, num_kernels[0], kernel_size=k_sizes[0], padding=padding_1),\n",
    "            nn.BatchNorm2d(num_kernels[0]),\n",
    "            nn.ReLU(),\n",
    "            nn.MaxPool2d(2))\n",
    "        \n",
    "        output_dim_layer_1 = calculate_output_dimension(input_dim, k_sizes[0], padding=padding_1)\n",
    "        output_dim_layer_1 = output_dim_layer_1 // 2\n",
    "        print(\"output_dim_layer_1: \", output_dim_layer_1)\n",
    "        \"\"\" ---------------------------------------- \"\"\"\n",
    "        \n",
    "        \n",
    "        \n",
    "        \"\"\" CONV LAYER 2 \"\"\"\n",
    "        \"\"\" ---------------------------------------- \"\"\"\n",
    "        padding_2 = calculate_padding_for_SAME(output_dim_layer_1, k_size=k_sizes[1])\n",
    "        self.layer2 = nn.Sequential(\n",
    "            nn.Conv2d(num_kernels[0], num_kernels[1], kernel_size=k_sizes[1], padding=padding_2),  \n",
    "            nn.BatchNorm2d(num_kernels[1]),\n",
    "            nn.ReLU(),\n",
    "            nn.MaxPool2d(2))\n",
    "        output_dim_layer_2 = calculate_output_dimension(output_dim_layer_1, k_sizes[1], padding=padding_2)\n",
    "        output_dim_layer_2 = output_dim_layer_2 // 2\n",
    "        print(\"output_dim_layer_2: \", output_dim_layer_2)\n",
    "        \"\"\" ---------------------------------------- \"\"\"\n",
    "        \n",
    "        \n",
    "        \n",
    "        \n",
    "        \"\"\" CONV LAYER 3 \"\"\"\n",
    "        \"\"\" ---------------------------------------- \"\"\"\n",
    "        padding_3 = calculate_padding_for_SAME(output_dim_layer_2, k_size=k_sizes[2])        \n",
    "        self.layer3 = nn.Sequential(\n",
    "            nn.Conv2d(num_kernels[1], num_kernels[2], kernel_size=k_sizes[2], padding=padding_3),  \n",
    "            nn.BatchNorm2d(num_kernels[2]),\n",
    "            nn.ReLU(),\n",
    "            nn.MaxPool2d(2))\n",
    "        \n",
    "        output_dim_layer_3 = calculate_output_dimension(output_dim_layer_2, k_sizes[2], padding=padding_3)\n",
    "        output_dim_layer_3 = output_dim_layer_3 // 2\n",
    "        print(\"output_dim_layer_3: \", output_dim_layer_3)\n",
    "        \"\"\" ---------------------------------------- \"\"\"\n",
    "        \n",
    "        \n",
    "        \"\"\" FULLY CONNECTED \"\"\"\n",
    "        \"\"\" ---------------------------------------- \"\"\"\n",
    "        flat_shape = num_kernels[2] * output_dim_layer_3 * output_dim_layer_3 \n",
    "        \n",
    "        self.fc = nn.Sequential(\n",
    "            nn.Linear(flat_shape, 100),\n",
    "            nn.ReLU(),\n",
    "            nn.Dropout(p=0.1),\n",
    "            nn.Linear(100, 100),\n",
    "            nn.ReLU(),\n",
    "            nn.Dropout(p=0.1),\n",
    "            nn.Linear(100, 100),\n",
    "            nn.ReLU(),\n",
    "            nn.Dropout(p=0.3),\n",
    "            nn.Linear(100, num_classes)\n",
    "        )\n",
    "        \"\"\" ---------------------------------------- \"\"\"\n",
    "        \n",
    "    def forward(self, x):\n",
    "        ''' \n",
    "        This function is called on the net for a set of inputs,\n",
    "        and it passes that input through different layers defined above.\n",
    "        \n",
    "        For ex, we pass x through first layer, pass its output through\n",
    "        second layer, and pass that through the final FC layer to get \n",
    "        final output. \n",
    "        '''\n",
    "        # Convolutions\n",
    "        out = self.layer1(x)\n",
    "        out = self.layer2(out)\n",
    "        out = self.layer3(out)\n",
    "        \n",
    "        # Flatten\n",
    "        out = out.view(out.size(0), -1) \n",
    "        \n",
    "        # Fully Connected\n",
    "        out = self.fc(out)\n",
    "        out = F.softmax(out, dim=0)\n",
    "        \n",
    "        return out\n",
    "        "
   ]
  },
  {
   "cell_type": "code",
   "execution_count": 29,
   "metadata": {},
   "outputs": [
    {
     "name": "stdout",
     "output_type": "stream",
     "text": [
      "padding_1:  1\n",
      "output_dim_layer_1:  50\n",
      "output_dim_layer_2:  25\n",
      "output_dim_layer_3:  12\n"
     ]
    }
   ],
   "source": [
    "# Instantiate an instance of the conv net\n",
    "num_classes = bee_data_src.num_classes\n",
    "num_in_channels = 1 if BW else 3\n",
    "cnn = CNN(num_classes=num_classes, num_in_channels=num_in_channels)\n",
    "\n",
    "# Loss function and optimizer\n",
    "optimizer = torch.optim.Adam(cnn.parameters(), lr=learning_rate)\n",
    "criterion = nn.CrossEntropyLoss()"
   ]
  },
  {
   "cell_type": "markdown",
   "metadata": {},
   "source": [
    "### Train"
   ]
  },
  {
   "cell_type": "code",
   "execution_count": 30,
   "metadata": {
    "scrolled": true
   },
   "outputs": [
    {
     "name": "stdout",
     "output_type": "stream",
     "text": [
      "Test accuracy: 12%\n",
      "Test accuracy: 18%\n",
      "\n",
      "Ending Early.\n"
     ]
    }
   ],
   "source": [
    "losses = []\n",
    "test_accuracies = []\n",
    "\n",
    "try:\n",
    "    for epoch_i in range(num_epochs):\n",
    "        cnn.train()\n",
    "        batch_losses = []\n",
    "        for batch_i, (images, labels) in enumerate(train_dataloader):\n",
    "\n",
    "            # Forward + Backward + Optimize\n",
    "            optimizer.zero_grad()\n",
    "            outputs = cnn(images)\n",
    "            loss = criterion(outputs, labels)\n",
    "            loss.backward()\n",
    "            optimizer.step()\n",
    "\n",
    "            # Add loss values to array to print out progress of training\n",
    "            batch_losses.append(loss.data) \n",
    "\n",
    "            if (batch_i+1) % 1000 == 0:\n",
    "                num_batches = len(train_dataloader)\n",
    "                print(f'Epoch: {epoch_i+1}/{num_epochs}, Batch: {batch_i+1}/{num_batches}, Loss: {loss.data:.6f}')\n",
    "\n",
    "        if epoch_i % 1 == 0:\n",
    "            test_acc = evaluate_cnn()\n",
    "            test_accuracies.append((epoch_i, test_acc))\n",
    "            \n",
    "        losses.append(np.mean(batch_losses))\n",
    "except KeyboardInterrupt:\n",
    "    print(\"\\nEnding Early.\")"
   ]
  },
  {
   "cell_type": "code",
   "execution_count": 31,
   "metadata": {},
   "outputs": [
    {
     "data": {
      "text/plain": [
       "torch.Size([10, 5, 3, 3])"
      ]
     },
     "execution_count": 31,
     "metadata": {},
     "output_type": "execute_result"
    }
   ],
   "source": [
    "cnn.layer2[0].weight.shape"
   ]
  },
  {
   "cell_type": "code",
   "execution_count": null,
   "metadata": {},
   "outputs": [],
   "source": [
    "import torchvision.utils"
   ]
  },
  {
   "cell_type": "code",
   "execution_count": null,
   "metadata": {},
   "outputs": [],
   "source": [
    "W = cnn.layer1[0].weight\n",
    "W.shape"
   ]
  },
  {
   "cell_type": "code",
   "execution_count": null,
   "metadata": {},
   "outputs": [],
   "source": [
    "W = (W - W.min()) / (W.max() - W.min())\n",
    "W.shape"
   ]
  },
  {
   "cell_type": "code",
   "execution_count": null,
   "metadata": {},
   "outputs": [],
   "source": [
    "grid_img = utils.make_grid(W)\n",
    "grid_img.shape"
   ]
  },
  {
   "cell_type": "code",
   "execution_count": null,
   "metadata": {},
   "outputs": [],
   "source": [
    "plt.imshow(grid_img.permute(1,2,0).detach())"
   ]
  },
  {
   "cell_type": "code",
   "execution_count": 14,
   "metadata": {},
   "outputs": [],
   "source": [
    "def evaluate_cnn():\n",
    "    cnn.eval()\n",
    "    correct = 0\n",
    "    total = 0\n",
    "    for images, labels in test_dataloader:\n",
    "        outputs = cnn(images)\n",
    "        _, predicted = torch.max(outputs.data, 1)\n",
    "        total += labels.size(0)\n",
    "        correct += (predicted == labels).sum()\n",
    "\n",
    "    accuracy = 100*correct/total\n",
    "    print(f\"Test accuracy: {accuracy}%\")\n",
    "    return accuracy"
   ]
  },
  {
   "cell_type": "code",
   "execution_count": 16,
   "metadata": {},
   "outputs": [
    {
     "data": {
      "text/plain": [
       "torch.Size([58, 6])"
      ]
     },
     "execution_count": 16,
     "metadata": {},
     "output_type": "execute_result"
    }
   ],
   "source": [
    "cnn.eval()\n",
    "confusion_matrix = torch.zeros((num_classes, num_classes))\n",
    "for X, y in train_dataloader:\n",
    "    outputs = cnn(X)\n",
    "    y_preds = outputs.max(dim=1)[1]\n",
    "    for y_true, y_pred in zip(y, y_preds):\n",
    "        confusion_matrix[y_true, y_pred] += 1\n",
    "    \n",
    "outputs.shape"
   ]
  },
  {
   "cell_type": "code",
   "execution_count": 17,
   "metadata": {},
   "outputs": [
    {
     "data": {
      "text/plain": [
       "[Text(33.0, 0.5, 'Actual'), Text(0.5, 15.0, 'Predicted')]"
      ]
     },
     "execution_count": 17,
     "metadata": {},
     "output_type": "execute_result"
    },
    {
     "data": {
      "image/png": "[encoded data removed]",
      "text/plain": [
       "<Figure size 432x288 with 2 Axes>"
      ]
     },
     "metadata": {
      "needs_background": "light"
     },
     "output_type": "display_data"
    }
   ],
   "source": [
    "ax = sns.heatmap(confusion_matrix.int(), annot=True, fmt=\"d\")\n",
    "ax.set(xlabel=\"Predicted\", ylabel=\"Actual\")"
   ]
  },
  {
   "cell_type": "code",
   "execution_count": null,
   "metadata": {},
   "outputs": [],
   "source": [
    "bee_data_src.idx_to_key[3]"
   ]
  },
  {
   "cell_type": "code",
   "execution_count": null,
   "metadata": {},
   "outputs": [],
   "source": []
  }
 ],
 "metadata": {
  "kernelspec": {
   "display_name": "Python 3",
   "language": "python",
   "name": "python3"
  },
  "language_info": {
   "codemirror_mode": {
    "name": "ipython",
    "version": 3
   },
   "file_extension": ".py",
   "mimetype": "text/x-python",
   "name": "python",
   "nbconvert_exporter": "python",
   "pygments_lexer": "ipython3",
   "version": "3.7.2"
  },
  "toc": {
   "base_numbering": 1,
   "nav_menu": {},
   "number_sections": true,
   "sideBar": true,
   "skip_h1_title": false,
   "title_cell": "Table of Contents",
   "title_sidebar": "Contents",
   "toc_cell": false,
   "toc_position": {},
   "toc_section_display": true,
   "toc_window_display": false
  }
 },
 "nbformat": 4,
 "nbformat_minor": 2
}
