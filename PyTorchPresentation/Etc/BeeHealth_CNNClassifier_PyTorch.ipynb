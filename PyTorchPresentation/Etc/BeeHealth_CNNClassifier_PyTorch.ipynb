{
 "cells": [
  {
   "cell_type": "code",
   "execution_count": 1,
   "metadata": {},
   "outputs": [],
   "source": [
    "import os\n",
    "import torch\n",
    "import torch.nn as nn\n",
    "import torchvision.datasets as datasets\n",
    "from skimage import transform\n",
    "import torchvision.transforms as transforms\n",
    "from torch.autograd import Variable\n",
    "from torch.utils.data import Dataset, DataLoader\n",
    "import matplotlib.pyplot as plt\n",
    "\n",
    "import pandas as pd\n",
    "import numpy as np\n",
    "import random \n",
    "import math"
   ]
  },
  {
   "cell_type": "markdown",
   "metadata": {},
   "source": [
    "### Kaggle Annotated Dataset"
   ]
  },
  {
   "cell_type": "code",
   "execution_count": null,
   "metadata": {},
   "outputs": [],
   "source": [
    "class BeeDataset(Dataset):\n",
    "    def __init__(self, data_dir, transforms=None, one_hot=False):\n",
    "        self.data_dir = data_dir\n",
    "        self.transforms = transforms\n",
    "        self.one_hot = one_hot\n",
    "        \n",
    "        self._setup_data()\n",
    "        \n",
    "    def _setup_data(self):\n",
    "        labels_csv = glob.glob(f\"{self.data_dir}/*.csv\")[0]\n",
    "        data_df = pd.read_csv(labels_csv)\n",
    "        \n",
    "        # Get image filenames and associated health label\n",
    "        self.y_labels_source = bee_df['health']\n",
    "        self.X_filenames = bee_df['file']\n",
    "        self.num_files = len(self.X_filenames)\n",
    "        \n",
    "        \n",
    "        unique_keys = np.sort(np.unique(y_labels_source))\n",
    "        num_labels = len(unique_keys)\n",
    "        "
   ]
  }
 ],
 "metadata": {
  "kernelspec": {
   "display_name": "Python 3",
   "language": "python",
   "name": "python3"
  },
  "language_info": {
   "codemirror_mode": {
    "name": "ipython",
    "version": 3
   },
   "file_extension": ".py",
   "mimetype": "text/x-python",
   "name": "python",
   "nbconvert_exporter": "python",
   "pygments_lexer": "ipython3",
   "version": "3.7.2"
  },
  "toc": {
   "base_numbering": 1,
   "nav_menu": {},
   "number_sections": true,
   "sideBar": true,
   "skip_h1_title": false,
   "title_cell": "Table of Contents",
   "title_sidebar": "Contents",
   "toc_cell": false,
   "toc_position": {},
   "toc_section_display": true,
   "toc_window_display": false
  }
 },
 "nbformat": 4,
 "nbformat_minor": 2
}
