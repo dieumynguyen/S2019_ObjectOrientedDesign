{
 "cells": [
  {
   "cell_type": "markdown",
   "metadata": {},
   "source": [
    "### Factory Method"
   ]
  },
  {
   "cell_type": "code",
   "execution_count": null,
   "metadata": {},
   "outputs": [],
   "source": [
    "public abstract class PizzaStore {\n",
    "    \n",
    "    protected abstract createPizza(String type);\n",
    "    \n",
    "    public Pizza orderPizza(String type) {\n",
    "        Pizza pizza = createPizza(type);\n",
    "        \n",
    "        pizza.prepare();\n",
    "        pizza.bake();\n",
    "        pizza.cut();\n",
    "        pizza.box();\n",
    "        \n",
    "        return pizza;\n",
    "    }\n",
    "}"
   ]
  },
  {
   "cell_type": "code",
   "execution_count": 2,
   "metadata": {},
   "outputs": [
    {
     "ename": "CompilationException",
     "evalue": "",
     "output_type": "error",
     "traceback": [
      "\u001b[1m\u001b[30m|   \u001b[1m\u001b[30mpublic class NYPizzaStore extends PizzaStore {\u001b[0m",
      "\u001b[1m\u001b[30m|   \u001b[1m\u001b[30m    public Pizza createPizza(String type) {\u001b[0m",
      "\u001b[1m\u001b[30m|   \u001b[1m\u001b[30m        if (type.equals(\"cheese\")) {\u001b[0m",
      "\u001b[1m\u001b[30m|   \u001b[1m\u001b[30m            return new NYCheesePizza();\u001b[0m",
      "\u001b[1m\u001b[30m|   \u001b[1m\u001b[30m        } else if (type.equals(\"greek\")) {\u001b[0m",
      "\u001b[1m\u001b[30m|   \u001b[1m\u001b[30m            return new NYGreekPizza();\u001b[0m",
      "\u001b[1m\u001b[30m|   \u001b[1m\u001b[30m        }\u001b[0m",
      "\u001b[1m\u001b[30m|   \u001b[1m\u001b[30m        return null;\u001b[0m",
      "\u001b[1m\u001b[30m|   \u001b[1m\u001b[30m    }\u001b[0m",
      "\u001b[1m\u001b[30m|   \u001b[1m\u001b[30m}\u001b[0m",
      "\u001b[1m\u001b[31mUnresolved dependencies:\u001b[0m",
      "\u001b[1m\u001b[31m   - class PizzaStore\u001b[0m",
      "\u001b[1m\u001b[31m   - class Pizza\u001b[0m",
      "\u001b[1m\u001b[31m   - class NYCheesePizza\u001b[0m",
      "\u001b[1m\u001b[31m   - class NYGreekPizza\u001b[0m"
     ]
    }
   ],
   "source": [
    "public class NYPizzaStore extends PizzaStore {\n",
    "    public Pizza createPizza(String type) {\n",
    "        if (type.equals(\"cheese\")) {\n",
    "            return new NYCheesePizza();\n",
    "        } else if (type.equals(\"greek\")) {\n",
    "            return new NYGreekPizza();\n",
    "        }\n",
    "        return null;\n",
    "    }\n",
    "}"
   ]
  },
  {
   "cell_type": "code",
   "execution_count": null,
   "metadata": {},
   "outputs": [],
   "source": []
  }
 ],
 "metadata": {
  "kernelspec": {
   "display_name": "Java",
   "language": "java",
   "name": "java"
  },
  "language_info": {
   "codemirror_mode": "java",
   "file_extension": ".java",
   "mimetype": "text/x-java-source",
   "name": "Java",
   "pygments_lexer": "java",
   "version": "11.0.2+9-LTS"
  },
  "toc": {
   "base_numbering": 1,
   "nav_menu": {},
   "number_sections": true,
   "sideBar": true,
   "skip_h1_title": false,
   "title_cell": "Table of Contents",
   "title_sidebar": "Contents",
   "toc_cell": false,
   "toc_position": {},
   "toc_section_display": true,
   "toc_window_display": false
  }
 },
 "nbformat": 4,
 "nbformat_minor": 2
}
