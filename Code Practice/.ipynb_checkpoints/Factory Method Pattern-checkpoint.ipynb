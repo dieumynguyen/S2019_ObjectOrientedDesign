{
 "cells": [
  {
   "cell_type": "markdown",
   "metadata": {},
   "source": [
    "<b>Purpose:</b> Deal with creating objects without having to specific the exact class of the object you want to create. A way to delegate the instantiation logic to child classes. <br>\n",
    "\n",
    "<b>When to use:</b> When you don't know what exact subclasses will be required during execution. Decide on the required subclasses dynamically during runtime. \n",
    "\n",
    "<b>Example:</b> Wheel again"
   ]
  },
  {
   "cell_type": "code",
   "execution_count": 4,
   "metadata": {},
   "outputs": [],
   "source": [
    "// Superclass Wheel\n",
    "// Superclass in factory pattern can be an interface, ABC, or normal class\n",
    "public abstract class Wheel {\n",
    "    public abstract float getDiameter();\n",
    "    public abstract float getWidth();\n",
    "    \n",
    "    @Override\n",
    "    public String toString() {\n",
    "        return \"Diameter = \" + String.valueOf(this.getDiameter()) + \", Width = \" + String.valueOf(this.getWidth());\n",
    "    }\n",
    "}"
   ]
  },
  {
   "cell_type": "code",
   "execution_count": 5,
   "metadata": {},
   "outputs": [],
   "source": [
    "// Now, have 2 subclasses: CarWheel and BikeWheel\n",
    "public class CarWheel extends Wheel {\n",
    "    // Fields\n",
    "    private float diameter;\n",
    "    private float width;\n",
    "    \n",
    "    // Constructor\n",
    "    public CarWheel(float diameter, float width) {\n",
    "        this.diameter = diameter;\n",
    "        this.width = width;\n",
    "    }\n",
    "    \n",
    "    // Methods\n",
    "    @Override\n",
    "    public float getDiameter() {\n",
    "        return diameter;\n",
    "    }\n",
    "    \n",
    "    @Override\n",
    "    public float getWidth() {\n",
    "        return width;\n",
    "    }\n",
    "}\n",
    "\n",
    "/*-------------------------------------------------*/\n",
    "\n",
    "public class BikeWheel extends Wheel {\n",
    "    private float diameter;\n",
    "    private float width;\n",
    "    \n",
    "    public BikeWheel(float diameter, float width) {\n",
    "        this.diameter = diameter;\n",
    "        this.width = width;\n",
    "    }\n",
    "    \n",
    "    @Override\n",
    "    public float getDiameter() {\n",
    "        return diameter;\n",
    "    }\n",
    "    \n",
    "    @Override\n",
    "    public float getWidth() {\n",
    "        return width;\n",
    "    }\n",
    "}"
   ]
  },
  {
   "cell_type": "code",
   "execution_count": 6,
   "metadata": {},
   "outputs": [],
   "source": [
    "// Factory class\n",
    "public class WheelFactory {\n",
    "    public static Wheel getWheel(String type, float diameter, float width) {\n",
    "        // Return the correct Wheel type object \n",
    "        if (\"CarWheel\".equalsIgnoreCase(type)) \n",
    "            return new CarWheel(diameter, width);\n",
    "        \n",
    "        else if (\"BikeWheel\".equalsIgnoreCase(type))\n",
    "            return new BikeWheel(diameter, width);\n",
    "        \n",
    "        return null;\n",
    "    }\n",
    "}"
   ]
  },
  {
   "cell_type": "code",
   "execution_count": 8,
   "metadata": {},
   "outputs": [
    {
     "name": "stdout",
     "output_type": "stream",
     "text": [
      "Car wheel: Diameter = 15.0, Width = 215.0\n",
      "Bike wheel: Diameter = 18.0, Width = 245.0\n"
     ]
    }
   ],
   "source": [
    "class TestWheelFactory {\n",
    "    public static void main(String... args) {\n",
    "        \n",
    "        Wheel carWheel = WheelFactory.getWheel(\"CarWheel\", 15, 215);\n",
    "        Wheel bikeWheel = WheelFactory.getWheel(\"BikeWheel\", 18, 245);\n",
    "        \n",
    "        System.out.println(\"Car wheel: \" + carWheel);\n",
    "        System.out.println(\"Bike wheel: \" + bikeWheel);\n",
    "    }\n",
    "}\n",
    "\n",
    "TestWheelFactory.main()"
   ]
  }
 ],
 "metadata": {
  "kernelspec": {
   "display_name": "Java",
   "language": "java",
   "name": "java"
  },
  "language_info": {
   "codemirror_mode": "java",
   "file_extension": ".java",
   "mimetype": "text/x-java-source",
   "name": "Java",
   "pygments_lexer": "java",
   "version": "11.0.2+9-LTS"
  },
  "toc": {
   "base_numbering": 1,
   "nav_menu": {},
   "number_sections": true,
   "sideBar": true,
   "skip_h1_title": false,
   "title_cell": "Table of Contents",
   "title_sidebar": "Contents",
   "toc_cell": false,
   "toc_position": {},
   "toc_section_display": true,
   "toc_window_display": false
  }
 },
 "nbformat": 4,
 "nbformat_minor": 2
}
