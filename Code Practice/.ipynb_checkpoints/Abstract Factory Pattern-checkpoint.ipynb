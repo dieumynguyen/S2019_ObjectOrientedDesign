{
 "cells": [
  {
   "cell_type": "markdown",
   "metadata": {},
   "source": [
    "<b>Purpose:</b> Encapsulate a group of individual factories that have a common theme, without needing to specify their concrete classes. <br>\n",
    "\n",
    "<b>When to use:</b> When there are interrelated dependencies with creation logic that's not simple.\n",
    "\n",
    "<b>Example:</b> Wheel again"
   ]
  },
  {
   "cell_type": "code",
   "execution_count": 4,
   "metadata": {},
   "outputs": [],
   "source": [
    "// 2 types of wheels\n",
    "\n",
    "interface Wheel {\n",
    "    String getDescription();\n",
    "}\n",
    "\n",
    "class CarWheel implements Wheel {\n",
    "    public String getDescription() {\n",
    "        return \"I am a car wheel\";\n",
    "    }\n",
    "}\n",
    "\n",
    "class BikeWheel implements Wheel {\n",
    "    public String getDescription() {\n",
    "        return \"I am a bike wheel\";\n",
    "    }\n",
    "}"
   ]
  },
  {
   "cell_type": "code",
   "execution_count": 5,
   "metadata": {},
   "outputs": [],
   "source": [
    "// 2 types of fitting experts\n",
    "interface  WheelFittingExpert {\n",
    "    String getDescription();\n",
    "}\n",
    "\n",
    "class CarExpert implements WheelFittingExpert {\n",
    "    public String getDescription() {\n",
    "        return \"I can only fit car wheels\";\n",
    "    }\n",
    "}\n",
    "\n",
    "class BikeExpert implements WheelFittingExpert {\n",
    "    public String getDescription() {\n",
    "        return \"I can only fit bike wheels\";\n",
    "    }\n",
    "}"
   ]
  },
  {
   "cell_type": "code",
   "execution_count": 6,
   "metadata": {},
   "outputs": [],
   "source": [
    "// Now, make an abstract factory to make a family of related objects\n",
    "// e.g. Bike wheel factory: create a bike wheel & while wheel expert\n",
    "interface WheelFactory {\n",
    "    Wheel makeWheel();\n",
    "    WheelFittingExpert makeFittingExpert();\n",
    "}\n",
    "\n",
    "// CarWheelFactory to return car wheel and car expert\n",
    "class CarWheelFactory implements WheelFactory {\n",
    "    public Wheel makeWheel() {\n",
    "        return new CarWheel();\n",
    "    }\n",
    "    \n",
    "    public WheelFittingExpert makeFittingExpert() {\n",
    "        return new CarExpert();\n",
    "    }\n",
    "}\n",
    "\n",
    "// BikeWheelFactory to return bike wheel and bike expert\n",
    "class BikeWheelFactory implements WheelFactory {\n",
    "    public Wheel makeWheel() {\n",
    "        return new BikeWheel();\n",
    "    }\n",
    "    \n",
    "    public WheelFittingExpert makeFittingExpert() {\n",
    "        return new BikeExpert();\n",
    "    }\n",
    "}"
   ]
  },
  {
   "cell_type": "code",
   "execution_count": 10,
   "metadata": {},
   "outputs": [
    {
     "name": "stdout",
     "output_type": "stream",
     "text": [
      "I am a car wheel\n",
      "I can only fit car wheels\n"
     ]
    }
   ],
   "source": [
    "class TestAbstractFactory {\n",
    "    public static void main(String... args) {\n",
    "        // Car wheel and expert factory object\n",
    "        CarWheelFactory carWheelFactory = new CarWheelFactory();\n",
    "        \n",
    "        // Make car wheel\n",
    "        Wheel carWheel = carWheelFactory.makeWheel();\n",
    "        \n",
    "        // Make car expert\n",
    "        WheelFittingExpert carExpert = carWheelFactory.makeFittingExpert();\n",
    "        \n",
    "        System.out.println(carWheel.getDescription());\n",
    "        System.out.println(carExpert.getDescription());\n",
    "        \n",
    "        // Same for bike wheel and expert\n",
    "    }\n",
    "}\n",
    "\n",
    "TestAbstractFactory.main()"
   ]
  }
 ],
 "metadata": {
  "kernelspec": {
   "display_name": "Java",
   "language": "java",
   "name": "java"
  },
  "language_info": {
   "codemirror_mode": "java",
   "file_extension": ".java",
   "mimetype": "text/x-java-source",
   "name": "Java",
   "pygments_lexer": "java",
   "version": "11.0.2+9-LTS"
  },
  "toc": {
   "base_numbering": 1,
   "nav_menu": {},
   "number_sections": true,
   "sideBar": true,
   "skip_h1_title": false,
   "title_cell": "Table of Contents",
   "title_sidebar": "Contents",
   "toc_cell": false,
   "toc_position": {},
   "toc_section_display": true,
   "toc_window_display": false
  }
 },
 "nbformat": 4,
 "nbformat_minor": 2
}
