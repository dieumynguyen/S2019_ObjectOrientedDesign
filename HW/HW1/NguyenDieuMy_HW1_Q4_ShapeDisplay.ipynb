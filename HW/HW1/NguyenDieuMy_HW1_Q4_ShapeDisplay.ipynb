{
 "cells": [
  {
   "cell_type": "markdown",
   "metadata": {},
   "source": [
    "Dieu My Nguyen <br>\n",
    "CSCI 5448 <br>\n",
    "Due: 01 February 2019\n",
    "\n",
    "### Homework 1 Question 4\n",
    "\n",
    "<i>Write a simple OO program that implements the Shape example discussed in Lecture 2 on slide 6 but using an OO design rather than the presented functional decomposition solution. \n",
    "\n",
    "Your program should simply print out (to the console) the number of shapes in the “database” and then ask each shape to “display itself” which will also cause a line of output to be generated to the console, one for each shape. \n",
    "\n",
    "The word “database” is in quotes in the previous sentence because you should not actually use a database to write this program. It is perfectly acceptable for your main program to create a collection of shapes before moving on to sorting that collection and displaying the shapes. \n",
    "\n",
    "Your program should support circles, triangles, and squares but should use polymorphism so that the main program doesn't know the type of shape it is dealing with, but instead treats shapes uniformly (similar to the example program in Lecture 2 that involved different types of students). </i>"
   ]
  },
  {
   "cell_type": "markdown",
   "metadata": {},
   "source": [
    "### I. Imports"
   ]
  },
  {
   "cell_type": "code",
   "execution_count": 384,
   "metadata": {},
   "outputs": [],
   "source": [
    "import numpy as np\n",
    "import random\n",
    "import matplotlib.pyplot as plt\n",
    "from abc import ABC, abstractmethod\n",
    "plt.rcParams[\"font.family\"] = \"Arial\""
   ]
  },
  {
   "cell_type": "markdown",
   "metadata": {},
   "source": [
    "### II. Shapes Database"
   ]
  },
  {
   "cell_type": "markdown",
   "metadata": {},
   "source": [
    "#### Example shapes"
   ]
  },
  {
   "cell_type": "code",
   "execution_count": 17,
   "metadata": {},
   "outputs": [
    {
     "data": {
      "image/png": "[encoded data removed]",
      "text/plain": [
       "<matplotlib.figure.Figure at 0x11403d160>"
      ]
     },
     "metadata": {},
     "output_type": "display_data"
    }
   ],
   "source": [
    "plt.axes()\n",
    "circle = plt.Circle((0,0), radius=50, fc='#aaee97', alpha=0.7, edgecolor='gray')\n",
    "square = plt.Rectangle((0,0), 100, 100, fc='#ee97ba', alpha=0.7, edgecolor='gray')\n",
    "triangle_points = [[50, 50], [175, 50], [175, 150]]\n",
    "triangle = plt.Polygon(triangle_points, fc='#97e9ee', alpha=0.7, edgecolor='gray')\n",
    "plt.gca().add_patch(circle)\n",
    "plt.gca().add_patch(square)\n",
    "plt.gca().add_patch(triangle)\n",
    "plt.axis('scaled')\n",
    "plt.title('Example shapes in database')\n",
    "plt.show()"
   ]
  },
  {
   "cell_type": "markdown",
   "metadata": {},
   "source": [
    "#### Generate database as dictionary\n",
    "Dictionary holds dimensions of shapes: circles, triangles, squares, etc. Making this database small to keep things simple, but the program should be able to support a bigger database."
   ]
  },
  {
   "cell_type": "code",
   "execution_count": 578,
   "metadata": {},
   "outputs": [],
   "source": [
    "shape_database = [{'z_order': 0, 'type': 'square', 'params': {'xy': (0,0), 'width': 100, 'height': 100, 'color': '#f9d3a4'}},\n",
    "                   {'z_order': 1, 'type': 'square', 'params': {'xy': (5,5), 'width': 90, 'height': 90, 'color': '#f9d3a4'}},\n",
    "                   {'z_order': 2, 'type': 'circle', 'params': {'xy': (50,50), 'radius': 40, 'color': '#f49e3a'}},\n",
    "                   {'z_order': 3, 'type': 'circle', 'params': {'xy': (50,50), 'radius': 35, 'color': '#ffea2d'}},\n",
    "                  ]\n",
    "\n",
    "# Pepperonis\n",
    "x = [50, 25, 35, 65, 50, 35, 55,  75, 55]\n",
    "y = [25, 50, 65, 35, 65, 35, 80,  58, 50]\n",
    "for i in range(len(x)):\n",
    "    x_i = x[i]\n",
    "    y_i = y[i]\n",
    "    r = np.random.randint(3,5)\n",
    "    color = '#930b0b'\n",
    "    z_order = len(shape_database) + i\n",
    "    shape_type = 'circle'\n",
    "    circle_dict = {'z_order': z_order,\n",
    "                   'type': shape_type,\n",
    "                   'params': {'xy': (x_i, y_i),\n",
    "                              'radius': r,\n",
    "                              'color': color                       \n",
    "                   }        \n",
    "    }\n",
    "    shape_database.append(circle_dict)\n",
    "\n",
    "# Cheeses\n",
    "xt = [50, 40, 70,  60, 35, 25, 40, 20, 65]\n",
    "yt = [35, 50, 40,  50, 75, 40, 20, 60, 70]\n",
    "for j in range(len(xt)):\n",
    "    m = np.random.randint(2,4)\n",
    "    n = m * 2\n",
    "    points = [[xt[j], yt[j]], [xt[j]+m, yt[j]+n], [xt[j]+n, yt[j]]]\n",
    "    color = '#f4edad'\n",
    "    z_order = len(shape_database) + i\n",
    "    shape_type = 'triangle'\n",
    "    triangle_dict = {'z_order': z_order,\n",
    "                   'type': shape_type,\n",
    "                   'params': {'xy': (xt[j], yt[j]),\n",
    "                              'points': points,\n",
    "                              'color': color                       \n",
    "                   }        \n",
    "    }\n",
    "    shape_database.append(triangle_dict)\n",
    "    "
   ]
  },
  {
   "cell_type": "markdown",
   "metadata": {},
   "source": [
    "### III. Object-oriented approach to display shapes\n",
    "\n",
    "<i>Your program should simply print out (to the console) the number of shapes in the “database” and then ask each shape to “display itself” which will also cause a line of output to be generated to the console, one for each shape. </i>"
   ]
  },
  {
   "cell_type": "code",
   "execution_count": 553,
   "metadata": {},
   "outputs": [],
   "source": [
    "class Shape(ABC):\n",
    "    '''\n",
    "    Abstract class with display() method that all subclasses will inherit.\n",
    "    '''    \n",
    "    @abstractmethod\n",
    "    def display(self):\n",
    "        pass"
   ]
  },
  {
   "cell_type": "code",
   "execution_count": 564,
   "metadata": {
    "scrolled": true
   },
   "outputs": [],
   "source": [
    "class Circle(Shape):\n",
    "    def __init__(self, shape_info):\n",
    "        self.xy = shape_info['xy']\n",
    "        self.radius = shape_info['radius']\n",
    "        self.color = shape_info['color']\n",
    "        \n",
    "    def display(self):\n",
    "        print(f'Displaying a circle with radius {self.radius} and center at xy {self.xy}.')\n",
    "        circle = plt.Circle(self.xy, radius=self.radius, fc=self.color, alpha=0.7)\n",
    "        plt.gca().add_patch(circle)"
   ]
  },
  {
   "cell_type": "code",
   "execution_count": 565,
   "metadata": {},
   "outputs": [],
   "source": [
    "class Square(Shape):\n",
    "    def __init__(self, shape_info):\n",
    "        self.xy = shape_info['xy']\n",
    "        self.width = shape_info['width']\n",
    "        self.height = shape_info['height']\n",
    "        self.color = shape_info['color']\n",
    "        \n",
    "    def display(self):\n",
    "        print(f'Displaying a square with side {self.width} and bottom-left corner at {self.xy}.')\n",
    "        square = plt.Rectangle(self.xy, self.width, self.height, fc=self.color, alpha=0.7)\n",
    "        plt.gca().add_patch(square)\n",
    "        "
   ]
  },
  {
   "cell_type": "code",
   "execution_count": 582,
   "metadata": {},
   "outputs": [],
   "source": [
    "class Triangle(Shape):\n",
    "    def __init__(self, shape_info):\n",
    "        self.points = shape_info['points']\n",
    "        self.base = np.abs(self.points[0][0] - self.points[1][0])\n",
    "        self.height = np.abs(self.points[1][1] - self.points[2][1])\n",
    "        self.color = shape_info['color']\n",
    "        \n",
    "    def display(self):\n",
    "        print(f'Displaying a triangle with base {self.base}, height {self.height}, starting vertex at {self.points[0]}.')\n",
    "        triangle = plt.Polygon(self.points, fc=self.color, alpha=0.7, edgecolor='#f49e3a')   \n",
    "        plt.gca().add_patch(triangle)"
   ]
  },
  {
   "cell_type": "code",
   "execution_count": 583,
   "metadata": {},
   "outputs": [],
   "source": [
    "class Display():\n",
    "    def display_shapes(self, shape_objects):\n",
    "        plt.axes()\n",
    "        for shape_obj in shape_objects:\n",
    "            shape_obj.display()\n",
    "        plt.axis('scaled')\n",
    "        plt.show()"
   ]
  },
  {
   "cell_type": "code",
   "execution_count": 584,
   "metadata": {},
   "outputs": [],
   "source": [
    "class Collection():\n",
    "    def __init__(self):\n",
    "        self.newlist = []\n",
    "        self.shape_objects = []\n",
    "        \n",
    "    def sort(self, shape_database):\n",
    "        # Sort by z-order (last on top)\n",
    "        self.newlist = sorted(shape_database, key=lambda k: k['z_order']) \n",
    "    \n",
    "    def display(self, shape_database, display_obj):\n",
    "        # Instantiate shape objects and put in list\n",
    "        classes_mapping = {\"circle\": Circle,\n",
    "                           \"square\": Square,\n",
    "                           \"triangle\": Triangle\n",
    "                           }\n",
    "        for shape in self.newlist:\n",
    "            shape_obj = classes_mapping[shape['type']](shape['params'])\n",
    "            self.shape_objects.append(shape_obj)\n",
    "        \n",
    "        # Tell contained shapes to display themselves in order\n",
    "        display_obj.display_shapes(self.shape_objects)"
   ]
  },
  {
   "cell_type": "code",
   "execution_count": 593,
   "metadata": {},
   "outputs": [
    {
     "name": "stdout",
     "output_type": "stream",
     "text": [
      "Number of shapes in database: 22 \n",
      "\n",
      "Displaying a square with side 100 and bottom-left corner at (0, 0).\n",
      "Displaying a square with side 90 and bottom-left corner at (5, 5).\n",
      "Displaying a circle with radius 40 and center at xy (50, 50).\n",
      "Displaying a circle with radius 35 and center at xy (50, 50).\n",
      "Displaying a circle with radius 4 and center at xy (50, 25).\n",
      "Displaying a circle with radius 3 and center at xy (25, 50).\n",
      "Displaying a circle with radius 3 and center at xy (35, 65).\n",
      "Displaying a circle with radius 4 and center at xy (65, 35).\n",
      "Displaying a circle with radius 3 and center at xy (50, 65).\n",
      "Displaying a circle with radius 4 and center at xy (35, 35).\n",
      "Displaying a circle with radius 4 and center at xy (55, 80).\n",
      "Displaying a circle with radius 4 and center at xy (75, 58).\n",
      "Displaying a circle with radius 4 and center at xy (55, 50).\n",
      "Displaying a triangle with base 3, height 6, starting vertex at [50, 35].\n",
      "Displaying a triangle with base 3, height 6, starting vertex at [40, 50].\n",
      "Displaying a triangle with base 3, height 6, starting vertex at [70, 40].\n",
      "Displaying a triangle with base 3, height 6, starting vertex at [60, 50].\n",
      "Displaying a triangle with base 3, height 6, starting vertex at [35, 75].\n",
      "Displaying a triangle with base 3, height 6, starting vertex at [25, 40].\n",
      "Displaying a triangle with base 3, height 6, starting vertex at [40, 20].\n",
      "Displaying a triangle with base 2, height 4, starting vertex at [20, 60].\n",
      "Displaying a triangle with base 2, height 4, starting vertex at [65, 70].\n"
     ]
    },
    {
     "data": {
      "image/png": "[encoded data removed]",
      "text/plain": [
       "<matplotlib.figure.Figure at 0x1146fb860>"
      ]
     },
     "metadata": {},
     "output_type": "display_data"
    },
    {
     "name": "stdout",
     "output_type": "stream",
     "text": [
      "Pizza ready!\n"
     ]
    }
   ],
   "source": [
    "def main():    \n",
    "    \n",
    "    print(f'Number of shapes in database: {len(shape_database)} \\n')\n",
    "    \n",
    "    # Instantiate a collection object to contain all shapes\n",
    "    collection = Collection()     \n",
    "    \n",
    "    # Instantiate a display object to display all shapes of interest\n",
    "    display_obj = Display()\n",
    "\n",
    "    # Ask collection to sort the shapes alphabetically to define z-order\n",
    "    collection.sort(shape_database)\n",
    "    \n",
    "    # The collection asks each shape to display itself in order\n",
    "    # All shapes are displayed in the same figure with the display object\n",
    "    collection.display(shape_database, display_obj)\n",
    "    \n",
    "    print(f'Pizza ready!')\n",
    "    \n",
    "if __name__ == \"__main__\":\n",
    "    main()"
   ]
  }
 ],
 "metadata": {
  "kernelspec": {
   "display_name": "Python 3",
   "language": "python",
   "name": "python3"
  },
  "language_info": {
   "codemirror_mode": {
    "name": "ipython",
    "version": 3
   },
   "file_extension": ".py",
   "mimetype": "text/x-python",
   "name": "python",
   "nbconvert_exporter": "python",
   "pygments_lexer": "ipython3",
   "version": "3.6.4"
  }
 },
 "nbformat": 4,
 "nbformat_minor": 2
}
