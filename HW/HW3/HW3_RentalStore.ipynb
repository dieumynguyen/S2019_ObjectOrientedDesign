{
 "cells": [
  {
   "cell_type": "markdown",
   "metadata": {},
   "source": [
    "### Class: Tool"
   ]
  },
  {
   "cell_type": "code",
   "execution_count": 78,
   "metadata": {},
   "outputs": [],
   "source": [
    "public class Tool {\n",
    "    // Fields\n",
    "    String name;\n",
    "    String category;\n",
    "    int price;\n",
    "    boolean available;\n",
    "    \n",
    "    // Constructor\n",
    "    public Tool(String name, String category, int price, boolean available) {\n",
    "        this.name = name;\n",
    "        this.category = category;\n",
    "        this.price = price;\n",
    "        this.available = available;\n",
    "    }\n",
    "    \n",
    "    // Methods\n",
    "    public String toString() {\n",
    "        return String.format(\"name: %s, category: %s, price: %s, available: %s\", \n",
    "                             name, category, price, available);\n",
    "    }\n",
    "}"
   ]
  },
  {
   "cell_type": "markdown",
   "metadata": {},
   "source": [
    "### Class: Customer"
   ]
  },
  {
   "cell_type": "code",
   "execution_count": 79,
   "metadata": {},
   "outputs": [],
   "source": [
    "public class Customer {\n",
    "    // Fields\n",
    "    String name;\n",
    "    String type;\n",
    "    int num_rentals;\n",
    "    int num_nights;\n",
    "    boolean can_rent;\n",
    "    \n",
    "    // Constructor\n",
    "    public Customer(String name, String type, int num_rentals, \n",
    "                    int num_nights, boolean can_rent) {\n",
    "        this.name = name;\n",
    "        this.type = type;\n",
    "        this.num_rentals = num_rentals;\n",
    "        this.num_nights = num_nights;\n",
    "        this.can_rent = can_rent;\n",
    "    }\n",
    "    \n",
    "    // Methods\n",
    "    public String toString() {\n",
    "        return String.format(\"name: %s, type: %s, num_rentals: %s, num_nights: %s, can_rent: %s\", \n",
    "                             name, type, num_rentals, num_nights, can_rent);\n",
    "    }\n",
    "}"
   ]
  },
  {
   "cell_type": "markdown",
   "metadata": {},
   "source": [
    "### Class: Rental"
   ]
  },
  {
   "cell_type": "code",
   "execution_count": null,
   "metadata": {},
   "outputs": [],
   "source": []
  },
  {
   "cell_type": "markdown",
   "metadata": {},
   "source": [
    "### Class: Store"
   ]
  },
  {
   "cell_type": "code",
   "execution_count": 80,
   "metadata": {},
   "outputs": [
    {
     "name": "stdout",
     "output_type": "stream",
     "text": [
      "name: Paint tool 1, category: Painting, price: 5, available: true\n",
      "name: Woodwork tool 2, category: Woodwork, price: 10, available: false\n",
      "\n",
      "\n",
      "name: Customer 1, type: Casual, num_rentals: 1, num_nights: 1, can_rent: true\n",
      "name: Customer 2, type: Regular, num_rentals: 3, num_nights: 5, can_rent: false\n"
     ]
    }
   ],
   "source": [
    "public class Store {\n",
    "\n",
    "   \n",
    "    public static void main(String... args) {\n",
    "        int num_tools = 20;\n",
    "        int num_customers = 10;\n",
    "        \n",
    "        List<String> tool_categories = new ArrayList<String>();\n",
    "        tool_categories.add(\"Painting\");\n",
    "        tool_categories.add(\"Concrete\");\n",
    "        tool_categories.add(\"Plumbing\");\n",
    "        tool_categories.add(\"Woodwork\");\n",
    "        tool_categories.add(\"Yardwork\");\n",
    "        // System.out.println(tool_categories);\n",
    "        \n",
    "        Tool tool1 = new Tool(\"Paint tool 1\", \"Painting\", 5, true);\n",
    "        Tool tool2 = new Tool(\"Woodwork tool 2\", \"Woodwork\", 10, false);\n",
    "        System.out.println(tool1.toString());\n",
    "        System.out.println(tool2.toString());\n",
    "                \n",
    "        System.out.println(\"\\n\");\n",
    "        \n",
    "        Customer c1 = new Customer(\"Customer 1\", \"Casual\", 1, 1, true);\n",
    "        Customer c2 = new Customer(\"Customer 2\", \"Regular\", 3, 5, false);\n",
    "        System.out.println(c1.toString());\n",
    "        System.out.println(c2.toString());\n",
    "        \n",
    "    }\n",
    "}\n",
    "\n",
    "Store.main();"
   ]
  },
  {
   "cell_type": "code",
   "execution_count": null,
   "metadata": {},
   "outputs": [],
   "source": []
  },
  {
   "cell_type": "code",
   "execution_count": null,
   "metadata": {},
   "outputs": [],
   "source": []
  }
 ],
 "metadata": {
  "kernelspec": {
   "display_name": "Java",
   "language": "java",
   "name": "java"
  },
  "language_info": {
   "codemirror_mode": "java",
   "file_extension": ".java",
   "mimetype": "text/x-java-source",
   "name": "Java",
   "pygments_lexer": "java",
   "version": "11.0.2+9-LTS"
  }
 },
 "nbformat": 4,
 "nbformat_minor": 2
}
