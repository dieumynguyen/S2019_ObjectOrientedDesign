{
 "cells": [
  {
   "cell_type": "code",
   "execution_count": 31,
   "metadata": {},
   "outputs": [],
   "source": [
    "import numpy as np\n",
    "import random\n",
    "import matplotlib.pyplot as plt\n",
    "from abc import ABC, abstractmethod\n",
    "plt.rcParams[\"font.family\"] = \"Arial\""
   ]
  },
  {
   "cell_type": "code",
   "execution_count": 92,
   "metadata": {},
   "outputs": [],
   "source": [
    "random.seed(42)"
   ]
  },
  {
   "cell_type": "markdown",
   "metadata": {},
   "source": [
    "### Tool"
   ]
  },
  {
   "cell_type": "code",
   "execution_count": 172,
   "metadata": {},
   "outputs": [],
   "source": [
    "class Tool:\n",
    "    def __init__(self, name, price, category, available):\n",
    "        self.name = name\n",
    "        self.price = price\n",
    "        self.category = category\n",
    "        self.available = available \n",
    "        \n",
    "    def __repr__(self):\n",
    "        return (f\"{self.__class__.__name__}\"\n",
    "                f\"({self.name}, ${self.price:02d}, \"\n",
    "                f\"{self.category}, {self.available})\")\n",
    "    "
   ]
  },
  {
   "cell_type": "code",
   "execution_count": 173,
   "metadata": {},
   "outputs": [],
   "source": [
    "num_tools = 20\n",
    "num_tool_categories = 5\n",
    "tool_categories = [\"Painting\", \"Concrete\", \"Plumbing\", \"Woodwork\", \"Yardwork\"]\n",
    "tool_prices = [5, 10, 15, 20, 25]\n",
    "\n",
    "# Create list of 20 tool objects of various categories\n",
    "tool_objects = []\n",
    "for tool_i in range(num_tools):\n",
    "    random_idx = np.random.randint(0, num_tool_categories)\n",
    "    name = f\"T{tool_i+1:02d}-{tool_categories[random_idx]}\"\n",
    "    price = tool_prices[random_idx]\n",
    "    category = tool_categories[random_idx]\n",
    "    available = True\n",
    "    tool_obj = Tool(name, price, category, available)\n",
    "    tool_objects.append(tool_obj)\n",
    "    "
   ]
  },
  {
   "cell_type": "markdown",
   "metadata": {},
   "source": [
    "### Customers"
   ]
  },
  {
   "cell_type": "code",
   "execution_count": 185,
   "metadata": {},
   "outputs": [],
   "source": [
    "class Customer:\n",
    "    def __init__(self, name, customer_type):\n",
    "        self.name = name;\n",
    "        self.customer_type = customer_type;\n",
    "        \n",
    "    def __repr__(self):\n",
    "        return (f\"{self.__class__.__name__}\"\n",
    "                f\"({self.name}, {self.customer_type})\")\n",
    "    "
   ]
  },
  {
   "cell_type": "code",
   "execution_count": 186,
   "metadata": {},
   "outputs": [],
   "source": [
    "num_customers = 10\n",
    "num_customer_types = 3\n",
    "customer_types = [\"Casual\", \"Regular\", \"Business\"]\n",
    "\n",
    "# Create list of 10 customers of various types\n",
    "customer_objects = []\n",
    "for customer_i in range(num_customers):\n",
    "    random_idx = np.random.randint(0, num_customer_types)\n",
    "    name = f\"C{customer_i+1:02d}-{customer_types[random_idx]}\"\n",
    "    customer_type = customer_types[random_idx]\n",
    "    customer_obj = Customer(name, customer_type)\n",
    "    customer_objects.append(customer_obj)"
   ]
  },
  {
   "cell_type": "code",
   "execution_count": 187,
   "metadata": {},
   "outputs": [
    {
     "data": {
      "text/plain": [
       "[Customer(C01-Business, Business),\n",
       " Customer(C02-Casual, Casual),\n",
       " Customer(C03-Regular, Regular),\n",
       " Customer(C04-Casual, Casual),\n",
       " Customer(C05-Regular, Regular),\n",
       " Customer(C06-Regular, Regular),\n",
       " Customer(C07-Casual, Casual),\n",
       " Customer(C08-Business, Business),\n",
       " Customer(C09-Casual, Casual),\n",
       " Customer(C10-Casual, Casual)]"
      ]
     },
     "execution_count": 187,
     "metadata": {},
     "output_type": "execute_result"
    }
   ],
   "source": [
    "customer_objects"
   ]
  },
  {
   "cell_type": "code",
   "execution_count": null,
   "metadata": {},
   "outputs": [],
   "source": [
    "max_rental_nights = 7\n"
   ]
  }
 ],
 "metadata": {
  "kernelspec": {
   "display_name": "Python 3",
   "language": "python",
   "name": "python3"
  },
  "language_info": {
   "codemirror_mode": {
    "name": "ipython",
    "version": 3
   },
   "file_extension": ".py",
   "mimetype": "text/x-python",
   "name": "python",
   "nbconvert_exporter": "python",
   "pygments_lexer": "ipython3",
   "version": "3.6.4"
  }
 },
 "nbformat": 4,
 "nbformat_minor": 2
}
