{
 "cells": [
  {
   "cell_type": "code",
   "execution_count": 1,
   "metadata": {},
   "outputs": [],
   "source": [
    "import numpy as np\n",
    "import random\n",
    "import matplotlib.pyplot as plt\n",
    "from abc import ABC, abstractmethod\n",
    "plt.rcParams[\"font.family\"] = \"Arial\""
   ]
  },
  {
   "cell_type": "code",
   "execution_count": 2,
   "metadata": {},
   "outputs": [],
   "source": [
    "np.random.seed(42)\n",
    "random.seed(42)"
   ]
  },
  {
   "cell_type": "markdown",
   "metadata": {},
   "source": [
    "### Tool\n",
    "\n",
    "A hardware rental store has a catalog of 20 different tools to rent, spread across 5 different categories (Painting, Concrete, Plumbing, Woodwork, Yardwork). Each tool has a unique name (e.g. “Paint Tool 1”) and belongs to a specific category; the price per day to rent a tool varies by category. You may decide on the pricing of the rental categories."
   ]
  },
  {
   "cell_type": "code",
   "execution_count": 24,
   "metadata": {
    "code_folding": []
   },
   "outputs": [],
   "source": [
    "class Tool:\n",
    "    def __init__(self, name, price, category, available):\n",
    "        self.name = name\n",
    "        self.price = price\n",
    "        self.category = category\n",
    "        self.available = available \n",
    "        \n",
    "    def __repr__(self):\n",
    "        return (f\"{self.__class__.__name__}\"\n",
    "                f\"({self.name}, ${self.price}, \"\n",
    "                f\"{self.category}, {self.available})\")\n",
    "    "
   ]
  },
  {
   "cell_type": "markdown",
   "metadata": {},
   "source": [
    "### Customers\n",
    "\n",
    "This store has 10 customers; each customer has a unique name and is associated with one of three types. Casual customers rent one or two tools for one or two nights. Business customers always rent three tools for seven nights. Regular customers will rent one to three tools each time they visit for 3 to 5 nights."
   ]
  },
  {
   "cell_type": "code",
   "execution_count": 58,
   "metadata": {},
   "outputs": [],
   "source": [
    "class Customer:\n",
    "    def __init__(self, name, customer_type, num_tools, num_nights, num_tools_renting):\n",
    "        self.name = name\n",
    "        self.customer_type = customer_type\n",
    "        self.num_tools = num_tools\n",
    "        self.num_nights = num_nights\n",
    "        self.num_tools_renting = num_tools_renting\n",
    "        \n",
    "    def __repr__(self):\n",
    "        return (f\"{self.__class__.__name__}\"\n",
    "                f\"({self.name}, {self.customer_type}, \"\n",
    "                f\"{self.num_tools}, {self.num_nights}), NUM_TOOLS_RENTING={self.num_tools_renting}\")\n",
    "    "
   ]
  },
  {
   "cell_type": "markdown",
   "metadata": {},
   "source": [
    "### Rental\n",
    "\n",
    "Each time a customer comes into the store, a Rental is created that will keep track of what tools they rented and how many nights they will keep the tools.\n",
    "\n",
    "A customer can have more than one active rental. That is, they can show up on day 1\n",
    "and rent 1 tool for 5 nights. They can then show up on day 2 and rent another tool for 4\n",
    "nights. As long as they do not have more than 3 tools rented, they are allowed to have\n",
    "multiple rentals."
   ]
  },
  {
   "cell_type": "code",
   "execution_count": 59,
   "metadata": {},
   "outputs": [],
   "source": [
    "class Rental:\n",
    "    def __init__(self, customer_name, tools_rented, \n",
    "                 num_rent_nights, total_price,\n",
    "                 day_rented, day_due, returned):\n",
    "        self.customer_name = customer_name\n",
    "        self.tools_rented = tools_rented\n",
    "        self.num_rent_nights = num_rent_nights\n",
    "        self.total_price = total_price\n",
    "        self.day_rented = day_rented\n",
    "        self.day_due = day_due\n",
    "        self.returned = returned\n",
    "        \n",
    "    def __repr__(self):\n",
    "        return (f\"{self.__class__.__name__}, Customer: {self.customer_name}, \"\n",
    "                f\"({self.tools_rented}, RentDate: {self.day_rented}, \"\n",
    "                f\"DueDate: {self.day_due}, TotalPrice: ${self.total_price})\")\n",
    "    \n",
    "        "
   ]
  },
  {
   "cell_type": "code",
   "execution_count": 60,
   "metadata": {},
   "outputs": [],
   "source": [
    "# class Transaction:\n",
    "    # Collect money from customer\n",
    "    # Create a rental for customer"
   ]
  },
  {
   "cell_type": "markdown",
   "metadata": {},
   "source": [
    "### Store\n",
    "\n",
    "The store keeps track of the existing rentals along with the current inventory of the store. As such, when it has zero rentals, there will be 20 tools in its inventory. When it has zero tools in its inventory, it will have multiple rentals that between them account for all 20 tools."
   ]
  },
  {
   "cell_type": "code",
   "execution_count": null,
   "metadata": {},
   "outputs": [],
   "source": []
  },
  {
   "cell_type": "markdown",
   "metadata": {},
   "source": [
    "#### Customer object list"
   ]
  },
  {
   "cell_type": "code",
   "execution_count": 71,
   "metadata": {
    "scrolled": true
   },
   "outputs": [],
   "source": [
    "np.random.seed(42)\n",
    "random.seed(42)\n",
    "\n",
    "num_customers = 10\n",
    "num_customer_types = 3\n",
    "customer_types = [\"Casual\", \"Business\", \"Regular\"]\n",
    "num_tools = [[1,2], [3], [1,2,3]]\n",
    "num_nights = [[1,2], [7], [3,4,5]]\n",
    "\n",
    "# Create list of 10 customers of various types\n",
    "customer_objects = []\n",
    "for customer_i in range(num_customers):\n",
    "    random_idx = np.random.randint(0, num_customer_types)\n",
    "    name = f\"C{customer_i+1:02d}-{customer_types[random_idx][0]}\"\n",
    "    customer_type = customer_types[random_idx]\n",
    "    num_tool = random.sample(num_tools[random_idx], 1)[0]\n",
    "    num_night =  random.sample(num_nights[random_idx], 1)[0]\n",
    "    \n",
    "    customer_obj = Customer(name, customer_type, num_tool, num_night, 0)\n",
    "    customer_objects.append(customer_obj)\n",
    "    \n",
    "# customer_objects"
   ]
  },
  {
   "cell_type": "markdown",
   "metadata": {},
   "source": [
    "#### Tool object list"
   ]
  },
  {
   "cell_type": "code",
   "execution_count": 72,
   "metadata": {
    "code_folding": [],
    "scrolled": true
   },
   "outputs": [],
   "source": [
    "np.random.seed(42)\n",
    "random.seed(42)\n",
    "\n",
    "num_tools = 20\n",
    "num_tool_categories = 5\n",
    "tool_categories = [\"Painting\", \"Concrete\", \"Plumbing\", \"Woodwork\", \"Yardwork\"]\n",
    "tool_prices = [5, 10, 15, 20, 25]\n",
    "\n",
    "# Create list of 20 tool objects of various categories\n",
    "tool_objects = []\n",
    "for tool_i in range(num_tools):\n",
    "    random_idx = np.random.randint(0, num_tool_categories)\n",
    "    name = f\"T{tool_i+1:02d}-{tool_categories[random_idx]}\"\n",
    "    price = tool_prices[random_idx]\n",
    "    category = tool_categories[random_idx]\n",
    "    available = True\n",
    "    tool_obj = Tool(name, price, category, available)\n",
    "    tool_objects.append(tool_obj)"
   ]
  },
  {
   "cell_type": "code",
   "execution_count": 73,
   "metadata": {
    "scrolled": false
   },
   "outputs": [
    {
     "name": "stdout",
     "output_type": "stream",
     "text": [
      "DAY ---- 0 ----\n",
      "num_available = 20\n",
      "Customer(C02-C, Casual, 1, 2), NUM_TOOLS_RENTING=1\n",
      "Rental, Customer: C02-C, ([Tool(T01-Woodwork, $20, Woodwork, False)], RentDate: 0, DueDate: 2, TotalPrice: $40)\n",
      "Customer(C01-R, Regular, 3, 3), NUM_TOOLS_RENTING=3\n",
      "Rental, Customer: C01-R, ([Tool(T02-Yardwork, $25, Yardwork, False), Tool(T03-Plumbing, $15, Plumbing, False), Tool(T04-Yardwork, $25, Yardwork, False)], RentDate: 0, DueDate: 3, TotalPrice: $195)\n",
      "Customer(C05-C, Casual, 1, 1), NUM_TOOLS_RENTING=1\n",
      "Rental, Customer: C05-C, ([Tool(T05-Yardwork, $25, Yardwork, False)], RentDate: 0, DueDate: 1, TotalPrice: $25)\n",
      "Customer(C10-R, Regular, 1, 5), NUM_TOOLS_RENTING=1\n",
      "Rental, Customer: C10-R, ([Tool(T06-Concrete, $10, Concrete, False)], RentDate: 0, DueDate: 5, TotalPrice: $50)\n",
      "Customer(C07-R, Regular, 1, 3), NUM_TOOLS_RENTING=1\n",
      "Rental, Customer: C07-R, ([Tool(T07-Plumbing, $15, Plumbing, False)], RentDate: 0, DueDate: 3, TotalPrice: $45)\n",
      "Customer(C06-C, Casual, 2, 1), NUM_TOOLS_RENTING=2\n",
      "Rental, Customer: C06-C, ([Tool(T08-Plumbing, $15, Plumbing, False), Tool(T09-Plumbing, $15, Plumbing, False)], RentDate: 0, DueDate: 1, TotalPrice: $30)\n",
      "Money earned up to today: $385\n",
      "num_available = 11\n",
      "\n",
      "\n",
      "DAY ---- 1 ----\n",
      "RETURNING\n",
      "C05-C\n",
      "DONE RETURNING\n",
      "RETURNING\n",
      "C06-C\n",
      "DONE RETURNING\n",
      "num_available = 14\n",
      "Customer(C03-R, Regular, 1, 3), NUM_TOOLS_RENTING=1\n",
      "Rental, Customer: C03-R, ([Tool(T10-Yardwork, $25, Yardwork, False)], RentDate: 1, DueDate: 4, TotalPrice: $75)\n",
      "Customer(C10-R, Regular, 1, 5), NUM_TOOLS_RENTING=2\n",
      "Rental, Customer: C10-R, ([Tool(T11-Woodwork, $20, Woodwork, False)], RentDate: 1, DueDate: 6, TotalPrice: $100)\n",
      "Customer(C06-C, Casual, 2, 1), NUM_TOOLS_RENTING=3\n",
      "Rental, Customer: C06-C, ([Tool(T12-Plumbing, $15, Plumbing, False), Tool(T13-Yardwork, $25, Yardwork, False)], RentDate: 1, DueDate: 2, TotalPrice: $40)\n",
      "Money earned up to today: $600\n",
      "num_available = 10\n",
      "\n",
      "\n",
      "DAY ---- 2 ----\n",
      "RETURNING\n",
      "C02-C\n",
      "DONE RETURNING\n",
      "RETURNING\n",
      "C06-C\n",
      "DONE RETURNING\n",
      "num_available = 13\n",
      "Customer(C08-B, Business, 3, 7), NUM_TOOLS_RENTING=3\n",
      "Rental, Customer: C08-B, ([Tool(T14-Concrete, $10, Concrete, False), Tool(T15-Woodwork, $20, Woodwork, False), Tool(T16-Concrete, $10, Concrete, False)], RentDate: 2, DueDate: 9, TotalPrice: $280)\n",
      "Customer(C02-C, Casual, 1, 2), NUM_TOOLS_RENTING=1\n",
      "Rental, Customer: C02-C, ([Tool(T17-Woodwork, $20, Woodwork, False)], RentDate: 2, DueDate: 4, TotalPrice: $40)\n",
      "Customer(C09-R, Regular, 3, 5), NUM_TOOLS_RENTING=3\n",
      "Rental, Customer: C09-R, ([Tool(T18-Yardwork, $25, Yardwork, False), Tool(T19-Painting, $5, Painting, False), Tool(T20-Woodwork, $20, Woodwork, False)], RentDate: 2, DueDate: 7, TotalPrice: $250)\n",
      "Customer(C10-R, Regular, 1, 5), NUM_TOOLS_RENTING=3\n",
      "Rental, Customer: C10-R, ([Tool(T05-Yardwork, $25, Yardwork, False)], RentDate: 2, DueDate: 7, TotalPrice: $125)\n",
      "Customer(C03-R, Regular, 1, 3), NUM_TOOLS_RENTING=2\n",
      "Rental, Customer: C03-R, ([Tool(T08-Plumbing, $15, Plumbing, False)], RentDate: 2, DueDate: 5, TotalPrice: $45)\n",
      "Customer(C04-R, Regular, 1, 5), NUM_TOOLS_RENTING=1\n",
      "Rental, Customer: C04-R, ([Tool(T09-Plumbing, $15, Plumbing, False)], RentDate: 2, DueDate: 7, TotalPrice: $75)\n",
      "Money earned up to today: $1415\n",
      "num_available = 3\n",
      "\n",
      "\n"
     ]
    }
   ],
   "source": [
    "np.random.seed(42)\n",
    "random.seed(42)\n",
    "\n",
    "num_days = 3\n",
    "\n",
    "# Initialize tool inventory here\n",
    "\n",
    "# Initialize customer list here\n",
    "\n",
    "# Keep track of all rentals\n",
    "all_rentals = []\n",
    "\n",
    "# Keep track of all earning\n",
    "total_money = 0\n",
    "\n",
    "updated_inventory = tool_objects\n",
    "for day_i in range(0, num_days):\n",
    "    print(f\"DAY ---- {day_i} ----\")\n",
    "    \n",
    "    \n",
    "    # Check Rental by customer name? Or for every rental?\n",
    "    # If Rental's due date == today\n",
    "        # Return tools in Rental by making tool.available = True\n",
    "\n",
    "    # Try: Keep track of Rentals; for every rental, check if today is due date\n",
    "    # If so, return tool -> make tool available (use an inventory class?)\n",
    "    # Also subtract customer.num_tools_renting \n",
    "\n",
    "    for r in all_rentals:\n",
    "        # Because r in rental isn't in inventory, RE-ADD TOOL OBJ TO INVENTORY with available=True\n",
    "        # Sort? Shuffle? Sort for now to keep track\n",
    "        if r.day_due == day_i:\n",
    "\n",
    "            print(\"RETURNING\")\n",
    "\n",
    "            tools = r.tools_rented\n",
    "            customer = r.customer_name\n",
    "            \n",
    "            print(customer)\n",
    "\n",
    "            for t in tools:\n",
    "                t_return = t\n",
    "                t_return.available = True\n",
    "                updated_inventory.append(t_return)\n",
    "\n",
    "            # Get r.customer_name's index in customer_objects, update num_tools_rented\n",
    "            for c in customer_objects:\n",
    "                if customer == c.name:\n",
    "                    c.num_tools_renting -= 1\n",
    "\n",
    "            print(\"DONE RETURNING\")\n",
    "    \n",
    "    num_available = sum(t.available for t in updated_inventory)\n",
    "    print(f\"num_available = {num_available}\")\n",
    "\n",
    "    \n",
    "    # If store != empty\n",
    "    if num_available != 0:\n",
    "\n",
    "        # Select random number of customers to visit\n",
    "        # Only those with 3 or less tools \n",
    "        customer_pool = [c for c in customer_objects if c.num_tools_renting < 3]  # customers with 0, 1, 2 active tools\n",
    "        \n",
    "        todays_customers = random.sample(customer_pool, np.random.randint(len(customer_pool)))        \n",
    "        \n",
    "        customer_indices = []\n",
    "        # Each customer makes a Rental, pay\n",
    "        for customer_i, customer in enumerate(todays_customers):\n",
    "            # Check if num_available fits their request AND if they won't exceed max\n",
    "            if customer.num_tools <= num_available and customer.num_tools+customer.num_tools_renting <= 3:\n",
    "                \n",
    "                # Each day, update num_tools_renting for Customer objects that rent\n",
    "                if customer in customer_objects:\n",
    "                    a = customer_objects.index(customer)\n",
    "                    customer_objects[a].num_tools_renting += customer.num_tools\n",
    "                    \n",
    "                #################\n",
    "                                \n",
    "                # Make a Rental record for this customer\n",
    "                tools_renting = updated_inventory[0:customer.num_tools]\n",
    "                total_price = sum(t.price for t in updated_inventory[0:customer.num_tools]) * customer.num_nights\n",
    "                rental = Rental(customer.name, tools_renting, \n",
    "                         customer.num_nights, total_price,\n",
    "                         day_i, day_i+customer.num_nights, False)\n",
    "                \n",
    "                all_rentals.append(rental)\n",
    "                \n",
    "                total_money += rental.total_price\n",
    "\n",
    "                # Update num_available by setting tool_objects.available to False\n",
    "                t_indices = [i for i, s in enumerate(tools_renting) if s in updated_inventory]\n",
    "                for i in t_indices:\n",
    "                    updated_inventory[i].available = False\n",
    "                    \n",
    "                print(customer)\n",
    "                print(rental)                \n",
    "            \n",
    "            # Get tools that are available=True\n",
    "            updated_inventory = [t for t in updated_inventory if t.available == True]\n",
    "            num_available = sum(t.available for t in updated_inventory)\n",
    "            \n",
    "      \n",
    "    else:\n",
    "        print(\"NO TOOLS LEFT TODAY\")\n",
    "    \n",
    "    \n",
    "    print(f\"Money earned up to today: ${total_money}\")\n",
    "\n",
    "    print(f\"num_available = {num_available}\")\n",
    "\n",
    "    print(\"\\n\")\n",
    "    \n",
    "       \n",
    "# Print report\n",
    "    \n",
    "        \n",
    "    "
   ]
  },
  {
   "cell_type": "code",
   "execution_count": null,
   "metadata": {},
   "outputs": [],
   "source": []
  }
 ],
 "metadata": {
  "kernelspec": {
   "display_name": "Python 3",
   "language": "python",
   "name": "python3"
  },
  "language_info": {
   "codemirror_mode": {
    "name": "ipython",
    "version": 3
   },
   "file_extension": ".py",
   "mimetype": "text/x-python",
   "name": "python",
   "nbconvert_exporter": "python",
   "pygments_lexer": "ipython3",
   "version": "3.6.4"
  },
  "toc": {
   "base_numbering": 1,
   "nav_menu": {},
   "number_sections": true,
   "sideBar": true,
   "skip_h1_title": false,
   "title_cell": "Table of Contents",
   "title_sidebar": "Contents",
   "toc_cell": false,
   "toc_position": {
    "height": "48px",
    "left": "909.778px",
    "top": "109.722px",
    "width": "166px"
   },
   "toc_section_display": true,
   "toc_window_display": false
  }
 },
 "nbformat": 4,
 "nbformat_minor": 2
}
