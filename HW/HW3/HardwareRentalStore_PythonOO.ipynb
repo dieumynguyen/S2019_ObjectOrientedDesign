{
 "cells": [
  {
   "cell_type": "code",
   "execution_count": 249,
   "metadata": {},
   "outputs": [],
   "source": [
    "import numpy as np\n",
    "import random\n",
    "import matplotlib.pyplot as plt\n",
    "from abc import ABC, abstractmethod\n",
    "plt.rcParams[\"font.family\"] = \"Arial\""
   ]
  },
  {
   "cell_type": "code",
   "execution_count": 250,
   "metadata": {},
   "outputs": [],
   "source": [
    "np.random.seed(42)\n",
    "random.seed(42)"
   ]
  },
  {
   "cell_type": "markdown",
   "metadata": {},
   "source": [
    "## Tool\n",
    "\n",
    "A hardware rental store has a catalog of 20 different tools to rent, spread across 5 different categories (Painting, Concrete, Plumbing, Woodwork, Yardwork). Each tool has a unique name (e.g. “Paint Tool 1”) and belongs to a specific category; the price per day to rent a tool varies by category. You may decide on the pricing of the rental categories."
   ]
  },
  {
   "cell_type": "code",
   "execution_count": 251,
   "metadata": {
    "code_folding": []
   },
   "outputs": [],
   "source": [
    "class Tool:\n",
    "    def __init__(self, name, price, category, available):\n",
    "        self.name = name\n",
    "        self.price = price\n",
    "        self.category = category\n",
    "        self.available = available \n",
    "        \n",
    "    def __repr__(self):\n",
    "        return (f\"{self.__class__.__name__}\"\n",
    "                f\"({self.name}, ${self.price}, \"\n",
    "                f\"{self.category}, {self.available})\")\n",
    "    "
   ]
  },
  {
   "cell_type": "markdown",
   "metadata": {},
   "source": [
    "### ToolCollection"
   ]
  },
  {
   "cell_type": "code",
   "execution_count": 264,
   "metadata": {
    "code_folding": [],
    "scrolled": true
   },
   "outputs": [],
   "source": [
    "np.random.seed(42)\n",
    "random.seed(42)\n",
    "\n",
    "class ToolCollection:\n",
    "    def __init__(self, num_tools=20):\n",
    "        self.num_tools = num_tools\n",
    "        self.tool_categories = [\"Painting\", \"Concrete\", \"Plumbing\", \"Woodwork\", \"Yardwork\"]\n",
    "        self.tool_prices = [5, 10, 15, 20, 25]\n",
    "        self.num_tool_categories = len(self.tool_categories)\n",
    "        \n",
    "        self.available_tools = []\n",
    "        self.rented_tools = []\n",
    "        \n",
    "        self.__generate_tools()\n",
    "        \n",
    "    def __generate_tools(self):\n",
    "        # Generate tools\n",
    "        for tool_i in range(self.num_tools):\n",
    "            random_idx = np.random.randint(0, self.num_tool_categories)\n",
    "            name = f\"T{tool_i+1:02d}-{self.tool_categories[random_idx]}\"\n",
    "            price = self.tool_prices[random_idx]\n",
    "            category = self.tool_categories[random_idx]\n",
    "            available = True\n",
    "            tool_obj = Tool(name, price, category, available)\n",
    "            self.available_tools.append(tool_obj)\n",
    "    \n",
    "    def __len__(self):\n",
    "        return len(self.available_tools)\n",
    "    \n",
    "    def check_availability(self):\n",
    "        available_tools = np.unique([tool.name for tool in self.available_tools])\n",
    "        return available_tools\n",
    "        \n",
    "    def rent(self, chosen_tools):\n",
    "        for chosen_tool in chosen_tools:\n",
    "            for tool_i, tool in enumerate(self.available_tools):\n",
    "                if tool.name == chosen_tool.name:\n",
    "                    tool.available = False\n",
    "                    self.rented_tools.append(chosen_tool)\n",
    "                    del self.available_tools[tool_i]\n",
    "                    break\n",
    "                \n",
    "    def __call__(self):\n",
    "        return self.available_tools\n",
    "    \n",
    "    def restock(self, tools):\n",
    "        for tool in tools:\n",
    "            tool.available = True\n",
    "            self.available_tools.append(tool)\n",
    "    \n",
    "    def print_tool_list(self):\n",
    "        for t in self.available_tools:\n",
    "            print(t)\n",
    "            \n",
    "    def __contains__(self, other):\n",
    "        pass\n",
    "    \n",
    "    def __iter__(self):\n",
    "        for tool in self.available_tools:\n",
    "            yield tool"
   ]
  },
  {
   "cell_type": "code",
   "execution_count": 265,
   "metadata": {},
   "outputs": [
    {
     "name": "stdout",
     "output_type": "stream",
     "text": [
      "Tool(T01-Woodwork, $20, Woodwork, True)\n",
      "Tool(T02-Yardwork, $25, Yardwork, True)\n",
      "Tool(T03-Plumbing, $15, Plumbing, True)\n",
      "Tool(T04-Yardwork, $25, Yardwork, True)\n",
      "Tool(T05-Yardwork, $25, Yardwork, True)\n",
      "Tool(T06-Concrete, $10, Concrete, True)\n",
      "Tool(T07-Plumbing, $15, Plumbing, True)\n",
      "Tool(T08-Plumbing, $15, Plumbing, True)\n",
      "Tool(T09-Plumbing, $15, Plumbing, True)\n",
      "Tool(T10-Yardwork, $25, Yardwork, True)\n",
      "Tool(T11-Woodwork, $20, Woodwork, True)\n",
      "Tool(T12-Plumbing, $15, Plumbing, True)\n",
      "Tool(T13-Yardwork, $25, Yardwork, True)\n",
      "Tool(T14-Concrete, $10, Concrete, True)\n",
      "Tool(T15-Woodwork, $20, Woodwork, True)\n",
      "Tool(T16-Concrete, $10, Concrete, True)\n",
      "Tool(T17-Woodwork, $20, Woodwork, True)\n",
      "Tool(T18-Yardwork, $25, Yardwork, True)\n",
      "Tool(T19-Painting, $5, Painting, True)\n",
      "Tool(T20-Woodwork, $20, Woodwork, True)\n"
     ]
    }
   ],
   "source": [
    "tools = ToolCollection()\n",
    "for t in tools:\n",
    "    print(t)"
   ]
  },
  {
   "cell_type": "markdown",
   "metadata": {},
   "source": [
    "## Customers\n",
    "\n",
    "This store has 10 customers; each customer has a unique name and is associated with one of three types. Casual customers rent one or two tools for one or two nights. Business customers always rent three tools for seven nights. Regular customers will rent one to three tools each time they visit for 3 to 5 nights."
   ]
  },
  {
   "cell_type": "code",
   "execution_count": 266,
   "metadata": {},
   "outputs": [],
   "source": [
    "class Customer:\n",
    "    def __init__(self, name, customer_type, num_tools_wanted, num_nights, num_tools_rented):\n",
    "        self.name = name\n",
    "        self.customer_type = customer_type\n",
    "        self.num_tools_wanted = num_tools_wanted\n",
    "        self.num_nights = num_nights\n",
    "        self.num_tools_rented = num_tools_rented\n",
    "        \n",
    "    def __repr__(self):\n",
    "        return (f\"{self.__class__.__name__}\"\n",
    "                f\"({self.name}, {self.customer_type}, \"\n",
    "                f\"{self.num_tools_wanted}, {self.num_nights}), NUM_TOOLS_RENTED={self.num_tools_rented}\")"
   ]
  },
  {
   "cell_type": "markdown",
   "metadata": {},
   "source": [
    "### CustomerCollection generator"
   ]
  },
  {
   "cell_type": "code",
   "execution_count": 267,
   "metadata": {},
   "outputs": [],
   "source": [
    "np.random.seed(42)\n",
    "random.seed(42)\n",
    "\n",
    "class CustomerCollection:\n",
    "    \n",
    "    def __init__(self, num_customers=10, num_customer_types=3):\n",
    "        self.num_customers = num_customers\n",
    "        self.num_customer_types = num_customer_types\n",
    "        \n",
    "        self.customer_types = [\"Casual\", \"Business\", \"Regular\"]\n",
    "        self.num_tools = [[1,2], [3], [1,2,3]]\n",
    "        self.num_nights = [[1,2], [7], [3,4,5]]\n",
    "\n",
    "        self.customer_objects = []\n",
    "        \n",
    "        self.__generate_customers()\n",
    "        \n",
    "    def __generate_customers(self):\n",
    "        # Generate customers\n",
    "        for customer_i in range(self.num_customers):\n",
    "            random_idx = np.random.randint(0, self.num_customer_types)\n",
    " \n",
    "            customer_params = {\n",
    "                \"name\"             : f\"C{customer_i+1:02d}-{self.customer_types[random_idx][0]}\", \n",
    "                \"customer_type\"    : self.customer_types[random_idx], \n",
    "                \"num_tools_wanted\" : random.sample(self.num_tools[random_idx], 1)[0], \n",
    "                \"num_nights\"       : random.sample(self.num_nights[random_idx], 1)[0], \n",
    "                \"num_tools_rented\" : 0\n",
    "            }\n",
    "\n",
    "            customer_obj = Customer(**customer_params)\n",
    "            self.customer_objects.append(customer_obj)\n",
    "\n",
    "    def print_customer_list(self):\n",
    "        for c in self.customer_objects:\n",
    "            print(c)\n",
    "            \n",
    "    def return_tool(self, customer_name, num_tools_returned):\n",
    "        for customer in self.customer_objects:\n",
    "            if customer.name == customer_name:\n",
    "                customer.num_tools_rented -= num_tools_returned\n",
    "                break\n",
    "        \n",
    "    def __contains__(self, other):\n",
    "        pass\n",
    "    \n",
    "    def __iter__(self):\n",
    "        for customer in self.customer_objects:\n",
    "            yield customer"
   ]
  },
  {
   "cell_type": "code",
   "execution_count": 268,
   "metadata": {},
   "outputs": [
    {
     "name": "stdout",
     "output_type": "stream",
     "text": [
      "Customer(C01-R, Regular, 3, 3), NUM_TOOLS_RENTED=0\n",
      "Customer(C02-C, Casual, 1, 2), NUM_TOOLS_RENTED=0\n",
      "Customer(C03-R, Regular, 1, 3), NUM_TOOLS_RENTED=0\n",
      "Customer(C04-R, Regular, 1, 5), NUM_TOOLS_RENTED=0\n",
      "Customer(C05-C, Casual, 1, 1), NUM_TOOLS_RENTED=0\n",
      "Customer(C06-C, Casual, 2, 1), NUM_TOOLS_RENTED=0\n",
      "Customer(C07-R, Regular, 1, 3), NUM_TOOLS_RENTED=0\n",
      "Customer(C08-B, Business, 3, 7), NUM_TOOLS_RENTED=0\n",
      "Customer(C09-R, Regular, 3, 5), NUM_TOOLS_RENTED=0\n",
      "Customer(C10-R, Regular, 1, 5), NUM_TOOLS_RENTED=0\n"
     ]
    }
   ],
   "source": [
    "customers = CustomerCollection()\n",
    "for c in customers:\n",
    "    print(c)"
   ]
  },
  {
   "cell_type": "markdown",
   "metadata": {},
   "source": [
    "## Rental\n",
    "\n",
    "Each time a customer comes into the store, a Rental is created that will keep track of what tools they rented and how many nights they will keep the tools.\n",
    "\n",
    "A customer can have more than one active rental. That is, they can show up on day 1\n",
    "and rent 1 tool for 5 nights. They can then show up on day 2 and rent another tool for 4\n",
    "nights. As long as they do not have more than 3 tools rented, they are allowed to have\n",
    "multiple rentals."
   ]
  },
  {
   "cell_type": "code",
   "execution_count": 269,
   "metadata": {},
   "outputs": [],
   "source": [
    "class Rental:\n",
    "    def __init__(self, customer_name, tools_rented, \n",
    "                 num_rent_nights, total_price,\n",
    "                 day_rented, day_due, returned):\n",
    "        \n",
    "        self.customer_name = customer_name\n",
    "        self.tools_rented = tools_rented\n",
    "        self.num_rent_nights = num_rent_nights\n",
    "        self.total_price = total_price\n",
    "        self.day_rented = day_rented\n",
    "        self.day_due = day_due\n",
    "        self.returned = returned\n",
    "        \n",
    "    def __repr__(self):\n",
    "        return (f\"{self.__class__.__name__}, Customer: {self.customer_name}, \"\n",
    "                f\"({self.tools_rented}, RentDate: {self.day_rented}, \"\n",
    "                f\"DueDate: {self.day_due}, TotalPrice: ${self.total_price})\")"
   ]
  },
  {
   "cell_type": "code",
   "execution_count": 270,
   "metadata": {},
   "outputs": [],
   "source": [
    "# class Transaction:\n",
    "    # Collect money from customer\n",
    "    # Create a rental for customer"
   ]
  },
  {
   "cell_type": "markdown",
   "metadata": {},
   "source": [
    "## Store\n",
    "\n",
    "The store keeps track of the existing rentals along with the current inventory of the store. As such, when it has zero rentals, there will be 20 tools in its inventory. When it has zero tools in its inventory, it will have multiple rentals that between them account for all 20 tools."
   ]
  },
  {
   "cell_type": "code",
   "execution_count": null,
   "metadata": {},
   "outputs": [],
   "source": []
  },
  {
   "cell_type": "markdown",
   "metadata": {},
   "source": [
    "Classes to create: Inventory, Transaction, some rental tracker, store..."
   ]
  },
  {
   "cell_type": "markdown",
   "metadata": {},
   "source": [
    "## Inventory"
   ]
  },
  {
   "cell_type": "code",
   "execution_count": null,
   "metadata": {},
   "outputs": [],
   "source": []
  },
  {
   "cell_type": "markdown",
   "metadata": {},
   "source": [
    "## Main"
   ]
  },
  {
   "cell_type": "code",
   "execution_count": 276,
   "metadata": {},
   "outputs": [
    {
     "name": "stdout",
     "output_type": "stream",
     "text": [
      "DAY ---- 0 ----\n",
      "num_tools_available_in_store = 20\n",
      "Customer(C09-B, Business, 3, 7), NUM_TOOLS_RENTED=3\n",
      "Rental, Customer: C09-B, ([Tool(T08-Plumbing, $15, Plumbing, False), Tool(T15-Woodwork, $20, Woodwork, False), Tool(T09-Plumbing, $15, Plumbing, False)], RentDate: 0, DueDate: 7, TotalPrice: $350)\n",
      "Customer(C07-R, Regular, 1, 3), NUM_TOOLS_RENTED=1\n",
      "Rental, Customer: C07-R, ([Tool(T01-Woodwork, $20, Woodwork, False)], RentDate: 0, DueDate: 3, TotalPrice: $60)\n",
      "Money earned up to today: $410\n",
      "\n",
      "\n",
      "DAY ---- 1 ----\n",
      "num_tools_available_in_store = 16\n",
      "Customer(C03-C, Casual, 1, 1), NUM_TOOLS_RENTED=1\n",
      "Rental, Customer: C03-C, ([Tool(T14-Concrete, $10, Concrete, False)], RentDate: 1, DueDate: 2, TotalPrice: $10)\n",
      "Customer(C07-R, Regular, 1, 3), NUM_TOOLS_RENTED=2\n",
      "Rental, Customer: C07-R, ([Tool(T03-Plumbing, $15, Plumbing, False)], RentDate: 1, DueDate: 4, TotalPrice: $45)\n",
      "Customer(C10-R, Regular, 3, 5), NUM_TOOLS_RENTED=3\n",
      "Rental, Customer: C10-R, ([Tool(T04-Yardwork, $25, Yardwork, False), Tool(T11-Woodwork, $20, Woodwork, False), Tool(T20-Woodwork, $20, Woodwork, False)], RentDate: 1, DueDate: 6, TotalPrice: $325)\n",
      "Customer(C08-R, Regular, 3, 5), NUM_TOOLS_RENTED=3\n",
      "Rental, Customer: C08-R, ([Tool(T12-Plumbing, $15, Plumbing, False), Tool(T19-Painting, $5, Painting, False), Tool(T10-Yardwork, $25, Yardwork, False)], RentDate: 1, DueDate: 6, TotalPrice: $225)\n",
      "Customer(C02-B, Business, 3, 7), NUM_TOOLS_RENTED=3\n",
      "Rental, Customer: C02-B, ([Tool(T02-Yardwork, $25, Yardwork, False), Tool(T16-Concrete, $10, Concrete, False), Tool(T07-Plumbing, $15, Plumbing, False)], RentDate: 1, DueDate: 8, TotalPrice: $350)\n",
      "Customer(C05-C, Casual, 2, 1), NUM_TOOLS_RENTED=2\n",
      "Rental, Customer: C05-C, ([Tool(T18-Yardwork, $25, Yardwork, False), Tool(T05-Yardwork, $25, Yardwork, False)], RentDate: 1, DueDate: 2, TotalPrice: $50)\n",
      "Money earned up to today: $1415\n",
      "\n",
      "\n",
      "DAY ---- 2 ----\n",
      "RETURN: C03-C\n",
      "RETURN: C05-C\n",
      "num_tools_available_in_store = 6\n",
      "Customer(C01-B, Business, 3, 7), NUM_TOOLS_RENTED=3\n",
      "Rental, Customer: C01-B, ([Tool(T05-Yardwork, $25, Yardwork, False), Tool(T18-Yardwork, $25, Yardwork, False), Tool(T17-Woodwork, $20, Woodwork, False)], RentDate: 2, DueDate: 9, TotalPrice: $490)\n",
      "Customer(C04-C, Casual, 1, 1), NUM_TOOLS_RENTED=1\n",
      "Rental, Customer: C04-C, ([Tool(T14-Concrete, $10, Concrete, False)], RentDate: 2, DueDate: 3, TotalPrice: $10)\n",
      "Money earned up to today: $1915\n",
      "\n",
      "\n"
     ]
    }
   ],
   "source": [
    "np.random.seed(42)\n",
    "random.seed(42)\n",
    "\n",
    "num_days = 3\n",
    "\n",
    "# Initialize tool list here\n",
    "tools = ToolCollection()\n",
    "\n",
    "# Initialize customer list here\n",
    "customers = CustomerCollection()\n",
    "\n",
    "# Keep track of all rentals\n",
    "all_rentals = []\n",
    "\n",
    "# Keep track of all earning\n",
    "total_money = 0\n",
    "\n",
    "for day_i in range(0, num_days):\n",
    "    print(f\"DAY ---- {day_i} ----\")\n",
    "    \n",
    "    # Try: Keep track of Rentals; for every rental, check if today is due date\n",
    "    # If so, return tool -> make tool available (use an inventory class?)\n",
    "    # Also subtract customer.num_tools_rented \n",
    "\n",
    "    for rental_receipt in all_rentals:\n",
    "        # Because r in rental isn't in inventory, RE-ADD TOOL OBJ TO INVENTORY with available=True\n",
    "        # Sort? Shuffle? Sort for now to keep track\n",
    "        if rental_receipt.day_due == day_i:\n",
    "            tools.restock(rental_receipt.tools_rented)\n",
    "            \n",
    "            # Get r.customer_name's index in customer_objects, update num_tools_rented\n",
    "            for customer_name in rental_receipt.customer_name:\n",
    "                customers.return_tool(customer_name, len(rental_receipt.tools_rented))\n",
    "                \n",
    "            print(f\"RETURN: {rental_receipt.customer_name}\")\n",
    "\n",
    "    \n",
    "    num_tools_available_in_store = len(tools)\n",
    "    \n",
    "    print(f\"num_tools_available_in_store = {num_tools_available_in_store}\")\n",
    "\n",
    "    # If store != empty\n",
    "    if num_tools_available_in_store == 0:\n",
    "        print(\"NO TOOLS LEFT TODAY\")\n",
    "        continue\n",
    "\n",
    "    ######## put in customercollection\n",
    "    # Select random number of customers to visit\n",
    "    # Only those with 3 or less tools \n",
    "    customer_pool = [customer for customer in customers if customer.num_tools_rented < 3]  # customers with 0, 1, 2 active tools\n",
    "    todays_customers = random.sample(customer_pool, np.random.randint(len(customer_pool)))        \n",
    "\n",
    "    # Each customer makes a Rental, pay\n",
    "    for customer in todays_customers:\n",
    "        # Check if num_tools_available_in_store fits their request AND if they won't exceed max\n",
    "        if customer.num_tools_wanted <= num_tools_available_in_store and customer.num_tools_wanted + customer.num_tools_rented <= 3:\n",
    "\n",
    "            \n",
    "            # Make a Rental record for this customer\n",
    "            available_tools = tools()\n",
    "            chosen_tools = random.sample(available_tools, customer.num_tools_wanted)\n",
    "       \n",
    "            tools.rent(chosen_tools)\n",
    "            total_price = sum([tool.price for tool in chosen_tools] * customer.num_nights)\n",
    "            \n",
    "            rental_params = {\n",
    "                \"customer_name\"   : customer.name, \n",
    "                \"tools_rented\"    : chosen_tools, \n",
    "                \"num_rent_nights\" : customer.num_nights, \n",
    "                \"total_price\"     : total_price,\n",
    "                \"day_rented\"      : day_i, \n",
    "                \"day_due\"         : day_i + customer.num_nights, \n",
    "                \"returned\"        : False\n",
    "            }\n",
    "            \n",
    "            rental = Rental(**rental_params)\n",
    "\n",
    "            all_rentals.append(rental)\n",
    "\n",
    "            total_money += rental.total_price\n",
    "            \n",
    "            # Each day, update num_tools_rented for Customer objects that rent\n",
    "            customer.num_tools_rented += customer.num_tools_wanted\n",
    "\n",
    "            print(customer)\n",
    "            print(rental)   \n",
    "\n",
    "    print(f\"Money earned up to today: ${total_money}\")\n",
    "\n",
    "\n",
    "    print(\"\\n\")\n",
    "    \n",
    "           \n",
    "        \n",
    "    "
   ]
  },
  {
   "cell_type": "code",
   "execution_count": 155,
   "metadata": {
    "scrolled": false
   },
   "outputs": [],
   "source": [
    "# np.random.seed(42)\n",
    "# random.seed(42)\n",
    "\n",
    "# num_days = 3\n",
    "\n",
    "# # Initialize tool list here\n",
    "# tools = ToolCollection()\n",
    "# tool_objects = tools.tool_objects\n",
    "\n",
    "# # Initialize customer list here\n",
    "# customers = CustomerCollection()\n",
    "# customer_objects = customers.customer_objects\n",
    "\n",
    "# # Keep track of all rentals\n",
    "# all_rentals = []\n",
    "\n",
    "# # Keep track of all earning\n",
    "# total_money = 0\n",
    "\n",
    "# updated_inventory = tool_objects\n",
    "# for day_i in range(0, num_days):\n",
    "#     print(f\"DAY ---- {day_i} ----\")\n",
    "    \n",
    "    \n",
    "#     # Check Rental by customer name? Or for every rental?\n",
    "#     # If Rental's due date == today\n",
    "#         # Return tools in Rental by making tool.available = True\n",
    "\n",
    "#     # Try: Keep track of Rentals; for every rental, check if today is due date\n",
    "#     # If so, return tool -> make tool available (use an inventory class?)\n",
    "#     # Also subtract customer.num_tools_renting \n",
    "\n",
    "#     print(\"RETURNS: \")\n",
    "\n",
    "#     for r in all_rentals:\n",
    "#         # Because r in rental isn't in inventory, RE-ADD TOOL OBJ TO INVENTORY with available=True\n",
    "#         # Sort? Shuffle? Sort for now to keep track\n",
    "#         if r.day_due == day_i:\n",
    "#             tools = r.tools_rented\n",
    "#             customer = r.customer_name\n",
    "            \n",
    "#             print(customer)\n",
    "\n",
    "#             for t in tools:\n",
    "#                 t_return = t\n",
    "#                 t_return.available = True\n",
    "#                 updated_inventory.append(t_return)\n",
    "            \n",
    "#             # Get r.customer_name's index in customer_objects, update num_tools_rented\n",
    "#             for c in customer_objects:\n",
    "#                 if customer == c.name:\n",
    "#                     c.num_tools_renting -= 1\n",
    "    \n",
    "#     num_available = sum(t.available for t in updated_inventory)\n",
    "#     print(f\"num_available = {num_available}\")\n",
    "\n",
    "#     # If store != empty\n",
    "#     if num_available != 0:\n",
    "\n",
    "#         # Select random number of customers to visit\n",
    "#         # Only those with 3 or less tools \n",
    "#         customer_pool = [c for c in customer_objects if c.num_tools_renting < 3]  # customers with 0, 1, 2 active tools\n",
    "        \n",
    "#         todays_customers = random.sample(customer_pool, np.random.randint(len(customer_pool)))        \n",
    "        \n",
    "#         customer_indices = []\n",
    "#         # Each customer makes a Rental, pay\n",
    "#         for customer_i, customer in enumerate(todays_customers):\n",
    "#             # Check if num_available fits their request AND if they won't exceed max\n",
    "#             if customer.num_tools <= num_available and customer.num_tools+customer.num_tools_renting <= 3:\n",
    "                \n",
    "#                 # Each day, update num_tools_renting for Customer objects that rent\n",
    "#                 if customer in customer_objects:\n",
    "#                     a = customer_objects.index(customer)\n",
    "#                     customer_objects[a].num_tools_renting += customer.num_tools\n",
    "                    \n",
    "#                 #################\n",
    "                                \n",
    "#                 # Make a Rental record for this customer\n",
    "#                 tools_renting = updated_inventory[0:customer.num_tools]\n",
    "#                 total_price = sum(t.price for t in updated_inventory[0:customer.num_tools]) * customer.num_nights\n",
    "#                 rental = Rental(customer.name, tools_renting, \n",
    "#                          customer.num_nights, total_price,\n",
    "#                          day_i, day_i+customer.num_nights, False)\n",
    "                \n",
    "#                 all_rentals.append(rental)\n",
    "                \n",
    "#                 total_money += rental.total_price\n",
    "\n",
    "#                 # Update num_available by setting tool_objects.available to False\n",
    "#                 t_indices = [i for i, s in enumerate(tools_renting) if s in updated_inventory]\n",
    "#                 for i in t_indices:\n",
    "#                     updated_inventory[i].available = False\n",
    "                    \n",
    "#                 print(customer)\n",
    "#                 print(rental)                \n",
    "            \n",
    "#             # Get tools that are available=True\n",
    "#             updated_inventory = [t for t in updated_inventory if t.available == True]\n",
    "#             num_available = sum(t.available for t in updated_inventory)\n",
    "            \n",
    "      \n",
    "#     else:\n",
    "#         print(\"NO TOOLS LEFT TODAY\")\n",
    "    \n",
    "    \n",
    "#     print(f\"Money earned up to today: ${total_money}\")\n",
    "\n",
    "#     print(f\"num_available = {num_available}\")\n",
    "\n",
    "#     print(\"\\n\")\n",
    "    \n",
    "           \n",
    "        \n",
    "    "
   ]
  },
  {
   "cell_type": "markdown",
   "metadata": {},
   "source": [
    "### Class iterator"
   ]
  },
  {
   "cell_type": "code",
   "execution_count": 76,
   "metadata": {},
   "outputs": [],
   "source": [
    "# np.random.seed(42)\n",
    "# random.seed(42)\n",
    "\n",
    "# class CustomerCollection:\n",
    "    \n",
    "#     def __init__(self):\n",
    "        \n",
    "#         num_customers = 10\n",
    "#         num_customer_types = 3\n",
    "#         customer_types = [\"Casual\", \"Business\", \"Regular\"]\n",
    "#         num_tools = [[1,2], [3], [1,2,3]]\n",
    "#         num_nights = [[1,2], [7], [3,4,5]]\n",
    "\n",
    "#         self.customer_objects = []\n",
    "        \n",
    "#         # Generate customers\n",
    "#         for customer_i in range(num_customers):\n",
    "#             random_idx = np.random.randint(0, num_customer_types)\n",
    "            \n",
    "#             name = f\"C{customer_i+1:02d}-{customer_types[random_idx][0]}\"\n",
    "#             customer_type = customer_types[random_idx]\n",
    "#             num_tool = random.sample(num_tools[random_idx], 1)[0]\n",
    "#             num_night =  random.sample(num_nights[random_idx], 1)[0]\n",
    "\n",
    "#             customer_obj = Customer(name, customer_type, num_tool, num_night, 0)\n",
    "#             self.customer_objects.append(customer_obj)\n",
    "\n",
    "#     def print_customer_list(self):\n",
    "#         for c in self.customer_objects:\n",
    "#             print(c)\n",
    "            \n",
    "#     def __iter__(self):\n",
    "#         self.customer_i = 0\n",
    "#         return self\n",
    "    \n",
    "#     def __next__(self):\n",
    "#         if self.customer_i < len(self.customer_objects):\n",
    "#             customer = self.customer_objects[self.customer_i]\n",
    "#             self.customer_i += 1\n",
    "#             return customer\n",
    "#         else:\n",
    "#             raise StopIteration"
   ]
  },
  {
   "cell_type": "code",
   "execution_count": 142,
   "metadata": {},
   "outputs": [],
   "source": [
    "class A:\n",
    "    def __init__(self, id):\n",
    "        self.id = id\n",
    "        self.val = 5 if id == 2 else 0\n",
    "        \n",
    "    def __repr__(self):\n",
    "        return f\"Object {self.id} -- value: {self.val}\"\n",
    "        \n",
    "class As:\n",
    "    def __init__(self, num_As):\n",
    "        self.members = [A(i) for i in range(num_As)]\n",
    "        \n",
    "    def __iter__(self):\n",
    "        for mem in self.members:\n",
    "            yield mem\n",
    "            \n",
    "    def __call__(self):\n",
    "        return self.members"
   ]
  },
  {
   "cell_type": "code",
   "execution_count": 143,
   "metadata": {},
   "outputs": [],
   "source": [
    "all_As = As(5)"
   ]
  },
  {
   "cell_type": "code",
   "execution_count": 152,
   "metadata": {},
   "outputs": [
    {
     "name": "stdout",
     "output_type": "stream",
     "text": [
      "Object 0 -- value: 2\n",
      "Object 1 -- value: 4\n",
      "Object 2 -- value: 5\n",
      "Object 3 -- value: 0\n",
      "Object 4 -- value: 2\n"
     ]
    }
   ],
   "source": [
    "for i in all_As:\n",
    "    print(i)"
   ]
  },
  {
   "cell_type": "code",
   "execution_count": 145,
   "metadata": {},
   "outputs": [
    {
     "data": {
      "text/plain": [
       "[Object 0 -- value: 0,\n",
       " Object 1 -- value: 0,\n",
       " Object 3 -- value: 0,\n",
       " Object 4 -- value: 0]"
      ]
     },
     "execution_count": 145,
     "metadata": {},
     "output_type": "execute_result"
    }
   ],
   "source": [
    "As_pool = [a for a in all_As if a.val < 3]\n",
    "As_pool"
   ]
  },
  {
   "cell_type": "code",
   "execution_count": 146,
   "metadata": {},
   "outputs": [
    {
     "data": {
      "text/plain": [
       "[Object 0 -- value: 0, Object 4 -- value: 0, Object 1 -- value: 0]"
      ]
     },
     "execution_count": 146,
     "metadata": {},
     "output_type": "execute_result"
    }
   ],
   "source": [
    "today_As = random.sample(As_pool, 3)\n",
    "today_As"
   ]
  },
  {
   "cell_type": "code",
   "execution_count": 151,
   "metadata": {},
   "outputs": [
    {
     "name": "stdout",
     "output_type": "stream",
     "text": [
      "Object 0 -- value: 0\n",
      "Object 4 -- value: 0\n",
      "Object 1 -- value: 0\n"
     ]
    }
   ],
   "source": [
    "for today_A in today_As:\n",
    "    today_A.val += np.random.randint(5)"
   ]
  },
  {
   "cell_type": "code",
   "execution_count": 64,
   "metadata": {},
   "outputs": [],
   "source": [
    "# np.random.seed(42)\n",
    "# random.seed(42)\n",
    "\n",
    "# class CustomerCollection:\n",
    "    \n",
    "#     def __init__(self):\n",
    "        \n",
    "#         num_customers = 10\n",
    "#         num_customer_types = 3\n",
    "#         customer_types = [\"Casual\", \"Business\", \"Regular\"]\n",
    "#         num_tools = [[1,2], [3], [1,2,3]]\n",
    "#         num_nights = [[1,2], [7], [3,4,5]]\n",
    "\n",
    "#         self.customer_objects = []\n",
    "        \n",
    "#         # Generate customers\n",
    "#         for customer_i in range(num_customers):\n",
    "#             random_idx = np.random.randint(0, num_customer_types)\n",
    "            \n",
    "#             name = f\"C{customer_i+1:02d}-{customer_types[random_idx][0]}\"\n",
    "#             customer_type = customer_types[random_idx]\n",
    "#             num_tool = random.sample(num_tools[random_idx], 1)[0]\n",
    "#             num_night =  random.sample(num_nights[random_idx], 1)[0]\n",
    "\n",
    "#             customer_obj = Customer(name, customer_type, num_tool, num_night, 0)\n",
    "#             self.customer_objects.append(customer_obj)\n",
    "\n",
    "#     def print_customer_list(self):\n",
    "#         for c in self.customer_objects:\n",
    "#             print(c)\n"
   ]
  },
  {
   "cell_type": "code",
   "execution_count": null,
   "metadata": {},
   "outputs": [],
   "source": []
  },
  {
   "cell_type": "code",
   "execution_count": null,
   "metadata": {},
   "outputs": [],
   "source": []
  },
  {
   "cell_type": "code",
   "execution_count": 214,
   "metadata": {},
   "outputs": [],
   "source": [
    "class A:\n",
    "    def hello(self):\n",
    "        print(\"I'm A\")\n",
    "        print(super())\n",
    "        \n",
    "    def test(self):\n",
    "        print(\"I'm A\")\n",
    "        print(super())\n",
    "\n",
    "class B(A):\n",
    "    def hello(self):\n",
    "        print(\"I'm B\")\n",
    "        print(super())\n",
    "        print(A.test())\n",
    "        \n",
    "    def test(self):\n",
    "        print(\"I'm B test\")\n",
    "        print(super())\n",
    "\n",
    "class C(A):\n",
    "    def hello(self):\n",
    "        print(\"I'm C\")\n",
    "        print(super())\n",
    "        global xxx\n",
    "        xxx = super\n",
    "        print(super().test())\n",
    "        \n",
    "    def test(self):\n",
    "        print(\"I'm C\")\n",
    "        print(super())\n",
    "\n",
    "class D(C, B):\n",
    "    def hello(self):\n",
    "        print(\"I'm D\")\n",
    "        print(super())\n",
    "        super().hello()\n",
    "        \n",
    "    def test(self):\n",
    "        print(\"I'm D\")\n",
    "        print(super())"
   ]
  },
  {
   "cell_type": "code",
   "execution_count": 215,
   "metadata": {},
   "outputs": [],
   "source": [
    "d = D()"
   ]
  },
  {
   "cell_type": "code",
   "execution_count": 216,
   "metadata": {},
   "outputs": [
    {
     "name": "stdout",
     "output_type": "stream",
     "text": [
      "I'm D\n",
      "<super: <class 'D'>, <D object>>\n",
      "I'm C\n",
      "<super: <class 'C'>, <D object>>\n",
      "I'm B test\n",
      "<super: <class 'B'>, <D object>>\n",
      "None\n"
     ]
    }
   ],
   "source": [
    "d.hello()"
   ]
  },
  {
   "cell_type": "code",
   "execution_count": 191,
   "metadata": {},
   "outputs": [
    {
     "name": "stdout",
     "output_type": "stream",
     "text": [
      "Help on class D in module __main__:\n",
      "\n",
      "class D(C, B)\n",
      " |  Method resolution order:\n",
      " |      D\n",
      " |      C\n",
      " |      B\n",
      " |      A\n",
      " |      builtins.object\n",
      " |  \n",
      " |  Methods defined here:\n",
      " |  \n",
      " |  hello(self)\n",
      " |  \n",
      " |  test(self)\n",
      " |  \n",
      " |  ----------------------------------------------------------------------\n",
      " |  Data descriptors inherited from A:\n",
      " |  \n",
      " |  __dict__\n",
      " |      dictionary for instance variables (if defined)\n",
      " |  \n",
      " |  __weakref__\n",
      " |      list of weak references to the object (if defined)\n",
      "\n"
     ]
    }
   ],
   "source": [
    "help(D)"
   ]
  },
  {
   "cell_type": "code",
   "execution_count": null,
   "metadata": {},
   "outputs": [],
   "source": []
  }
 ],
 "metadata": {
  "kernelspec": {
   "display_name": "Python 3",
   "language": "python",
   "name": "python3"
  },
  "language_info": {
   "codemirror_mode": {
    "name": "ipython",
    "version": 3
   },
   "file_extension": ".py",
   "mimetype": "text/x-python",
   "name": "python",
   "nbconvert_exporter": "python",
   "pygments_lexer": "ipython3",
   "version": "3.6.4"
  },
  "toc": {
   "base_numbering": 1,
   "nav_menu": {},
   "number_sections": true,
   "sideBar": true,
   "skip_h1_title": false,
   "title_cell": "Table of Contents",
   "title_sidebar": "Contents",
   "toc_cell": false,
   "toc_position": {
    "height": "48px",
    "left": "909.778px",
    "top": "109.722px",
    "width": "166px"
   },
   "toc_section_display": true,
   "toc_window_display": false
  }
 },
 "nbformat": 4,
 "nbformat_minor": 2
}
