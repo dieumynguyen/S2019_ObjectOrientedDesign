{
 "cells": [
  {
   "cell_type": "code",
   "execution_count": 116,
   "metadata": {},
   "outputs": [],
   "source": [
    "import java.util.Random; \n",
    "Random random = new Random(); "
   ]
  },
  {
   "cell_type": "markdown",
   "metadata": {},
   "source": [
    "### Class: Tool"
   ]
  },
  {
   "cell_type": "code",
   "execution_count": 157,
   "metadata": {},
   "outputs": [],
   "source": [
    "public class Tool {\n",
    "    // Fields\n",
    "    String name;\n",
    "    String category;\n",
    "    int price;\n",
    "    boolean available;\n",
    "    \n",
    "    // Constructor\n",
    "    public Tool(String name, String category, int price, boolean available) {\n",
    "        this.name = name;\n",
    "        this.price = price;\n",
    "        this.category = category;\n",
    "        this.available = available;\n",
    "    }\n",
    "    \n",
    "    // Methods\n",
    "    public String toString() {\n",
    "        return String.format(\"name: %s, category: %s, price: %s, available: %s\", \n",
    "                             name, category, price, available);\n",
    "    }\n",
    "}"
   ]
  },
  {
   "cell_type": "markdown",
   "metadata": {},
   "source": [
    "### Class: Customer"
   ]
  },
  {
   "cell_type": "code",
   "execution_count": 158,
   "metadata": {},
   "outputs": [],
   "source": [
    "public class Customer {\n",
    "    // Fields\n",
    "    String name;\n",
    "    String type;\n",
    "    int num_rentals;\n",
    "    int num_nights;\n",
    "    boolean can_rent;  // Need to set this depending on if store has enough inventory\n",
    "    \n",
    "    // Constructor\n",
    "    public Customer(String name, String type, int num_rentals, \n",
    "                    int num_nights, boolean can_rent) {\n",
    "        this.name = name;\n",
    "        this.type = type;\n",
    "        this.num_rentals = num_rentals;\n",
    "        this.num_nights = num_nights;\n",
    "        this.can_rent = can_rent;\n",
    "    }\n",
    "    \n",
    "    // Methods\n",
    "    public String toString() {\n",
    "        return String.format(\"name: %s, type: %s, num_rentals: %s, num_nights: %s, can_rent: %s\", \n",
    "                             name, type, num_rentals, num_nights, can_rent);\n",
    "    }\n",
    "}"
   ]
  },
  {
   "cell_type": "markdown",
   "metadata": {},
   "source": [
    "### Class: Rental"
   ]
  },
  {
   "cell_type": "code",
   "execution_count": 159,
   "metadata": {},
   "outputs": [],
   "source": [
    "public class Rental {\n",
    "    // Fields\n",
    "    String[] tools_rented;\n",
    "    int nights_rented;  // Customer returns all tools at once, so keep sum if rent more\n",
    "    int day_rented;\n",
    "    int day_due;\n",
    "    boolean returned_all;\n",
    "    \n",
    "    // Constructor \n",
    "    public Rental(String[] tools_rented, int nights_rented, \n",
    "                  int day_rented, int day_due, boolean returned_all) {\n",
    "        this.tools_rented = tools_rented;\n",
    "        this.nights_rented = nights_rented;\n",
    "        this.day_rented = day_rented;\n",
    "        this.day_due = day_due;\n",
    "        this.returned_all = returned_all;\n",
    "    }     \n",
    "    \n",
    "    // Methods\n",
    "    public String toString() {\n",
    "        return String.format(\"day_rented: %s, day_due: %s\", day_rented, day_due);\n",
    "    }\n",
    "    \n",
    "    public int calcTotalCost() {\n",
    "        // Total cost based on type of tools rented\n",
    "        return total_price;\n",
    "    }\n",
    "}"
   ]
  },
  {
   "cell_type": "markdown",
   "metadata": {},
   "source": [
    "### Class: Store"
   ]
  },
  {
   "cell_type": "code",
   "execution_count": 160,
   "metadata": {},
   "outputs": [],
   "source": [
    "// Store keeps track of existing rentals and current inventory\n",
    "// Inventory can be a list of different Tool objects, like shapes in database\n",
    "\n",
    "public class Store {\n",
    "    // Fields\n",
    "    String[] existing_rentals;\n",
    "    String[] current_inventory;\n",
    "    int inventory;\n",
    "    \n",
    "    // Constructor\n",
    "    \n",
    "    \n",
    "    // Methods\n",
    "}"
   ]
  },
  {
   "cell_type": "code",
   "execution_count": null,
   "metadata": {},
   "outputs": [],
   "source": []
  },
  {
   "cell_type": "code",
   "execution_count": null,
   "metadata": {},
   "outputs": [],
   "source": []
  },
  {
   "cell_type": "code",
   "execution_count": 180,
   "metadata": {},
   "outputs": [
    {
     "name": "stdout",
     "output_type": "stream",
     "text": [
      "Regular\n",
      "Business\n",
      "Regular\n",
      "Casual\n",
      "Regular\n",
      "Casual\n",
      "Business\n",
      "Business\n",
      "Business\n",
      "Casual\n"
     ]
    }
   ],
   "source": [
    "public class Test {\n",
    "\n",
    "   \n",
    "    public static void main(String... args) {\n",
    "        \n",
    "        random.setSeed(42);\n",
    "        \n",
    "        // Simulation variables\n",
    "        int num_days = 35;\n",
    "        int num_nights = 34;\n",
    "        \n",
    "        // Store variables\n",
    "        int num_tools = 20;\n",
    "        int num_categories = 5;\n",
    "        int num_customers = 10;\n",
    "        int num_types = 3;\n",
    "        \n",
    "        List<String> tool_categories = Arrays.asList(\"Painting\", \"Concrete\", \"Plumbing\", \"Woodwork\", \"Yardwork\");\n",
    "        List<Integer> tool_prices = Arrays.asList(5, 10, 15, 20, 25);\n",
    "\n",
    "        // Make tool inventory\n",
    "        // List of 20 random Tool objects across 5 categories\n",
    "        Tool[] tool_inventory = new Tool[num_tools];\n",
    "        for (int i=0; i<num_tools; i++) {\n",
    "            int randomChoice = random.nextInt(num_categories);\n",
    "            String random_tool = tool_categories.get(randomChoice);\n",
    "            Integer random_price = tool_prices.get(randomChoice);\n",
    "            String tool_name = random_tool + \" tool-\" + i;\n",
    "            tool_inventory[i] = new Tool(tool_name, random_tool, random_price, true);\n",
    "        }\n",
    "        \n",
    "//         for (Tool t : tool_inventory) {\n",
    "//             System.out.println(t.toString());\n",
    "//         }\n",
    "            \n",
    "        // Make collection of 10 customers - for now, keep constant for simulation\n",
    "        List<String> customer_types = Arrays.asList(\"Casual\", \"Business\", \"Regular\");\n",
    "        Customer[] customer_list = new Customer[num_customers];\n",
    "        for (int j=0; j<num_customers; j++) {\n",
    "            int randomInt = random.nextInt(num_types);\n",
    "            String random_type = customer_types.get(randomInt);\n",
    "            System.out.println(random_type);\n",
    "            num_rental = ;\n",
    "            num_night =  ;\n",
    "            \n",
    "        }\n",
    "        \n",
    "//         List<Integer> customer_num_rentals = Arrays.asList();\n",
    "//         List<Integer> customer_num_nights = Arrays.asList();\n",
    "        \n",
    "    }\n",
    "}\n",
    "\n",
    "Test.main();"
   ]
  },
  {
   "cell_type": "code",
   "execution_count": null,
   "metadata": {},
   "outputs": [],
   "source": []
  },
  {
   "cell_type": "code",
   "execution_count": null,
   "metadata": {},
   "outputs": [],
   "source": []
  }
 ],
 "metadata": {
  "kernelspec": {
   "display_name": "Java",
   "language": "java",
   "name": "java"
  },
  "language_info": {
   "codemirror_mode": "java",
   "file_extension": ".java",
   "mimetype": "text/x-java-source",
   "name": "Java",
   "pygments_lexer": "java",
   "version": "11.0.2+9-LTS"
  }
 },
 "nbformat": 4,
 "nbformat_minor": 2
}
