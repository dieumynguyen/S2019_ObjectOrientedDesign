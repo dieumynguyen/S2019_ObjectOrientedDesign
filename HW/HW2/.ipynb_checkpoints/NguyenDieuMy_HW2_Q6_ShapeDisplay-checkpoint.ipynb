{
 "cells": [
  {
   "cell_type": "markdown",
   "metadata": {},
   "source": [
    "Dieu My Nguyen <br>\n",
    "CSCI 5448 <br>\n",
    "Due: 15 February 2019"
   ]
  },
  {
   "cell_type": "markdown",
   "metadata": {},
   "source": [
    "### Homework 2 Question 6\n",
    "\n",
    "<i> Revisit your Shape Program from Homework 1.  Write this program again (with the same requirements as the original) in a different OO language than you used the first time.  Consider anything from an OOAD perspective that you’ve learned or thought about that you should change in this version.  Include those changes in your code’s comments and your README file. </i>\n",
    "\n",
    "For homework 1, I implemented this program in Python. For this homework, the program is in Java. Java is run in Jupyter Notebook using the [IJava kernel](https://github.com/SpencerPark/IJava#configuring-startup-scripts)."
   ]
  },
  {
   "cell_type": "markdown",
   "metadata": {},
   "source": [
    "#### Abstract class Shape and derived subclasses"
   ]
  },
  {
   "cell_type": "code",
   "execution_count": 65,
   "metadata": {},
   "outputs": [],
   "source": [
    "/* Abstract superclass Shape */\n",
    "\n",
    "public abstract class Shape {\n",
    "    // Fields aka attributes common to all shapes \n",
    "    private String name;\n",
    "    private int z_order;    // Order for displaying\n",
    "    \n",
    "    // Constructor \n",
    "    public Shape(String name, int z_order) {\n",
    "        this.name = name;\n",
    "        this.z_order = z_order;  \n",
    "    }\n",
    "    \n",
    "    // Methods common to all shapes\n",
    "    public String getName() {\n",
    "        return name;\n",
    "    }\n",
    "    \n",
    "    public int getOrder() {\n",
    "        return z_order;\n",
    "    }\n",
    "    \n",
    "    public void display() {\n",
    "        System.out.println(\"Displaying a \" + name + \"...\");\n",
    "        System.out.println(\"\\t z-order: \" + z_order);\n",
    "    }\n",
    "}"
   ]
  },
  {
   "cell_type": "code",
   "execution_count": 94,
   "metadata": {},
   "outputs": [],
   "source": [
    "/* Concrete class inheriting from Shape #1: Circle */\n",
    "\n",
    "public class Circle extends Shape {\n",
    "    // Fields custom for this concrete class \n",
    "    private int x;\n",
    "    private int y;\n",
    "    private int radius;\n",
    "    \n",
    "    // Constructor\n",
    "    public Circle(String name, int z_order, int x, int y, int radius) {\n",
    "        super(name, z_order);\n",
    "        \n",
    "        setXY(x, y);\n",
    "        setRadius(radius);\n",
    "    }\n",
    "    \n",
    "    // Methods\n",
    "    public void setXY(int new_x, int new_y) {\n",
    "        x = new_x;\n",
    "        y = new_y;\n",
    "    }\n",
    "    \n",
    "    public int getX() {\n",
    "        return x;\n",
    "    }\n",
    "    \n",
    "    public int getY() {\n",
    "        return y;\n",
    "    }\n",
    "    \n",
    "    public void setRadius(int new_radius) {\n",
    "        radius = new_radius;\n",
    "    }\n",
    "    \n",
    "    public int getRadius() {\n",
    "        return radius;\n",
    "    }\n",
    "    \n",
    "    public void display() {\n",
    "        super.display();\n",
    "        System.out.println(\"\\t xy: \" + x + \", \" + y);\n",
    "        System.out.println(\"\\t radius: \" + radius);\n",
    "    }\n",
    "}"
   ]
  },
  {
   "cell_type": "markdown",
   "metadata": {},
   "source": [
    "#### Main program"
   ]
  },
  {
   "cell_type": "markdown",
   "metadata": {},
   "source": [
    "To do: \n",
    "    - array of different objects\n",
    "    - sort by z-order"
   ]
  },
  {
   "cell_type": "code",
   "execution_count": 101,
   "metadata": {},
   "outputs": [
    {
     "name": "stdout",
     "output_type": "stream",
     "text": [
      "Displaying a circle...\n",
      "\t z-order: 0\n",
      "\t xy: 1, 2\n",
      "\t radius: 10\n",
      "Displaying a circle...\n",
      "\t z-order: 1\n",
      "\t xy: 4, 6\n",
      "\t radius: 60\n"
     ]
    }
   ],
   "source": [
    "public static void main(String ... args) {\n",
    "    Circle circle1 = new Circle(\"circle\", 0, 1, 2, 10);\n",
    "    circle1.display();\n",
    "\n",
    "    Circle circle2 = new Circle(\"circle\", 1, 4, 6, 60);\n",
    "    circle2.display();\n",
    "}\n",
    "\n",
    "main();"
   ]
  },
  {
   "cell_type": "markdown",
   "metadata": {},
   "source": [
    "\n",
    "***\n",
    "***\n",
    "***"
   ]
  },
  {
   "cell_type": "code",
   "execution_count": 100,
   "metadata": {},
   "outputs": [
    {
     "name": "stdout",
     "output_type": "stream",
     "text": [
      "Displaying a circle...\n",
      "\t z-order: 0\n",
      "\t xy: 1, 2\n",
      "\t radius: 10\n",
      "Displaying a circle...\n",
      "\t z-order: 1\n",
      "\t xy: 4, 6\n",
      "\t radius: 60\n"
     ]
    }
   ],
   "source": [
    "public class shapeDisplay {\n",
    "    public static void main(String ... args) {\n",
    "        Circle circle1 = new Circle(\"circle\", 0, 1, 2, 10);\n",
    "        circle1.display();\n",
    "        \n",
    "        Circle circle2 = new Circle(\"circle\", 1, 4, 6, 60);\n",
    "        circle2.display();\n",
    "    }\n",
    "}\n",
    "\n",
    "shapeDisplay test = new shapeDisplay();\n",
    "test.main();"
   ]
  },
  {
   "cell_type": "markdown",
   "metadata": {},
   "source": [
    "#### Please ignore: Example payroll system so I can learn Java..."
   ]
  },
  {
   "cell_type": "code",
   "execution_count": 18,
   "metadata": {},
   "outputs": [],
   "source": [
    "/* Abstract class Employee with 1 constructor, 3 fields, 7 methods */\n",
    "\n",
    "public abstract class Employee {\n",
    "    /* Fields aka attributes */\n",
    "    private String name;\n",
    "    private String address;\n",
    "    private int number;\n",
    "    \n",
    "    /* Constructor */\n",
    "    public Employee(String name, String address, int number) {\n",
    "        System.out.println(\"Constructing an Employee\");\n",
    "        this.name = name;\n",
    "        this.address = address;\n",
    "        this.number = number;\n",
    "    }\n",
    "    \n",
    "    /* Methods */\n",
    "    public double computePay() {\n",
    "        System.out.println(\"Inside Employee computePay\");\n",
    "        return 0.0;\n",
    "    }\n",
    "    \n",
    "    public void mailCheck() {\n",
    "        System.out.println(\"Mailing a check to \" + this.name + \" \" + this.address);\n",
    "    }\n",
    "    \n",
    "    public String toString() {\n",
    "        return name + \" \" + address + \" \" + number;\n",
    "    }\n",
    "    \n",
    "    public String getName() {\n",
    "        return name;\n",
    "    }\n",
    "    \n",
    "    public String getAddress() {\n",
    "        return address;\n",
    "    }\n",
    "    \n",
    "    public void setAddress(String newAddress) {\n",
    "        address = newAddress;\n",
    "    }\n",
    "    \n",
    "    public int getNumber() {\n",
    "        return number;\n",
    "    }\n",
    "}\n"
   ]
  },
  {
   "cell_type": "code",
   "execution_count": 21,
   "metadata": {},
   "outputs": [
    {
     "ename": "CompilationException",
     "evalue": "",
     "output_type": "error",
     "traceback": [
      "\u001b[1m\u001b[30m|   \u001b[1m\u001b[30m        Employee e =  \u001b[0m\u001b[1m\u001b[30m\u001b[41mnew Employee(\"Hello Kitty\", \"Canada\", 100)\u001b[0m\u001b[1m\u001b[30m;\u001b[0m",
      "\u001b[1m\u001b[31mEmployee is abstract; cannot be instantiated\u001b[0m",
      ""
     ]
    }
   ],
   "source": [
    "/* Instantiate the Employee abstract class: \n",
    "Expect error because abstract classes cannot be instantiated! */ \n",
    "\n",
    "public class AbstractDemo {\n",
    "    public static void main(String[] args) {\n",
    "        /* The following is not allowed */\n",
    "        Employee e =  new Employee(\"Hello Kitty\", \"Canada\", 100);\n",
    "        System.out.println(\"\\n Call mailCheck for Employee e...\");\n",
    "        e.mailCheck();\n",
    "    }\n",
    "}"
   ]
  },
  {
   "cell_type": "code",
   "execution_count": 25,
   "metadata": {},
   "outputs": [],
   "source": [
    "/* Inherit the abstract Employee class */\n",
    "\n",
    "public class Salary extends Employee {\n",
    "    /* Fields custom for this concrete class */\n",
    "    private double salary;\n",
    "    \n",
    "    /* Constructor */\n",
    "    public Salary(String name, String address, int number, double salary) {\n",
    "        /* Include inherited fields from superclass */    \n",
    "        super(name, address, number);\n",
    "        \n",
    "        setSalary(salary);\n",
    "    }\n",
    "    \n",
    "    /* Overriding mailCheck of superclass? */\n",
    "    public void mailCheck() {\n",
    "        System.out.println(\"Within mailCheck of Salary class\");\n",
    "        System.out.println(\"Mailing check to \" + getName() + \" with salary \" + salary);        \n",
    "    }\n",
    "    \n",
    "    public double getSalary() {\n",
    "        return salary;\n",
    "    }\n",
    "    \n",
    "    public void setSalary(double newSalary) {\n",
    "        if (newSalary >= 0.0) {\n",
    "            salary = newSalary;\n",
    "        }\n",
    "    }\n",
    "    \n",
    "    public double computePay() {\n",
    "        System.out.println(\"Computing salary pay for \" + getName());\n",
    "        return salary / 52;\n",
    "    }\n",
    "}"
   ]
  },
  {
   "cell_type": "code",
   "execution_count": 50,
   "metadata": {},
   "outputs": [
    {
     "name": "stdout",
     "output_type": "stream",
     "text": [
      "Constructing an Employee\n",
      "Call mailCheck using Salary reference --\n",
      "Within mailCheck of Salary class\n",
      "Mailing check to Penn with salary 5000.0\n",
      "Constructing an Employee\n",
      "Call mailCheck using Employee reference --\n",
      "Within mailCheck of Salary class\n",
      "Mailing check to Teller with salary 7000.0\n"
     ]
    }
   ],
   "source": [
    "/* Cannot instantiate Employee class, but can instantiate Salary class\n",
    "Salary instances can access all 3 fields and 7 methods of Employee */\n",
    "\n",
    "public class AbstractDemo {\n",
    "    public static void main(String ... args) {\n",
    "        Salary s = new Salary(\"Penn\", \"Seattle, WA\", 1, 5000.0);\n",
    "        System.out.println(\"Call mailCheck using Salary reference --\");\n",
    "        s.mailCheck();\n",
    "        \n",
    "        Employee e = new Salary(\"Teller\", \"Boston, MA\", 2, 7000.0);\n",
    "        System.out.println(\"Call mailCheck using Employee reference --\");\n",
    "        e.mailCheck();\n",
    "    }\n",
    "}\n",
    "\n",
    "AbstractDemo test = new AbstractDemo();\n",
    "// String[] args = {};\n",
    "// test.main(args);\n",
    "test.main();"
   ]
  }
 ],
 "metadata": {
  "kernelspec": {
   "display_name": "Java",
   "language": "java",
   "name": "java"
  },
  "language_info": {
   "codemirror_mode": "java",
   "file_extension": ".java",
   "mimetype": "text/x-java-source",
   "name": "Java",
   "pygments_lexer": "java",
   "version": "11.0.2+9-LTS"
  }
 },
 "nbformat": 4,
 "nbformat_minor": 2
}
