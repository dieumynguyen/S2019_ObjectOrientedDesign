{
 "cells": [
  {
   "cell_type": "markdown",
   "metadata": {},
   "source": [
    "Dieu My Nguyen <br>\n",
    "CSCI 5448 <br>\n",
    "Due: 15 February 2019"
   ]
  },
  {
   "cell_type": "markdown",
   "metadata": {},
   "source": [
    "### Homework 2 Question 6\n",
    "\n",
    "<i> Revisit your Shape Program from Homework 1.  Write this program again (with the same requirements as the original) in a different OO language than you used the first time.  Consider anything from an OOAD perspective that you’ve learned or thought about that you should change in this version.  Include those changes in your code’s comments and your README file. </i>\n",
    "\n",
    "For homework 1, I implemented this program in Python. For this homework, the program is in Java. Java is run in Jupyter Notebook using the [IJava kernel](https://github.com/SpencerPark/IJava#configuring-startup-scripts)."
   ]
  },
  {
   "cell_type": "markdown",
   "metadata": {},
   "source": [
    "### I. Abstract class Shape and its derived subclasses"
   ]
  },
  {
   "cell_type": "code",
   "execution_count": 125,
   "metadata": {},
   "outputs": [],
   "source": [
    "/* Abstract superclass Shape */\n",
    "\n",
    "public abstract class Shape {\n",
    "    // Fields aka attributes common to all shapes \n",
    "    String name;\n",
    "    int z_order;          // Order for displaying\n",
    "    int x;\n",
    "    int y;\n",
    "    \n",
    "    // Constructor \n",
    "    public Shape(String name, int z_order, int x, int y) {\n",
    "        this.name = name;\n",
    "        this.z_order = z_order;  \n",
    "        this.x = x;\n",
    "        this.y = y;\n",
    "    }\n",
    "    \n",
    "    // Methods common to all shapes\n",
    "    public void display() {\n",
    "        System.out.println(\"Displaying a \" + name + \"...\");\n",
    "        System.out.println(\"\\t z-order: \" + z_order);\n",
    "        System.out.println(\"\\t xy: \" + x + \", \" + y);\n",
    "    }\n",
    "}"
   ]
  },
  {
   "cell_type": "code",
   "execution_count": 127,
   "metadata": {},
   "outputs": [],
   "source": [
    "/* Concrete class inheriting from Shape #1: Circle */\n",
    "\n",
    "public class Circle extends Shape {\n",
    "    // Fields custom for this concrete class \n",
    "    int radius;\n",
    "    \n",
    "    // Constructor\n",
    "    public Circle(String name, int z_order, int x, int y, int radius) {\n",
    "        super(name, z_order, x, y);\n",
    "        this.radius = radius;\n",
    "    }\n",
    "    \n",
    "    // Methods\n",
    "    public void display() {\n",
    "        super.display();\n",
    "        System.out.println(\"\\t radius: \" + radius);\n",
    "    }\n",
    "}"
   ]
  },
  {
   "cell_type": "code",
   "execution_count": 128,
   "metadata": {},
   "outputs": [],
   "source": [
    "/* Concrete class inheriting from Shape #1: Square */\n",
    "\n",
    "public class Square extends Shape {\n",
    "    // Fields custom for this concrete class \n",
    "    int width;\n",
    "    int height;\n",
    "    \n",
    "    // Constructor\n",
    "    public Square(String name, int z_order, int x, int y, int width, int height) {\n",
    "        super(name, z_order, x, y);\n",
    "        this.width = width;\n",
    "        this.height = height;\n",
    "    }\n",
    "    \n",
    "    // Methods\n",
    "    public void display() {\n",
    "        super.display();\n",
    "        System.out.println(\"\\t width: \" + width);\n",
    "        System.out.println(\"\\t height: \" + height);\n",
    "    }\n",
    "}"
   ]
  },
  {
   "cell_type": "code",
   "execution_count": 129,
   "metadata": {},
   "outputs": [],
   "source": [
    "/* Concrete class inheriting from Shape #1: Triangle */\n",
    "\n",
    "public class Triangle extends Shape {\n",
    "    // Fields custom for this concrete class \n",
    "    int base;\n",
    "    int height;\n",
    "    \n",
    "    // Constructor\n",
    "    public Triangle(String name, int z_order, int x, int y, int base, int height) {\n",
    "        super(name, z_order, x, y);\n",
    "        this.base = base;\n",
    "        this.height = height;\n",
    "    }\n",
    "    \n",
    "    // Methods\n",
    "    public void display() {\n",
    "        super.display();\n",
    "        System.out.println(\"\\t base: \" + base);\n",
    "        System.out.println(\"\\t height: \" + height);\n",
    "    }\n",
    "}"
   ]
  },
  {
   "cell_type": "markdown",
   "metadata": {},
   "source": [
    "### II. A Collection class to contain all shapes, sort, and display them"
   ]
  },
  {
   "cell_type": "markdown",
   "metadata": {},
   "source": [
    "### III. Main program"
   ]
  },
  {
   "cell_type": "markdown",
   "metadata": {},
   "source": [
    "To do: \n",
    "- Database of different objects in collection\n",
    "- Sort by z-order in collection"
   ]
  },
  {
   "cell_type": "code",
   "execution_count": 141,
   "metadata": {},
   "outputs": [
    {
     "name": "stdout",
     "output_type": "stream",
     "text": [
      "Number of shapes in database: 10\n",
      "\n",
      "------ SHAPE DISPLAY PROGRAM ------ \n",
      "\n",
      "Displaying a circle...\n",
      "\t z-order: 0\n",
      "\t xy: 1, 2\n",
      "\t radius: 10\n",
      "Displaying a square...\n",
      "\t z-order: 1\n",
      "\t xy: 4, 6\n",
      "\t width: 60\n",
      "\t height: 70\n",
      "Displaying a triangle...\n",
      "\t z-order: 2\n",
      "\t xy: 4, 6\n",
      "\t base: 60\n",
      "\t height: 70\n"
     ]
    }
   ],
   "source": [
    "public static void main(String ... args) {\n",
    "    System.out.println(\"Number of shapes in database: \" + 10 + \"\\n\");\n",
    "    System.out.println(\"------ SHAPE DISPLAY PROGRAM ------ \\n\");\n",
    "    \n",
    "    Circle c = new Circle(\"circle\", 0, 1, 2, 10);\n",
    "    c.display();\n",
    "\n",
    "    Square s = new Square(\"square\", 1, 4, 6, 60, 70);\n",
    "    s.display();\n",
    "    \n",
    "    Triangle t = new Triangle(\"triangle\", 2, 4, 6, 60, 70);\n",
    "    t.display();\n",
    "}\n",
    "\n",
    "main();"
   ]
  },
  {
   "cell_type": "markdown",
   "metadata": {},
   "source": [
    "***\n",
    "***\n",
    "***"
   ]
  },
  {
   "cell_type": "markdown",
   "metadata": {},
   "source": [
    "#### Please ignore: Example payroll system so I can learn Java..."
   ]
  },
  {
   "cell_type": "code",
   "execution_count": 136,
   "metadata": {},
   "outputs": [],
   "source": [
    "/* Abstract class Employee with 1 constructor, 3 fields, 7 methods */\n",
    "\n",
    "public abstract class Employee {\n",
    "    /* Fields aka attributes */\n",
    "    private String name;\n",
    "    private String address;\n",
    "    private int number;\n",
    "    \n",
    "    /* Constructor */\n",
    "    public Employee(String name, String address, int number) {\n",
    "        System.out.println(\"\\n Constructing an Employee\");\n",
    "        this.name = name;\n",
    "        this.address = address;\n",
    "        this.number = number;\n",
    "    }\n",
    "    \n",
    "    /* Methods */\n",
    "    public double computePay() {\n",
    "        System.out.println(\"Inside Employee computePay\");\n",
    "        return 0.0;\n",
    "    }\n",
    "    \n",
    "    public void mailCheck() {\n",
    "        System.out.println(\"Mailing a check to \" + this.name + \" \" + this.address);\n",
    "    }\n",
    "    \n",
    "    public String toString() {\n",
    "        return name + \" \" + address + \" \" + number;\n",
    "    }\n",
    "    \n",
    "    public String getName() {\n",
    "        return name;\n",
    "    }\n",
    "    \n",
    "    public String getAddress() {\n",
    "        return address;\n",
    "    }\n",
    "    \n",
    "    public void setAddress(String newAddress) {\n",
    "        address = newAddress;\n",
    "    }\n",
    "    \n",
    "    public int getNumber() {\n",
    "        return number;\n",
    "    }\n",
    "}\n"
   ]
  },
  {
   "cell_type": "code",
   "execution_count": 137,
   "metadata": {},
   "outputs": [
    {
     "ename": "CompilationException",
     "evalue": "",
     "output_type": "error",
     "traceback": [
      "\u001b[1m\u001b[30m|   \u001b[1m\u001b[30m        Employee e =  \u001b[0m\u001b[1m\u001b[30m\u001b[41mnew Employee(\"Hello Kitty\", \"Canada\", 100)\u001b[0m\u001b[1m\u001b[30m;\u001b[0m",
      "\u001b[1m\u001b[31mEmployee is abstract; cannot be instantiated\u001b[0m",
      ""
     ]
    }
   ],
   "source": [
    "/* Instantiate the Employee abstract class: \n",
    "Expect error because abstract classes cannot be instantiated! */ \n",
    "\n",
    "public class AbstractDemo {\n",
    "    public static void main(String[] args) {\n",
    "        /* The following is not allowed */\n",
    "        Employee e =  new Employee(\"Hello Kitty\", \"Canada\", 100);\n",
    "        System.out.println(\"\\n Call mailCheck for Employee e...\");\n",
    "        e.mailCheck();\n",
    "    }\n",
    "}"
   ]
  },
  {
   "cell_type": "code",
   "execution_count": 138,
   "metadata": {},
   "outputs": [],
   "source": [
    "/* Inherit the abstract Employee class */\n",
    "\n",
    "public class Salary extends Employee {\n",
    "    /* Fields custom for this concrete class */\n",
    "    private double salary;\n",
    "    \n",
    "    /* Constructor */\n",
    "    public Salary(String name, String address, int number, double salary) {\n",
    "        /* Include inherited fields from superclass */    \n",
    "        super(name, address, number);\n",
    "        \n",
    "        setSalary(salary);\n",
    "    }\n",
    "    \n",
    "    /* Overriding mailCheck of superclass? */\n",
    "    public void mailCheck() {\n",
    "        System.out.println(\"Within mailCheck of Salary class\");\n",
    "        System.out.println(\"Mailing check to \" + getName() + \" with salary \" + salary);        \n",
    "    }\n",
    "    \n",
    "    public double getSalary() {\n",
    "        return salary;\n",
    "    }\n",
    "    \n",
    "    public void setSalary(double newSalary) {\n",
    "        if (newSalary >= 0.0) {\n",
    "            salary = newSalary;\n",
    "        }\n",
    "    }\n",
    "    \n",
    "    public double computePay() {\n",
    "        System.out.println(\"Computing salary pay for \" + getName());\n",
    "        return salary / 52;\n",
    "    }\n",
    "}"
   ]
  },
  {
   "cell_type": "code",
   "execution_count": 139,
   "metadata": {},
   "outputs": [
    {
     "name": "stdout",
     "output_type": "stream",
     "text": [
      "\n",
      " Constructing an Employee\n",
      "Call mailCheck using Salary reference --\n",
      "Within mailCheck of Salary class\n",
      "Mailing check to Penn with salary 5000.0\n",
      "\n",
      " Constructing an Employee\n",
      "Call mailCheck using Employee reference --\n",
      "Within mailCheck of Salary class\n",
      "Mailing check to Teller with salary 7000.0\n"
     ]
    }
   ],
   "source": [
    "/* Cannot instantiate Employee class, but can instantiate Salary class\n",
    "Salary instances can access all 3 fields and 7 methods of Employee */\n",
    "\n",
    "public class AbstractDemo {\n",
    "    public static void main(String ... args) {\n",
    "        Salary s = new Salary(\"Penn\", \"Seattle, WA\", 1, 5000.0);\n",
    "        System.out.println(\"Call mailCheck using Salary reference --\");\n",
    "        s.mailCheck();\n",
    "        \n",
    "        Employee e = new Salary(\"Teller\", \"Boston, MA\", 2, 7000.0);\n",
    "        System.out.println(\"Call mailCheck using Employee reference --\");\n",
    "        e.mailCheck();\n",
    "    }\n",
    "}\n",
    "\n",
    "AbstractDemo test = new AbstractDemo();\n",
    "// String[] args = {};\n",
    "// test.main(args);\n",
    "test.main();"
   ]
  }
 ],
 "metadata": {
  "kernelspec": {
   "display_name": "Java",
   "language": "java",
   "name": "java"
  },
  "language_info": {
   "codemirror_mode": "java",
   "file_extension": ".java",
   "mimetype": "text/x-java-source",
   "name": "Java",
   "pygments_lexer": "java",
   "version": "11.0.2+9-LTS"
  }
 },
 "nbformat": 4,
 "nbformat_minor": 2
}
