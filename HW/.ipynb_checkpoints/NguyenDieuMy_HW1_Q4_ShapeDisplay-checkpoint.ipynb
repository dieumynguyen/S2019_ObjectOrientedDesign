{
 "cells": [
  {
   "cell_type": "markdown",
   "metadata": {},
   "source": [
    "Dieu My Nguyen <br>\n",
    "CSCI 5448 <br>\n",
    "Due: 01 February 2019\n",
    "\n",
    "### Homework 1 Question 4\n",
    "\n",
    "Write a simple OO program that implements the Shape example discussed in Lecture 2 on slide 6 but using an OO design rather than the presented functional decomposition solution. \n",
    "\n",
    "Your program should simply print out (to the console) the number of shapes in the “database” and then ask each shape to “display itself” which will also cause a line of output to be generated to the console, one for each shape. \n",
    "\n",
    "The word “database” is in quotes in the previous sentence because you should not actually use a database to write this program. It is perfectly acceptable for your main program to create a collection of shapes before moving on to sorting that collection and displaying the shapes. \n",
    "\n",
    "Your program should support circles, triangles, and squares but should use polymorphism so that the main program doesn't know the type of shape it is dealing with, but instead treats shapes uniformly (similar to the example program in Lecture 2 that involved different types of students). "
   ]
  },
  {
   "cell_type": "markdown",
   "metadata": {},
   "source": [
    "<b> Functional decomposition approach for displaying shapes: </b>\n",
    "- Connect to database\n",
    "- Locate and retrieve shapes\n",
    "- Sort shapes \n",
    "- Loop through list and display each shape\n",
    "    - Identify shape (circle, triangle, square)\n",
    "    - Get location of shape\n",
    "    - Call function to display shape at given location"
   ]
  },
  {
   "cell_type": "markdown",
   "metadata": {},
   "source": [
    "#### Imports"
   ]
  },
  {
   "cell_type": "code",
   "execution_count": 1,
   "metadata": {},
   "outputs": [],
   "source": [
    "import matplotlib.pyplot as plt\n",
    "from abc import ABC, abstractmethod\n",
    "import numpy as np"
   ]
  },
  {
   "cell_type": "markdown",
   "metadata": {},
   "source": [
    "#### Generate database of dimensions of shapes: circles, triangles, and squares"
   ]
  },
  {
   "cell_type": "code",
   "execution_count": 125,
   "metadata": {},
   "outputs": [
    {
     "data": {
      "image/png": "[encoded data removed]",
      "text/plain": [
       "<matplotlib.figure.Figure at 0x110ae97f0>"
      ]
     },
     "metadata": {},
     "output_type": "display_data"
    }
   ],
   "source": [
    "# Expected sample output\n",
    "plt.axes()\n",
    "circle = plt.Circle((0,0), radius=50, fc='#aaee97', alpha=0.7, edgecolor=\"gray\")\n",
    "square = plt.Rectangle((0,0), 100, 100, fc='#ee97ba', alpha=0.7, edgecolor=\"gray\")\n",
    "triangle_points = [[50, 50], [175, 50], [175, 150]]\n",
    "triangle = plt.Polygon(triangle_points, fc='#97e9ee', alpha=0.7, edgecolor=\"gray\")\n",
    "plt.gca().add_patch(circle)\n",
    "plt.gca().add_patch(square)\n",
    "plt.gca().add_patch(triangle)\n",
    "plt.axis('scaled')\n",
    "plt.show()"
   ]
  },
  {
   "cell_type": "markdown",
   "metadata": {},
   "source": [
    "#### Object-oriented approach:\n",
    "Your program should simply print out (to the console) the number of shapes in the “database” and then ask each shape to “display itself” which will also cause a line of output to be generated to the console, one for each shape."
   ]
  },
  {
   "cell_type": "code",
   "execution_count": 30,
   "metadata": {},
   "outputs": [],
   "source": [
    "class Shape(ABC):\n",
    "    @abstractmethod\n",
    "    def display(self):\n",
    "        pass"
   ]
  },
  {
   "cell_type": "code",
   "execution_count": 126,
   "metadata": {
    "scrolled": true
   },
   "outputs": [],
   "source": [
    "class Circle(Shape):\n",
    "    def __init__(self, shape_info):\n",
    "        self.xy = shape_info['xy']\n",
    "        self.radius = shape_info['radius']\n",
    "    def display(self):\n",
    "        print(f'Displaying a circle with radius {self.radius} and center at xy {self.xy}.')\n",
    "        circle = plt.Circle(self.xy, radius=self.radius, fc='#aaee97', alpha=0.7, edgecolor=\"gray\")\n",
    "        plt.gca().add_patch(circle)"
   ]
  },
  {
   "cell_type": "code",
   "execution_count": 127,
   "metadata": {},
   "outputs": [],
   "source": [
    "class Square(Shape):\n",
    "    def __init__(self, shape_info):\n",
    "        self.xy = shape_info['xy']\n",
    "        self.width = shape_info['width']\n",
    "        self.height = shape_info['height']\n",
    "    def display(self):\n",
    "        print(f'Displaying a square with side {self.width} and bottom-left corner at {self.xy}.')\n",
    "        square = plt.Rectangle(self.xy, self.width, self.height, fc='#ee97ba', alpha=0.7, edgecolor=\"gray\")\n",
    "        plt.gca().add_patch(square)\n",
    "        "
   ]
  },
  {
   "cell_type": "code",
   "execution_count": 128,
   "metadata": {},
   "outputs": [],
   "source": [
    "class Triangle(Shape):\n",
    "    def __init__(self, shape_info):\n",
    "        self.points = shape_info['points']\n",
    "        self.base = np.abs(self.points[0][0] - self.points[1][0])\n",
    "        self.height = np.abs(self.points[1][1] - self.points[2][1])\n",
    "    def display(self):\n",
    "        print(f'Displaying a triangle with base {self.base}, height {self.height}, and starting vertex at {self.points[0]}.')\n",
    "        triangle = plt.Polygon(self.points, fc='#97e9ee', alpha=0.7, edgecolor=\"gray\")   \n",
    "        plt.gca().add_patch(triangle)"
   ]
  },
  {
   "cell_type": "code",
   "execution_count": 129,
   "metadata": {},
   "outputs": [],
   "source": [
    "class Display():\n",
    "    def display_shapes(self, shape_objects):\n",
    "        plt.axes()\n",
    "        for shape_obj in shape_objects:\n",
    "            shape_obj.display()\n",
    "        plt.axis('scaled')\n",
    "        plt.show()"
   ]
  },
  {
   "cell_type": "code",
   "execution_count": 130,
   "metadata": {},
   "outputs": [],
   "source": [
    "class Collection():\n",
    "    def __init__(self):\n",
    "        self.newlist = []\n",
    "        self.shape_objects = []\n",
    "        \n",
    "    def sort(self, shape_database):\n",
    "        # Sort by a vertex/xy to define z-order (last on top)\n",
    "        self.newlist = sorted(shape_database, key=lambda k: k['params']['xy']) \n",
    "    \n",
    "    def display(self, shape_database, display_obj):\n",
    "        # Instantiate shape objects and put in list\n",
    "        classes_mapping = {\"circle\": Circle,\n",
    "                           \"square\": Square,\n",
    "                           \"triangle\": Triangle\n",
    "                           }\n",
    "        for shape in self.newlist:\n",
    "            shape_obj = classes_mapping[shape['type']](shape['params'])\n",
    "            self.shape_objects.append(shape_obj)\n",
    "        \n",
    "        # Tell contained shapes to display themselves in order\n",
    "        display_obj.display_shapes(self.shape_objects)"
   ]
  },
  {
   "cell_type": "code",
   "execution_count": 131,
   "metadata": {},
   "outputs": [
    {
     "name": "stdout",
     "output_type": "stream",
     "text": [
      "Number of shapes in database: 5\n",
      "Displaying a circle with radius 50 and center at xy (0, 0).\n",
      "Displaying a square with side 100 and bottom-left corner at (0, 0).\n",
      "Displaying a square with side 100 and bottom-left corner at (10, 10).\n",
      "Displaying a triangle with base 125, height 100, and starting vertex at [50, 50].\n",
      "Displaying a circle with radius 50 and center at xy (100, 100).\n"
     ]
    },
    {
     "data": {
      "image/png": "[encoded data removed]",
      "text/plain": [
       "<matplotlib.figure.Figure at 0x10d07ada0>"
      ]
     },
     "metadata": {},
     "output_type": "display_data"
    }
   ],
   "source": [
    "shape_database = [{'type': 'circle', 'params': {'xy': (0,0), 'radius': 50}},\n",
    "                  {'type': 'triangle', 'params': {'xy': (50,50), 'points': [[50, 50], [175, 50], [175, 150]]}},\n",
    "                  {'type': 'square', 'params': {'xy': (0,0), 'width': 100, 'height': 100}},\n",
    "                  {'type': 'circle', 'params': {'xy': (100,100), 'radius': 50}},\n",
    "                  {'type': 'square', 'params': {'xy': (10,10), 'width': 100, 'height': 100}},\n",
    "                 ]\n",
    "\n",
    "def main():    \n",
    "    \n",
    "    print(f'Number of shapes in database: {len(shape_database)}')\n",
    "    \n",
    "    # Instantiate a collection object to contain all shapes\n",
    "    collection = Collection() \n",
    "    \n",
    "    # Instantiate a display object to display all shapes of interest\n",
    "    display_obj = Display()\n",
    "    \n",
    "    # Ask collection to sort the shapes alphabetically to define z-order\n",
    "    collection.sort(shape_database)\n",
    "    \n",
    "    # The collection asks each shape to display itself in order\n",
    "    # All shapes are displayed in the same figure with the display object\n",
    "    collection.display(shape_database, display_obj)\n",
    "    \n",
    "if __name__ == \"__main__\":\n",
    "    main()"
   ]
  },
  {
   "cell_type": "code",
   "execution_count": null,
   "metadata": {},
   "outputs": [],
   "source": []
  }
 ],
 "metadata": {
  "kernelspec": {
   "display_name": "Python 3",
   "language": "python",
   "name": "python3"
  },
  "language_info": {
   "codemirror_mode": {
    "name": "ipython",
    "version": 3
   },
   "file_extension": ".py",
   "mimetype": "text/x-python",
   "name": "python",
   "nbconvert_exporter": "python",
   "pygments_lexer": "ipython3",
   "version": "3.6.4"
  }
 },
 "nbformat": 4,
 "nbformat_minor": 2
}
